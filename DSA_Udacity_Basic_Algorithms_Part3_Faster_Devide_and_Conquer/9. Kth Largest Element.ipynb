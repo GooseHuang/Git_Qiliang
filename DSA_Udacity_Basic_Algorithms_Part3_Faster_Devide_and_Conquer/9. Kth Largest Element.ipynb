{
 "cells": [
  {
   "cell_type": "markdown",
   "metadata": {},
   "source": [
    "### Problem Statement\n",
    "Given an unsorted array `Arr` with `n` positive integers. Find the $k^{th}$ smallest element in the given array, using Divide & Conquer approach. \n",
    "\n",
    "**Input**: Unsorted array `Arr` and an integer `k` where $1 \\leq k \\leq n$ <br>\n",
    "**Output**: The $k^{th}$ smallest element of array `Arr`<br>\n",
    "\n",
    "\n",
    "**Example 1**<br>\n",
    "Arr = `[6, 80, 36, 8, 23, 7, 10, 12, 42, 99]`<br>\n",
    "k = `10`<br>\n",
    "Output = `99`<br>\n",
    "\n",
    "**Example 2**<br>\n",
    "Arr = `[6, 80, 36, 8, 23, 7, 10, 12, 42, 99]`<br>\n",
    "k = `5`<br>\n",
    "Output = `12`<br>\n",
    "\n",
    "---\n",
    "\n",
    "### The Pseudocode - `fastSelect(Arr, k)`\n",
    "1. Break `Arr` into $\\frac{n}{5}$ (actually it is $\\left \\lceil{\\frac{n}{5}} \\right \\rceil $) groups, namely $G_1, G_2, G_3...G_{\\frac{n}{5}}$\n",
    "\n",
    "\n",
    "2. For each group $G_i, \\forall 1 \\leq i \\leq \\frac{n}{5} $, do the following:\n",
    " - Sort the group $G_i$\n",
    " - Find the middle position i.e., median $m_i$ of group $G_i$\n",
    " - Add $m_i$ to the set of medians **$S$**\n",
    "\n",
    "\n",
    "3. The set of medians **$S$** will become as $S = \\{m_1, m_2, m_3...m_{\\frac{n}{5}}\\}$. The \"good\" `pivot` element will be the median of the set **$S$**. We can find it as $pivot = fastSelect(S, \\frac{n}{10})$. \n",
    "\n",
    "\n",
    "4. Partition the original `Arr` into three sub-arrays - `Arr_Less_P`, `Arr_Equal_P`, and `Arr_More_P` having elements less than `pivot`, equal to `pivot`, and bigger than `pivot` **respectively**.\n",
    "\n",
    "\n",
    "5. Recurse based on the **sizes of the three sub-arrays**, we will either recursively search in the small set, or the big set, as defined in the following conditions:\n",
    " - If `k <= length(Arr_Less_P)`, then return `fastSelect(Arr_Less_P, k)`. This means that if the size of the \"small\" sub-array is at least as large as `k`, then we know that our desired $k^{th}$ smallest element lies in this sub-array. Therefore recursively call the same function on the \"small\" sub-array. <br><br>\n",
    " \n",
    " - If `k > (length(Arr_Less_P) + length(Arr_Equal_P))`, then return `fastSelect(Arr_More_P, (k - length(Arr_Less_P) - length(Arr_Equal_P)))`. This means that if `k` is more than the size of \"small\" and \"equal\" sub-arrays, then our desired $k^{th}$ smallest element lies in \"bigger\" sub-array. <br><br>\n",
    " \n",
    " - Return `pivot` otherwise. This means that if the above two cases do not hold true, then we know that $k^{th}$ smallest element lies in the \"equal\" sub-array.\n",
    " \n",
    "---\n",
    "### Exercise - Write the function definition here"
   ]
  },
  {
   "cell_type": "code",
   "execution_count": 6,
   "metadata": {},
   "outputs": [],
   "source": [
    "def sort_a_little_bit(items, begin_index, end_index):    \n",
    "    left_index = begin_index\n",
    "    pivot_index = end_index\n",
    "    pivot_value = items[pivot_index]\n",
    "\n",
    "    while (pivot_index != left_index):\n",
    "\n",
    "        item = items[left_index]\n",
    "\n",
    "        if item <= pivot_value:\n",
    "            left_index += 1\n",
    "            continue\n",
    "\n",
    "        items[left_index] = items[pivot_index - 1]\n",
    "        items[pivot_index - 1] = pivot_value\n",
    "        items[pivot_index] = item\n",
    "        pivot_index -= 1\n",
    "    \n",
    "    return pivot_index\n",
    "\n",
    "def sort_all(items, begin_index, end_index):\n",
    "    if end_index <= begin_index:\n",
    "        return\n",
    "    \n",
    "    pivot_index = sort_a_little_bit(items, begin_index, end_index)\n",
    "    sort_all(items, begin_index, pivot_index - 1)\n",
    "    sort_all(items, pivot_index + 1, end_index)\n",
    "    \n",
    "def quicksort(items):\n",
    "    sort_all(items, 0, len(items) - 1)"
   ]
  },
  {
   "cell_type": "code",
   "execution_count": 4,
   "metadata": {},
   "outputs": [
    {
     "name": "stdout",
     "output_type": "stream",
     "text": [
      "[6, 80, 36, 8, 23]\n",
      "[7, 10, 12, 42]\n"
     ]
    }
   ],
   "source": [
    "arr = [6, 80, 36, 8, 23, 7, 10, 12, 42]\n",
    "for i in  range(0,len(arr),5):\n",
    "    print(arr[i:i+5])"
   ]
  },
  {
   "cell_type": "code",
   "execution_count": 67,
   "metadata": {},
   "outputs": [],
   "source": [
    "def fastSelect(Arr, k):\n",
    "    '''TO DO'''\n",
    "    # Implement the algorithm explained above to find the k^th lasrgest element in the given array\n",
    "    \n",
    "    print(Arr,k)\n",
    "\n",
    "    if k > len(Arr):\n",
    "        return None\n",
    "\n",
    "    if len(Arr) <= 5:\n",
    "        quicksort(Arr)\n",
    "        return Arr[k-1]\n",
    "    \n",
    "    \n",
    "    new_arr = []\n",
    "    for i in  range(0,len(arr),5):\n",
    "        tmp = Arr[i:i+5]\n",
    "        quicksort(tmp)\n",
    "        new_arr.append(tmp[2])\n",
    "    \n",
    "    pivot = fastSelect(new_arr, int(len(new_arr)/2))\n",
    "    \n",
    "    left_arr = []\n",
    "    middle_arr = []\n",
    "    right_arr = []\n",
    "    for item in Arr:\n",
    "        if item < pivot:\n",
    "            left_arr.append(item)\n",
    "        elif item == pivot:\n",
    "            middle_arr.append(item)\n",
    "        else:\n",
    "            right_arr.append(item)\n",
    "    \n",
    "    if k <= len(left_arr):\n",
    "        return fastSelect(left_arr, k)\n",
    "    elif k<= len(left_arr)+len(middle_arr):\n",
    "        return pivot\n",
    "    else:\n",
    "        return fastSelect(right_arr,k-len(left_arr)-len(middle_arr))\n",
    "        "
   ]
  },
  {
   "cell_type": "markdown",
   "metadata": {},
   "source": [
    "##### Standard Answer\n",
    "```python\n",
    "def fastSelect(Arr, k):                         # k is an index\n",
    "    n = len(Arr)                                # length of the original array\n",
    "    \n",
    "    if(k>0 and k <= n):                         # k should be a valid index         \n",
    "        # Helper variables\n",
    "        setOfMedians = []\n",
    "        Arr_Less_P = []\n",
    "        Arr_Equal_P = []\n",
    "        Arr_More_P = []\n",
    "        i = 0\n",
    "        \n",
    "        # Step 1 - Break Arr into groups of size 5\n",
    "        # Step 2 - For each group, sort and find median (middle). Add the median to setOfMedians\n",
    "        while (i < n // 5):                     # n//5 gives the integer quotient of the division \n",
    "            median = findMedian(Arr, 5*i, 5)    # find median of each group of size 5\n",
    "            setOfMedians.append(median)         \n",
    "            i += 1\n",
    "\n",
    "        # If n is not a multiple of 5, then a last group with size = n % 5 will be formed\n",
    "        if (5*i < n): \n",
    "            median = findMedian(Arr, 5*i, n % 5)\n",
    "            setOfMedians.append(median)\n",
    "        \n",
    "        # Step 3 - Find the median of setOfMedians\n",
    "        if (len(setOfMedians) == 1):            # Base case for this task\n",
    "            pivot = setOfMedians[0]\n",
    "        elif (len(setOfMedians)>1):\n",
    "            pivot = fastSelect(setOfMedians, (len(setOfMedians)//2))\n",
    "        \n",
    "        # Step 4 - Partition the original Arr into three sub-arrays\n",
    "        for element in Arr:\n",
    "            if (element<pivot):\n",
    "                Arr_Less_P.append(element)\n",
    "            elif (element>pivot):\n",
    "                Arr_More_P.append(element)\n",
    "            else:\n",
    "                Arr_Equal_P.append(element)\n",
    "        \n",
    "        # Step 5 - Recurse based on the sizes of the three sub-arrays\n",
    "        if (k <= len(Arr_Less_P)):\n",
    "            return fastSelect(Arr_Less_P, k)\n",
    "        \n",
    "        elif (k > (len(Arr_Less_P) + len(Arr_Equal_P))):\n",
    "            return fastSelect(Arr_More_P, (k - len(Arr_Less_P) - len(Arr_Equal_P)))\n",
    "            \n",
    "        else:\n",
    "            return pivot     \n",
    "\n",
    "# Helper function\n",
    "def findMedian(Arr, start, size): \n",
    "    myList = [] \n",
    "    for i in range(start, start + size): \n",
    "        myList.append(Arr[i]) \n",
    "          \n",
    "    # Sort the array  \n",
    "    myList.sort() \n",
    "  \n",
    "    # Return the middle element \n",
    "    return myList[size // 2] \n",
    "```"
   ]
  },
  {
   "cell_type": "code",
   "execution_count": 68,
   "metadata": {},
   "outputs": [
    {
     "name": "stdout",
     "output_type": "stream",
     "text": [
      "[6, 80, 36, 8, 23, 7, 10, 12, 42, 99] 10\n",
      "[23, 12] 1\n",
      "[80, 36, 23, 42, 99] 5\n",
      "99\n"
     ]
    }
   ],
   "source": [
    "Arr = [6, 80, 36, 8, 23, 7, 10, 12, 42, 99]\n",
    "k = 10\n",
    "print(fastSelect(Arr, k))        # Outputs 99"
   ]
  },
  {
   "cell_type": "code",
   "execution_count": 60,
   "metadata": {},
   "outputs": [
    {
     "name": "stdout",
     "output_type": "stream",
     "text": [
      "[5, 2, 20, 17, 11, 13, 8, 9, 11] 5\n",
      "[11, 11] 0\n",
      "11\n"
     ]
    }
   ],
   "source": [
    "Arr = [5, 2, 20, 17, 11, 13, 8, 9, 11]\n",
    "k = 5\n",
    "print(fastSelect(Arr, k))       "
   ]
  },
  {
   "cell_type": "code",
   "execution_count": 29,
   "metadata": {},
   "outputs": [
    {
     "data": {
      "text/plain": [
       "12"
      ]
     },
     "execution_count": 29,
     "metadata": {},
     "output_type": "execute_result"
    }
   ],
   "source": [
    "Arr = [6, 80, 36, 8, 23, 7, 10, 12, 42]\n",
    "k = 5\n",
    "fastSelect(Arr,k)"
   ]
  },
  {
   "cell_type": "code",
   "execution_count": 9,
   "metadata": {},
   "outputs": [
    {
     "data": {
      "text/plain": [
       "[6, 7, 8, 10, 12, 23, 36, 42, 80]"
      ]
     },
     "execution_count": 9,
     "metadata": {},
     "output_type": "execute_result"
    }
   ],
   "source": [
    "Arr = [6, 80, 36, 8, 23, 7, 10, 12, 42]\n",
    "quicksort(Arr)\n",
    "Arr"
   ]
  },
  {
   "cell_type": "code",
   "execution_count": 39,
   "metadata": {},
   "outputs": [
    {
     "data": {
      "text/plain": [
       "[2, 5, 8, 9, 11, 11, 13, 17, 20]"
      ]
     },
     "execution_count": 39,
     "metadata": {},
     "output_type": "execute_result"
    }
   ],
   "source": [
    "Arr = [5, 2, 20, 17, 11, 13, 8, 9, 11]\n",
    "quicksort(Arr)\n",
    "Arr"
   ]
  },
  {
   "cell_type": "markdown",
   "metadata": {},
   "source": [
    "### Test - Let's test your function"
   ]
  },
  {
   "cell_type": "code",
   "execution_count": 69,
   "metadata": {},
   "outputs": [
    {
     "name": "stdout",
     "output_type": "stream",
     "text": [
      "[6, 80, 36, 8, 23, 7, 10, 12, 42] 5\n",
      "[23, 12] 1\n",
      "12\n"
     ]
    }
   ],
   "source": [
    "Arr = [6, 80, 36, 8, 23, 7, 10, 12, 42]\n",
    "k = 5\n",
    "print(fastSelect(Arr, k))        # Outputs 12"
   ]
  },
  {
   "cell_type": "code",
   "execution_count": 70,
   "metadata": {
    "scrolled": true
   },
   "outputs": [
    {
     "name": "stdout",
     "output_type": "stream",
     "text": [
      "[5, 2, 20, 17, 11, 13, 8, 9, 11] 5\n",
      "[11, 11] 1\n",
      "11\n"
     ]
    }
   ],
   "source": [
    "Arr = [5, 2, 20, 17, 11, 13, 8, 9, 11]\n",
    "k = 5\n",
    "print(fastSelect(Arr, k))        # Outputs 11"
   ]
  },
  {
   "cell_type": "code",
   "execution_count": 71,
   "metadata": {},
   "outputs": [
    {
     "name": "stdout",
     "output_type": "stream",
     "text": [
      "[6, 80, 36, 8, 23, 7, 10, 12, 42, 99] 10\n",
      "[23, 12] 1\n",
      "[80, 36, 23, 42, 99] 5\n",
      "99\n"
     ]
    }
   ],
   "source": [
    "Arr = [6, 80, 36, 8, 23, 7, 10, 12, 42, 99]\n",
    "k = 10\n",
    "print(fastSelect(Arr, k))        # Outputs 99"
   ]
  },
  {
   "cell_type": "code",
   "execution_count": null,
   "metadata": {},
   "outputs": [],
   "source": []
  }
 ],
 "metadata": {
  "kernelspec": {
   "display_name": "Python 3",
   "language": "python",
   "name": "python3"
  },
  "language_info": {
   "codemirror_mode": {
    "name": "ipython",
    "version": 3
   },
   "file_extension": ".py",
   "mimetype": "text/x-python",
   "name": "python",
   "nbconvert_exporter": "python",
   "pygments_lexer": "ipython3",
   "version": "3.7.3"
  }
 },
 "nbformat": 4,
 "nbformat_minor": 2
}
