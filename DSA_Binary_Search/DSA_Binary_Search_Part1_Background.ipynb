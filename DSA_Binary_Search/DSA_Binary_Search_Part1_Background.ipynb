{
 "cells": [
  {
   "cell_type": "markdown",
   "metadata": {},
   "source": [
    "## Binary Search"
   ]
  },
  {
   "cell_type": "markdown",
   "metadata": {},
   "source": [
    "Given an array of integers nums which is sorted in ascending order, and an integer target, write a function to search target in nums. If target exists, then return its index. Otherwise, return -1.\n",
    "\n",
    "You must write an algorithm with O(log n) runtime complexity."
   ]
  },
  {
   "cell_type": "markdown",
   "metadata": {},
   "source": [
    "##### Accepted v1\n",
    "```cpp\n",
    "class Solution {\n",
    "public:\n",
    "    \n",
    "    int helper(vector<int>& nums,int target, int start, int end){\n",
    "        // cout<<start<<\" start\\n\";\n",
    "        // cout<<end<<\" end\\n\";\n",
    "        if(start>end){\n",
    "            return -1;\n",
    "        }\n",
    "        \n",
    "        \n",
    "        if(start==end){\n",
    "            if(nums[start]!=target){\n",
    "                return -1;\n",
    "                }else{\n",
    "            return start;\n",
    "        }\n",
    "        }\n",
    "        \n",
    "        if(end-start==1){\n",
    "            if(nums[start]==target){\n",
    "                return start;\n",
    "            }else if(nums[end]==target){\n",
    "                return end;\n",
    "            }else{\n",
    "                return -1;\n",
    "            }\n",
    "            \n",
    "        }\n",
    "        \n",
    "        \n",
    "\n",
    "        int middle = (start+end)/2;\n",
    "        if(nums[middle]==target){\n",
    "            return middle;\n",
    "        }else if(nums[middle] < target){\n",
    "            start = middle;\n",
    "        }else{\n",
    "            end = middle;\n",
    "        }\n",
    "        \n",
    "        return helper(nums, target, start,end);\n",
    "            \n",
    "    }\n",
    "    \n",
    "    \n",
    "    \n",
    "    int search(vector<int>& nums, int target) {\n",
    "        return helper(nums, target, 0,nums.size()-1);\n",
    "    }\n",
    "};\n",
    "```"
   ]
  },
  {
   "cell_type": "markdown",
   "metadata": {},
   "source": [
    "### Solutions\n",
    "\n",
    "##### Iteration\n",
    "https://leetcode.com/problems/binary-search/solution/\n",
    "```cpp\n",
    "class Solution {\n",
    "  public:\n",
    "  int search(vector<int>& nums, int target) {\n",
    "    int pivot, left = 0, right = nums.size() - 1;\n",
    "    while (left <= right) {\n",
    "      pivot = left + (right - left) / 2;\n",
    "      if (nums[pivot] == target) return pivot;\n",
    "      if (target < nums[pivot]) right = pivot - 1;\n",
    "      else left = pivot + 1;\n",
    "    }\n",
    "    return -1;\n",
    "  }\n",
    "};\n",
    "```"
   ]
  },
  {
   "cell_type": "code",
   "execution_count": null,
   "metadata": {},
   "outputs": [],
   "source": []
  }
 ],
 "metadata": {
  "kernelspec": {
   "display_name": "Python 3",
   "language": "python",
   "name": "python3"
  },
  "language_info": {
   "codemirror_mode": {
    "name": "ipython",
    "version": 3
   },
   "file_extension": ".py",
   "mimetype": "text/x-python",
   "name": "python",
   "nbconvert_exporter": "python",
   "pygments_lexer": "ipython3",
   "version": "3.7.3"
  }
 },
 "nbformat": 4,
 "nbformat_minor": 2
}
