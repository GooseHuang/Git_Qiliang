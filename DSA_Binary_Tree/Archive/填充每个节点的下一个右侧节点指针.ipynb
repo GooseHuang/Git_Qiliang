{
 "cells": [
  {
   "cell_type": "code",
   "execution_count": 6,
   "metadata": {},
   "outputs": [],
   "source": [
    "\n",
    "# Definition for a Node.\n",
    "class Node(object):\n",
    "    def __init__(self, val=0, left=None, right=None, next=None):\n",
    "        self.val = val\n",
    "        self.left = left\n",
    "        self.right = right\n",
    "        self.next = next\n",
    "\n",
    "\n",
    "class Solution(object):\n",
    "    def connect(self, root):\n",
    "        \"\"\"\n",
    "        :type root: Node\n",
    "        :rtype: Node\n",
    "        \"\"\"\n",
    "        if not root:\n",
    "            return None\n",
    "\n",
    "        self.connectTwoNode(root.left, root.right)\n",
    "        return root\n",
    "\n",
    "    \n",
    "    def connectTwoNode(self, node1, node2):\n",
    "        if not node1 or not node2:\n",
    "            return\n",
    "        node1.next = node2\n",
    "\n",
    "        self.connectTwoNode(node1.left, node1.right)\n",
    "        self.connectTwoNode(node2.left, node2.right)\n",
    "        self.connectTwoNode(node1.right, node2.left)\n",
    "        \n",
    "        \n",
    "        \n",
    "root = Node(1)\n",
    "root.left = Node(2)\n",
    "root.right = Node(3)\n",
    "root.left.left = Node(4)\n",
    "root.left.right = Node(5)        \n",
    "root.right.left = Node(6)    \n",
    "root.right.right = Node(7)    \n",
    "        \n",
    "        \n",
    "    \n",
    "[1,2,3,4,5,6,7]\n",
    "# [1,#,2,3,#,4,5,6,7,#]\n",
    "s = Solution()\n",
    "root = s.connect(root)"
   ]
  },
  {
   "cell_type": "code",
   "execution_count": 7,
   "metadata": {},
   "outputs": [],
   "source": [
    "root.next"
   ]
  },
  {
   "cell_type": "code",
   "execution_count": 9,
   "metadata": {},
   "outputs": [
    {
     "data": {
      "text/plain": [
       "3"
      ]
     },
     "execution_count": 9,
     "metadata": {},
     "output_type": "execute_result"
    }
   ],
   "source": [
    "root.left.next.val"
   ]
  },
  {
   "cell_type": "code",
   "execution_count": null,
   "metadata": {},
   "outputs": [],
   "source": []
  }
 ],
 "metadata": {
  "kernelspec": {
   "display_name": "Python 3",
   "language": "python",
   "name": "python3"
  },
  "language_info": {
   "codemirror_mode": {
    "name": "ipython",
    "version": 3
   },
   "file_extension": ".py",
   "mimetype": "text/x-python",
   "name": "python",
   "nbconvert_exporter": "python",
   "pygments_lexer": "ipython3",
   "version": "3.7.3"
  }
 },
 "nbformat": 4,
 "nbformat_minor": 2
}
