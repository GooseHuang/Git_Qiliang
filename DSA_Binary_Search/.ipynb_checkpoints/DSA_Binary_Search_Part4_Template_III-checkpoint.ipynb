{
 "cells": [
  {
   "cell_type": "markdown",
   "metadata": {},
   "source": [
    "# Binary Search Template III"
   ]
  },
  {
   "cell_type": "code",
   "execution_count": null,
   "metadata": {},
   "outputs": [],
   "source": [
    "\"\"\"\n",
    "不明显，之后再对比\n",
    "\n",
    "是否真的相信\n",
    "\n",
    "\"\"\""
   ]
  },
  {
   "cell_type": "markdown",
   "metadata": {},
   "source": [
    "https://leetcode.com/explore/learn/card/binary-search/135/template-iii/936/"
   ]
  },
  {
   "cell_type": "markdown",
   "metadata": {},
   "source": [
    "```cpp\n",
    "int binarySearch(vector<int>& nums, int target){\n",
    "    if (nums.size() == 0)\n",
    "        return -1;\n",
    "\n",
    "    int left = 0, right = nums.size() - 1;\n",
    "    while (left + 1 < right){\n",
    "        // Prevent (left + right) overflow\n",
    "        int mid = left + (right - left) / 2;\n",
    "        if (nums[mid] == target) {\n",
    "            return mid;\n",
    "        } else if (nums[mid] < target) {\n",
    "            left = mid;\n",
    "        } else {\n",
    "            right = mid;\n",
    "        }\n",
    "    }\n",
    "\n",
    "    // Post-processing:\n",
    "    // End Condition: left + 1 == right\n",
    "    if(nums[left] == target) return left;\n",
    "    if(nums[right] == target) return right;\n",
    "    return -1;\n",
    "}\n",
    "\n",
    "```"
   ]
  },
  {
   "cell_type": "code",
   "execution_count": null,
   "metadata": {},
   "outputs": [],
   "source": []
  }
 ],
 "metadata": {
  "kernelspec": {
   "display_name": "Python 3",
   "language": "python",
   "name": "python3"
  },
  "language_info": {
   "codemirror_mode": {
    "name": "ipython",
    "version": 3
   },
   "file_extension": ".py",
   "mimetype": "text/x-python",
   "name": "python",
   "nbconvert_exporter": "python",
   "pygments_lexer": "ipython3",
   "version": "3.7.3"
  }
 },
 "nbformat": 4,
 "nbformat_minor": 2
}
