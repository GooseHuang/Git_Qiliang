{
 "cells": [
  {
   "cell_type": "markdown",
   "metadata": {},
   "source": [
    "# Heapsort"
   ]
  },
  {
   "cell_type": "code",
   "execution_count": null,
   "metadata": {},
   "outputs": [],
   "source": [
    "\"\"\"\n",
    "n*log(n)\n",
    "\n",
    "\"\"\""
   ]
  },
  {
   "cell_type": "markdown",
   "metadata": {},
   "source": [
    "\n",
    "\n",
    "A heapsort is an in-place sorting algorithm that treats an array like a binary tree and moves the largest values to the end of the heap until the full array is sorted.  \n",
    "\n",
    "The main steps in a heapsort are:\n",
    "1. Convert the array into a maxheap (a complete binary tree with decreasing values) \n",
    "2. Swap the top element with the last element in the array (putting it in it's correct final position)\n",
    "3. Repeat with `arr[:len(arr)-1]` (all but the sorted elements)\n",
    "\n",
    "## Visualization of a heapsort\n",
    "![animation of a heap sort](https://upload.wikimedia.org/wikipedia/commons/4/4d/Heapsort-example.gif)\n",
    "\n",
    "[\"Heapsort example\"](https://commons.wikimedia.org/wiki/File:Heapsort-example.gif) by Swfung8. Used under [CC BY-SA 3.0](https://creativecommons.org/licenses/by-sa/3.0/deed.en).\n",
    "\n",
    "## Problem statement\n",
    "\n",
    "In the cell below, see if you can code a `heapsort` function that takes an array (or Python list) and performs a heapsort on it. You will have to complete the heapify"
   ]
  },
  {
   "cell_type": "code",
   "execution_count": 1,
   "metadata": {},
   "outputs": [],
   "source": [
    "class Heap:\n",
    "    def __init__(self, initial_size=10):\n",
    "        self.cbt = [None for _ in range(initial_size)]  # initialize arrays\n",
    "        self.next_index = 0  # denotes next index where new element should go    \n",
    "    \n",
    "    def size(self):\n",
    "        return self.next_index\n",
    "    \n",
    "    \n",
    "    def is_empty(self):\n",
    "        return self.size()==0\n",
    "    \n",
    "    \n",
    "    def insert(self, data):\n",
    "        \"\"\"\n",
    "        Insert `data` into the heap\n",
    "        \"\"\"\n",
    "        self.cbt[self.next_index] = data\n",
    "        self.next_index +=1;\n",
    "        \n",
    "        self.up_heapify();\n",
    "        \n",
    "        if self.next_index >= len(self.cbt):\n",
    "            tmp = self.cbt\n",
    "            self.cbt = [None for _ in range(len(self.cbt)*2)]\n",
    "            for i in range(len(tmp)):\n",
    "                self.cbt[i] = tmp[i]\n",
    "            \n",
    "        \n",
    "        \n",
    "    def up_heapify(self):\n",
    "        \n",
    "        cur = self.next_index-1;\n",
    "        parent = (cur+1)//2-1\n",
    "        while(parent>=0):\n",
    "            if self.cbt[parent]>self.cbt[cur]:\n",
    "                tmp = self.cbt[parent];\n",
    "                self.cbt[parent] = self.cbt[cur];\n",
    "                self.cbt[cur] = tmp;\n",
    "                \n",
    "                cur = parent\n",
    "                parent = (cur+1)//2-1\n",
    "                \n",
    "            else:\n",
    "                break;\n",
    "    \n",
    "\n",
    "    def down_heapify(self):\n",
    "        parent = 0;\n",
    "        cur1 =  (parent+1)*2-1\n",
    "        cur2 =  (parent+1)*2\n",
    "#         print(cur1,'cur1')\n",
    "#         print(cur2,'cur2')\n",
    "#         print(self.next_index,'self.next_index')\n",
    "        while( cur1<self.next_index):\n",
    "            \n",
    "            if cur2==self.next_index:\n",
    "                cur = cur1\n",
    "            elif self.cbt[cur1]>self.cbt[cur2]:\n",
    "                cur = cur2\n",
    "            else:\n",
    "                cur = cur1\n",
    "            \n",
    "            if self.cbt[parent]>self.cbt[cur]:\n",
    "                tmp = self.cbt[parent];\n",
    "                self.cbt[parent] = self.cbt[cur];\n",
    "                self.cbt[cur] = tmp;\n",
    "                \n",
    "                parent = cur;\n",
    "                cur1 =  (parent+1)*2-1\n",
    "                cur2 =  (parent+1)*2\n",
    "                \n",
    "            else:\n",
    "                break;\n",
    "        \n",
    "    \n",
    "    \n",
    "    def remove(self):\n",
    "        \"\"\"\n",
    "        Remove and return the element at the top of the heap\n",
    "        \"\"\"\n",
    "        if self.is_empty():\n",
    "            return Nonedd\n",
    "        \n",
    "        \n",
    "        target = self.cbt[0];\n",
    "        \n",
    "        self.cbt[0] = self.cbt[self.next_index-1]\n",
    "        self.cbt[self.next_index-1]=None\n",
    "        self.next_index -=1;\n",
    "    \n",
    "        self.down_heapify();\n",
    "        \n",
    "        return target;\n",
    "    \n",
    "    def get_minimum(self):\n",
    "        if self.is_empty():\n",
    "            return None\n",
    "        else:\n",
    "            return self.cbt[0];\n"
   ]
  },
  {
   "cell_type": "code",
   "execution_count": null,
   "metadata": {},
   "outputs": [],
   "source": [
    "# def heapsort(arr):\n",
    "#     heapify(arr, len(arr), 0)\n",
    "    \n",
    "# def heapify():\n",
    "#     \"\"\"\n",
    "#     :param: arr - array to heapify\n",
    "#     n -- number of elements in the array\n",
    "#     i -- index of the current node\n",
    "#     TODO: Converts an array (in place) into a maxheap, a c omplete binary tree with the largest values at the top\n",
    "#     \"\"\""
   ]
  },
  {
   "cell_type": "code",
   "execution_count": 20,
   "metadata": {},
   "outputs": [],
   "source": [
    "def heapsort(arr):\n",
    "    heap_size = len(arr)\n",
    "    heap = Heap(heap_size)\n",
    "    \n",
    "    for element in arr:\n",
    "        heap.insert(element)\n",
    "    \n",
    "#     new_arr = []\n",
    "#     for i in range(len(arr)):\n",
    "#         new_arr.append(heap.remove())\n",
    "#     return new_arr\n",
    "\n",
    "    for i in range(len(arr)):\n",
    "        arr[i] = heap.remove()\n",
    "\n",
    "\n",
    "        "
   ]
  },
  {
   "cell_type": "code",
   "execution_count": 21,
   "metadata": {},
   "outputs": [],
   "source": [
    "heapsort([3, 7, 4, 6, 1, 0, 9, 8, 9, 4, 3, 5])"
   ]
  },
  {
   "cell_type": "code",
   "execution_count": 22,
   "metadata": {},
   "outputs": [],
   "source": [
    "heapsort([5, 5, 5, 3, 3, 3, 4, 4, 4, 4])"
   ]
  },
  {
   "cell_type": "code",
   "execution_count": null,
   "metadata": {},
   "outputs": [],
   "source": [
    "heapsort()"
   ]
  },
  {
   "cell_type": "code",
   "execution_count": null,
   "metadata": {},
   "outputs": [],
   "source": [
    "heapsort()"
   ]
  },
  {
   "cell_type": "code",
   "execution_count": null,
   "metadata": {},
   "outputs": [],
   "source": []
  },
  {
   "cell_type": "code",
   "execution_count": 14,
   "metadata": {},
   "outputs": [],
   "source": [
    "def test_function(test_case):\n",
    "    heapsort(test_case[0])\n",
    "    if test_case[0] == test_case[1]:\n",
    "        print(\"Pass\")\n",
    "    else:\n",
    "        print(\"False\")"
   ]
  },
  {
   "cell_type": "code",
   "execution_count": 23,
   "metadata": {},
   "outputs": [
    {
     "name": "stdout",
     "output_type": "stream",
     "text": [
      "Pass\n"
     ]
    }
   ],
   "source": [
    "arr = [3, 7, 4, 6, 1, 0, 9, 8, 9, 4, 3, 5]\n",
    "solution = [0, 1, 3, 3, 4, 4, 5, 6, 7, 8, 9, 9]\n",
    "\n",
    "test_case = [arr, solution]\n",
    "\n",
    "test_function(test_case)\n"
   ]
  },
  {
   "cell_type": "code",
   "execution_count": 24,
   "metadata": {},
   "outputs": [
    {
     "name": "stdout",
     "output_type": "stream",
     "text": [
      "Pass\n"
     ]
    }
   ],
   "source": [
    "arr = [5, 5, 5, 3, 3, 3, 4, 4, 4, 4]\n",
    "solution = [3, 3, 3, 4, 4, 4, 4, 5, 5, 5]\n",
    "test_case = [arr, solution]\n",
    "test_function(test_case)\n"
   ]
  },
  {
   "cell_type": "code",
   "execution_count": 25,
   "metadata": {},
   "outputs": [
    {
     "name": "stdout",
     "output_type": "stream",
     "text": [
      "Pass\n"
     ]
    }
   ],
   "source": [
    "arr = [99]\n",
    "solution = [99]\n",
    "test_case = [arr, solution]\n",
    "test_function(test_case)\n"
   ]
  },
  {
   "cell_type": "code",
   "execution_count": 26,
   "metadata": {},
   "outputs": [
    {
     "name": "stdout",
     "output_type": "stream",
     "text": [
      "Pass\n"
     ]
    }
   ],
   "source": [
    "arr = [0, 1, 2, 5, 12, 21, 0]\n",
    "solution = [0, 0, 1, 2, 5, 12, 21]\n",
    "test_case = [arr, solution]\n",
    "test_function(test_case)\n"
   ]
  },
  {
   "cell_type": "code",
   "execution_count": null,
   "metadata": {},
   "outputs": [],
   "source": []
  },
  {
   "cell_type": "markdown",
   "metadata": {},
   "source": [
    "## Standard Answer"
   ]
  },
  {
   "cell_type": "code",
   "execution_count": null,
   "metadata": {},
   "outputs": [],
   "source": [
    "# Solution\n",
    "\n",
    "def heapify(arr, n, i):\n",
    "    # Using i as the index of the current node, find the 2 child nodes (if the array were a binary tree)\n",
    "    # and find the largest value.   If one of the children is larger swap the values and recurse into that subree\n",
    "    \n",
    "    # consider current index as largest\n",
    "    largest_index = i \n",
    "    left_node = 2 * i + 1     \n",
    "    right_node = 2 * i + 2     \n",
    "  \n",
    "    # compare with left child\n",
    "    if left_node < n and arr[i] < arr[left_node]: \n",
    "        largest_index = left_node\n",
    "  \n",
    "    # compare with right child\n",
    "    if right_node < n and arr[largest_index] < arr[right_node]: \n",
    "        largest_index = right_node\n",
    "  \n",
    "    # if either of left / right child is the largest node\n",
    "    if largest_index != i: \n",
    "        arr[i], arr[largest_index] = arr[largest_index], arr[i] \n",
    "    \n",
    "        heapify(arr, n, largest_index) \n",
    "        \n",
    "def heapsort(arr):\n",
    "    # First convert the array into a maxheap by calling heapify on each node, starting from the end   \n",
    "    # now that you have a maxheap, you can swap the first element (largest) to the end (final position)\n",
    "    # and make the array minus the last element into maxheap again.  Continue to do this until the whole\n",
    "    # array is sorted\n",
    "    n = len(arr) \n",
    "  \n",
    "    # Build a maxheap. \n",
    "    for i in range(n, -1, -1): \n",
    "        heapify(arr, n, i) \n",
    "  \n",
    "    # One by one extract elements \n",
    "    for i in range(n-1, 0, -1): \n",
    "        arr[i], arr[0] = arr[0], arr[i] # swap \n",
    "        heapify(arr, i, 0) "
   ]
  }
 ],
 "metadata": {
  "kernelspec": {
   "display_name": "Python 3",
   "language": "python",
   "name": "python3"
  },
  "language_info": {
   "codemirror_mode": {
    "name": "ipython",
    "version": 3
   },
   "file_extension": ".py",
   "mimetype": "text/x-python",
   "name": "python",
   "nbconvert_exporter": "python",
   "pygments_lexer": "ipython3",
   "version": "3.7.3"
  }
 },
 "nbformat": 4,
 "nbformat_minor": 2
}
