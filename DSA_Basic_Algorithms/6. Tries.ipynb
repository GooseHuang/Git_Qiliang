{
 "cells": [
  {
   "cell_type": "markdown",
   "metadata": {},
   "source": [
    "# Trie\n",
    "You've learned about Trees and Binary Search Trees. In this notebook, you'll learn about a new type of Tree called Trie. Before we dive into the details, let's talk about the kind of problem Trie can help with.\n",
    "\n",
    "Let's say you want to build software that provides spell check. This software will only say if the word is valid or not. It doesn't give suggested words. From the knowledge you've already learned, how would you build this?\n",
    "\n",
    "The simplest solution is to have a hashmap of all known words. It would take O(1) to see if a word exists, but the memory size would be O(n\\*m), where n is the number of words and m is the length of the word. Let's see how a Trie can help decrease the memory usage while sacrificing a little on performance.\n",
    "\n",
    "## Basic Trie\n",
    "Let's look at a basic Trie with the following words: \"a\", \"add\", and \"hi\""
   ]
  },
  {
   "cell_type": "code",
   "execution_count": 1,
   "metadata": {},
   "outputs": [
    {
     "name": "stdout",
     "output_type": "stream",
     "text": [
      "Is \"a\"   a word: True\n",
      "Is \"ad\"  a word: False\n",
      "Is \"add\" a word: True\n"
     ]
    }
   ],
   "source": [
    "basic_trie = {\n",
    "    # a and add word\n",
    "    'a': {\n",
    "        'd': {\n",
    "            'd': {'word_end': True},\n",
    "            'word_end': False},\n",
    "        'word_end': True},\n",
    "    # hi word\n",
    "    'h': {\n",
    "        'i': {'word_end': True},\n",
    "        'word_end': False}}\n",
    "\n",
    "\n",
    "print('Is \"a\"   a word: {}'.format(basic_trie['a']['word_end']))\n",
    "print('Is \"ad\"  a word: {}'.format(basic_trie['a']['d']['word_end']))\n",
    "print('Is \"add\" a word: {}'.format(basic_trie['a']['d']['d']['word_end']))"
   ]
  },
  {
   "cell_type": "markdown",
   "metadata": {},
   "source": [
    "You can lookup a word by checking if `word_end` is `True` after traversing all the characters in the word. Let's look at the word \"hi\". The first letter is \"h\", so you would call `basic_trie['h']`. The second letter is \"i\", so you would call `basic_trie['h']['i']`. Since there's no more letters left, you would see if this is a valid word by getting the value of `word_end`. Now you have `basic_trie['h']['i']['word_end']` with `True` or `False` if the word exists.\n",
    "\n",
    "In `basic_trie`, words \"a\" and \"add\" overlapp. This is where a Trie saves memory. Instead of having \"a\" and \"add\" in different cells, their characters treated like nodes in a tree. Let's see how we would check if a word exists in `basic_trie`."
   ]
  },
  {
   "cell_type": "code",
   "execution_count": 3,
   "metadata": {},
   "outputs": [
    {
     "name": "stdout",
     "output_type": "stream",
     "text": [
      "\"ap\" is not a word.\n",
      "\"add\" is a word.\n"
     ]
    }
   ],
   "source": [
    "basic_trie = {\n",
    "    # a and add word\n",
    "    'a': {\n",
    "        'd': {\n",
    "            'd': {'word_end': True},\n",
    "            'word_end': False},\n",
    "        'word_end': True},\n",
    "    # hi word\n",
    "    'h': {\n",
    "        'i': {'word_end': True},\n",
    "        'word_end': False}}\n",
    "\n",
    "\n",
    "def is_word(word):\n",
    "    \"\"\"\n",
    "    Look for the word in `basic_trie`\n",
    "    \"\"\"\n",
    "    tmp = basic_trie\n",
    "    for a in word:\n",
    "        if a in tmp:\n",
    "            tmp = tmp[a]\n",
    "        else:\n",
    "            return False;\n",
    "    \n",
    "    if 'word_end' in tmp:\n",
    "        return True;\n",
    "    else:\n",
    "        return False;\n",
    "    \n",
    "# Test words\n",
    "test_words = ['ap', 'add']\n",
    "for word in test_words:\n",
    "    if is_word(word):\n",
    "        print('\"{}\" is a word.'.format(word))\n",
    "    else:\n",
    "        print('\"{}\" is not a word.'.format(word))"
   ]
  },
  {
   "cell_type": "markdown",
   "metadata": {},
   "source": [
    "The `is_word` starts with the root node, `basic_trie`. It traverses each character (`char`) in the word (`word`). If a character doesn't exist while traversing, this means the word doesn't exist in the trie. Once all the characters are traversed, the function returns the value of `current_node['word_end']`.\n",
    "\n",
    "You might notice the function `is_word` is similar to a binary search tree traversal. Since Trie is a tree, it makes sense that we would use a type of tree traversal. Now that you've seen a basic example of a Trie, let's build something more familiar.\n",
    "## Trie Using a Class\n",
    "Just like most tree data structures, let's use classes to build the Trie. Implement two functions for the `Trie` class below. Implement `add` to add a word to the Trie. Implement `exists` to return `True` if the word exist in the trie and `False` if the word doesn't exist in the trie.\n"
   ]
  },
  {
   "cell_type": "code",
   "execution_count": 12,
   "metadata": {},
   "outputs": [],
   "source": [
    "class TrieNode(object):\n",
    "    def __init__(self):\n",
    "        self.is_word = False\n",
    "        self.children = {}\n",
    "\n",
    "class Trie(object):\n",
    "    def __init__(self):\n",
    "        self.root = TrieNode()\n",
    "    \n",
    "    def add(self, word):\n",
    "        \"\"\"\n",
    "        Add `word` to trie\n",
    "        \"\"\"\n",
    "        cur = self.root;\n",
    "        for s in word:\n",
    "            if s in cur.children:\n",
    "                cur = cur.children[s];\n",
    "            else:\n",
    "                cur.children[s] = TrieNode();\n",
    "                cur = cur.children[s];\n",
    "                \n",
    "        cur.is_word = True; \n",
    "        \n",
    "        \n",
    "    \n",
    "    def exists(self, word):\n",
    "        \"\"\"\n",
    "        Check if word exists in trie\n",
    "        \"\"\"\n",
    "        cur = self.root\n",
    "        for s in word:\n",
    "            if s in cur.children:\n",
    "                cur = cur.children[s]\n",
    "            else:\n",
    "                return False;\n",
    "\n",
    "        return cur.is_word;"
   ]
  },
  {
   "cell_type": "code",
   "execution_count": 13,
   "metadata": {},
   "outputs": [
    {
     "name": "stdout",
     "output_type": "stream",
     "text": [
      "\"bear\" is a word.\n",
      "\"goo\" is a word.\n",
      "\"good\" is a word.\n",
      "\"goos\" is not a word.\n"
     ]
    }
   ],
   "source": [
    "word_list = ['apple', 'bear', 'goo', 'good', 'goodbye', 'goods', 'goodwill', 'gooses'  ,'zebra']\n",
    "word_trie = Trie()\n",
    "\n",
    "# Add words\n",
    "for word in word_list:\n",
    "    word_trie.add(word)\n",
    "\n",
    "# Test words\n",
    "test_words = ['bear', 'goo', 'good', 'goos']\n",
    "for word in test_words:\n",
    "    if word_trie.exists(word):\n",
    "        print('\"{}\" is a word.'.format(word))\n",
    "    else:\n",
    "        print('\"{}\" is not a word.'.format(word))"
   ]
  },
  {
   "cell_type": "markdown",
   "metadata": {},
   "source": [
    "## Trie using Defaultdict (Optional)\n",
    "This is an optional section. Feel free to skip this and go to the next section of the classroom.\n",
    "\n",
    "A cleaner way to build a trie is with a Python default dictionary. The following `TrieNod` class is using `collections.defaultdict` instead of a normal dictionary."
   ]
  },
  {
   "cell_type": "code",
   "execution_count": 14,
   "metadata": {},
   "outputs": [],
   "source": [
    "import collections\n",
    "\n",
    "class TrieNode:\n",
    "    def __init__(self):\n",
    "        self.children = collections.defaultdict(TrieNode)\n",
    "        self.is_word = False"
   ]
  },
  {
   "cell_type": "code",
   "execution_count": 15,
   "metadata": {},
   "outputs": [],
   "source": [
    "class Trie(object):\n",
    "    def __init__(self):\n",
    "        self.root = TrieNode()\n",
    "\n",
    "    def add(self, word):\n",
    "        \"\"\"\n",
    "        Add `word` to trie\n",
    "        \"\"\"\n",
    "        cur = self.root;\n",
    "        for s in word:\n",
    "            cur = cur.children[s];                \n",
    "        cur.is_word = True; \n",
    "        \n",
    "        \n",
    "    def exists(self, word):\n",
    "        \"\"\"\n",
    "        Check if word exists in trie\n",
    "        \"\"\"\n",
    "        cur = self.root\n",
    "        for s in word:\n",
    "            if s in cur.children:\n",
    "                cur = cur.children[s]\n",
    "            else:\n",
    "                return False;\n",
    "\n",
    "        return cur.is_word;"
   ]
  },
  {
   "cell_type": "code",
   "execution_count": 16,
   "metadata": {},
   "outputs": [
    {
     "name": "stdout",
     "output_type": "stream",
     "text": [
      "All tests passed!\n"
     ]
    }
   ],
   "source": [
    "# Add words\n",
    "valid_words = ['the', 'a', 'there', 'answer', 'any', 'by', 'bye', 'their']\n",
    "word_trie = Trie()\n",
    "for valid_word in valid_words:\n",
    "    word_trie.add(valid_word)\n",
    "\n",
    "# Tests\n",
    "assert word_trie.exists('the')\n",
    "assert word_trie.exists('any')\n",
    "assert not word_trie.exists('these')\n",
    "assert not word_trie.exists('zzz')\n",
    "print('All tests passed!')"
   ]
  },
  {
   "cell_type": "code",
   "execution_count": null,
   "metadata": {},
   "outputs": [],
   "source": []
  }
 ],
 "metadata": {
  "kernelspec": {
   "display_name": "Python 3",
   "language": "python",
   "name": "python3"
  },
  "language_info": {
   "codemirror_mode": {
    "name": "ipython",
    "version": 3
   },
   "file_extension": ".py",
   "mimetype": "text/x-python",
   "name": "python",
   "nbconvert_exporter": "python",
   "pygments_lexer": "ipython3",
   "version": "3.7.3"
  }
 },
 "nbformat": 4,
 "nbformat_minor": 2
}
