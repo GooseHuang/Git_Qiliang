{
 "cells": [
  {
   "cell_type": "markdown",
   "metadata": {},
   "source": [
    "```cpp\n",
    "// Definition for singly-linked list.\n",
    "struct SinglyListNode {\n",
    "    int val;\n",
    "    SinglyListNode *next;\n",
    "    SinglyListNode(int x) : val(x), next(NULL) {}\n",
    "};\n",
    "\n",
    "```"
   ]
  },
  {
   "cell_type": "markdown",
   "metadata": {},
   "source": [
    "## Design Linked List"
   ]
  },
  {
   "cell_type": "code",
   "execution_count": 3,
   "metadata": {},
   "outputs": [
    {
     "name": "stdout",
     "output_type": "stream",
     "text": [
      "\n",
      "C:/Users/Goose/Documents/Udacity_Cpp/Cpp_Code/2_Foundations/02_Introduction_to_the_C++_Language/02_Write_Your_First_C++_Program \n",
      "\n"
     ]
    }
   ],
   "source": [
    "text = r\"\"\"\n",
    "C:\\Users\\Goose\\Documents\\Udacity_Cpp\\Cpp_Code\\2_Foundations\\02_Introduction_to_the_C++_Language\\02_Write_Your_First_C++_Program \n",
    "\"\"\"\n",
    "print(text.replace('\\\\','/'))"
   ]
  },
  {
   "cell_type": "code",
   "execution_count": null,
   "metadata": {},
   "outputs": [],
   "source": []
  }
 ],
 "metadata": {
  "kernelspec": {
   "display_name": "Python 3",
   "language": "python",
   "name": "python3"
  },
  "language_info": {
   "codemirror_mode": {
    "name": "ipython",
    "version": 3
   },
   "file_extension": ".py",
   "mimetype": "text/x-python",
   "name": "python",
   "nbconvert_exporter": "python",
   "pygments_lexer": "ipython3",
   "version": "3.7.3"
  }
 },
 "nbformat": 4,
 "nbformat_minor": 2
}
