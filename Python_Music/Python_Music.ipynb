{
 "cells": [
  {
   "cell_type": "code",
   "execution_count": 2,
   "metadata": {},
   "outputs": [
    {
     "name": "stdout",
     "output_type": "stream",
     "text": [
      "Collecting pygame\n",
      "/root/anaconda3/lib/python3.7/site-packages/cryptography/hazmat/backends/openssl/x509.py:17: CryptographyDeprecationWarning: This version of cryptography contains a temporary pyOpenSSL fallback path. Upgrade pyOpenSSL now.\n",
      "  utils.DeprecatedIn35,\n",
      "\u001b[?25l  Downloading https://files.pythonhosted.org/packages/47/e2/338b2645c39c888ea58101064e688bd9ac6af5590e887c2dd8b7ca54a02a/pygame-2.1.2-cp37-cp37m-manylinux_2_12_x86_64.manylinux2010_x86_64.whl (21.2MB)\n",
      "\u001b[K     |████████████████████████████████| 21.2MB 569kB/s eta 0:00:01\n",
      "\u001b[?25hInstalling collected packages: pygame\n",
      "Successfully installed pygame-2.1.2\n",
      "/root/anaconda3/lib/python3.7/site-packages/cryptography/hazmat/backends/openssl/x509.py:17: CryptographyDeprecationWarning: This version of cryptography contains a temporary pyOpenSSL fallback path. Upgrade pyOpenSSL now.\n",
      "  utils.DeprecatedIn35,\n"
     ]
    }
   ],
   "source": [
    "!pip install pygame"
   ]
  },
  {
   "cell_type": "code",
   "execution_count": 4,
   "metadata": {},
   "outputs": [],
   "source": [
    "import pygame.midi\n",
    "import time\n",
    "\n",
    "pygame.midi.init()\n",
    "player = pygame.midi.Output(0)\n",
    "player.set_instrument(0)\n",
    "\n",
    "for i in range(10):\n",
    "    player.note_on(60, 127)\n",
    "    player.note_on(64, 127)\n",
    "    player.note_on(67, 127)\n",
    "    time.sleep(1)\n",
    "    player.note_off(60, 127)\n",
    "    player.note_off(64, 127)\n",
    "    player.note_off(67, 127)\n",
    "del player\n",
    "pygame.midi.quit()"
   ]
  },
  {
   "cell_type": "code",
   "execution_count": 5,
   "metadata": {},
   "outputs": [],
   "source": [
    "def play_note(note, t=1):\n",
    "    pygame.midi.init()\n",
    "    player = pygame.midi.Output(0)\n",
    "    player.set_instrument(0)\n",
    "    player.note_on(note, 127)\n",
    "    time.sleep(t)\n",
    "    player.note_off(note, 127)\n",
    "    del player\n",
    "    pygame.midi.quit()\n",
    "    \n",
    "pn = play_note\n",
    "pn(64,2)"
   ]
  },
  {
   "cell_type": "code",
   "execution_count": null,
   "metadata": {},
   "outputs": [],
   "source": []
  }
 ],
 "metadata": {
  "kernelspec": {
   "display_name": "Python 3",
   "language": "python",
   "name": "python3"
  },
  "language_info": {
   "codemirror_mode": {
    "name": "ipython",
    "version": 3
   },
   "file_extension": ".py",
   "mimetype": "text/x-python",
   "name": "python",
   "nbconvert_exporter": "python",
   "pygments_lexer": "ipython3",
   "version": "3.7.3"
  }
 },
 "nbformat": 4,
 "nbformat_minor": 2
}
