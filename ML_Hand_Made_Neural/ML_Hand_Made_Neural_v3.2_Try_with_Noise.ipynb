{
 "cells": [
  {
   "cell_type": "code",
   "execution_count": 1,
   "metadata": {},
   "outputs": [],
   "source": [
    "\n",
    "from IPython.display import display, Markdown, Latex\n",
    "h1 = lambda x: display(Markdown('# '+str(x)))\n",
    "h3 = lambda x: display(Markdown('### '+str(x)))\n",
    "h4 = lambda x: display(Markdown('#### '+ (str(x).replace(' ','&nbsp;') if str(x) else 'None')))\n",
    "h5 = lambda x: display(Markdown('##### '+ (str(x).replace(' ','&nbsp;') if str(x) else 'None')))\n",
    "bl = lambda x: display(Markdown('##### <font color=\"blue\"> %s </font>'%(str(x).replace(' ','&nbsp;') if str(x) else 'None')))\n",
    "rd = lambda x: display(Markdown('##### <font color=\"red\"> %s </font>'%(str(x).replace(' ','&nbsp;') if str(x) else 'None')))\n",
    "rd1 = lambda x: display(Markdown('# <font color=\"red\"> %s </font>'%(str(x).replace(' ','&nbsp;') if str(x) else 'None')))\n",
    "gra = lambda x: display(Markdown('##### <font color=\"gray\"> %s </font>'%(str(x).replace(' ','&nbsp;') if str(x) else 'None')))\n",
    "itc = lambda x: display(Markdown('***'+str(x.strip()) + '***' ))\n",
    "pl = lambda: print('\\n'+'#'*100 + '\\n')\n",
    "pl2 = lambda: print('\\n'+'='*100 + '\\n')\n",
    "pls = lambda: print('\\n'+'#'*50 +' Start '+'#'*50 + '\\n')\n",
    "pn = lambda x=5: print('\\n'*x)\n"
   ]
  },
  {
   "cell_type": "markdown",
   "metadata": {},
   "source": [
    "## Hand Made Neural Network"
   ]
  },
  {
   "cell_type": "markdown",
   "metadata": {},
   "source": [
    "https://144.34.140.210:8579/notebooks/Git_Qiliang/ML_ANN_Gradiant_Decent/Backpropagation.ipynb"
   ]
  },
  {
   "cell_type": "code",
   "execution_count": 67,
   "metadata": {},
   "outputs": [],
   "source": [
    "import pdb\n",
    "bp = pdb.set_trace\n",
    "\n",
    "import random\n",
    "import uuid\n",
    "import numpy as np\n",
    "import pandas as pd\n",
    "from matplotlib import pyplot as plt\n"
   ]
  },
  {
   "cell_type": "code",
   "execution_count": 3,
   "metadata": {},
   "outputs": [],
   "source": [
    "def relu(x):\n",
    "    if x>0:\n",
    "        return x\n",
    "    else:\n",
    "        return 0\n",
    "# activation_func = np.vectorize(relu)  \n",
    "activation_func = np.vectorize(lambda x: x) \n",
    "         \n",
    "class Weight:\n",
    "    def __init__(self,m,n):\n",
    "        self.m = m\n",
    "        self.n = n\n",
    "        self.val = np.random.randn(m,n)\n",
    "        self.normalize()\n",
    "        \n",
    "    def normalize(self):\n",
    "        self.val = self.val/self.val.sum()\n",
    "\n",
    "class Layer:\n",
    "    def __init__(self,n,id=None):\n",
    "        self.val = None\n",
    "        self.id = id\n",
    "        self.input_weight = None\n",
    "        self.output_weight = None\n",
    "        self.pre_layer = None\n",
    "        self.next_layer = None\n",
    "        self.n = n\n",
    "        self.delta_weight = None\n",
    "        \n",
    "        \n",
    "    def full_connect(self,other):\n",
    "        m = self.n\n",
    "        n = other.n\n",
    "        weight = Weight(m,n)\n",
    "        self.output_weight = weight\n",
    "        other.input_weight = weight\n",
    "        \n",
    "        self.next_layer = other\n",
    "        other.pre_layer = self\n",
    "    \n",
    "    def stats(self):\n",
    "        print(\"n:\",self.n)\n",
    "        if self.output_weight:\n",
    "            print('Weight:',self.output_weight.val.shape)\n",
    "        print()\n",
    "            \n",
    "    def pull_in(self,input_list):\n",
    "        self.val = np.array([input_list,])\n",
    "        self.val = self.val/self.val.sum()\n",
    "            \n",
    "    def forwarding(self):\n",
    "#         print(self.id,'forwarding')\n",
    "        val = self.val.dot(self.output_weight.val)\n",
    "        try:\n",
    "            if self.next_layer:\n",
    "                self.next_layer.val = activation_func(val)      \n",
    "        except:\n",
    "#             bp()\n",
    "            raise\n",
    "        \n",
    "    def backwarding(self, error_term, learning_rate):\n",
    "#         print(self.id,'backwarding')\n",
    "        pre = self.pre_layer\n",
    "        K1 = pre.output_weight.val\n",
    "#         print(K1.shape)\n",
    "        while(pre.pre_layer):\n",
    "            pre = pre.pre_layer\n",
    "            K1 = pre.output_weight.val.dot(K1)\n",
    "            \n",
    "        K1 = pre.val.dot(K1)\n",
    "#         print('K1:',K1.shape)\n",
    "\n",
    "\n",
    "        next_layer = self.next_layer\n",
    "        if next_layer.output_weight:\n",
    "            K2 = next_layer.output_weight.val\n",
    "            while(next_layer.next_layer.output_weight):\n",
    "                next_layer = next_layer.next_layer\n",
    "                K2 = K2.dot(next_layer.output_weight.val) \n",
    "#             print(\"K2:\",K2.shape)\n",
    "        else:\n",
    "            K2 = np.array([[1]])\n",
    "            \n",
    "            \n",
    "#         return K1,K2\n",
    "#         bp()\n",
    "        derivative = K1.T.dot(K2.T)\n",
    "#         print(\"Derivative:\",derivative.shape)\n",
    "#         return derivative\n",
    "    \n",
    "        delta_weight = learning_rate*(-1)*(error_term)*derivative\n",
    "#         bp()\n",
    "        if type(self.delta_weight)!=type(None):\n",
    "            self.delta_weight += delta_weight\n",
    "        else:\n",
    "            self.delta_weight = delta_weight\n",
    "    \n",
    "    def update_weights(self):\n",
    "        if type(self.delta_weight)!=type(None):\n",
    "            self.output_weight.val += self.delta_weight\n",
    "            self.delta_weight = None\n",
    "    \n",
    "class Network:\n",
    "    def __init__(self,input_layer,output_layer):\n",
    "        self.input_layer = input_layer\n",
    "        self.output_layer = output_layer\n",
    "        self.learning_rate = 0.01\n",
    "        \n",
    "    def set_learning_rate(self,rate):\n",
    "        self.learning_rate = rate\n",
    "        \n",
    "              \n",
    "    def batch_forwarding(self):\n",
    "        cur = self.input_layer\n",
    "        while(cur.next_layer):\n",
    "            cur.forwarding()\n",
    "            cur = cur.next_layer\n",
    "             \n",
    "    def get_error_term(self,ground_truth_list):      \n",
    "        error = self.output_layer.val-ground_truth_list\n",
    "        return error\n",
    "    \n",
    "    def batch_backwarding(self, error_term):\n",
    "        cur = self.input_layer.next_layer\n",
    "        while(cur and cur.output_weight):\n",
    "            cur.backwarding(error_term, self.learning_rate)\n",
    "            cur = cur.next_layer\n",
    "            \n",
    "    def one_train(self,x,y):\n",
    "        input_layer.pull_in(x)\n",
    "        self.batch_forwarding()\n",
    "        error_term = self.get_error_term(y)\n",
    "        self.batch_backwarding(error_term)\n",
    "        \n",
    "        \n",
    "    def batch_update_weights(self):\n",
    "        cur = self.input_layer.next_layer\n",
    "        while(cur and cur.output_weight):\n",
    "            cur.update_weights() \n",
    "            cur = cur.next_layer\n",
    "\n",
    "    def batch_train(self,X,Y,batch_size=20):\n",
    "        i=0\n",
    "        for i,(x,y) in enumerate(zip(X,Y)):\n",
    "            self.one_train(x,y)\n",
    "            \n",
    "#             print('l1:\\n',l1.val)\n",
    "# #             print('l2:\\n',l2.val)\n",
    "# #             print('l3:\\n',l3.val)\n",
    "#             print('l4:\\n',l4.val)\n",
    "#             pl()\n",
    "            \n",
    "\n",
    "            if i%batch_size==0:\n",
    "                self.batch_update_weights()\n",
    "        self.batch_update_weights()\n",
    "        \n",
    "        \n",
    "    def predict(self,x):\n",
    "        input_layer.pull_in(x)\n",
    "        self.batch_forwarding()\n",
    "        return self.output_layer.val\n",
    "    \n",
    "    \n",
    "#     def save(self,model_dir='./model.json'):\n",
    "#         res = []\n",
    "#         cur = self.input_layer\n",
    "#         while(cur.output_weight):\n",
    "#             res.append(cur)\n",
    "         \n",
    "#     def load(self,model_dir='./model.json')\n",
    "#         pass\n",
    "\n",
    "\n",
    "\n",
    "# # Networks\n",
    "# input_layer = Layer(10,'in')\n",
    "# l1 = Layer(10,'l1')\n",
    "# l2 = Layer(50,'l2')\n",
    "# l3 = Layer(50,'l3')\n",
    "# l4 = Layer(10,'l4')\n",
    "# output_layer = Layer(1,'out')\n",
    "\n",
    "\n",
    "# input_layer.full_connect(l1)\n",
    "# l1.full_connect(l2)\n",
    "# l2.full_connect(l3)\n",
    "# l3.full_connect(l4)\n",
    "# l4.full_connect(output_layer)\n",
    "\n",
    "# x = random.choices(range(100), k=10)\n",
    "\n",
    "# print(x)\n",
    "# y = np.array([[1]])\n",
    "\n",
    "# nk = Network(input_layer,output_layer)\n",
    "# nk.one_train(x,y)\n",
    "\n"
   ]
  },
  {
   "cell_type": "code",
   "execution_count": 4,
   "metadata": {},
   "outputs": [],
   "source": [
    "# Networks\n",
    "input_layer = Layer(10,'in')\n",
    "l1 = Layer(10,'l1')\n",
    "l2 = Layer(50,'l2')\n",
    "l3 = Layer(50,'l3')\n",
    "l4 = Layer(10,'l4')\n",
    "output_layer = Layer(1,'out')\n",
    "\n",
    "\n",
    "input_layer.full_connect(l1)\n",
    "l1.full_connect(l2)\n",
    "l2.full_connect(l3)\n",
    "l3.full_connect(l4)\n",
    "l4.full_connect(output_layer)\n",
    "\n",
    "\n",
    "nk = Network(input_layer,output_layer)"
   ]
  },
  {
   "cell_type": "code",
   "execution_count": 60,
   "metadata": {},
   "outputs": [],
   "source": [
    "vector = [2, 24, 31, 81, 2, 76, 57, 81, 79, 76]\n",
    "vector = np.array(vector)\n",
    "vector = vector/vector.sum()\n",
    "\n",
    "X = []\n",
    "Y = []\n",
    "Y_percise = []\n",
    "# for i in range(10000):\n",
    "# for i in range(100000):\n",
    "for i in range(1000000):\n",
    "    x = np.array(random.choices(range(100), k=10))\n",
    "    x = x/x.sum()\n",
    "    y_percise = x.dot(vector)\n",
    "    y = y_percise + (random.random()-0.5)*0.05\n",
    "#     y = x.dot(vector) + (random.random()-0.5)*0.01\n",
    "#     y = x.dot(vector) + (random.random()-0.5)*0\n",
    "    X.append(x)\n",
    "    Y.append(y)\n",
    "    Y_percise.append(y_percise)"
   ]
  },
  {
   "cell_type": "code",
   "execution_count": 68,
   "metadata": {},
   "outputs": [
    {
     "data": {
      "image/png": "[encoded data removed]",
      "text/plain": [
       "<Figure size 432x288 with 1 Axes>"
      ]
     },
     "metadata": {
      "needs_background": "light"
     },
     "output_type": "display_data"
    }
   ],
   "source": [
    "tmp = pd.DataFrame(Y_percise)\n",
    "tmp[0].hist()\n",
    "plt.show()"
   ]
  },
  {
   "cell_type": "code",
   "execution_count": 69,
   "metadata": {},
   "outputs": [
    {
     "data": {
      "image/png": "[encoded data removed]",
      "text/plain": [
       "<Figure size 432x288 with 1 Axes>"
      ]
     },
     "metadata": {
      "needs_background": "light"
     },
     "output_type": "display_data"
    }
   ],
   "source": [
    "tmp = pd.DataFrame(Y)\n",
    "tmp[0].hist()\n",
    "plt.show()"
   ]
  },
  {
   "cell_type": "code",
   "execution_count": 71,
   "metadata": {},
   "outputs": [
    {
     "data": {
      "image/png": "[encoded data removed]",
      "text/plain": [
       "<Figure size 432x288 with 1 Axes>"
      ]
     },
     "metadata": {
      "needs_background": "light"
     },
     "output_type": "display_data"
    }
   ],
   "source": [
    "res = pd.DataFrame(Y) - pd.DataFrame(Y_percise)\n",
    "res.hist()\n",
    "plt.show()"
   ]
  },
  {
   "cell_type": "code",
   "execution_count": null,
   "metadata": {},
   "outputs": [],
   "source": [
    "\"\"\"\n",
    "均匀分布 \n",
    "\n",
    "0.025 不可控的范围\n",
    "\n",
    "\"\"\""
   ]
  },
  {
   "cell_type": "code",
   "execution_count": 34,
   "metadata": {
    "scrolled": true
   },
   "outputs": [],
   "source": [
    "# nk.set_learning_rate(0.01)\n",
    "nk.set_learning_rate(0.1)\n",
    "# nk.set_learning_rate(1)\n",
    "# nk.set_learning_rate(2)\n",
    "nk.batch_train(X,Y)"
   ]
  },
  {
   "cell_type": "code",
   "execution_count": 72,
   "metadata": {},
   "outputs": [
    {
     "name": "stdout",
     "output_type": "stream",
     "text": [
      "x: [0.03921569 0.05347594 0.0855615  0.09803922 0.04278075 0.05882353\n",
      " 0.16934046 0.17647059 0.14795009 0.12834225]\n",
      "y_percise: 0.12161135216722874\n",
      "y_real: 0.1420376302499832\n",
      "y_predict: [[0.12286998]]\n",
      "l1:\n",
      " [[-0.03636677  0.05924002 -0.00505758  0.00685903  0.01424616 -0.03534752\n",
      "  -0.00156582  0.06160459  0.00741395  0.00191213]]\n",
      "l4:\n",
      " [[ 0.00026323  0.01705355 -0.03000602 -0.01479659  0.03648867  0.07250253\n",
      "   0.03515803 -0.01180848  0.0247334   0.00806523]]\n",
      "\n",
      "####################################################################################################\n",
      "\n"
     ]
    }
   ],
   "source": [
    "x = np.array(random.choices(range(100), k=10))\n",
    "x = x/x.sum()\n",
    "y_percise = x.dot(vector) \n",
    "y_real = x.dot(vector) + (random.random()-0.5)*0.05\n",
    "y_predict = nk.predict(x)\n",
    "\n",
    "print('x:',x)\n",
    "print('y_percise:',y_percise)\n",
    "print('y_real:',y_real)\n",
    "print('y_predict:',y_predict)\n",
    "\n",
    "print('l1:\\n',l1.val)\n",
    "print('l4:\\n',l4.val)\n",
    "pl()"
   ]
  },
  {
   "cell_type": "code",
   "execution_count": 77,
   "metadata": {},
   "outputs": [
    {
     "data": {
      "image/png": "[encoded data removed]",
      "text/plain": [
       "<Figure size 432x288 with 1 Axes>"
      ]
     },
     "metadata": {
      "needs_background": "light"
     },
     "output_type": "display_data"
    }
   ],
   "source": [
    "# Pred vs Real\n",
    "res = []\n",
    "for i in range(1000):\n",
    "    x = np.array(random.choices(range(100), k=10))\n",
    "    x = x/x.sum()\n",
    "    y_percise = x.dot(vector) \n",
    "    y_real = x.dot(vector) + (random.random()-0.5)*0.05\n",
    "    y_predict = nk.predict(x)\n",
    "    res.append(y_predict[0][0]-y_real)\n",
    "\n",
    "#     print('x:',x)\n",
    "#     print('y_percise:',y_percise)\n",
    "#     print('y_real:',y_real)\n",
    "#     print('y_predict:',y_predict)\n",
    "\n",
    "#     print('l1:\\n',l1.val)\n",
    "#     print('l4:\\n',l4.val)\n",
    "#     pl()\n",
    "res = pd.DataFrame(res)\n",
    "res.hist()\n",
    "plt.show()"
   ]
  },
  {
   "cell_type": "code",
   "execution_count": 80,
   "metadata": {},
   "outputs": [
    {
     "data": {
      "text/plain": [
       "0.09797604340703894"
      ]
     },
     "execution_count": 80,
     "metadata": {},
     "output_type": "execute_result"
    }
   ],
   "source": [
    "y_percise"
   ]
  },
  {
   "cell_type": "code",
   "execution_count": 81,
   "metadata": {},
   "outputs": [
    {
     "data": {
      "image/png": "[encoded data removed]",
      "text/plain": [
       "<Figure size 432x288 with 1 Axes>"
      ]
     },
     "metadata": {
      "needs_background": "light"
     },
     "output_type": "display_data"
    }
   ],
   "source": [
    "# Pred vs Percise\n",
    "res = []\n",
    "for i in range(1000):\n",
    "    x = np.array(random.choices(range(100), k=10))\n",
    "    x = x/x.sum()\n",
    "    y_percise = x.dot(vector) \n",
    "    y_real = x.dot(vector) + (random.random()-0.5)*0.05\n",
    "    y_predict = nk.predict(x)\n",
    "    res.append(y_predict[0][0]-y_percise)\n",
    "\n",
    "#     print('x:',x)\n",
    "#     print('y_percise:',y_percise)\n",
    "#     print('y_real:',y_real)\n",
    "#     print('y_predict:',y_predict)\n",
    "\n",
    "#     print('l1:\\n',l1.val)\n",
    "#     print('l4:\\n',l4.val)\n",
    "#     pl()\n",
    "res = pd.DataFrame(res)\n",
    "res.hist()\n",
    "plt.show()"
   ]
  },
  {
   "cell_type": "code",
   "execution_count": null,
   "metadata": {},
   "outputs": [],
   "source": [
    "\"\"\"\n",
    "\n",
    "Looks Good\n",
    "\"\"\""
   ]
  },
  {
   "cell_type": "markdown",
   "metadata": {},
   "source": [
    "## Notes"
   ]
  },
  {
   "cell_type": "code",
   "execution_count": 10,
   "metadata": {},
   "outputs": [
    {
     "data": {
      "text/plain": [
       "'\\n生物神经会如何传导这些信号？   如何更新和记忆\\n\\n线性到非线性\\n\\n学习率很重要\\n\\n最后能收敛和接近到什么样的程度\\n\\nlearning rate 0.01\\nwithout activation function\\n\\nSeems can not be very accurate\\n\\n\\n'"
      ]
     },
     "execution_count": 10,
     "metadata": {},
     "output_type": "execute_result"
    }
   ],
   "source": [
    "\"\"\"\n",
    "生物神经会如何传导这些信号？   如何更新和记忆\n",
    "\n",
    "线性到非线性\n",
    "\n",
    "学习率很重要\n",
    "\n",
    "最后能收敛和接近到什么样的程度\n",
    "\n",
    "learning rate 0.01\n",
    "without activation function\n",
    "\n",
    "Seems can not be very accurate\n",
    "\n",
    "理论上数据量足够大的时候应该收敛\n",
    "\n",
    "去掉random试试  噪声\n",
    "\n",
    "\n",
    "100万的数据\n",
    "\n",
    "去除噪声后精度似乎也不是很高\n",
    "\n",
    "看起来是没法收敛\n",
    "\n",
    "\n",
    "\n",
    "学习率很重要的  可以收敛\n",
    "\n",
    "1. 先扩大十倍数据集\n",
    "\n",
    "    有效果，但效果 一般\n",
    "\n",
    "2. 尝试0.01改变到1\n",
    "    改变学习率很重要，再大量数据学习\n",
    "    可以学到特别高的精度\n",
    "    \n",
    "3. 尝试学习率大于1\n",
    "    1 -> 2\n",
    "    结果看起来是学坏了\n",
    "    \n",
    "    学习率很重要   2在足够的数据下似乎也能学会\n",
    "    \n",
    "    来看下rate=2训练的结果是否能收敛    可以收敛\n",
    "    \n",
    "    换到1试试\n",
    "    2->1\n",
    "    \n",
    "    差异感觉不大\n",
    "    \n",
    "    换到0.1试试\n",
    "    1-> 0.1\n",
    "    高精度可行\n",
    "    \n",
    "    换到0.01\n",
    "    0.1->0.01\n",
    "    感觉用处不大了\n",
    "    \n",
    "    \n",
    "4. 下一步增加噪声试试\n",
    "    rate=1\n",
    "    似乎无法精确收敛\n",
    "    \n",
    "    5%-10%的误差\n",
    "    \n",
    "    改变rate试试\n",
    "    rate=0.1\n",
    "    似乎误差没有变小\n",
    "    \n",
    "    \n",
    "    怎样去除这些随机噪声呢？\n",
    "    \n",
    "    相同输入数据的平均化  获得期望\n",
    "    \n",
    "    相近的点 融合和平滑\n",
    "    \n",
    "    \n",
    "    干扰项影响\n",
    "    \n",
    "    记忆 统计猜测  统一\n",
    "    现实是有干扰的\n",
    "    \n",
    "    \n",
    "    先做一遍数据的聚类   PCA\n",
    "    \n",
    "    物理和信号处理中应该有方法   先放过\n",
    "    \n",
    "    傅里叶变换   很有可能可以  可以把内容拆开\n",
    "    \n",
    "    \n",
    "\n",
    "\n",
    "\n",
    "增加功能  save and reload\n",
    "\n",
    "\n",
    "\"\"\""
   ]
  },
  {
   "cell_type": "code",
   "execution_count": 70,
   "metadata": {},
   "outputs": [
    {
     "ename": "SyntaxError",
     "evalue": "invalid character in identifier (<ipython-input-70-21f9f340c9eb>, line 1)",
     "output_type": "error",
     "traceback": [
      "\u001b[0;36m  File \u001b[0;32m\"<ipython-input-70-21f9f340c9eb>\"\u001b[0;36m, line \u001b[0;32m1\u001b[0m\n\u001b[0;31m    “”“\u001b[0m\n\u001b[0m      ^\u001b[0m\n\u001b[0;31mSyntaxError\u001b[0m\u001b[0;31m:\u001b[0m invalid character in identifier\n"
     ]
    }
   ],
   "source": [
    "\"\"\"\n",
    "\n",
    "PCA  通过其他变量预测 另外的自变量\n",
    "\n",
    "\"\"\""
   ]
  },
  {
   "cell_type": "code",
   "execution_count": 751,
   "metadata": {},
   "outputs": [],
   "source": [
    "# nk.batch_train(X,Y)"
   ]
  },
  {
   "cell_type": "code",
   "execution_count": 93,
   "metadata": {},
   "outputs": [
    {
     "data": {
      "text/plain": [
       "array([[-0.19269106],\n",
       "       [ 1.39741747],\n",
       "       [ 1.04548973],\n",
       "       [-0.20258485],\n",
       "       [-1.95243922],\n",
       "       [-0.34084244],\n",
       "       [-0.39326694],\n",
       "       [-1.07620167],\n",
       "       [ 0.01801484],\n",
       "       [ 1.91752749]])"
      ]
     },
     "execution_count": 93,
     "metadata": {},
     "output_type": "execute_result"
    }
   ],
   "source": [
    "l4.output_weight.val"
   ]
  },
  {
   "cell_type": "code",
   "execution_count": 74,
   "metadata": {},
   "outputs": [
    {
     "data": {
      "text/plain": [
       "array([[ 7.99489773e-02, -1.28883481e-01, -1.08758202e-01,\n",
       "        -2.83299369e-01,  1.30403852e-01,  4.64624820e-02,\n",
       "         8.49860513e-02, -8.26779228e-02,  4.03718589e-02,\n",
       "        -4.94254108e-02],\n",
       "       [ 1.28535677e-01,  1.92719495e-01, -1.67727969e-01,\n",
       "         3.02950506e-01,  1.82792013e-01, -2.54098717e-02,\n",
       "         8.58592590e-02,  1.74493863e-01, -1.65312083e-01,\n",
       "        -1.15622542e-01],\n",
       "       [-3.22899721e-01,  6.27529289e-04, -2.81818225e-02,\n",
       "         2.34980358e-01, -9.53289463e-02, -1.41846785e-02,\n",
       "        -3.38269723e-01, -2.10634137e-01,  1.13859656e-01,\n",
       "        -4.16460248e-04],\n",
       "       [ 6.62219881e-01,  6.42108937e-02,  8.98429328e-02,\n",
       "        -1.31240825e-01, -4.08319459e-02,  4.94124012e-02,\n",
       "         1.15341234e-01, -2.43517453e-01, -1.28914020e-01,\n",
       "         3.01001457e-01],\n",
       "       [ 6.84340166e-02,  8.86964974e-03, -2.96260648e-01,\n",
       "        -1.24121282e-02, -1.78535662e-01, -9.22442151e-02,\n",
       "         2.69662228e-01, -8.34643276e-03, -2.21792079e-01,\n",
       "        -1.30732791e-01],\n",
       "       [-1.60906418e-01,  9.28458199e-03,  1.82913979e-02,\n",
       "        -2.59486588e-01,  1.62835654e-01, -1.40998371e-01,\n",
       "         1.81855626e-02,  7.21368464e-02,  1.08814520e-01,\n",
       "         8.54181736e-02],\n",
       "       [-4.00284625e-01, -2.34223294e-01,  1.13095908e-01,\n",
       "         1.58509897e-01, -5.05061469e-01,  1.54231635e-01,\n",
       "        -6.66639326e-01, -1.07519503e-01,  2.69407864e-01,\n",
       "        -6.93268372e-02],\n",
       "       [-5.14712841e-01,  5.73451234e-02, -2.07539807e-01,\n",
       "        -1.78951492e-01, -1.46360744e-01, -1.96271681e-01,\n",
       "         4.19700780e-02, -1.72757386e-01,  3.79144419e-02,\n",
       "        -1.25695696e-01],\n",
       "       [ 3.42455773e-02,  3.87404529e-01, -1.47798313e-01,\n",
       "        -4.84910997e-02,  2.29655955e-01, -1.10383636e-01,\n",
       "        -1.12891297e-01,  1.97890044e-01,  1.46795248e-01,\n",
       "         1.26910380e-01],\n",
       "       [-2.78760012e-01,  1.77171864e-01, -5.75619043e-03,\n",
       "         1.35844684e-01,  3.31929906e-01, -1.25217600e-01,\n",
       "        -4.66606267e-02,  5.93839520e-01,  5.57325272e-02,\n",
       "         1.36917166e-01],\n",
       "       [ 2.87015755e-02,  2.87871204e-03,  6.02331851e-02,\n",
       "        -7.05352586e-02, -1.76388299e-01, -4.85912817e-01,\n",
       "         9.03554992e-02, -2.52648320e-01, -4.59238909e-01,\n",
       "        -1.80210272e-01],\n",
       "       [ 1.93998840e-01,  7.27927402e-02,  2.43481315e-01,\n",
       "         3.76265779e-01, -9.86432701e-02,  5.15004424e-01,\n",
       "         1.24864585e-02,  2.74827957e-01, -1.67180849e-02,\n",
       "        -2.58394407e-01],\n",
       "       [ 2.65573197e-02,  5.06496942e-01, -2.16776714e-01,\n",
       "         2.69676749e-03,  2.89759706e-01, -3.06645066e-02,\n",
       "         1.74306853e-01,  1.10882771e-01,  3.79391666e-01,\n",
       "        -1.28536883e-01],\n",
       "       [-8.21322021e-02,  2.26655133e-01, -4.59149727e-01,\n",
       "         2.41345465e-01,  4.11689815e-01, -7.56905785e-02,\n",
       "        -5.47808816e-02,  2.08592097e-01,  1.79293510e-01,\n",
       "        -1.51571255e-01],\n",
       "       [ 2.78508562e-01,  1.42139369e-02,  4.32528005e-01,\n",
       "        -4.87075296e-01, -2.31221007e-01,  2.31572245e-01,\n",
       "         1.89734502e-01, -9.06464230e-02,  9.11926957e-02,\n",
       "         5.27145108e-02],\n",
       "       [ 6.14794039e-01, -3.97166852e-02, -1.16744420e-02,\n",
       "        -1.84149172e-01,  7.40811166e-02,  1.58882932e-01,\n",
       "         2.64643757e-01,  1.97008483e-01, -1.80572484e-01,\n",
       "        -2.28331807e-01],\n",
       "       [-1.45275822e-02,  6.78497207e-03,  7.88001474e-02,\n",
       "         1.54700546e-01, -3.30266448e-01, -1.27925703e-03,\n",
       "         4.06697625e-02, -1.93243786e-02,  6.71316520e-02,\n",
       "         2.16570856e-01],\n",
       "       [ 1.14859347e-01, -1.23169652e-01,  4.67926634e-02,\n",
       "         5.70318327e-02,  3.27058068e-01, -4.87328627e-02,\n",
       "        -4.27682070e-01, -2.76970682e-01, -1.00760208e-01,\n",
       "        -3.74539091e-02],\n",
       "       [ 1.67160491e-01,  3.44135420e-01,  1.41265843e-01,\n",
       "         3.99218149e-02, -1.49774506e-01, -1.03099976e-01,\n",
       "        -1.84121935e-02,  7.11180376e-02,  2.95811268e-01,\n",
       "         2.93491254e-01],\n",
       "       [-2.94566867e-02, -7.34363179e-02,  1.34914666e-01,\n",
       "        -1.82826584e-01, -2.64037880e-01, -9.41967061e-02,\n",
       "         1.49634571e-01,  7.60346673e-02, -4.57458348e-02,\n",
       "         4.06632928e-01],\n",
       "       [-6.22844997e-02, -8.01007157e-03,  5.37696123e-02,\n",
       "        -2.22482847e-01, -1.74317504e-01, -1.40469048e-01,\n",
       "        -1.76607884e-01, -7.52494972e-04, -3.42367545e-02,\n",
       "         5.97865193e-02],\n",
       "       [ 2.88698795e-01,  2.11705922e-01,  1.40716026e-01,\n",
       "         4.31693980e-02, -9.40454690e-02, -8.35616850e-02,\n",
       "        -1.50015902e-01, -7.48043527e-02,  1.08383148e-01,\n",
       "        -5.46998167e-02],\n",
       "       [ 8.07517046e-02,  8.30335343e-02, -4.70758965e-01,\n",
       "        -8.03741069e-03,  5.60592115e-02, -2.26453816e-01,\n",
       "         5.48993439e-03, -1.32380818e-02,  6.49715080e-02,\n",
       "         1.68456603e-02],\n",
       "       [ 8.48828283e-02,  3.49092495e-01, -1.72380890e-01,\n",
       "        -1.44784341e-01,  3.71027903e-01, -1.33491847e-02,\n",
       "        -1.09611182e-01,  1.16915590e-01, -1.56358758e-01,\n",
       "        -2.23791079e-01],\n",
       "       [-3.46425916e-01, -2.50558823e-02,  1.11487023e-01,\n",
       "         6.20540010e-02, -2.97186095e-01, -1.47550477e-01,\n",
       "        -7.51598191e-02, -3.26225926e-01, -2.70883045e-01,\n",
       "        -4.02312773e-02],\n",
       "       [ 8.73978301e-03, -1.18034821e-01,  4.44377160e-01,\n",
       "         4.79760135e-01,  8.68870757e-02,  3.55678412e-01,\n",
       "        -2.83248059e-01,  1.72300476e-01, -3.38980292e-01,\n",
       "        -2.43565586e-01],\n",
       "       [-2.42839879e-01, -1.29342721e-01, -7.09322678e-02,\n",
       "         1.61670884e-02,  8.51779015e-02,  2.35545284e-02,\n",
       "         8.79687932e-02, -1.07571337e-01, -2.63778513e-02,\n",
       "        -4.21358157e-02],\n",
       "       [ 3.36658143e-01, -5.60438848e-02,  2.30047968e-01,\n",
       "         3.95943408e-02, -7.45080517e-02, -3.40422422e-02,\n",
       "         2.03359209e-01,  3.07600456e-01, -1.27701888e-01,\n",
       "         3.04396768e-03],\n",
       "       [ 3.61539753e-01,  1.92305460e-01,  4.58673608e-02,\n",
       "        -3.68202521e-01,  2.67182722e-01,  9.67045997e-02,\n",
       "         3.79961156e-01, -2.46448326e-01, -1.60559380e-02,\n",
       "        -3.43916144e-03],\n",
       "       [ 1.12443236e-01, -3.41980443e-01, -2.19062732e-01,\n",
       "         6.87778188e-02,  1.51381291e-01, -3.04146421e-01,\n",
       "        -1.85829369e-01, -9.88614197e-02, -1.35107376e-01,\n",
       "        -3.51773966e-01],\n",
       "       [-4.79864725e-04, -1.23963581e-02,  3.73519684e-01,\n",
       "        -1.47536471e-01,  4.80371636e-02, -1.72983892e-01,\n",
       "         8.74704043e-02,  3.06216918e-02,  8.50504927e-02,\n",
       "         8.50802914e-02],\n",
       "       [-1.36888643e-01, -9.20427277e-02, -8.20282539e-04,\n",
       "         2.21794593e-01,  3.37012793e-01, -7.68500697e-02,\n",
       "         2.00565870e-01, -4.24896539e-02, -4.66560754e-04,\n",
       "         1.58058935e-01],\n",
       "       [ 4.86303351e-03, -2.87649916e-01,  3.53989126e-01,\n",
       "        -3.08763102e-02, -5.66485942e-02,  2.09024429e-02,\n",
       "        -3.73863410e-01, -2.10925292e-01, -1.01324060e-01,\n",
       "        -2.65615131e-01],\n",
       "       [-4.46448547e-02,  3.07501555e-02, -4.79317499e-02,\n",
       "        -1.39233860e-02,  2.78831599e-01, -1.02674123e-01,\n",
       "         2.00128057e-03,  1.30826873e-02, -5.48040341e-02,\n",
       "        -1.68879268e-01],\n",
       "       [-3.47504227e-02, -3.07122322e-01, -2.74583542e-01,\n",
       "        -3.06517841e-01,  2.53183810e-01, -1.32111319e-01,\n",
       "        -1.25586878e-01,  2.21382402e-01,  1.08347652e-01,\n",
       "         1.42258904e-01],\n",
       "       [ 3.75143120e-02, -4.18887515e-02, -1.32451281e-01,\n",
       "         2.66228652e-01,  2.01603930e-01, -2.64316747e-01,\n",
       "        -2.07364289e-01,  3.77924641e-02, -8.20964459e-02,\n",
       "         1.68420040e-01],\n",
       "       [-9.61052094e-02, -3.64964166e-01, -1.89264637e-01,\n",
       "         1.19068234e-02,  1.28543006e-01,  3.28353450e-01,\n",
       "        -1.42326987e-01,  1.96726401e-01, -6.07813746e-02,\n",
       "         2.18555326e-01],\n",
       "       [-1.48377218e-01, -2.26951765e-01, -1.19243498e-01,\n",
       "         1.72003803e-01, -2.02573696e-01,  1.73934726e-01,\n",
       "        -1.89213977e-01,  2.82677657e-02,  4.74126596e-02,\n",
       "         8.46845391e-02],\n",
       "       [-1.65385379e-01,  4.93311335e-02, -1.69108819e-01,\n",
       "         1.84464980e-01,  1.71130623e-01,  2.37844407e-01,\n",
       "        -2.91716282e-01,  1.56137031e-01, -5.31499340e-01,\n",
       "         1.46588393e-01],\n",
       "       [ 4.25389705e-02,  1.93694556e-01, -2.86470078e-02,\n",
       "        -1.53927697e-01,  1.27067244e-01,  2.16517374e-01,\n",
       "         2.63710371e-01,  1.55624432e-01, -2.20585362e-02,\n",
       "        -9.61928423e-02],\n",
       "       [ 2.02492352e-01, -9.50738690e-02,  2.38144412e-01,\n",
       "         4.93655339e-01, -4.35973295e-02, -2.60166888e-01,\n",
       "        -2.93137908e-01,  2.13406206e-02,  1.87218052e-01,\n",
       "         2.84757252e-01],\n",
       "       [-3.06216604e-01, -2.65072029e-01, -2.64616468e-01,\n",
       "        -1.88377223e-01, -8.09121341e-02, -1.40106421e-01,\n",
       "        -4.74718015e-01,  1.14738901e-01, -5.46642516e-02,\n",
       "         4.14782058e-01],\n",
       "       [-5.50473094e-02,  1.32052749e-01, -2.48570921e-01,\n",
       "         1.61315581e-01, -2.38302071e-03, -6.28346444e-02,\n",
       "         1.10973482e-01, -1.35991824e-01, -1.97366687e-01,\n",
       "        -2.55106803e-02],\n",
       "       [ 4.17401058e-01,  8.64330221e-02,  3.86556060e-02,\n",
       "        -1.90994748e-01, -1.42754886e-01, -1.95702485e-01,\n",
       "        -1.77839328e-01, -5.82190931e-02,  1.66003746e-01,\n",
       "        -2.24491120e-02],\n",
       "       [ 4.59974525e-03,  4.90851710e-01, -1.55153063e-01,\n",
       "         4.86111762e-02,  1.89410503e-01, -2.41793725e-01,\n",
       "         9.51391543e-03, -5.57499646e-02,  2.79989323e-01,\n",
       "        -5.95334436e-02],\n",
       "       [-8.09909741e-02, -3.85852802e-01,  3.70673882e-01,\n",
       "         5.46160882e-02, -4.12240378e-02, -5.08644551e-01,\n",
       "         2.49000666e-01, -1.58047735e-01,  2.93917591e-01,\n",
       "         2.11995650e-01],\n",
       "       [ 2.50702210e-01,  2.06572619e-01,  8.39504506e-02,\n",
       "         2.14467039e-01, -9.33052792e-02,  1.01859222e-01,\n",
       "         1.23935903e-01,  4.80229046e-01, -1.34189175e-01,\n",
       "         1.70545444e-02],\n",
       "       [-3.84598484e-02, -1.82115211e-01,  1.17788624e-01,\n",
       "        -3.19106170e-02, -3.15328468e-03, -1.14323248e-01,\n",
       "        -9.03063571e-02, -3.27152051e-02, -1.41638878e-02,\n",
       "         3.02240736e-01],\n",
       "       [-1.27751722e-02,  2.67395226e-01,  3.15725346e-01,\n",
       "         4.39855797e-02,  1.32808112e-01, -7.82788415e-02,\n",
       "        -1.63643724e-02, -6.51126269e-02, -1.51355918e-01,\n",
       "        -3.05905214e-01],\n",
       "       [ 3.94525897e-01,  2.64344666e-01,  5.06156327e-02,\n",
       "        -1.51161893e-01, -2.76072461e-01,  5.93945226e-02,\n",
       "         4.34426580e-01, -1.04897919e-01, -9.68933572e-02,\n",
       "         1.18067992e-01]])"
      ]
     },
     "execution_count": 74,
     "metadata": {},
     "output_type": "execute_result"
    }
   ],
   "source": [
    "l3.output_weight.val"
   ]
  },
  {
   "cell_type": "code",
   "execution_count": 75,
   "metadata": {},
   "outputs": [
    {
     "data": {
      "text/plain": [
       "array([[ 0.08510723, -0.01121689, -0.01802326, ..., -0.03507009,\n",
       "         0.05629599,  0.00848492],\n",
       "       [-0.02020317,  0.03367152,  0.00655599, ...,  0.0130693 ,\n",
       "         0.03150085,  0.04805167],\n",
       "       [ 0.00438371,  0.01148298,  0.00219288, ...,  0.00607755,\n",
       "         0.05995458,  0.03074161],\n",
       "       ...,\n",
       "       [-0.00567585,  0.04768555, -0.00900835, ..., -0.0961654 ,\n",
       "         0.04391923, -0.00955867],\n",
       "       [-0.01522867,  0.01316334,  0.02044633, ..., -0.0189906 ,\n",
       "         0.03178518,  0.02229477],\n",
       "       [ 0.03394011,  0.02953836, -0.05973158, ..., -0.02565085,\n",
       "        -0.06868927,  0.07607553]])"
      ]
     },
     "execution_count": 75,
     "metadata": {},
     "output_type": "execute_result"
    }
   ],
   "source": [
    "l2.output_weight.val"
   ]
  },
  {
   "cell_type": "code",
   "execution_count": 76,
   "metadata": {
    "scrolled": true
   },
   "outputs": [
    {
     "data": {
      "text/plain": [
       "array([[-0.01605551, -0.10052804,  0.00152309,  0.18569246,  0.12513207,\n",
       "         0.13026984,  0.09429307, -0.12387047,  0.13553875, -0.04172468,\n",
       "         0.00646714, -0.13930396,  0.10786934,  0.14239545, -0.10888101,\n",
       "         0.15701333,  0.08263467,  0.09804768, -0.34027071,  0.14594672,\n",
       "         0.18086073,  0.0558452 ,  0.06015864, -0.10535668,  0.10818266,\n",
       "         0.27277555,  0.05553154, -0.02210709, -0.07353723,  0.03661818,\n",
       "        -0.10922774, -0.03277336,  0.07837544, -0.17448074, -0.02590112,\n",
       "        -0.10449554, -0.18055676, -0.09745217,  0.1167623 ,  0.11761512,\n",
       "         0.06978527, -0.13538102, -0.03521796, -0.06115944, -0.01217703,\n",
       "        -0.08144725,  0.23943186, -0.25066258, -0.12022857,  0.08354386],\n",
       "       [-0.0180743 , -0.23592704, -0.13231129, -0.03091949,  0.00159445,\n",
       "         0.02342056,  0.04706227, -0.16184306,  0.03507666,  0.22523181,\n",
       "         0.18300497, -0.06247585,  0.01097271,  0.08076567,  0.05436707,\n",
       "        -0.24852148, -0.00296589, -0.08440308, -0.08898787, -0.0645259 ,\n",
       "        -0.12478051, -0.1637939 , -0.01363927, -0.01484545, -0.13666124,\n",
       "         0.0622591 ,  0.18163481,  0.05303568,  0.00536285,  0.23959228,\n",
       "        -0.07255531, -0.23295051, -0.31857184, -0.01263365,  0.15794243,\n",
       "        -0.30697883,  0.01626459, -0.00048591,  0.16518776,  0.17259705,\n",
       "         0.20432288,  0.12451514,  0.01236785, -0.07529274,  0.11654339,\n",
       "         0.28229996,  0.01140315,  0.12516882,  0.20785486, -0.30437792],\n",
       "       [-0.01375756, -0.05641018,  0.162072  , -0.09590496, -0.13613486,\n",
       "        -0.02170451, -0.07899451,  0.05479035, -0.16419086, -0.03861334,\n",
       "         0.13387142, -0.06868647,  0.05620174, -0.07026649,  0.0662183 ,\n",
       "        -0.18302321, -0.13851921, -0.23697084,  0.32429157,  0.05070992,\n",
       "        -0.05430777,  0.13415142,  0.03249072,  0.12534553, -0.23149403,\n",
       "         0.11386514, -0.05432551,  0.16011134, -0.16750608,  0.13483247,\n",
       "         0.08251634, -0.08921439, -0.06646852,  0.07445255,  0.067571  ,\n",
       "         0.1355432 , -0.09360678,  0.05267435, -0.03106757, -0.45480299,\n",
       "        -0.04900488,  0.17305762, -0.20989059,  0.0613438 ,  0.04251518,\n",
       "        -0.01034406,  0.04695626, -0.06461506, -0.02212265, -0.00267275],\n",
       "       [-0.27083252, -0.2117145 , -0.30501346,  0.09212492,  0.10073552,\n",
       "         0.03056496,  0.07757553,  0.16189094, -0.04432408,  0.15663082,\n",
       "        -0.00433606,  0.07548852,  0.10404004, -0.05673467,  0.30192815,\n",
       "         0.17852953, -0.06996504, -0.0314782 ,  0.07897479,  0.17371692,\n",
       "        -0.0338669 ,  0.07934028, -0.14143403,  0.02569201, -0.20556819,\n",
       "        -0.21767041, -0.14845564, -0.01069718, -0.02953008,  0.045638  ,\n",
       "         0.10802981,  0.17569922, -0.05987161,  0.13064345, -0.20755077,\n",
       "         0.0889689 ,  0.13263081,  0.18939015, -0.03812584,  0.07973196,\n",
       "         0.08751133, -0.2637261 , -0.33638153,  0.07863796,  0.10933502,\n",
       "         0.14479702, -0.06071659, -0.102577  , -0.09524551,  0.02137024],\n",
       "       [-0.1517643 ,  0.03865002,  0.11836573, -0.08254469,  0.0490322 ,\n",
       "         0.03711308,  0.10957333, -0.01611713, -0.10433468, -0.20069659,\n",
       "        -0.0491471 , -0.12850934, -0.09211833, -0.10944118,  0.01550165,\n",
       "         0.16061828, -0.06331491, -0.00419088, -0.02628166,  0.02364287,\n",
       "         0.22644024,  0.20541231, -0.06910795, -0.24820749,  0.08867591,\n",
       "         0.00832297,  0.03880294, -0.09298713,  0.02579125,  0.06063651,\n",
       "        -0.09221257,  0.10904268,  0.26569764, -0.33920202,  0.1776885 ,\n",
       "        -0.18990003,  0.07176335, -0.01140162, -0.02927679, -0.02012125,\n",
       "        -0.08623539,  0.18267195, -0.10886688, -0.27837953, -0.21271031,\n",
       "         0.28457197,  0.09795486, -0.14911123, -0.16972174, -0.02071668],\n",
       "       [ 0.2081903 ,  0.14669497, -0.07369234, -0.11753404, -0.0010252 ,\n",
       "         0.03788857,  0.12003536,  0.02504214,  0.01981132,  0.12299858,\n",
       "         0.30884318,  0.01045926, -0.24492714,  0.05164703,  0.04304069,\n",
       "         0.08464792, -0.05960411, -0.00858074, -0.12607632,  0.07936481,\n",
       "        -0.08686392,  0.01246145, -0.10788321,  0.02462851, -0.12600951,\n",
       "         0.03126359,  0.30503028,  0.06803523, -0.03512099, -0.11990155,\n",
       "        -0.07695695, -0.33222265,  0.21475129, -0.22140888,  0.28648424,\n",
       "        -0.03811695,  0.26287058,  0.08287185, -0.15530361,  0.04220432,\n",
       "         0.04382259, -0.04095463,  0.00685567,  0.04308964,  0.00913277,\n",
       "         0.1509816 ,  0.04089453,  0.06880927, -0.17434472, -0.26403666],\n",
       "       [ 0.16619125,  0.16098837, -0.06274149,  0.05509564, -0.1352998 ,\n",
       "         0.04261504,  0.15744384,  0.04762643,  0.03238833,  0.18499636,\n",
       "        -0.19231313, -0.01832463,  0.10816246, -0.13837849,  0.19666857,\n",
       "        -0.00591845,  0.01568814,  0.09672933, -0.03334359, -0.09875084,\n",
       "        -0.11946481, -0.02128783,  0.06128541,  0.11511031,  0.05014864,\n",
       "        -0.09391317, -0.33780905,  0.21477099, -0.172774  ,  0.02281492,\n",
       "         0.04482353, -0.00199987, -0.11212137,  0.15251898,  0.24070191,\n",
       "        -0.05238917,  0.11134437,  0.00431133,  0.00594371, -0.08716022,\n",
       "        -0.06673565,  0.12639024,  0.10407217,  0.1143743 , -0.05781425,\n",
       "         0.04055641,  0.01709433, -0.00385303, -0.00502499,  0.16907341],\n",
       "       [ 0.09535027, -0.23524941,  0.1957273 ,  0.23072444,  0.12409143,\n",
       "         0.25233834,  0.00900691, -0.02486922,  0.06683068,  0.33697669,\n",
       "        -0.22748063, -0.06679442, -0.17111873, -0.20269398,  0.09836088,\n",
       "        -0.24766774,  0.12307723, -0.11404401, -0.07910817, -0.07942127,\n",
       "        -0.27632302, -0.04519556, -0.14185121,  0.07365991, -0.01287054,\n",
       "         0.12793948, -0.06696382, -0.16425143,  0.09584706,  0.12033202,\n",
       "        -0.12567597,  0.00074295, -0.12484649,  0.0728319 ,  0.1393624 ,\n",
       "         0.05263944,  0.10451497, -0.08687767,  0.19979367, -0.00906764,\n",
       "        -0.06614562,  0.03357663, -0.05937145, -0.11296527, -0.05820956,\n",
       "        -0.07424417,  0.00649221,  0.2523725 ,  0.23734839, -0.16637479],\n",
       "       [-0.21536921, -0.05045127, -0.01925791, -0.05255326,  0.06348233,\n",
       "         0.20513653,  0.16733491,  0.32864261, -0.03663759,  0.16976282,\n",
       "         0.38977903,  0.04055215, -0.27351082,  0.1090438 ,  0.14927801,\n",
       "         0.00713761,  0.06855138,  0.09751795, -0.12807073,  0.15971321,\n",
       "         0.01611344,  0.3682193 ,  0.1421361 , -0.19621554,  0.06953492,\n",
       "        -0.07492512, -0.04879106, -0.08195231, -0.06916985, -0.04149623,\n",
       "        -0.08172283,  0.05765398, -0.10843275, -0.19166672, -0.11055441,\n",
       "         0.05454495, -0.28177401, -0.14804748, -0.09069149, -0.04466934,\n",
       "        -0.15206833, -0.24053163, -0.15008635,  0.12157546,  0.06652457,\n",
       "        -0.05677474,  0.12242412, -0.12997801, -0.22781644, -0.09042125],\n",
       "       [ 0.18087357, -0.26071693, -0.06776625,  0.03755385,  0.16147084,\n",
       "         0.07934489,  0.05659342,  0.24328031, -0.09265239, -0.16669208,\n",
       "        -0.16311022, -0.00548853, -0.01732257, -0.13312229,  0.20112246,\n",
       "        -0.10740706,  0.09763943,  0.04095509, -0.10056609, -0.00395814,\n",
       "        -0.06150663, -0.01206825, -0.1296846 , -0.08762295,  0.13807473,\n",
       "        -0.17886096,  0.0705107 ,  0.03483512, -0.20647609,  0.12007266,\n",
       "        -0.14882895,  0.02377057,  0.27687291,  0.17175197, -0.30727463,\n",
       "         0.10265027,  0.13118515,  0.08799047,  0.29020556, -0.03486289,\n",
       "         0.07428536,  0.05329848,  0.25121128,  0.02961492,  0.16131412,\n",
       "        -0.00462464,  0.05632057, -0.10727991, -0.06558819, -0.05929817]])"
      ]
     },
     "execution_count": 76,
     "metadata": {},
     "output_type": "execute_result"
    }
   ],
   "source": [
    "l1.output_weight.val"
   ]
  },
  {
   "cell_type": "code",
   "execution_count": 190,
   "metadata": {},
   "outputs": [
    {
     "data": {
      "text/plain": [
       "array([[0, 0, 0, 0, 0, 0, 0, 0, 0, 0]])"
      ]
     },
     "execution_count": 190,
     "metadata": {},
     "output_type": "execute_result"
    }
   ],
   "source": [
    "l4.val"
   ]
  },
  {
   "cell_type": "code",
   "execution_count": 330,
   "metadata": {},
   "outputs": [
    {
     "data": {
      "text/plain": [
       "array([[0, 0, 0, 0, 0, 0, 0, 0, 0, 0, 0, 0, 0, 0, 0, 0, 0, 0, 0, 0, 0, 0,\n",
       "        0, 0, 0, 0, 0, 0, 0, 0, 0, 0, 0, 0, 0, 0, 0, 0, 0, 0, 0, 0, 0, 0,\n",
       "        0, 0, 0, 0, 0, 0]])"
      ]
     },
     "execution_count": 330,
     "metadata": {},
     "output_type": "execute_result"
    }
   ],
   "source": [
    "l3.val"
   ]
  },
  {
   "cell_type": "code",
   "execution_count": null,
   "metadata": {},
   "outputs": [],
   "source": []
  },
  {
   "cell_type": "code",
   "execution_count": null,
   "metadata": {},
   "outputs": [],
   "source": []
  },
  {
   "cell_type": "code",
   "execution_count": null,
   "metadata": {},
   "outputs": [],
   "source": []
  },
  {
   "cell_type": "code",
   "execution_count": null,
   "metadata": {},
   "outputs": [],
   "source": [
    "\"\"\"\n",
    "如何设置可以使信号不至于消失？？？？\n",
    "\n",
    "同时避免参数爆炸\n",
    "\n",
    "可行的路径、重复感受和验证的，嫁接的方法\n",
    "\n",
    "\"\"\""
   ]
  },
  {
   "cell_type": "code",
   "execution_count": 223,
   "metadata": {},
   "outputs": [
    {
     "data": {
      "text/plain": [
       "array([[0]])"
      ]
     },
     "execution_count": 223,
     "metadata": {},
     "output_type": "execute_result"
    }
   ],
   "source": [
    "nk.predict(x)"
   ]
  },
  {
   "cell_type": "code",
   "execution_count": 214,
   "metadata": {
    "scrolled": true
   },
   "outputs": [
    {
     "name": "stdout",
     "output_type": "stream",
     "text": [
      "n: 10\n",
      "Weight: (10, 50)\n",
      "\n",
      "n: 50\n",
      "Weight: (50, 50)\n",
      "\n",
      "n: 50\n",
      "Weight: (50, 10)\n",
      "\n",
      "n: 10\n",
      "Weight: (10, 1)\n",
      "\n"
     ]
    }
   ],
   "source": [
    "l1.stats()\n",
    "l2.stats()\n",
    "l3.stats()\n",
    "l4.stats()"
   ]
  },
  {
   "cell_type": "code",
   "execution_count": 215,
   "metadata": {},
   "outputs": [
    {
     "name": "stdout",
     "output_type": "stream",
     "text": [
      "input_layer: [85, 78, 24, 50, 51, 95, 1, 22, 51, 65]\n",
      "l1: [24.03, 7.7, 37.9, 0.0, 45.19, 0.0, 82.94, 0.0, 0.0, 0.0]\n",
      "l2: [2.99, 0.0, 3.95, 0.0, 0.0, 0.0, 0.0, 0.0, 1.7, 0.0, 0.0, 6.15, 0.0, 12.57, 25.25, 15.12, 0.0, 0.0, 0.0, 11.79, 19.67, 28.17, 0.0, 5.11, 6.01, 0.0, 0.0, 2.56, 13.08, 35.02, 0.0, 3.71, 62.84, 28.64, 51.16, 0.54, 0.0, 33.64, 0.0, 19.34, 0.0, 0.0, 23.39, 15.72, 0.0, 0.52, 15.9, 0.0, 0.0, 20.21]\n",
      "l3: [0, 0, 2, 0, 0, 1, 0, 0, 1, 1, 2, 1, 0, 2, 0, 0, 0, 0, 0, 0, 0, 0, 2, 0, 0, 1, 3, 0, 0, 0, 2, 0, 0, 0, 0, 0, 0, 1, 2, 0, 0, 3, 3, 2, 0, 0, 0, 0, 0, 2]\n",
      "l4: [0.57, 0.0, 0.0, 0.38, 0.0, 0.0, 0.0, 0.0, 0.3, 0.08]\n",
      "output_layer: [0.15]\n"
     ]
    }
   ],
   "source": [
    "print('input_layer:',[round(x,2) for x in input_layer.val[0]])\n",
    "print('l1:',[round(x,2) for x in l1.val[0]])\n",
    "print('l2:',[round(x,2) for x in l2.val[0]])\n",
    "print('l3:',[round(x,2) for x in l3.val[0]])\n",
    "print('l4:',[round(x,2) for x in l4.val[0]])\n",
    "print('output_layer:',[round(x,2) for x in output_layer.val[0]])"
   ]
  },
  {
   "cell_type": "code",
   "execution_count": 216,
   "metadata": {},
   "outputs": [
    {
     "data": {
      "text/plain": [
       "array([[ 3.03586222e-04,  1.34174545e-04,  1.22835635e-03,\n",
       "         7.51947139e-04,  2.10621331e-04, -2.25281513e-04,\n",
       "         4.58187184e-04, -2.46946156e-04,  5.46989560e-04,\n",
       "        -3.43687642e-04, -1.59704308e-03,  1.14776961e-04,\n",
       "        -2.20332758e-04,  1.64067880e-03, -6.79567001e-05,\n",
       "        -5.21673877e-04,  8.03791896e-04,  1.42830370e-03,\n",
       "        -1.02715743e-04,  1.80930581e-04, -1.24633486e-03,\n",
       "        -8.01996503e-04, -1.80922030e-04, -3.42926879e-04,\n",
       "         1.10753069e-04,  7.04940749e-04,  9.13847454e-05,\n",
       "        -9.89001596e-04,  3.15081050e-04,  7.34962703e-04,\n",
       "        -1.31275881e-03,  1.44556152e-03, -1.49704793e-04,\n",
       "         1.29837762e-03,  1.40979862e-03, -5.61983500e-04,\n",
       "         9.43563031e-04, -6.12721008e-05,  6.11976414e-04,\n",
       "        -7.71239116e-04,  7.29477931e-05,  9.56180302e-04,\n",
       "        -4.16107126e-04,  9.52857139e-04,  5.78770502e-04,\n",
       "         7.90586184e-04,  1.39235811e-03,  6.02323722e-04,\n",
       "        -3.59216151e-04, -1.20803097e-04],\n",
       "       [ 9.72573595e-05,  4.29843681e-05,  3.93518170e-04,\n",
       "         2.40894967e-04,  6.74749807e-05, -7.21715397e-05,\n",
       "         1.46785566e-04, -7.91120588e-05,  1.75234435e-04,\n",
       "        -1.10104313e-04, -5.11631231e-04,  3.67701277e-05,\n",
       "        -7.05861488e-05,  5.25610441e-04, -2.17707153e-05,\n",
       "        -1.67124263e-04,  2.57504035e-04,  4.57573619e-04,\n",
       "        -3.29061768e-05,  5.79632053e-05, -3.99277794e-04,\n",
       "        -2.56928860e-04, -5.79604660e-05, -1.09860594e-04,\n",
       "         3.54810274e-05,  2.25835927e-04,  2.92761607e-05,\n",
       "        -3.16838106e-04,  1.00939861e-04,  2.35453807e-04,\n",
       "        -4.20557476e-04,  4.63102360e-04, -4.79596627e-05,\n",
       "         4.15950294e-04,  4.51645301e-04, -1.80037917e-04,\n",
       "         3.02281336e-04, -1.96292265e-05,  1.96053726e-04,\n",
       "        -2.47075376e-04,  2.33696697e-05,  3.06323425e-04,\n",
       "        -1.33304733e-04,  3.05258811e-04,  1.85415828e-04,\n",
       "         2.53273433e-04,  4.46058034e-04,  1.92961375e-04,\n",
       "        -1.15079051e-04, -3.87006702e-05],\n",
       "       [ 4.78802945e-04,  2.11614238e-04,  1.93731004e-03,\n",
       "         1.18593822e-03,  3.32182774e-04, -3.55304174e-04,\n",
       "         7.22632836e-04, -3.89472704e-04,  8.62688070e-04,\n",
       "        -5.42049154e-04, -2.51878667e-03,  1.81021216e-04,\n",
       "        -3.47499214e-04,  2.58760703e-03, -1.07178343e-04,\n",
       "        -8.22761279e-04,  1.26770551e-03,  2.25265828e-03,\n",
       "        -1.61998788e-04,  2.85355819e-04, -1.96566496e-03,\n",
       "        -1.26487390e-03, -2.85342333e-04, -5.40849313e-04,\n",
       "         1.74674909e-04,  1.11180179e-03,  1.44128034e-04,\n",
       "        -1.55981017e-03,  4.96932086e-04,  1.15915111e-03,\n",
       "        -2.07042593e-03,  2.27987656e-03, -2.36107868e-04,\n",
       "         2.04774453e-03,  2.22347287e-03, -8.86335858e-04,\n",
       "         1.48814645e-03, -9.66356842e-05,  9.65182501e-04,\n",
       "        -1.21636469e-03,  1.15050077e-04,  1.50804586e-03,\n",
       "        -6.56266006e-04,  1.50280471e-03,  9.12811585e-04,\n",
       "         1.24687804e-03,  2.19596647e-03,  9.49958697e-04,\n",
       "        -5.66540042e-04, -1.90525375e-04],\n",
       "       [-3.66969270e-04, -1.62187646e-04, -1.48481386e-03,\n",
       "        -9.08939445e-04, -2.54595072e-04,  2.72316022e-04,\n",
       "        -5.53847981e-04,  2.98503832e-04, -6.61190609e-04,\n",
       "         4.15443105e-04,  1.93047539e-03, -1.38740215e-04,\n",
       "         2.66334061e-04, -1.98322143e-03,  8.21447707e-05,\n",
       "         6.30589492e-04, -9.71608405e-04, -1.72650643e-03,\n",
       "         1.24160843e-04, -2.18705456e-04,  1.50654595e-03,\n",
       "         9.69438168e-04,  2.18695120e-04,  4.14523510e-04,\n",
       "        -1.33876211e-04, -8.52119013e-04, -1.10464148e-04,\n",
       "         1.19548638e-03, -3.80864000e-04, -8.88408981e-04,\n",
       "         1.58683796e-03, -1.74736735e-03,  1.80960315e-04,\n",
       "        -1.56945425e-03, -1.70413784e-03,  6.79315000e-04,\n",
       "        -1.14056110e-03,  7.40645537e-05, -7.39745487e-04,\n",
       "         9.32259221e-04, -8.81779093e-05, -1.15581262e-03,\n",
       "         5.02982405e-04, -1.15179564e-03, -6.99606809e-04,\n",
       "        -9.55645590e-04, -1.68305609e-03, -7.28077496e-04,\n",
       "         4.34213673e-04,  1.46024494e-04],\n",
       "       [ 5.70893114e-04,  2.52314888e-04,  2.30992097e-03,\n",
       "         1.41403467e-03,  3.96072874e-04, -4.23641309e-04,\n",
       "         8.61619825e-04, -4.64381614e-04,  1.02861247e-03,\n",
       "        -6.46303730e-04, -3.00323542e-03,  2.15837782e-04,\n",
       "        -4.14335188e-04,  3.08529229e-03, -1.27792401e-04,\n",
       "        -9.81006390e-04,  1.51152860e-03,  2.68592145e-03,\n",
       "        -1.93156691e-04,  3.40239494e-04, -2.34372951e-03,\n",
       "        -1.50815237e-03, -3.40223414e-04, -6.44873118e-04,\n",
       "         2.08270863e-04,  1.32563927e-03,  1.71848780e-04,\n",
       "        -1.85981497e-03,  5.92509108e-04,  1.38209548e-03,\n",
       "        -2.46863958e-03,  2.71837473e-03, -2.81519479e-04,\n",
       "         2.44159578e-03,  2.65112269e-03, -1.05680853e-03,\n",
       "         1.77436786e-03, -1.15222029e-04,  1.15082008e-03,\n",
       "        -1.45031318e-03,  1.37178138e-04,  1.79809461e-03,\n",
       "        -7.82488385e-04,  1.79184541e-03,  1.08837645e-03,\n",
       "         1.48669529e-03,  2.61832587e-03,  1.13266822e-03,\n",
       "        -6.75505053e-04, -2.27169915e-04],\n",
       "       [-9.82265746e-04, -4.34127275e-04, -3.97439763e-03,\n",
       "        -2.43295599e-03, -6.81474005e-04,  7.28907629e-04,\n",
       "        -1.48248353e-03,  7.99004475e-04, -1.76980728e-03,\n",
       "         1.11201554e-03,  5.16729876e-03, -3.71365593e-04,\n",
       "         7.12895729e-04, -5.30848395e-03,  2.19876707e-04,\n",
       "         1.68789735e-03, -2.60070184e-03, -4.62133555e-03,\n",
       "         3.32341023e-04, -5.85408358e-04,  4.03256784e-03,\n",
       "         2.59489277e-03,  5.85380692e-04,  1.10955406e-03,\n",
       "        -3.58346125e-04, -2.28086487e-03, -2.95679114e-04,\n",
       "         3.19995546e-03, -1.01945774e-03, -2.37800214e-03,\n",
       "         4.24748529e-03, -4.67717392e-03,  4.84376032e-04,\n",
       "        -4.20095434e-03, -4.56146158e-03,  1.81832080e-03,\n",
       "        -3.05293711e-03,  1.98248410e-04, -1.98007493e-03,\n",
       "         2.49537597e-03, -2.36025594e-04, -3.09376081e-03,\n",
       "         1.34633177e-03, -3.08300858e-03, -1.87263583e-03,\n",
       "        -2.55797421e-03, -4.50503212e-03, -1.94884325e-03,\n",
       "         1.16225868e-03,  3.90863405e-04],\n",
       "       [ 1.04773616e-03,  4.63062917e-04,  4.23930094e-03,\n",
       "         2.59511844e-03,  7.26895911e-04, -7.77491102e-04,\n",
       "         1.58129468e-03, -8.52260073e-04,  1.88776926e-03,\n",
       "        -1.18613409e-03, -5.51171184e-03,  3.96118016e-04,\n",
       "        -7.60411969e-04,  5.66230736e-03, -2.34532026e-04,\n",
       "        -1.80039983e-03,  2.77404496e-03,  4.92935884e-03,\n",
       "        -3.54492363e-04,  6.24427254e-04, -4.30134833e-03,\n",
       "        -2.76784871e-03, -6.24397744e-04, -1.18350855e-03,\n",
       "         3.82230769e-04,  2.43289009e-03,  3.15386848e-04,\n",
       "        -3.41324030e-03,  1.08740708e-03,  2.53650179e-03,\n",
       "        -4.53059055e-03,  4.98891897e-03, -5.16660877e-04,\n",
       "         4.48095819e-03,  4.86549412e-03, -1.93951631e-03,\n",
       "         3.25642282e-03, -2.11462150e-04,  2.11205176e-03,\n",
       "        -2.66169887e-03,  2.51757276e-04,  3.29996752e-03,\n",
       "        -1.43606807e-03,  3.28849863e-03,  1.99745158e-03,\n",
       "         2.72846943e-03,  4.80530350e-03,  2.07873841e-03,\n",
       "        -1.23972605e-03, -4.16915405e-04],\n",
       "       [-3.79810200e-04, -1.67862890e-04, -1.53677023e-03,\n",
       "        -9.40744908e-04, -2.63503822e-04,  2.81844861e-04,\n",
       "        -5.73228140e-04,  3.08949030e-04, -6.84326885e-04,\n",
       "         4.29980224e-04,  1.99802628e-03, -1.43594990e-04,\n",
       "         2.75653580e-04, -2.05261800e-03,  8.50191674e-05,\n",
       "         6.52654978e-04, -1.00560677e-03, -1.78692007e-03,\n",
       "         1.28505459e-04, -2.26358362e-04,  1.55926276e-03,\n",
       "         1.00336059e-03,  2.26347664e-04,  4.29028450e-04,\n",
       "        -1.38560785e-04, -8.81936225e-04, -1.14329491e-04,\n",
       "         1.23731865e-03, -3.94191132e-04, -9.19496045e-04,\n",
       "         1.64236434e-03, -1.80851095e-03,  1.87292449e-04,\n",
       "        -1.62437234e-03, -1.76376876e-03,  7.03085481e-04,\n",
       "        -1.18047143e-03,  7.66562087e-05, -7.65630542e-04,\n",
       "         9.64880687e-04, -9.12634165e-05, -1.19625663e-03,\n",
       "         5.20582685e-04, -1.19209909e-03, -7.24087339e-04,\n",
       "        -9.89085387e-04, -1.74194932e-03, -7.53554267e-04,\n",
       "         4.49407609e-04,  1.51134160e-04],\n",
       "       [-2.63739159e-04, -1.16563530e-04, -1.06712903e-03,\n",
       "        -6.53250680e-04, -1.82976330e-04,  1.95712297e-04,\n",
       "        -3.98048046e-04,  2.14533358e-04, -4.75194709e-04,\n",
       "         2.98577086e-04,  1.38742396e-03, -9.97119667e-05,\n",
       "         1.91413089e-04, -1.42533230e-03,  5.90370763e-05,\n",
       "         4.53201824e-04, -6.98290579e-04, -1.24083239e-03,\n",
       "         8.92338376e-05, -1.57182625e-04,  1.08274778e-03,\n",
       "         6.96730839e-04,  1.57175196e-04,  2.97916177e-04,\n",
       "        -9.62162288e-05, -6.12414092e-04, -7.93900848e-05,\n",
       "         8.59190669e-04, -2.73725239e-04, -6.38495528e-04,\n",
       "         1.14045329e-03, -1.25582504e-03,  1.30055362e-04,\n",
       "        -1.12795969e-03, -1.22475618e-03,  4.88220627e-04,\n",
       "        -8.19716121e-04,  5.32298608e-05, -5.31651746e-04,\n",
       "         6.70010498e-04, -6.33730657e-05, -8.30677318e-04,\n",
       "         3.61491186e-04, -8.27790336e-04, -5.02804259e-04,\n",
       "        -6.86818176e-04, -1.20960482e-03, -5.23266013e-04,\n",
       "         3.12067409e-04,  1.04947145e-04],\n",
       "       [-6.22071388e-05, -2.74933904e-05, -2.51699610e-04,\n",
       "        -1.54079720e-04, -4.31579216e-05,  4.61619050e-05,\n",
       "        -9.38860582e-05,  5.06011561e-05, -1.12082344e-04,\n",
       "         7.04242263e-05,  3.27246341e-04, -2.35186772e-05,\n",
       "         4.51478673e-05, -3.36187635e-04,  1.39248476e-05,\n",
       "         1.06894967e-04, -1.64703107e-04, -2.92670352e-04,\n",
       "         2.10472413e-05, -3.70740598e-05,  2.55383544e-04,\n",
       "         1.64335217e-04,  3.70723077e-05,  7.02683403e-05,\n",
       "        -2.26941510e-05, -1.44447751e-04, -1.87254332e-05,\n",
       "         2.02653991e-04, -6.45625169e-05, -1.50599479e-04,\n",
       "         2.68994321e-04, -2.96206610e-04,  3.06756569e-05,\n",
       "        -2.66047503e-04, -2.88878519e-04,  1.15154717e-04,\n",
       "        -1.93343281e-04,  1.25551221e-05, -1.25398648e-04,\n",
       "         1.58032793e-04, -1.49475607e-05, -1.95928657e-04,\n",
       "         8.52635326e-05, -1.95247715e-04, -1.18594502e-04,\n",
       "        -1.61997155e-04, -2.85304826e-04, -1.23420737e-04,\n",
       "         7.36061367e-05,  2.47534786e-05]])"
      ]
     },
     "execution_count": 216,
     "metadata": {},
     "output_type": "execute_result"
    }
   ],
   "source": [
    "l1.delta_weight"
   ]
  },
  {
   "cell_type": "code",
   "execution_count": 217,
   "metadata": {},
   "outputs": [
    {
     "data": {
      "text/plain": [
       "array([[ 1.81545014e-03, -5.00561458e-03,  6.79693171e-03, ...,\n",
       "        -5.55600742e-03, -4.51932771e-04,  1.76388167e-03],\n",
       "       [-6.45120604e-03,  1.77874624e-02, -2.41529118e-02, ...,\n",
       "         1.97432846e-02,  1.60594409e-03, -6.26795740e-03],\n",
       "       [ 3.19865500e-03, -8.81942930e-03,  1.19755642e-02, ...,\n",
       "        -9.78917051e-03, -7.96263687e-04,  3.10779615e-03],\n",
       "       ...,\n",
       "       [ 1.17568665e-04, -3.24163916e-04,  4.40169727e-04, ...,\n",
       "        -3.59807391e-04, -2.92671948e-05,  1.14229089e-04],\n",
       "       [-5.76694087e-03,  1.59007856e-02, -2.15910658e-02, ...,\n",
       "         1.76491580e-02,  1.43560515e-03, -5.60312901e-03],\n",
       "       [ 7.58638396e-03, -2.09174096e-02,  2.84029469e-02, ...,\n",
       "        -2.32173855e-02, -1.88853192e-03,  7.37089022e-03]])"
      ]
     },
     "execution_count": 217,
     "metadata": {},
     "output_type": "execute_result"
    }
   ],
   "source": [
    "l2.delta_weight"
   ]
  },
  {
   "cell_type": "code",
   "execution_count": 159,
   "metadata": {},
   "outputs": [
    {
     "name": "stdout",
     "output_type": "stream",
     "text": [
      "n: 10\n"
     ]
    }
   ],
   "source": [
    "l1.stats()"
   ]
  },
  {
   "cell_type": "code",
   "execution_count": 160,
   "metadata": {},
   "outputs": [
    {
     "name": "stdout",
     "output_type": "stream",
     "text": [
      "n: 50\n"
     ]
    }
   ],
   "source": [
    "# l2.output_edges\n",
    "l2.stats()"
   ]
  },
  {
   "cell_type": "code",
   "execution_count": 37,
   "metadata": {
    "scrolled": true
   },
   "outputs": [
    {
     "name": "stdout",
     "output_type": "stream",
     "text": [
      "Num nodes: 50\n",
      "Input Edges: 2500\n",
      "Output Edges: 50\n"
     ]
    }
   ],
   "source": [
    "l3.stats()"
   ]
  },
  {
   "cell_type": "code",
   "execution_count": 38,
   "metadata": {},
   "outputs": [
    {
     "name": "stdout",
     "output_type": "stream",
     "text": [
      "Num nodes: 1\n",
      "Input Edges: 50\n",
      "Output Edges: 0\n"
     ]
    }
   ],
   "source": [
    "l4.stats()"
   ]
  },
  {
   "cell_type": "code",
   "execution_count": null,
   "metadata": {},
   "outputs": [],
   "source": []
  }
 ],
 "metadata": {
  "kernelspec": {
   "display_name": "Python 3",
   "language": "python",
   "name": "python3"
  },
  "language_info": {
   "codemirror_mode": {
    "name": "ipython",
    "version": 3
   },
   "file_extension": ".py",
   "mimetype": "text/x-python",
   "name": "python",
   "nbconvert_exporter": "python",
   "pygments_lexer": "ipython3",
   "version": "3.7.3"
  }
 },
 "nbformat": 4,
 "nbformat_minor": 2
}
