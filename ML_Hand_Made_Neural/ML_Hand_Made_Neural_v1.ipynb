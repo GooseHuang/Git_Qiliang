{
 "cells": [
  {
   "cell_type": "markdown",
   "metadata": {},
   "source": [
    "## Hand Made Neural Network"
   ]
  },
  {
   "cell_type": "markdown",
   "metadata": {},
   "source": [
    "https://144.34.140.210:8579/notebooks/Git_Qiliang/ML_ANN_Gradiant_Decent/Backpropagation.ipynb"
   ]
  },
  {
   "cell_type": "code",
   "execution_count": 30,
   "metadata": {},
   "outputs": [
    {
     "name": "stdout",
     "output_type": "stream",
     "text": [
      "[23, 97, 26, 27, 67, 82, 19, 40, 58, 54]\n"
     ]
    }
   ],
   "source": [
    "import random\n",
    "import uuid\n",
    "\n",
    "\n",
    "def relu(x):\n",
    "    if x>0:\n",
    "        return x\n",
    "    else:\n",
    "        return 0\n",
    "    \n",
    "class Edge:\n",
    "    def __init__(self, node1,node2):\n",
    "        self.start = node1\n",
    "        self.end = node2\n",
    "        self.weight = random.random()\n",
    "\n",
    "class Neural:\n",
    "    def __init__(self):\n",
    "        self.id = None\n",
    "        self.val = None\n",
    "        self.layer = None\n",
    " \n",
    "    def cal(self,input_node,weight):\n",
    "        self.val = relu(input_node.val * weight)\n",
    "        \n",
    "        \n",
    "class Layer:\n",
    "    def __init__(self,n):\n",
    "        self.layer = []\n",
    "        self.input_edges = []\n",
    "        self.output_edges = []\n",
    "        self.packup(n)\n",
    "        self.next_layer = None\n",
    "        \n",
    "    def packup(self,n):\n",
    "        for i in range(n):\n",
    "            cur = Neural()\n",
    "            cur.layer = self\n",
    "            self.layer.append(cur)\n",
    "            \n",
    "    def full_connect(self,other):\n",
    "        self.next_layer = other\n",
    "        for node1 in self.layer:\n",
    "            for node2 in other.layer:\n",
    "                edge = Edge(node1,node2)\n",
    "                self.output_edges.append(edge)\n",
    "                other.input_edges.append(edge)\n",
    "                \n",
    "    def stats(self):\n",
    "        print(\"Num nodes:\",len(self.layer))\n",
    "        print(\"Input Edges:\",len(self.input_edges))\n",
    "        print(\"Output Edges:\",len(self.output_edges))\n",
    "            \n",
    "    def pull_in(self,input_list):\n",
    "        for val,node in zip(input_list,self.layer):\n",
    "            node.val = val\n",
    "            \n",
    "    def forwarding(self):\n",
    "        for edge in self.output_edges:\n",
    "            start = edge.start\n",
    "            end = edge.end\n",
    "            weight = edge.weight\n",
    "            end.cal(start,weight)\n",
    "            \n",
    "    def batch_forwarding(self):\n",
    "        cur = self\n",
    "        while(cur.next_layer):\n",
    "            cur.forwarding()\n",
    "            cur = cur.next_layer\n",
    "            \n",
    "            \n",
    "            \n",
    "    def multifply_layer(self, other):\n",
    "        pass\n",
    "            \n",
    "            \n",
    "    def backwarding(self):\n",
    "        pass\n",
    "        \n",
    "        \n",
    "    def batch_backwarding(self):\n",
    "        pass\n",
    "        \n",
    "            \n",
    "        \n",
    "# Networks\n",
    "l1 = Layer(10)\n",
    "l2 = Layer(50)\n",
    "l3 = Layer(50)\n",
    "l4 = Layer(1)\n",
    "\n",
    "l1.full_connect(l2)\n",
    "l2.full_connect(l3)\n",
    "l3.full_connect(l4)\n",
    "\n",
    "\n",
    "# input_list = random.choices(range(100), k=10)\n",
    "print(input_list)\n",
    "l1.pull_in(input_list)\n",
    "l1.batch_forwarding()"
   ]
  },
  {
   "cell_type": "code",
   "execution_count": 34,
   "metadata": {},
   "outputs": [
    {
     "name": "stdout",
     "output_type": "stream",
     "text": [
      "l1: [23, 97, 26, 27, 67, 82, 19, 40, 58, 54]\n",
      "l2: [49.3, 51.5, 3.99, 45.69, 2.18, 38.64, 37.74, 22.5, 44.36, 53.42, 7.33, 1.84, 2.03, 42.05, 12.03, 10.55, 6.08, 31.47, 1.27, 50.19, 16.76, 33.97, 47.51, 49.59, 47.4, 35.31, 35.08, 8.32, 22.5, 19.02, 41.76, 43.08, 5.83, 14.79, 7.88, 18.02, 3.26, 26.55, 40.8, 9.94, 16.95, 26.8, 47.53, 39.61, 51.39, 2.33, 5.9, 43.88, 7.62, 3.09]\n",
      "l3: [2.06, 2.1, 1.26, 1.48, 1.93, 0.31, 1.67, 1.18, 2.59, 2.68, 1.57, 2.73, 2.54, 1.95, 1.41, 0.72, 0.61, 2.78, 0.54, 2.37, 3.07, 0.43, 2.64, 1.43, 0.59, 0.39, 0.82, 1.96, 0.38, 1.37, 2.54, 0.55, 2.19, 0.2, 2.29, 1.42, 0.88, 0.4, 1.65, 0.37, 0.82, 1.24, 3.08, 2.54, 0.58, 2.64, 0.33, 0.3, 1.53, 1.16]\n",
      "l4: [0.71]\n"
     ]
    }
   ],
   "source": [
    "print('l1:',[x.val for x in l1.layer])\n",
    "print('l2:',[round(x.val,2) for x in l2.layer])\n",
    "print('l3:',[round(x.val,2) for x in l3.layer])\n",
    "print('l4:',[round(x.val,2) for x in l4.layer])"
   ]
  },
  {
   "cell_type": "code",
   "execution_count": 42,
   "metadata": {},
   "outputs": [
    {
     "name": "stdout",
     "output_type": "stream",
     "text": [
      "Num nodes: 10\n",
      "Input Edges: 0\n",
      "Output Edges: 500\n"
     ]
    }
   ],
   "source": [
    "l1.stats()"
   ]
  },
  {
   "cell_type": "code",
   "execution_count": 41,
   "metadata": {},
   "outputs": [
    {
     "name": "stdout",
     "output_type": "stream",
     "text": [
      "Num nodes: 50\n",
      "Input Edges: 500\n",
      "Output Edges: 2500\n"
     ]
    }
   ],
   "source": [
    "# l2.output_edges\n",
    "l2.stats()"
   ]
  },
  {
   "cell_type": "code",
   "execution_count": 37,
   "metadata": {
    "scrolled": true
   },
   "outputs": [
    {
     "name": "stdout",
     "output_type": "stream",
     "text": [
      "Num nodes: 50\n",
      "Input Edges: 2500\n",
      "Output Edges: 50\n"
     ]
    }
   ],
   "source": [
    "l3.stats()"
   ]
  },
  {
   "cell_type": "code",
   "execution_count": 38,
   "metadata": {},
   "outputs": [
    {
     "name": "stdout",
     "output_type": "stream",
     "text": [
      "Num nodes: 1\n",
      "Input Edges: 50\n",
      "Output Edges: 0\n"
     ]
    }
   ],
   "source": [
    "l4.stats()"
   ]
  },
  {
   "cell_type": "code",
   "execution_count": null,
   "metadata": {},
   "outputs": [],
   "source": []
  }
 ],
 "metadata": {
  "kernelspec": {
   "display_name": "Python 3",
   "language": "python",
   "name": "python3"
  },
  "language_info": {
   "codemirror_mode": {
    "name": "ipython",
    "version": 3
   },
   "file_extension": ".py",
   "mimetype": "text/x-python",
   "name": "python",
   "nbconvert_exporter": "python",
   "pygments_lexer": "ipython3",
   "version": "3.7.3"
  }
 },
 "nbformat": 4,
 "nbformat_minor": 2
}
