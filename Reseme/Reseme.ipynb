{
 "cells": [
  {
   "cell_type": "code",
   "execution_count": null,
   "metadata": {},
   "outputs": [],
   "source": [
    "\"\"\"\n",
    "项目细节\n",
    "\n",
    "来龙去脉   做出了什么  前后结果\n",
    "\n",
    "\n",
    "你的特点\n",
    "\n",
    "\n",
    "\n",
    "Redeveloping docCompare Code\n",
    "\n",
    "\n",
    "Use different ways\n",
    "\n",
    "Dig into it.\n",
    "\n",
    "\n",
    "Useful thing.\n",
    "\n",
    "\n",
    "\"\"\""
   ]
  },
  {
   "cell_type": "code",
   "execution_count": null,
   "metadata": {},
   "outputs": [],
   "source": [
    "\"\"\"\n",
    "EverTool and Python Tips1\n",
    "\n",
    "简单工作不断用新方法做好就能省下时间，也不用太急\n",
    "\n",
    "\"\"\""
   ]
  },
  {
   "cell_type": "code",
   "execution_count": null,
   "metadata": {},
   "outputs": [],
   "source": [
    "\"\"\"\n",
    "Spam Email Detecting  - Naive Bayes\n",
    "\n",
    "系统维护\n",
    "\n",
    "Help co-work and manage\n",
    "\n",
    "\n",
    "System checking.\n",
    "\n",
    "\n",
    "Unit test\n",
    "\n",
    "\n",
    "多人协作\n",
    "\n",
    "\n",
    "Multi-Tasking\n",
    "\n",
    "\n",
    "Co-working\n",
    "\n",
    "\n",
    "Good documentation methods. 粗糙、但很有用\n",
    "\n",
    "High Multi-Tasking Requirements 给予方向\n",
    "\n",
    "\n",
    "\n",
    "\"\"\""
   ]
  }
 ],
 "metadata": {
  "kernelspec": {
   "display_name": "Python 3",
   "language": "python",
   "name": "python3"
  },
  "language_info": {
   "codemirror_mode": {
    "name": "ipython",
    "version": 3
   },
   "file_extension": ".py",
   "mimetype": "text/x-python",
   "name": "python",
   "nbconvert_exporter": "python",
   "pygments_lexer": "ipython3",
   "version": "3.7.3"
  }
 },
 "nbformat": 4,
 "nbformat_minor": 2
}
