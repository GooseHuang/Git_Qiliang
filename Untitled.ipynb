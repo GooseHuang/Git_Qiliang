{
 "cells": [
  {
   "cell_type": "code",
   "execution_count": 1,
   "metadata": {},
   "outputs": [
    {
     "name": "stdout",
     "output_type": "stream",
     "text": [
      "\n",
      "I am child process:I am parent process:\n",
      "Process ID: 12384\n",
      "Child's process ID: 5183\n",
      "\n",
      "Process ID: 5183\n",
      "Parent's process ID: 12384\n"
     ]
    }
   ],
   "source": [
    "# Python program to explain os.fork() method \n",
    "  \n",
    "# importing os module \n",
    "import os\n",
    "  \n",
    "  \n",
    "# Create a child process\n",
    "# using os.fork() method \n",
    "pid = os.fork()\n",
    "  \n",
    "# pid greater than 0 represents\n",
    "# the parent process \n",
    "if pid > 0 :\n",
    "    print(\"I am parent process:\")\n",
    "    print(\"Process ID:\", os.getpid())\n",
    "    print(\"Child's process ID:\", pid)\n",
    "  \n",
    "# pid equal to 0 represents\n",
    "# the created child process\n",
    "else :\n",
    "    print(\"\\nI am child process:\")\n",
    "    print(\"Process ID:\", os.getpid())\n",
    "    print(\"Parent's process ID:\", os.getppid())\n",
    "  \n",
    "  \n",
    "# If any error occurred while\n",
    "# using os.fork() method\n",
    "# OSError will be raised"
   ]
  },
  {
   "cell_type": "code",
   "execution_count": null,
   "metadata": {},
   "outputs": [],
   "source": []
  }
 ],
 "metadata": {
  "kernelspec": {
   "display_name": "Python 3",
   "language": "python",
   "name": "python3"
  },
  "language_info": {
   "codemirror_mode": {
    "name": "ipython",
    "version": 3
   },
   "file_extension": ".py",
   "mimetype": "text/x-python",
   "name": "python",
   "nbconvert_exporter": "python",
   "pygments_lexer": "ipython3",
   "version": "3.7.3"
  }
 },
 "nbformat": 4,
 "nbformat_minor": 2
}
