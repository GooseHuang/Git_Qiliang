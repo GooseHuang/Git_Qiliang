{
 "cells": [
  {
   "cell_type": "markdown",
   "metadata": {},
   "source": [
    "```java\n",
    "public static void selectionSort(int[] arr) {\n",
    "    int minIndex;\n",
    "    for (int i = 0; i < arr.length - 1; i++) {\n",
    "        minIndex = i;\n",
    "        for (int j = i + 1; j < arr.length; j++) {\n",
    "            if (arr[minIndex] > arr[j]) {\n",
    "                // 记录最小值的下标\n",
    "                minIndex = j;\n",
    "            }\n",
    "        }\n",
    "        // 将最小元素交换至首位\n",
    "        int temp = arr[i];\n",
    "        arr[i] = arr[minIndex];\n",
    "        arr[minIndex] = temp;\n",
    "    }\n",
    "}\n",
    "\n",
    "```"
   ]
  },
  {
   "cell_type": "code",
   "execution_count": 2,
   "metadata": {},
   "outputs": [
    {
     "data": {
      "text/plain": [
       "[0, 0, 1, 3, 12]"
      ]
     },
     "execution_count": 2,
     "metadata": {},
     "output_type": "execute_result"
    }
   ],
   "source": [
    "class Solution(object):\n",
    "    def selectionSort(self, arr):\n",
    "        \"\"\"\n",
    "        :type nums: List[int]\n",
    "        :rtype: str\n",
    "        \"\"\"\n",
    "        for i in range(len(arr)):\n",
    "            minIndex = i\n",
    "            for j in range(i+1,len(arr)):\n",
    "                if arr[minIndex] > arr[j]:\n",
    "                    minIndex = j\n",
    "            \n",
    "            temp = arr[i]\n",
    "            arr[i] = arr[minIndex]\n",
    "            arr[minIndex] = temp\n",
    "        return arr\n",
    "\n",
    "\n",
    "\n",
    "arr = [0,1,0,3,12]\n",
    "s = Solution()\n",
    "s.selectionSort(arr)"
   ]
  },
  {
   "cell_type": "code",
   "execution_count": null,
   "metadata": {},
   "outputs": [],
   "source": []
  }
 ],
 "metadata": {
  "kernelspec": {
   "display_name": "Python 3",
   "language": "python",
   "name": "python3"
  },
  "language_info": {
   "codemirror_mode": {
    "name": "ipython",
    "version": 3
   },
   "file_extension": ".py",
   "mimetype": "text/x-python",
   "name": "python",
   "nbconvert_exporter": "python",
   "pygments_lexer": "ipython3",
   "version": "3.7.3"
  }
 },
 "nbformat": 4,
 "nbformat_minor": 2
}
