{
 "cells": [
  {
   "cell_type": "code",
   "execution_count": 13,
   "metadata": {},
   "outputs": [
    {
     "name": "stdout",
     "output_type": "stream",
     "text": [
      "4\n"
     ]
    }
   ],
   "source": [
    "# Definition for a binary tree node.\n",
    "class TreeNode(object):\n",
    "    def __init__(self, x):\n",
    "        self.val = x\n",
    "        self.left = None\n",
    "        self.right = None\n",
    "\n",
    "# Down to top\n",
    "class Solution(object):\n",
    "    def maxDepth(self, root):\n",
    "        if root == None:\n",
    "            return 0\n",
    "        else:\n",
    "            return 1 + max(self.maxDepth(root.left), self.maxDepth(root.right))\n",
    "\n",
    "        \n",
    "\n",
    "# Top down\n",
    "class Solution:\n",
    "    def maxDepth(self, root):\n",
    "        return self.top_down(root, 0)\n",
    "\n",
    "    def top_down(self, node, h):\n",
    "        if node is None:\n",
    "            return h\n",
    "        else:\n",
    "            return max(self.top_down(node.left, h + 1), self.top_down(node.right, h + 1))\n",
    "    \n",
    "\"\"\"\n",
    "1. return if root is null\n",
    "2. if root is a leaf node:\n",
    "3. \t\tanswer = max(answer, depth)         // update the answer if needed\n",
    "4. maximum_depth(root.left, depth + 1)      // call the function recursively for left child\n",
    "5. maximum_depth(root.right, depth + 1)\t\t// call the function recursively for right child\n",
    "\n",
    "\n",
    "\"\"\"        \n",
    "        \n",
    "A = TreeNode('A')\n",
    "B = TreeNode('B')\n",
    "C = TreeNode('C')\n",
    "D = TreeNode('D')\n",
    "E = TreeNode('E')\n",
    "F = TreeNode('F')\n",
    "G = TreeNode('G')\n",
    "H = TreeNode('H')\n",
    "I = TreeNode('I')\n",
    "\n",
    "root = F\n",
    "F.left = B\n",
    "B.left = A\n",
    "B.right = D\n",
    "D.left = C\n",
    "D.right = E\n",
    "\n",
    "F.right = G\n",
    "G.right = I\n",
    "I.left = H\n",
    "\n",
    "s = Solution()\n",
    "print(s.maxDepth(root))\n"
   ]
  },
  {
   "cell_type": "code",
   "execution_count": 10,
   "metadata": {},
   "outputs": [
    {
     "name": "stdout",
     "output_type": "stream",
     "text": [
      "4\n"
     ]
    }
   ],
   "source": []
  },
  {
   "cell_type": "code",
   "execution_count": null,
   "metadata": {},
   "outputs": [],
   "source": []
  }
 ],
 "metadata": {
  "kernelspec": {
   "display_name": "Python 3",
   "language": "python",
   "name": "python3"
  },
  "language_info": {
   "codemirror_mode": {
    "name": "ipython",
    "version": 3
   },
   "file_extension": ".py",
   "mimetype": "text/x-python",
   "name": "python",
   "nbconvert_exporter": "python",
   "pygments_lexer": "ipython3",
   "version": "3.7.3"
  }
 },
 "nbformat": 4,
 "nbformat_minor": 2
}
