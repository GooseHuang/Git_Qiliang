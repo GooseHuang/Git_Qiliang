{
 "cells": [
  {
   "cell_type": "code",
   "execution_count": 1,
   "metadata": {},
   "outputs": [],
   "source": [
    "# Definition for a binary tree node.\n",
    "class TreeNode(object):\n",
    "    def __init__(self, val=0, left=None, right=None):\n",
    "        self.val = val\n",
    "        self.left = left\n",
    "        self.right = right\n",
    "class Solution(object):\n",
    "    def inorderTraversal(self, root):\n",
    "        \"\"\"\n",
    "        :type root: TreeNode\n",
    "        :rtype: List[int]\n",
    "        \"\"\"\n",
    "        ans = []\n",
    "        if root == None:\n",
    "            return ans\n",
    "        self.inTraverase(root, ans)\n",
    "        return ans\n",
    "\n",
    "\n",
    "    def inTraverase(self, t, ans):\n",
    "        if t.left:\n",
    "            self.inTraverase(t.left, ans)\n",
    "        ans.append(t.val)\n",
    "        if t.right:\n",
    "            self.inTraverase(t.right, ans)\n",
    "        \n",
    "\n"
   ]
  },
  {
   "cell_type": "code",
   "execution_count": 3,
   "metadata": {},
   "outputs": [],
   "source": [
    "# Definition for a binary tree node.\n",
    "class TreeNode(object):\n",
    "    def __init__(self, val=0, left=None, right=None):\n",
    "        self.val = val\n",
    "        self.left = left\n",
    "        self.right = right\n",
    "class Solution(object):\n",
    "    def inorderTraversal(self, root):\n",
    "        \"\"\"\n",
    "        :type root: TreeNode\n",
    "        :rtype: List[int]\n",
    "        \"\"\"\n",
    "        ans = []\n",
    "        stack = []\n",
    "        if root == None:\n",
    "            return ans\n",
    "        p = root\n",
    "        while(p or len(stack)):\n",
    "            if p:\n",
    "                stack.append(p)\n",
    "                p = p.left\n",
    "                \n",
    "            else:\n",
    "                p = stack[-1]\n",
    "                stack.pop(-1)\n",
    "                ans.append(p.val)\n",
    "                p = p.right\n",
    "        return ans\n",
    "        "
   ]
  },
  {
   "cell_type": "code",
   "execution_count": 4,
   "metadata": {},
   "outputs": [
    {
     "name": "stdout",
     "output_type": "stream",
     "text": [
      "[1, 3, 2]\n",
      "[]\n",
      "[1]\n",
      "[2, 1]\n",
      "[1, 2]\n"
     ]
    }
   ],
   "source": [
    "root = TreeNode(1)\n",
    "root.right = TreeNode(2)\n",
    "root.right.left = TreeNode(3)\n",
    "s = Solution()\n",
    "print(s.inorderTraversal(root))\n",
    "\n",
    "root = None\n",
    "s = Solution()\n",
    "print(s.inorderTraversal(root))\n",
    "\n",
    "root = TreeNode(1)\n",
    "s = Solution()\n",
    "print(s.inorderTraversal(root))\n",
    "\n",
    "root = TreeNode(1)\n",
    "root.left = TreeNode(2)\n",
    "s = Solution()\n",
    "print(s.inorderTraversal(root))\n",
    "\n",
    "root = TreeNode(1)\n",
    "root.right = TreeNode(2)\n",
    "s = Solution()\n",
    "print(s.inorderTraversal(root))"
   ]
  },
  {
   "cell_type": "code",
   "execution_count": null,
   "metadata": {},
   "outputs": [],
   "source": []
  }
 ],
 "metadata": {
  "kernelspec": {
   "display_name": "Python 3",
   "language": "python",
   "name": "python3"
  },
  "language_info": {
   "codemirror_mode": {
    "name": "ipython",
    "version": 3
   },
   "file_extension": ".py",
   "mimetype": "text/x-python",
   "name": "python",
   "nbconvert_exporter": "python",
   "pygments_lexer": "ipython3",
   "version": "3.7.3"
  }
 },
 "nbformat": 4,
 "nbformat_minor": 2
}
