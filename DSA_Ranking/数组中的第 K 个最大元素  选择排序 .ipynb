{
 "cells": [
  {
   "cell_type": "code",
   "execution_count": 7,
   "metadata": {},
   "outputs": [
    {
     "data": {
      "text/plain": [
       "4"
      ]
     },
     "execution_count": 7,
     "metadata": {},
     "output_type": "execute_result"
    }
   ],
   "source": [
    "class Solution(object):\n",
    "    def findKthLargest(self, arr, k):\n",
    "        \"\"\"\n",
    "        :type nums: List[int]\n",
    "        :rtype: str\n",
    "        \"\"\"\n",
    "        for i in range(len(arr)):\n",
    "            maxIndex = i\n",
    "            for j in range(i+1,len(arr)):\n",
    "                if arr[maxIndex] < arr[j]:\n",
    "                    maxIndex = j\n",
    "            \n",
    "            temp = arr[i]\n",
    "            arr[i] = arr[maxIndex]\n",
    "            arr[maxIndex] = temp\n",
    "            \n",
    "            if i == k-1:\n",
    "                return arr[i]\n",
    "#         return arr\n",
    "            \n",
    "\n",
    "arr = [3,2,3,1,2,4,5,5,6]\n",
    "k = 4\n",
    "s = Solution()\n",
    "s.findKthLargest(arr,k)"
   ]
  },
  {
   "cell_type": "code",
   "execution_count": null,
   "metadata": {},
   "outputs": [],
   "source": []
  }
 ],
 "metadata": {
  "kernelspec": {
   "display_name": "Python 3",
   "language": "python",
   "name": "python3"
  },
  "language_info": {
   "codemirror_mode": {
    "name": "ipython",
    "version": 3
   },
   "file_extension": ".py",
   "mimetype": "text/x-python",
   "name": "python",
   "nbconvert_exporter": "python",
   "pygments_lexer": "ipython3",
   "version": "3.7.3"
  }
 },
 "nbformat": 4,
 "nbformat_minor": 2
}
