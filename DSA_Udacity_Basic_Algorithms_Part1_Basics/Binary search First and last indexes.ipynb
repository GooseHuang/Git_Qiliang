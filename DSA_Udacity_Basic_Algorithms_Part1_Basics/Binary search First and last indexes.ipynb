{
 "cells": [
  {
   "cell_type": "markdown",
   "metadata": {},
   "source": [
    "## Problem statement\n",
    "\n",
    "Given a sorted array that may have duplicate values, use *binary search* to find the **first** and **last** indexes of a given value.\n",
    "\n",
    "For example, if you have the array `[0, 1, 2, 2, 3, 3, 3, 4, 5, 6]` and the given value is `3`, the answer will be `[4, 6]` (because the value `3` occurs first at index `4` and last at index `6` in the array).\n",
    "\n",
    "The expected complexity of the problem is $O(log(n))$."
   ]
  },
  {
   "cell_type": "code",
   "execution_count": 13,
   "metadata": {},
   "outputs": [],
   "source": [
    "def helper(array, start, end, target):\n",
    "    if start>end:\n",
    "        return -1 \n",
    "    middle = int((start+end)/2)\n",
    "    if array[middle]==target:\n",
    "        return middle\n",
    "    elif array[middle]>target:\n",
    "        return helper(array, start, middle,target)\n",
    "    else:\n",
    "        return helper(array, middle, end, target)\n",
    "    \n",
    "def recursive_binary_search(array, target):\n",
    "    '''Write a function that implements the binary search algorithm using iteration\n",
    "   \n",
    "    args:\n",
    "      array: a sorted array of items of the same type\n",
    "      target: the element you're searching for\n",
    "   \n",
    "    returns:\n",
    "      int: the index of the target, if found, in the source\n",
    "      -1: if the target is not found\n",
    "    '''\n",
    "    return helper(array, 0, len(array)-1, target)\n",
    "\n",
    "\n",
    "\n",
    "def first_and_last_index(source, target):\n",
    "    \"\"\"\n",
    "    Given a sorted array that may have duplicate values, use binary \n",
    "    search to find the first and last indexes of a given value.\n",
    "\n",
    "    Args:\n",
    "        arr(list): Sorted array (or Python list) that may have duplicate values\n",
    "        number(int): Value to search for in the array\n",
    "    Returns:\n",
    "        a list containing the first and last indexes of the given value\n",
    "    \"\"\"\n",
    "        \n",
    "    # TODO: Write your first_and_last function here\n",
    "    # Note that you may want to write helper functions to find the start \n",
    "    # index and the end index\n",
    "    index = recursive_binary_search(source, target)\n",
    "    first_index = index;\n",
    "    last_index = index;\n",
    "#     print(index)\n",
    "    while(first_index != None and (first_index-1)>=0):\n",
    "#         print('tata')\n",
    "#         print(index)\n",
    "#         print(array)\n",
    "        if source[first_index-1]==target:\n",
    "#             print('tata')\n",
    "            first_index = first_index -1;\n",
    "        else:\n",
    "            break;\n",
    "            \n",
    "    while(last_index != None and (last_index+1)<len(source)):\n",
    "#         print('tata')\n",
    "#         print(index)\n",
    "#         print(array)\n",
    "        if source[last_index+1]==target:\n",
    "#             print('tata')\n",
    "            last_index = last_index + 1;\n",
    "        else:\n",
    "            break; \n",
    "            \n",
    "    return [first_index, last_index]"
   ]
  },
  {
   "cell_type": "code",
   "execution_count": 14,
   "metadata": {},
   "outputs": [],
   "source": [
    "def test_function(test_case):\n",
    "    input_list = test_case[0]\n",
    "    number = test_case[1]\n",
    "    solution = test_case[2]\n",
    "    output = first_and_last_index(input_list, number)\n",
    "    if output == solution:\n",
    "        print(\"Pass\")\n",
    "    else:\n",
    "        print(\"Fail\")"
   ]
  },
  {
   "cell_type": "code",
   "execution_count": 15,
   "metadata": {},
   "outputs": [
    {
     "name": "stdout",
     "output_type": "stream",
     "text": [
      "Pass\n"
     ]
    }
   ],
   "source": [
    "input_list = [1]\n",
    "number = 1\n",
    "solution = [0, 0]\n",
    "test_case_1 = [input_list, number, solution]\n",
    "test_function(test_case_1)"
   ]
  },
  {
   "cell_type": "code",
   "execution_count": null,
   "metadata": {},
   "outputs": [],
   "source": []
  }
 ],
 "metadata": {
  "kernelspec": {
   "display_name": "Python 3",
   "language": "python",
   "name": "python3"
  },
  "language_info": {
   "codemirror_mode": {
    "name": "ipython",
    "version": 3
   },
   "file_extension": ".py",
   "mimetype": "text/x-python",
   "name": "python",
   "nbconvert_exporter": "python",
   "pygments_lexer": "ipython3",
   "version": "3.7.3"
  }
 },
 "nbformat": 4,
 "nbformat_minor": 2
}
