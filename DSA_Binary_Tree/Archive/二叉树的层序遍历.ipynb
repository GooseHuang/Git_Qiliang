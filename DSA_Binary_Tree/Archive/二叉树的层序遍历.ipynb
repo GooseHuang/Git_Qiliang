{
 "cells": [
  {
   "cell_type": "code",
   "execution_count": 1,
   "metadata": {},
   "outputs": [],
   "source": [
    "# Definition for a binary tree node.\n",
    "class TreeNode(object):\n",
    "    def __init__(self, val=0, left=None, right=None):\n",
    "        self.val = val\n",
    "        self.left = left\n",
    "        self.right = right"
   ]
  },
  {
   "cell_type": "code",
   "execution_count": 2,
   "metadata": {},
   "outputs": [],
   "source": [
    "class Solution(object):\n",
    "    def levelOrder(self, root):\n",
    "        \"\"\"\n",
    "        :type root: TreeNode\n",
    "        :rtype: List[List[int]]\n",
    "        \"\"\"\n",
    "        ans = []\n",
    "        queue = [root]\n",
    "        while queue and root:\n",
    "            ans.append(queue[0].val)\n",
    "            if queue[0].left!= None:\n",
    "                queue.append(queue[0].left)\n",
    "            if queue[0].right!= None:\n",
    "                queue.append(queue[0].right)                \n",
    "            queue.pop(0)\n",
    "        return ans"
   ]
  },
  {
   "cell_type": "code",
   "execution_count": 6,
   "metadata": {},
   "outputs": [],
   "source": [
    "class Solution:\n",
    "    \"\"\"\n",
    "    @param root: The root of binary tree.\n",
    "    @return: Level order in a list of lists of integers\n",
    "    \"\"\"\n",
    "    def levelOrder(self, root):\n",
    "        res = []\n",
    "        if root is None:\n",
    "            return res\n",
    "        q = []\n",
    "        q.append(root)\n",
    "        while len(q) != 0:\n",
    "            tmp = []\n",
    "            length = len(q)\n",
    "            for i in range(length):\n",
    "                r = q.pop(0)\n",
    "                if r.left is not None:\n",
    "                    q.append(r.left)\n",
    "                if r.right is not None:\n",
    "                    q.append(r.right)\n",
    "                tmp.append(r.val)\n",
    "            res.append(tmp)\n",
    "        return res"
   ]
  },
  {
   "cell_type": "code",
   "execution_count": 7,
   "metadata": {},
   "outputs": [
    {
     "name": "stdout",
     "output_type": "stream",
     "text": [
      "[['F'], ['B', 'G'], ['A', 'D', 'I'], ['C', 'E', 'H']]\n"
     ]
    }
   ],
   "source": [
    "A = TreeNode('A')\n",
    "B = TreeNode('B')\n",
    "C = TreeNode('C')\n",
    "D = TreeNode('D')\n",
    "E = TreeNode('E')\n",
    "F = TreeNode('F')\n",
    "G = TreeNode('G')\n",
    "H = TreeNode('H')\n",
    "I = TreeNode('I')\n",
    "\n",
    "root = F\n",
    "F.left = B\n",
    "B.left = A\n",
    "B.right = D\n",
    "D.left = C\n",
    "D.right = E\n",
    "\n",
    "F.right = G\n",
    "G.right = I\n",
    "I.left = H\n",
    "\n",
    "s = Solution()\n",
    "print(s.levelOrder(root))\n"
   ]
  },
  {
   "cell_type": "code",
   "execution_count": null,
   "metadata": {},
   "outputs": [],
   "source": [
    "\n",
    "struct TreeNode {\n",
    "  int val;\n",
    "  TreeNode *left;\n",
    "  TreeNode *right;\n",
    "  TreeNode() : val(0), left(nullptr), right(nullptr) {}\n",
    "  TreeNode(int x) : val(x), left(nullptr), right(nullptr) {}\n",
    "  TreeNode(int x, TreeNode *left, TreeNode *right) : val(x), left(left), right(right) {}\n",
    "};\n",
    "\n",
    "\n",
    "\n",
    "class Solution {\n",
    "public:\n",
    "    vector<vector<int>> levelOrder(TreeNode* root) {\n",
    "        vector <vector <int>> ret;\n",
    "        if (!root) {\n",
    "            return ret;\n",
    "        }\n",
    "\n",
    "        queue <TreeNode*> q;\n",
    "        q.push(root);\n",
    "        while (!q.empty()) {\n",
    "            int currentLevelSize = q.size();\n",
    "            ret.push_back(vector <int> ());\n",
    "            for (int i = 1; i <= currentLevelSize; ++i) {\n",
    "                auto node = q.front(); q.pop();\n",
    "                ret.back().push_back(node->val);\n",
    "                if (node->left) q.push(node->left);\n",
    "                if (node->right) q.push(node->right);\n",
    "            }\n",
    "        }\n",
    "        \n",
    "        return ret;\n",
    "    }\n",
    "};\n",
    "\n"
   ]
  }
 ],
 "metadata": {
  "kernelspec": {
   "display_name": "Python 3",
   "language": "python",
   "name": "python3"
  },
  "language_info": {
   "codemirror_mode": {
    "name": "ipython",
    "version": 3
   },
   "file_extension": ".py",
   "mimetype": "text/x-python",
   "name": "python",
   "nbconvert_exporter": "python",
   "pygments_lexer": "ipython3",
   "version": "3.7.3"
  }
 },
 "nbformat": 4,
 "nbformat_minor": 2
}
