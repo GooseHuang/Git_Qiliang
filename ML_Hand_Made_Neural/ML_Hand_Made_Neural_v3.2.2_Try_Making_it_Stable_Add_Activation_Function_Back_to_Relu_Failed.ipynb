{
 "cells": [
  {
   "cell_type": "code",
   "execution_count": 1,
   "metadata": {},
   "outputs": [],
   "source": [
    "\n",
    "from IPython.display import display, Markdown, Latex\n",
    "h1 = lambda x: display(Markdown('# '+str(x)))\n",
    "h3 = lambda x: display(Markdown('### '+str(x)))\n",
    "h4 = lambda x: display(Markdown('#### '+ (str(x).replace(' ','&nbsp;') if str(x) else 'None')))\n",
    "h5 = lambda x: display(Markdown('##### '+ (str(x).replace(' ','&nbsp;') if str(x) else 'None')))\n",
    "bl = lambda x: display(Markdown('##### <font color=\"blue\"> %s </font>'%(str(x).replace(' ','&nbsp;') if str(x) else 'None')))\n",
    "rd = lambda x: display(Markdown('##### <font color=\"red\"> %s </font>'%(str(x).replace(' ','&nbsp;') if str(x) else 'None')))\n",
    "rd1 = lambda x: display(Markdown('# <font color=\"red\"> %s </font>'%(str(x).replace(' ','&nbsp;') if str(x) else 'None')))\n",
    "gra = lambda x: display(Markdown('##### <font color=\"gray\"> %s </font>'%(str(x).replace(' ','&nbsp;') if str(x) else 'None')))\n",
    "itc = lambda x: display(Markdown('***'+str(x.strip()) + '***' ))\n",
    "pl = lambda: print('\\n'+'#'*100 + '\\n')\n",
    "pl2 = lambda: print('\\n'+'='*100 + '\\n')\n",
    "pls = lambda: print('\\n'+'#'*50 +' Start '+'#'*50 + '\\n')\n",
    "pn = lambda x=5: print('\\n'*x)\n"
   ]
  },
  {
   "cell_type": "markdown",
   "metadata": {},
   "source": [
    "## Hand Made Neural Network"
   ]
  },
  {
   "cell_type": "markdown",
   "metadata": {},
   "source": [
    "https://144.34.140.210:8579/notebooks/Git_Qiliang/ML_ANN_Gradiant_Decent/Backpropagation.ipynb"
   ]
  },
  {
   "cell_type": "code",
   "execution_count": 2,
   "metadata": {},
   "outputs": [],
   "source": [
    "import pdb\n",
    "bp = pdb.set_trace\n",
    "\n",
    "import random\n",
    "import uuid\n",
    "import numpy as np\n",
    "import pandas as pd\n",
    "from matplotlib import pyplot as plt\n",
    "import math\n"
   ]
  },
  {
   "cell_type": "code",
   "execution_count": 156,
   "metadata": {},
   "outputs": [],
   "source": [
    "def relu(x):\n",
    "    if x>0:\n",
    "        return x\n",
    "    else:\n",
    "        return 0\n",
    "\n",
    "activation_func = np.vectorize(relu)  \n",
    "# activation_func = np.vectorize(lambda x: x) \n",
    "         \n",
    "def derivative(x):\n",
    "    if x>0:\n",
    "        return 1\n",
    "    else:\n",
    "        return 0\n",
    "derivative_func = np.vectorize(derivative)   \n",
    "    \n",
    "    \n",
    "class Weight:\n",
    "    def __init__(self,m,n):\n",
    "        self.m = m\n",
    "        self.n = n\n",
    "        self.val = np.random.randn(m,n)\n",
    "        self.normalize()\n",
    "        \n",
    "    def normalize(self):\n",
    "        self.val = self.val/self.val.sum()\n",
    "\n",
    "class Layer:\n",
    "    def __init__(self,n,id=None,output_ind=False):\n",
    "        self.val = None\n",
    "        self.id = id\n",
    "        self.input_weight = None\n",
    "        self.output_weight = None\n",
    "        self.pre_layer = None\n",
    "        self.next_layer = None\n",
    "        self.n = n\n",
    "        self.delta_weight = None\n",
    "        self.output_ind = output_ind\n",
    "        \n",
    "        \n",
    "    def full_connect(self,other):\n",
    "        m = self.n\n",
    "        n = other.n\n",
    "        weight = Weight(m,n)\n",
    "        self.output_weight = weight\n",
    "        other.input_weight = weight\n",
    "        \n",
    "        self.next_layer = other\n",
    "        other.pre_layer = self\n",
    "    \n",
    "    def stats(self):\n",
    "        print(\"n:\",self.n)\n",
    "        if self.output_weight:\n",
    "            print('Weight:',self.output_weight.val.shape)\n",
    "        print()\n",
    "            \n",
    "    def pull_in(self,input_list):\n",
    "        self.val = np.array([input_list,])\n",
    "        self.val = self.val/self.val.sum()\n",
    "            \n",
    "    def forwarding(self):\n",
    "#         print(self.id,'forwarding')\n",
    "        val = self.val.dot(self.output_weight.val)\n",
    "        try:\n",
    "            if self.next_layer:\n",
    "                if not self.next_layer.output_ind:\n",
    "                    self.next_layer.val = activation_func(val)   \n",
    "                else:\n",
    "                    self.next_layer.val = val \n",
    "        except:\n",
    "#             bp()\n",
    "            raise\n",
    "        \n",
    "    def backwarding(self, error_term, learning_rate):\n",
    "#         print(self.id,'backwarding')\n",
    "        pre = self.pre_layer\n",
    "        K1 = pre.output_weight.val\n",
    "#         print(K1.shape)\n",
    "        while(pre.pre_layer):\n",
    "            pre = pre.pre_layer\n",
    "            K1 = pre.output_weight.val.dot(K1)\n",
    "            \n",
    "        K1 = pre.val.dot(K1)\n",
    "#         print('K1:',K1.shape)\n",
    "\n",
    "\n",
    "        next_layer = self.next_layer\n",
    "        if next_layer.output_weight:\n",
    "            K2 = next_layer.output_weight.val\n",
    "            while(next_layer.next_layer.output_weight):\n",
    "                next_layer = next_layer.next_layer\n",
    "                K2 = K2.dot(next_layer.output_weight.val) \n",
    "#             print(\"K2:\",K2.shape)\n",
    "        else:\n",
    "            K2 = np.array([[1]])\n",
    "            \n",
    "            \n",
    "#         return K1,K2\n",
    "#         bp()\n",
    "        K3 = derivative_func(self.val)\n",
    "\n",
    "        derivative = K1.T.dot(K2.T)\n",
    "#         bp()\n",
    "        \n",
    "        derivative = derivative*K3.T\n",
    "#         bp()\n",
    "#         print(\"Derivative:\",derivative.shape)\n",
    "#         return derivative\n",
    "    \n",
    "        delta_weight = learning_rate*(-1)*(error_term)*derivative\n",
    "#         bp()\n",
    "#         print('delta_weight:',delta_weight)\n",
    "        if type(self.delta_weight)!=type(None):\n",
    "            self.delta_weight += delta_weight\n",
    "        else:\n",
    "            self.delta_weight = delta_weight\n",
    "    \n",
    "    def update_weights(self):\n",
    "        if type(self.delta_weight)!=type(None):\n",
    "            self.output_weight.val += self.delta_weight\n",
    "            self.delta_weight = None\n",
    "    \n",
    "class Network:\n",
    "    def __init__(self,input_layer,output_layer):\n",
    "        self.input_layer = input_layer\n",
    "        self.output_layer = output_layer\n",
    "        self.learning_rate = 0.01\n",
    "        \n",
    "    def set_learning_rate(self,rate):\n",
    "        self.learning_rate = rate\n",
    "        \n",
    "              \n",
    "    def batch_forwarding(self):\n",
    "        cur = self.input_layer\n",
    "        while(cur.next_layer):\n",
    "            cur.forwarding()\n",
    "            cur = cur.next_layer\n",
    "             \n",
    "    def get_error_term(self,ground_truth_list):      \n",
    "        error = self.output_layer.val-ground_truth_list\n",
    "        return error\n",
    "    \n",
    "    def batch_backwarding(self, error_term):\n",
    "        cur = self.input_layer.next_layer\n",
    "        while(cur and cur.output_weight):\n",
    "            cur.backwarding(error_term, self.learning_rate)\n",
    "            cur = cur.next_layer\n",
    "            \n",
    "    def one_train(self,x,y):\n",
    "        input_layer.pull_in(x)\n",
    "        self.batch_forwarding()\n",
    "        error_term = self.get_error_term(y)\n",
    "        self.batch_backwarding(error_term)\n",
    "        \n",
    "        \n",
    "    def batch_update_weights(self):\n",
    "        cur = self.input_layer.next_layer\n",
    "        while(cur and cur.output_weight):\n",
    "            cur.update_weights() \n",
    "            cur = cur.next_layer\n",
    "\n",
    "    def batch_train(self,X,Y,batch_size=20):\n",
    "        i=0\n",
    "        for i,(x,y) in enumerate(zip(X,Y)):\n",
    "            self.one_train(x,y)\n",
    "            \n",
    "#             print('l1:\\n',l1.val)\n",
    "# #             print('l2:\\n',l2.val)\n",
    "# #             print('l3:\\n',l3.val)\n",
    "#             print('l4:\\n',l4.val)\n",
    "#             pl()\n",
    "            \n",
    "\n",
    "            if i%batch_size==0:\n",
    "                self.batch_update_weights()\n",
    "        self.batch_update_weights()\n",
    "        \n",
    "        \n",
    "    def predict(self,x):\n",
    "        input_layer.pull_in(x)\n",
    "        self.batch_forwarding()\n",
    "        return self.output_layer.val\n",
    "    \n",
    "    \n",
    "#     def save(self,model_dir='./model.json'):\n",
    "#         res = []\n",
    "#         cur = self.input_layer\n",
    "#         while(cur.output_weight):\n",
    "#             res.append(cur)\n",
    "         \n",
    "#     def load(self,model_dir='./model.json')\n",
    "#         pass\n",
    "\n",
    "\n",
    "\n",
    "# # Networks\n",
    "# input_layer = Layer(10,'in')\n",
    "# l1 = Layer(10,'l1')\n",
    "# l2 = Layer(50,'l2')\n",
    "# l3 = Layer(50,'l3')\n",
    "# l4 = Layer(10,'l4')\n",
    "# output_layer = Layer(1,'out')\n",
    "\n",
    "\n",
    "# input_layer.full_connect(l1)\n",
    "# l1.full_connect(l2)\n",
    "# l2.full_connect(l3)\n",
    "# l3.full_connect(l4)\n",
    "# l4.full_connect(output_layer)\n",
    "\n",
    "# x = random.choices(range(100), k=10)\n",
    "\n",
    "# print(x)\n",
    "# y = np.array([[1]])\n",
    "\n",
    "# nk = Network(input_layer,output_layer)\n",
    "# nk.one_train(x,y)\n",
    "\n"
   ]
  },
  {
   "cell_type": "code",
   "execution_count": 157,
   "metadata": {},
   "outputs": [
    {
     "data": {
      "text/plain": [
       "'\\n\\n控制在一个反应区间就行  Sigmoid\\n\\n均匀分布 \\n\\n0.025 不可控的范围\\n\\n中间的元素为什么会变得特别大呢？\\n\\n如何应对最后一层的传导？ 什么时候要？ 什么时候不要？\\n\\n信号整合和整流\\n\\n最后输出的，信号传递和放大器  只是一种方式   信息传递出去了就行\\n\\n统一的信号传到机制\\n\\n信号和激素\\n\\n复杂思维和之后的激素水平  产生感觉的\\n\\n\\n动作产生好反馈\\n\\n或是明确的改进方向\\n\\n\\n如何增加相应的权重同时不至于爆炸？ 多长点联动的神经元   改变神经元数目\\n\\n\\n正向和负向的控制系统， 如何加强? 如何转变？\\n\\n如何大量输入新得信号\\n\\n\\n重新连接    \\n\\n数字代表重新连接\\n\\n\\n如何改变结构和长出新神经元\\n\\n\\n计算机和生物学\\n\\n\\n细胞体的处理和反应\\n\\n\\n影响世界的思想与本质\\n\\n\\n反应和触发\\n\\n脉冲\\n\\n\\nSigmoid本身的特性可能造成参数爆炸，尝试 relu试试  感觉更简单  或者其他的\\n\\n'"
      ]
     },
     "execution_count": 157,
     "metadata": {},
     "output_type": "execute_result"
    }
   ],
   "source": [
    "\"\"\"\n",
    "\n",
    "控制在一个反应区间就行  Sigmoid\n",
    "\n",
    "均匀分布 \n",
    "\n",
    "0.025 不可控的范围\n",
    "\n",
    "中间的元素为什么会变得特别大呢？\n",
    "\n",
    "如何应对最后一层的传导？ 什么时候要？ 什么时候不要？\n",
    "\n",
    "信号整合和整流\n",
    "\n",
    "最后输出的，信号传递和放大器  只是一种方式   信息传递出去了就行\n",
    "\n",
    "统一的信号传到机制\n",
    "\n",
    "信号和激素\n",
    "\n",
    "复杂思维和之后的激素水平  产生感觉的\n",
    "\n",
    "\n",
    "动作产生好反馈\n",
    "\n",
    "或是明确的改进方向\n",
    "\n",
    "\n",
    "如何增加相应的权重同时不至于爆炸？ 多长点联动的神经元   改变神经元数目\n",
    "\n",
    "\n",
    "正向和负向的控制系统， 如何加强? 如何转变？\n",
    "\n",
    "如何大量输入新得信号\n",
    "\n",
    "\n",
    "重新连接    \n",
    "\n",
    "数字代表重新连接\n",
    "\n",
    "\n",
    "如何改变结构和长出新神经元\n",
    "\n",
    "\n",
    "计算机和生物学\n",
    "\n",
    "\n",
    "细胞体的处理和反应\n",
    "\n",
    "\n",
    "影响世界的思想与本质\n",
    "\n",
    "\n",
    "反应和触发\n",
    "\n",
    "脉冲\n",
    "\n",
    "\n",
    "Sigmoid本身的特性可能造成参数爆炸，尝试 relu试试  感觉更简单  或者其他的\n",
    "\n",
    "吸收和储备，有些模式要自动关闭的\n",
    "\n",
    "\n",
    "\"\"\""
   ]
  },
  {
   "cell_type": "code",
   "execution_count": 395,
   "metadata": {},
   "outputs": [],
   "source": [
    "# Networks\n",
    "input_layer = Layer(10,'in')\n",
    "l1 = Layer(10,'l1')\n",
    "l2 = Layer(50,'l2')\n",
    "l3 = Layer(50,'l3')\n",
    "l4 = Layer(10,'l4')\n",
    "output_layer = Layer(1,'out',output_ind=True)\n",
    "\n",
    "\n",
    "input_layer.full_connect(l1)\n",
    "l1.full_connect(l2)\n",
    "l2.full_connect(l3)\n",
    "l3.full_connect(l4)\n",
    "l4.full_connect(output_layer)\n",
    "\n",
    "\n",
    "nk = Network(input_layer,output_layer)"
   ]
  },
  {
   "cell_type": "code",
   "execution_count": null,
   "metadata": {},
   "outputs": [],
   "source": []
  },
  {
   "cell_type": "code",
   "execution_count": null,
   "metadata": {},
   "outputs": [],
   "source": []
  },
  {
   "cell_type": "code",
   "execution_count": 523,
   "metadata": {},
   "outputs": [],
   "source": [
    "vector = [2, 24, 31, 81, 2, 76, 57, 81, 79, 76]\n",
    "vector = np.array(vector)\n",
    "vector = vector/vector.sum()\n",
    "\n",
    "X = []\n",
    "Y = []\n",
    "Y_percise = []\n",
    "# for i in range(10):\n",
    "# for i in range(100):\n",
    "# for i in range(500):\n",
    "for i in range(1000):\n",
    "# for i in range(10000):\n",
    "# for i in range(100000):\n",
    "# for i in range(1000000):\n",
    "    x = np.array(random.choices(range(100), k=10))\n",
    "    x = x/x.sum()\n",
    "    y_percise = x.dot(vector)\n",
    "#     y = y_percise + (random.random()-0.5)*0.05\n",
    "    y = y_percise + (random.random()-0.5)*0.02\n",
    "#     y = x.dot(vector) + (random.random()-0.5)*0.01\n",
    "#     y = x.dot(vector) + (random.random()-0.5)*0\n",
    "    X.append(x)\n",
    "    Y.append(y)\n",
    "    Y_percise.append(y_percise)"
   ]
  },
  {
   "cell_type": "code",
   "execution_count": 524,
   "metadata": {
    "scrolled": true
   },
   "outputs": [
    {
     "ename": "OverflowError",
     "evalue": "Python int too large to convert to C long",
     "output_type": "error",
     "traceback": [
      "\u001b[0;31m---------------------------------------------------------------------------\u001b[0m",
      "\u001b[0;31mOverflowError\u001b[0m                             Traceback (most recent call last)",
      "\u001b[0;32m<ipython-input-524-6a6797638232>\u001b[0m in \u001b[0;36m<module>\u001b[0;34m\u001b[0m\n\u001b[1;32m      3\u001b[0m \u001b[0mnk\u001b[0m\u001b[0;34m.\u001b[0m\u001b[0mset_learning_rate\u001b[0m\u001b[0;34m(\u001b[0m\u001b[0;36m1\u001b[0m\u001b[0;34m)\u001b[0m\u001b[0;34m\u001b[0m\u001b[0;34m\u001b[0m\u001b[0m\n\u001b[1;32m      4\u001b[0m \u001b[0;31m# nk.set_learning_rate(2)\u001b[0m\u001b[0;34m\u001b[0m\u001b[0;34m\u001b[0m\u001b[0;34m\u001b[0m\u001b[0m\n\u001b[0;32m----> 5\u001b[0;31m \u001b[0mnk\u001b[0m\u001b[0;34m.\u001b[0m\u001b[0mbatch_train\u001b[0m\u001b[0;34m(\u001b[0m\u001b[0mX\u001b[0m\u001b[0;34m,\u001b[0m\u001b[0mY\u001b[0m\u001b[0;34m)\u001b[0m\u001b[0;34m\u001b[0m\u001b[0;34m\u001b[0m\u001b[0m\n\u001b[0m",
      "\u001b[0;32m<ipython-input-156-78ae690a03bb>\u001b[0m in \u001b[0;36mbatch_train\u001b[0;34m(self, X, Y, batch_size)\u001b[0m\n\u001b[1;32m    163\u001b[0m         \u001b[0mi\u001b[0m\u001b[0;34m=\u001b[0m\u001b[0;36m0\u001b[0m\u001b[0;34m\u001b[0m\u001b[0;34m\u001b[0m\u001b[0m\n\u001b[1;32m    164\u001b[0m         \u001b[0;32mfor\u001b[0m \u001b[0mi\u001b[0m\u001b[0;34m,\u001b[0m\u001b[0;34m(\u001b[0m\u001b[0mx\u001b[0m\u001b[0;34m,\u001b[0m\u001b[0my\u001b[0m\u001b[0;34m)\u001b[0m \u001b[0;32min\u001b[0m \u001b[0menumerate\u001b[0m\u001b[0;34m(\u001b[0m\u001b[0mzip\u001b[0m\u001b[0;34m(\u001b[0m\u001b[0mX\u001b[0m\u001b[0;34m,\u001b[0m\u001b[0mY\u001b[0m\u001b[0;34m)\u001b[0m\u001b[0;34m)\u001b[0m\u001b[0;34m:\u001b[0m\u001b[0;34m\u001b[0m\u001b[0;34m\u001b[0m\u001b[0m\n\u001b[0;32m--> 165\u001b[0;31m             \u001b[0mself\u001b[0m\u001b[0;34m.\u001b[0m\u001b[0mone_train\u001b[0m\u001b[0;34m(\u001b[0m\u001b[0mx\u001b[0m\u001b[0;34m,\u001b[0m\u001b[0my\u001b[0m\u001b[0;34m)\u001b[0m\u001b[0;34m\u001b[0m\u001b[0;34m\u001b[0m\u001b[0m\n\u001b[0m\u001b[1;32m    166\u001b[0m \u001b[0;34m\u001b[0m\u001b[0m\n\u001b[1;32m    167\u001b[0m \u001b[0;31m#             print('l1:\\n',l1.val)\u001b[0m\u001b[0;34m\u001b[0m\u001b[0;34m\u001b[0m\u001b[0;34m\u001b[0m\u001b[0m\n",
      "\u001b[0;32m<ipython-input-156-78ae690a03bb>\u001b[0m in \u001b[0;36mone_train\u001b[0;34m(self, x, y)\u001b[0m\n\u001b[1;32m    149\u001b[0m     \u001b[0;32mdef\u001b[0m \u001b[0mone_train\u001b[0m\u001b[0;34m(\u001b[0m\u001b[0mself\u001b[0m\u001b[0;34m,\u001b[0m\u001b[0mx\u001b[0m\u001b[0;34m,\u001b[0m\u001b[0my\u001b[0m\u001b[0;34m)\u001b[0m\u001b[0;34m:\u001b[0m\u001b[0;34m\u001b[0m\u001b[0;34m\u001b[0m\u001b[0m\n\u001b[1;32m    150\u001b[0m         \u001b[0minput_layer\u001b[0m\u001b[0;34m.\u001b[0m\u001b[0mpull_in\u001b[0m\u001b[0;34m(\u001b[0m\u001b[0mx\u001b[0m\u001b[0;34m)\u001b[0m\u001b[0;34m\u001b[0m\u001b[0;34m\u001b[0m\u001b[0m\n\u001b[0;32m--> 151\u001b[0;31m         \u001b[0mself\u001b[0m\u001b[0;34m.\u001b[0m\u001b[0mbatch_forwarding\u001b[0m\u001b[0;34m(\u001b[0m\u001b[0;34m)\u001b[0m\u001b[0;34m\u001b[0m\u001b[0;34m\u001b[0m\u001b[0m\n\u001b[0m\u001b[1;32m    152\u001b[0m         \u001b[0merror_term\u001b[0m \u001b[0;34m=\u001b[0m \u001b[0mself\u001b[0m\u001b[0;34m.\u001b[0m\u001b[0mget_error_term\u001b[0m\u001b[0;34m(\u001b[0m\u001b[0my\u001b[0m\u001b[0;34m)\u001b[0m\u001b[0;34m\u001b[0m\u001b[0;34m\u001b[0m\u001b[0m\n\u001b[1;32m    153\u001b[0m         \u001b[0mself\u001b[0m\u001b[0;34m.\u001b[0m\u001b[0mbatch_backwarding\u001b[0m\u001b[0;34m(\u001b[0m\u001b[0merror_term\u001b[0m\u001b[0;34m)\u001b[0m\u001b[0;34m\u001b[0m\u001b[0;34m\u001b[0m\u001b[0m\n",
      "\u001b[0;32m<ipython-input-156-78ae690a03bb>\u001b[0m in \u001b[0;36mbatch_forwarding\u001b[0;34m(self)\u001b[0m\n\u001b[1;32m    134\u001b[0m         \u001b[0mcur\u001b[0m \u001b[0;34m=\u001b[0m \u001b[0mself\u001b[0m\u001b[0;34m.\u001b[0m\u001b[0minput_layer\u001b[0m\u001b[0;34m\u001b[0m\u001b[0;34m\u001b[0m\u001b[0m\n\u001b[1;32m    135\u001b[0m         \u001b[0;32mwhile\u001b[0m\u001b[0;34m(\u001b[0m\u001b[0mcur\u001b[0m\u001b[0;34m.\u001b[0m\u001b[0mnext_layer\u001b[0m\u001b[0;34m)\u001b[0m\u001b[0;34m:\u001b[0m\u001b[0;34m\u001b[0m\u001b[0;34m\u001b[0m\u001b[0m\n\u001b[0;32m--> 136\u001b[0;31m             \u001b[0mcur\u001b[0m\u001b[0;34m.\u001b[0m\u001b[0mforwarding\u001b[0m\u001b[0;34m(\u001b[0m\u001b[0;34m)\u001b[0m\u001b[0;34m\u001b[0m\u001b[0;34m\u001b[0m\u001b[0m\n\u001b[0m\u001b[1;32m    137\u001b[0m             \u001b[0mcur\u001b[0m \u001b[0;34m=\u001b[0m \u001b[0mcur\u001b[0m\u001b[0;34m.\u001b[0m\u001b[0mnext_layer\u001b[0m\u001b[0;34m\u001b[0m\u001b[0;34m\u001b[0m\u001b[0m\n\u001b[1;32m    138\u001b[0m \u001b[0;34m\u001b[0m\u001b[0m\n",
      "\u001b[0;32m<ipython-input-156-78ae690a03bb>\u001b[0m in \u001b[0;36mforwarding\u001b[0;34m(self)\u001b[0m\n\u001b[1;32m     65\u001b[0m             \u001b[0;32mif\u001b[0m \u001b[0mself\u001b[0m\u001b[0;34m.\u001b[0m\u001b[0mnext_layer\u001b[0m\u001b[0;34m:\u001b[0m\u001b[0;34m\u001b[0m\u001b[0;34m\u001b[0m\u001b[0m\n\u001b[1;32m     66\u001b[0m                 \u001b[0;32mif\u001b[0m \u001b[0;32mnot\u001b[0m \u001b[0mself\u001b[0m\u001b[0;34m.\u001b[0m\u001b[0mnext_layer\u001b[0m\u001b[0;34m.\u001b[0m\u001b[0moutput_ind\u001b[0m\u001b[0;34m:\u001b[0m\u001b[0;34m\u001b[0m\u001b[0;34m\u001b[0m\u001b[0m\n\u001b[0;32m---> 67\u001b[0;31m                     \u001b[0mself\u001b[0m\u001b[0;34m.\u001b[0m\u001b[0mnext_layer\u001b[0m\u001b[0;34m.\u001b[0m\u001b[0mval\u001b[0m \u001b[0;34m=\u001b[0m \u001b[0mactivation_func\u001b[0m\u001b[0;34m(\u001b[0m\u001b[0mval\u001b[0m\u001b[0;34m)\u001b[0m\u001b[0;34m\u001b[0m\u001b[0;34m\u001b[0m\u001b[0m\n\u001b[0m\u001b[1;32m     68\u001b[0m                 \u001b[0;32melse\u001b[0m\u001b[0;34m:\u001b[0m\u001b[0;34m\u001b[0m\u001b[0;34m\u001b[0m\u001b[0m\n\u001b[1;32m     69\u001b[0m                     \u001b[0mself\u001b[0m\u001b[0;34m.\u001b[0m\u001b[0mnext_layer\u001b[0m\u001b[0;34m.\u001b[0m\u001b[0mval\u001b[0m \u001b[0;34m=\u001b[0m \u001b[0mval\u001b[0m\u001b[0;34m\u001b[0m\u001b[0;34m\u001b[0m\u001b[0m\n",
      "\u001b[0;32m~/anaconda3/lib/python3.7/site-packages/numpy/lib/function_base.py\u001b[0m in \u001b[0;36m__call__\u001b[0;34m(self, *args, **kwargs)\u001b[0m\n\u001b[1;32m   2111\u001b[0m             \u001b[0mvargs\u001b[0m\u001b[0;34m.\u001b[0m\u001b[0mextend\u001b[0m\u001b[0;34m(\u001b[0m\u001b[0;34m[\u001b[0m\u001b[0mkwargs\u001b[0m\u001b[0;34m[\u001b[0m\u001b[0m_n\u001b[0m\u001b[0;34m]\u001b[0m \u001b[0;32mfor\u001b[0m \u001b[0m_n\u001b[0m \u001b[0;32min\u001b[0m \u001b[0mnames\u001b[0m\u001b[0;34m]\u001b[0m\u001b[0;34m)\u001b[0m\u001b[0;34m\u001b[0m\u001b[0;34m\u001b[0m\u001b[0m\n\u001b[1;32m   2112\u001b[0m \u001b[0;34m\u001b[0m\u001b[0m\n\u001b[0;32m-> 2113\u001b[0;31m         \u001b[0;32mreturn\u001b[0m \u001b[0mself\u001b[0m\u001b[0;34m.\u001b[0m\u001b[0m_vectorize_call\u001b[0m\u001b[0;34m(\u001b[0m\u001b[0mfunc\u001b[0m\u001b[0;34m=\u001b[0m\u001b[0mfunc\u001b[0m\u001b[0;34m,\u001b[0m \u001b[0margs\u001b[0m\u001b[0;34m=\u001b[0m\u001b[0mvargs\u001b[0m\u001b[0;34m)\u001b[0m\u001b[0;34m\u001b[0m\u001b[0;34m\u001b[0m\u001b[0m\n\u001b[0m\u001b[1;32m   2114\u001b[0m \u001b[0;34m\u001b[0m\u001b[0m\n\u001b[1;32m   2115\u001b[0m     \u001b[0;32mdef\u001b[0m \u001b[0m_get_ufunc_and_otypes\u001b[0m\u001b[0;34m(\u001b[0m\u001b[0mself\u001b[0m\u001b[0;34m,\u001b[0m \u001b[0mfunc\u001b[0m\u001b[0;34m,\u001b[0m \u001b[0margs\u001b[0m\u001b[0;34m)\u001b[0m\u001b[0;34m:\u001b[0m\u001b[0;34m\u001b[0m\u001b[0;34m\u001b[0m\u001b[0m\n",
      "\u001b[0;32m~/anaconda3/lib/python3.7/site-packages/numpy/lib/function_base.py\u001b[0m in \u001b[0;36m_vectorize_call\u001b[0;34m(self, func, args)\u001b[0m\n\u001b[1;32m   2198\u001b[0m \u001b[0;34m\u001b[0m\u001b[0m\n\u001b[1;32m   2199\u001b[0m             \u001b[0;32mif\u001b[0m \u001b[0mufunc\u001b[0m\u001b[0;34m.\u001b[0m\u001b[0mnout\u001b[0m \u001b[0;34m==\u001b[0m \u001b[0;36m1\u001b[0m\u001b[0;34m:\u001b[0m\u001b[0;34m\u001b[0m\u001b[0;34m\u001b[0m\u001b[0m\n\u001b[0;32m-> 2200\u001b[0;31m                 \u001b[0mres\u001b[0m \u001b[0;34m=\u001b[0m \u001b[0marray\u001b[0m\u001b[0;34m(\u001b[0m\u001b[0moutputs\u001b[0m\u001b[0;34m,\u001b[0m \u001b[0mcopy\u001b[0m\u001b[0;34m=\u001b[0m\u001b[0;32mFalse\u001b[0m\u001b[0;34m,\u001b[0m \u001b[0msubok\u001b[0m\u001b[0;34m=\u001b[0m\u001b[0;32mTrue\u001b[0m\u001b[0;34m,\u001b[0m \u001b[0mdtype\u001b[0m\u001b[0;34m=\u001b[0m\u001b[0motypes\u001b[0m\u001b[0;34m[\u001b[0m\u001b[0;36m0\u001b[0m\u001b[0;34m]\u001b[0m\u001b[0;34m)\u001b[0m\u001b[0;34m\u001b[0m\u001b[0;34m\u001b[0m\u001b[0m\n\u001b[0m\u001b[1;32m   2201\u001b[0m             \u001b[0;32melse\u001b[0m\u001b[0;34m:\u001b[0m\u001b[0;34m\u001b[0m\u001b[0;34m\u001b[0m\u001b[0m\n\u001b[1;32m   2202\u001b[0m                 res = tuple([array(x, copy=False, subok=True, dtype=t)\n",
      "\u001b[0;31mOverflowError\u001b[0m: Python int too large to convert to C long"
     ]
    }
   ],
   "source": [
    "# nk.set_learning_rate(0.01)\n",
    "# nk.set_learning_rate(0.1)\n",
    "nk.set_learning_rate(1)\n",
    "# nk.set_learning_rate(2)\n",
    "nk.batch_train(X,Y)"
   ]
  },
  {
   "cell_type": "code",
   "execution_count": 492,
   "metadata": {},
   "outputs": [
    {
     "name": "stdout",
     "output_type": "stream",
     "text": [
      "x: [0.10034014 0.13435374 0.07993197 0.07653061 0.16156463 0.00340136\n",
      " 0.16326531 0.09693878 0.12244898 0.06122449]\n",
      "y_percise: 0.08677478850086204\n",
      "y_real: 0.09369226829945415\n",
      "y_predict: [[0.]]\n"
     ]
    }
   ],
   "source": [
    "x = np.array(random.choices(range(100), k=10))\n",
    "x = x/x.sum()\n",
    "y_percise = x.dot(vector) \n",
    "# y_real = x.dot(vector) + (random.random()-0.5)*0.05\n",
    "y_real = x.dot(vector) + (random.random()-0.5)*0.02\n",
    "y_predict = nk.predict(x)\n",
    "\n",
    "print('x:',x)\n",
    "print('y_percise:',y_percise)\n",
    "print('y_real:',y_real)\n",
    "print('y_predict:',y_predict)\n",
    "\n",
    "# print('l1:\\n',l1.val)\n",
    "# print('l2:\\n',l2.val)\n",
    "# print('l3:\\n',l3.val)\n",
    "# print('l4:\\n',l4.val)\n",
    "# pl()"
   ]
  },
  {
   "cell_type": "code",
   "execution_count": 416,
   "metadata": {},
   "outputs": [
    {
     "data": {
      "text/plain": [
       "'\\n变得特别大\\n\\n或变成零\\n\\n不稳定或容易训练失败\\n\\n'"
      ]
     },
     "execution_count": 416,
     "metadata": {},
     "output_type": "execute_result"
    }
   ],
   "source": [
    "\"\"\"\n",
    "变得特别大\n",
    "\n",
    "或变成零\n",
    "\n",
    "不稳定或容易训练失败\n",
    "\n",
    "为啥会变成0和参数消失\n",
    "\n",
    "\"\"\""
   ]
  },
  {
   "cell_type": "code",
   "execution_count": 436,
   "metadata": {},
   "outputs": [
    {
     "data": {
      "text/plain": [
       "array([[0.02487562, 0.2039801 , 0.1318408 , 0.11691542, 0.24129353,\n",
       "        0.12935323, 0.06965174, 0.0199005 , 0.00995025, 0.05223881]])"
      ]
     },
     "execution_count": 436,
     "metadata": {},
     "output_type": "execute_result"
    }
   ],
   "source": [
    "input_layer.val"
   ]
  },
  {
   "cell_type": "code",
   "execution_count": 427,
   "metadata": {
    "scrolled": true
   },
   "outputs": [
    {
     "data": {
      "text/plain": [
       "array([[-3.15247464e-04, -1.04199451e-01,  5.81396917e-02,\n",
       "         3.16062601e-04, -9.08408042e-02,  4.48879540e-03,\n",
       "         2.32370407e-01,  2.48164295e-03,  4.66112180e-02,\n",
       "        -4.93794918e-02, -1.47048595e-01, -9.15249134e-02,\n",
       "         9.38788495e-02, -4.45600447e-02,  6.26698268e-02,\n",
       "         6.46091685e-02, -6.80985223e-02,  9.68635801e-02,\n",
       "         2.41158778e-02,  6.07799287e-02,  4.91251004e-03,\n",
       "         1.82430802e-02, -1.14223996e-01,  5.30547159e-02,\n",
       "        -6.67345974e-02,  1.49377704e-01,  2.34290089e-02,\n",
       "         1.09157764e-02, -1.13043552e-01, -7.07008820e-02,\n",
       "         4.35996444e-02, -1.92201589e-02, -6.08616013e-03,\n",
       "        -1.35747075e-01, -6.16938007e-03,  1.55872496e-01,\n",
       "        -3.96325594e-02,  1.08757578e-01,  1.65810553e-02,\n",
       "        -1.00169995e-01, -4.96255969e-02,  7.59008131e-02,\n",
       "        -1.59658648e-01,  9.99903230e-02, -6.61959927e-02,\n",
       "         6.18098272e-02,  4.60517586e-02,  1.24170607e-01,\n",
       "         5.04400217e-02,  1.22320355e-02],\n",
       "       [-7.68613549e-02,  1.11248924e-01,  5.55498756e-02,\n",
       "         3.62555633e-02, -4.16809152e-02, -9.38120288e-02,\n",
       "         7.69821985e-02, -6.73965998e-02,  9.59188064e-02,\n",
       "         6.40138784e-02,  8.18428387e-02,  1.90395134e-02,\n",
       "        -8.55940128e-02, -8.24029685e-02, -2.34526231e-01,\n",
       "         5.69186665e-02,  2.38971758e-02,  1.04127010e-01,\n",
       "         1.27054614e-02, -1.07295280e-01, -9.64377230e-02,\n",
       "        -4.50100955e-02,  4.75868840e-02,  6.37416112e-02,\n",
       "         4.60062431e-02, -5.02340599e-02, -9.73614454e-02,\n",
       "         1.14289172e-01,  1.64529105e-02,  5.60995696e-03,\n",
       "         3.89121211e-02, -1.35598608e-01,  1.40889196e-01,\n",
       "        -1.22846496e-01, -1.41011000e-01,  4.40942860e-02,\n",
       "         8.89971042e-02,  6.55687803e-02,  8.34622909e-02,\n",
       "         1.54497746e-01, -2.73894928e-02, -6.71651964e-02,\n",
       "         2.73886318e-01,  7.10819752e-02,  1.46766554e-02,\n",
       "        -8.15491417e-02, -2.03578942e-01, -6.67800935e-02,\n",
       "        -9.41217259e-02, -6.16078045e-02],\n",
       "       [ 7.87942952e-02,  6.23307498e-02, -1.17095181e-01,\n",
       "        -2.93717745e-02, -1.46138037e-01,  5.41380542e-02,\n",
       "        -1.82757443e-01, -6.64010219e-02,  9.34754660e-02,\n",
       "         1.29534191e-01, -1.57805899e-01, -6.49449857e-03,\n",
       "        -7.41496002e-02, -7.80697193e-02,  1.84555238e-02,\n",
       "        -5.94069100e-03, -1.08742061e-01, -9.57398958e-02,\n",
       "        -3.58202187e-02,  1.18037848e-01, -1.44359161e-01,\n",
       "         6.69815832e-02, -8.11829545e-02,  9.95389296e-02,\n",
       "         6.03816430e-03, -2.09083069e-01,  6.29867463e-02,\n",
       "        -1.13372324e-01,  5.66800724e-02, -2.48263566e-02,\n",
       "        -2.97270825e-01, -1.42093655e-01,  3.50054230e-02,\n",
       "         1.16231624e-01, -5.17567277e-02, -4.62219300e-02,\n",
       "         1.21795495e-01,  2.44587107e-02, -2.50002831e-02,\n",
       "        -2.62770750e-01, -1.01606341e-01,  8.55440691e-02,\n",
       "        -1.88982785e-02, -5.98717880e-02,  2.20129244e-02,\n",
       "         5.17242343e-02, -8.90794791e-02,  7.10363310e-02,\n",
       "        -1.28819930e-03, -2.64897092e-01],\n",
       "       [ 5.12449141e-02, -1.41967766e-01, -9.99270416e-02,\n",
       "         8.46880327e-02, -3.52314711e-02, -7.09524297e-02,\n",
       "         8.04927218e-02, -3.14389485e-02, -2.19394084e-01,\n",
       "        -1.20148425e-01,  1.29759943e-01,  8.25610163e-02,\n",
       "         1.19443429e-01,  8.69006698e-02,  1.25799882e-01,\n",
       "         1.02715025e-01,  1.17561407e-02,  2.05088492e-01,\n",
       "        -1.99065086e-02, -1.24929824e-02, -5.56605971e-02,\n",
       "        -9.48185226e-02, -6.69865762e-02,  6.72864323e-02,\n",
       "         5.71672725e-02, -2.00046247e-01,  4.52318921e-02,\n",
       "        -3.79851518e-02,  3.26914509e-01, -7.89603350e-02,\n",
       "        -1.26517294e-04,  8.22264013e-02, -4.95618980e-02,\n",
       "         2.46265027e-02,  8.65108179e-03, -2.01952541e-02,\n",
       "        -1.68166991e-01,  1.05361622e-02,  6.57638361e-03,\n",
       "         8.78986093e-02,  6.39940640e-02,  1.62045987e-01,\n",
       "        -9.82236167e-02,  1.23648147e-01, -8.96659863e-03,\n",
       "         8.14433725e-02,  8.06466586e-02, -9.29001215e-02,\n",
       "        -1.34527563e-01,  2.11633461e-01],\n",
       "       [ 4.86018472e-02,  9.78630661e-02,  1.02438964e-01,\n",
       "        -1.87413318e-01, -4.46679725e-02,  2.89698347e-02,\n",
       "         3.61003015e-02, -2.31035663e-02, -5.03072456e-02,\n",
       "         1.31652186e-01,  1.36452222e-01, -3.50046389e-03,\n",
       "        -1.88676481e-02, -1.78378595e-02,  1.18269948e-01,\n",
       "        -1.39104077e-02, -3.95558983e-03, -2.67883652e-02,\n",
       "         1.16091039e-01,  1.16516573e-03,  6.94483968e-02,\n",
       "        -1.52046818e-01,  7.71549951e-03,  9.87351626e-02,\n",
       "        -1.91086300e-01,  5.29894605e-02,  9.30005681e-02,\n",
       "         1.17660174e-02,  3.48314116e-02,  9.57377219e-02,\n",
       "         1.13282826e-01, -1.04195895e-02,  8.27014696e-02,\n",
       "        -1.50503720e-01, -4.87023718e-02, -4.12073422e-02,\n",
       "         8.37934582e-03,  2.78756715e-03, -1.26923637e-01,\n",
       "        -1.39514224e-01,  9.79310799e-02,  1.68681625e-02,\n",
       "        -6.32664463e-02,  3.01931988e-03, -1.22358506e-01,\n",
       "         2.02016728e-02, -4.80911174e-02,  1.63696444e-02,\n",
       "         1.30658588e-01,  7.65813321e-02],\n",
       "       [-2.31719065e-02,  1.74275552e-02,  1.11618706e-01,\n",
       "        -7.67997328e-02, -6.00613585e-02, -6.59381129e-03,\n",
       "        -1.25859689e-02,  8.32963435e-02,  3.54234729e-02,\n",
       "         6.98877956e-02, -2.92683020e-03, -9.26226568e-02,\n",
       "        -1.14543212e-01, -3.30700032e-03,  8.25160503e-02,\n",
       "         3.07641984e-02, -5.65353644e-02, -1.42548986e-03,\n",
       "        -2.56959410e-03, -7.54223706e-03, -1.22687021e-01,\n",
       "         5.47418472e-02,  5.23718204e-02, -6.85270112e-02,\n",
       "         5.67238286e-02, -4.03062490e-02,  1.74128839e-01,\n",
       "        -1.19963133e-01,  5.78240534e-02, -7.89382403e-03,\n",
       "         1.43746819e-01,  4.56582357e-02,  2.00729988e-01,\n",
       "         6.39552058e-02,  3.82176700e-02, -7.45314460e-02,\n",
       "         3.79426095e-02,  6.68240534e-03,  4.03997627e-02,\n",
       "        -7.22241272e-02, -8.09418227e-02, -5.75096660e-02,\n",
       "         2.00440600e-01,  8.77723034e-03,  1.01717917e-01,\n",
       "         3.46339170e-02,  7.80610852e-02, -1.24895262e-01,\n",
       "        -2.93096936e-03,  1.49322391e-02],\n",
       "       [ 5.16620486e-02, -1.98291450e-01,  1.51983354e-02,\n",
       "        -6.44992846e-02, -4.79478739e-02, -9.61807342e-02,\n",
       "         1.35316664e-01,  1.03201719e-01,  2.53629395e-02,\n",
       "        -1.02594212e-01,  1.16926577e-01, -1.35712238e-01,\n",
       "         2.19070605e-01, -5.25231164e-02,  1.04410412e-01,\n",
       "         2.68735042e-01, -1.09700670e-01,  1.25283843e-01,\n",
       "         5.42579004e-02, -1.00583374e-02, -6.73190117e-02,\n",
       "        -1.47772545e-01, -1.35096357e-01,  3.10954974e-02,\n",
       "        -3.87537916e-02,  6.08102384e-02, -9.44914613e-02,\n",
       "        -4.47577948e-02,  1.53685922e-02, -3.52667030e-02,\n",
       "         1.10401690e-02,  1.68275550e-01, -1.94367087e-02,\n",
       "         1.42639706e-02, -1.73077805e-01,  4.88990340e-02,\n",
       "        -1.08074214e-01,  1.03474083e-01,  1.35869588e-02,\n",
       "        -1.87487646e-01,  1.09986183e-02,  1.93403509e-01,\n",
       "        -1.26584935e-01,  2.78259382e-01,  4.70295301e-02,\n",
       "         1.00207496e-01,  1.64183925e-01, -7.54719246e-02,\n",
       "        -7.73812266e-03,  2.06960010e-01],\n",
       "       [ 9.13670718e-02,  1.79310347e-01,  8.07563517e-02,\n",
       "         3.85819260e-02,  1.52199382e-01,  1.17213260e-04,\n",
       "        -3.28474645e-02,  4.04121304e-02,  8.25789874e-02,\n",
       "        -2.47274269e-02, -7.49133713e-02,  3.67678092e-03,\n",
       "        -9.26097051e-02,  3.97170716e-02,  9.61280689e-02,\n",
       "        -9.07343434e-02,  3.76283593e-02, -9.55719066e-02,\n",
       "         2.56757388e-01,  8.39252986e-02,  4.93236848e-02,\n",
       "        -5.01012075e-02,  1.17223979e-01,  1.32103253e-01,\n",
       "         7.34570996e-02, -2.94847720e-02,  3.86733756e-02,\n",
       "         8.24637631e-02, -5.06669487e-02, -5.45737726e-02,\n",
       "         7.03583452e-02,  6.81506833e-02,  1.32687668e-02,\n",
       "        -8.28397551e-03,  4.63875312e-02, -1.11995342e-01,\n",
       "        -2.07021451e-02,  8.23385507e-02, -1.27064088e-01,\n",
       "        -4.02068715e-02,  2.94256034e-02,  1.21355336e-01,\n",
       "         1.83579618e-01, -6.68484296e-02, -9.37617821e-03,\n",
       "         4.08443356e-02,  1.33172106e-01,  1.43271323e-01,\n",
       "         1.21678470e-01, -1.01852127e-01],\n",
       "       [ 1.37401033e-01, -4.88790504e-02, -1.40977400e-01,\n",
       "         6.65515307e-02,  4.72652891e-02, -4.15934050e-02,\n",
       "         6.68399664e-03, -5.76614968e-03, -3.92517506e-02,\n",
       "         1.09206976e-01,  5.91458188e-02, -1.67760266e-01,\n",
       "         9.81558241e-02,  7.61412962e-02, -6.24953606e-02,\n",
       "         3.92080028e-02, -1.68144930e-01, -1.41338370e-01,\n",
       "         1.77213083e-02, -1.76618636e-01, -1.38085291e-02,\n",
       "        -1.03382319e-01,  7.53773520e-03,  2.07059053e-01,\n",
       "        -3.10666562e-02, -1.73036071e-01, -4.64292957e-02,\n",
       "        -3.19392943e-02, -7.26975491e-02, -2.13137491e-02,\n",
       "        -8.34327095e-02, -4.59811692e-02, -2.32543300e-01,\n",
       "         4.17279567e-02, -3.06664356e-02,  1.96169090e-03,\n",
       "         4.58326270e-02,  3.63959265e-02, -1.05719905e-01,\n",
       "         1.89754424e-02,  2.31191331e-02,  9.19588427e-04,\n",
       "         3.82548974e-02,  6.26413810e-02,  5.48807510e-02,\n",
       "        -2.42763060e-02, -1.66027186e-02, -3.77735128e-02,\n",
       "        -8.82388308e-02,  8.94072477e-02],\n",
       "       [-3.88876859e-02,  5.44766697e-06,  2.61271056e-02,\n",
       "         1.47601282e-01,  1.05569459e-01,  1.95700022e-02,\n",
       "        -1.69239488e-01,  9.25210027e-02,  1.07581845e-02,\n",
       "         4.51093193e-02, -7.03602723e-02, -1.02810554e-02,\n",
       "        -4.14797363e-02,  4.58399829e-02,  3.79682294e-03,\n",
       "        -1.19687883e-02,  4.60477632e-02,  5.05888312e-02,\n",
       "        -1.70958462e-01, -1.87740705e-02,  3.99465201e-02,\n",
       "         8.97727570e-02,  3.91914994e-02, -1.73761001e-02,\n",
       "         4.81671642e-02, -2.18278857e-02, -1.24616215e-01,\n",
       "        -8.47321406e-02, -1.53786315e-01,  1.93989343e-01,\n",
       "         9.60621532e-02, -1.78613318e-02,  2.33640533e-02,\n",
       "         5.64336145e-02, -7.93157071e-03,  2.44503925e-02,\n",
       "        -4.40047898e-02, -1.72736749e-01,  2.75747619e-02,\n",
       "         5.06898381e-02,  2.69851317e-02, -9.98277931e-02,\n",
       "         1.13367188e-01, -2.30000492e-02, -9.45027486e-02,\n",
       "        -2.60419950e-01,  4.52052266e-03,  1.27656669e-01,\n",
       "         1.38296422e-01, -2.24769952e-03]])"
      ]
     },
     "execution_count": 427,
     "metadata": {},
     "output_type": "execute_result"
    }
   ],
   "source": [
    "l1.output_weight.val"
   ]
  },
  {
   "cell_type": "code",
   "execution_count": 428,
   "metadata": {},
   "outputs": [
    {
     "data": {
      "text/plain": [
       "array([[0, 0, 0, 0, 0, 0, 0, 0, 0, 0]])"
      ]
     },
     "execution_count": 428,
     "metadata": {},
     "output_type": "execute_result"
    }
   ],
   "source": [
    "l1.val"
   ]
  },
  {
   "cell_type": "code",
   "execution_count": 429,
   "metadata": {},
   "outputs": [
    {
     "data": {
      "text/plain": [
       "array([[-0.01723915, -0.0071946 ,  0.04457463, ..., -0.00408404,\n",
       "         0.00101939, -0.01773477],\n",
       "       [-0.04410306,  0.04196109, -0.06626689, ...,  0.06890177,\n",
       "        -0.22261518, -0.02078312],\n",
       "       [-0.00816504,  0.02437418,  0.01590947, ..., -0.00300914,\n",
       "        -0.04740454,  0.02169946],\n",
       "       ...,\n",
       "       [-0.02954878,  0.06452033, -0.05181151, ...,  0.00168909,\n",
       "        -0.21530552,  0.00854094],\n",
       "       [-0.00214033,  0.02126329, -0.04098554, ...,  0.06245711,\n",
       "        -0.16067962,  0.02712572],\n",
       "       [ 0.0264458 , -0.03733716,  0.0796466 , ..., -0.05894545,\n",
       "         0.23414665,  0.02964473]])"
      ]
     },
     "execution_count": 429,
     "metadata": {},
     "output_type": "execute_result"
    }
   ],
   "source": [
    "l2.output_weight.val"
   ]
  },
  {
   "cell_type": "code",
   "execution_count": 430,
   "metadata": {},
   "outputs": [
    {
     "data": {
      "text/plain": [
       "array([[0, 0, 0, 0, 0, 0, 0, 0, 0, 0, 0, 0, 0, 0, 0, 0, 0, 0, 0, 0, 0, 0,\n",
       "        0, 0, 0, 0, 0, 0, 0, 0, 0, 0, 0, 0, 0, 0, 0, 0, 0, 0, 0, 0, 0, 0,\n",
       "        0, 0, 0, 0, 0, 0]])"
      ]
     },
     "execution_count": 430,
     "metadata": {},
     "output_type": "execute_result"
    }
   ],
   "source": [
    "l2.val"
   ]
  },
  {
   "cell_type": "code",
   "execution_count": 431,
   "metadata": {},
   "outputs": [
    {
     "data": {
      "text/plain": [
       "array([[-1.43322339e-01,  3.49072411e-01,  2.44936566e-02,\n",
       "         1.14140779e+00, -1.84296700e-01, -8.57211097e-02,\n",
       "         4.63967428e-01,  4.18060731e-03, -4.86700891e-02,\n",
       "         7.23645332e-02],\n",
       "       [-6.49406686e-03,  1.34258318e-01, -3.03893277e-01,\n",
       "        -3.52337652e-01, -5.08625399e-01,  3.07191119e-02,\n",
       "         6.62939782e-02, -5.63176559e-01,  2.80879619e-01,\n",
       "        -2.98651936e-01],\n",
       "       [ 1.87965348e-01,  4.27929323e-01, -4.49052229e-01,\n",
       "         4.51570178e-01, -6.14738205e-01, -2.18711626e-01,\n",
       "        -1.61520884e-01, -2.25256545e-01, -2.41092737e-01,\n",
       "         4.34103142e-01],\n",
       "       [ 8.59074368e-01,  2.67204896e-01, -2.67050558e-01,\n",
       "         1.88577445e-02,  7.55787197e-03,  2.60108153e-01,\n",
       "         4.01331830e-01, -7.89787440e-02, -1.05031130e-01,\n",
       "        -6.65737299e-01],\n",
       "       [-4.90560892e-01,  1.01877822e-01, -7.55038304e-02,\n",
       "        -4.61643317e-01, -1.60659882e-01, -1.92390757e-01,\n",
       "         1.42266200e-01,  1.96757398e-01, -6.06858679e-01,\n",
       "         4.03735585e-01],\n",
       "       [-2.83640042e-01, -6.29724005e-01,  1.70829443e-01,\n",
       "         6.51539671e-02, -6.55359760e-01, -4.84488769e-01,\n",
       "        -2.43820251e-01,  2.65522160e-01,  6.25840919e-02,\n",
       "         3.00406546e-01],\n",
       "       [-7.07953769e-01,  1.38595492e-01, -4.36654506e-03,\n",
       "        -1.73983341e-01, -5.10878033e-01, -1.08440092e-01,\n",
       "        -1.61403094e-01,  9.29029560e-02,  1.24612644e-02,\n",
       "        -1.73473838e-01],\n",
       "       [-1.61377132e-01, -3.81148477e-02, -1.72139050e-01,\n",
       "         6.11191061e-01,  2.56987111e-01,  6.70698207e-01,\n",
       "        -6.54769916e-01, -1.29230088e-01, -3.86545924e-02,\n",
       "        -1.12838578e-01],\n",
       "       [ 3.75056054e-01,  4.97210596e-01, -2.59611125e-01,\n",
       "         5.73219369e-01, -7.82385175e-02,  4.23393070e-02,\n",
       "         3.30191346e-01,  2.96688159e-02, -1.97449506e-01,\n",
       "         3.54263754e-01],\n",
       "       [ 4.50916487e-02,  1.66162771e-01, -3.54067543e-02,\n",
       "         3.12565778e-02, -4.06389476e-01,  1.27583690e-01,\n",
       "         2.82726904e-02,  1.40610329e-01, -1.41081229e-01,\n",
       "        -4.37985902e-01],\n",
       "       [ 7.74859287e-02,  8.96592790e-02,  8.39273012e-02,\n",
       "         6.78271118e-02, -7.24587875e-02, -1.65118940e-01,\n",
       "        -2.05261824e-01,  8.04090305e-02,  3.16280584e-01,\n",
       "         7.26742426e-02],\n",
       "       [-1.38575813e-01, -6.59371795e-01,  3.90845045e-02,\n",
       "        -1.39708011e-01,  2.71922962e-01,  4.37320788e-01,\n",
       "        -2.32249326e-01,  1.11803061e-01, -5.95952454e-01,\n",
       "        -2.53939767e-01],\n",
       "       [-1.54278006e-01,  3.69717613e-01,  3.59223132e-01,\n",
       "         5.79590813e-01, -3.21886803e-02,  1.98019194e-01,\n",
       "         4.80278499e-01,  1.59471728e-01, -1.10162204e-01,\n",
       "         2.26566278e-01],\n",
       "       [ 6.09864441e-03, -7.01073702e-01, -2.70189755e-01,\n",
       "        -4.91000833e-01, -4.07515128e-01, -1.57234066e-01,\n",
       "         2.52319817e-01, -2.75006148e-01, -1.46394762e-01,\n",
       "         6.70533838e-01],\n",
       "       [ 2.97143048e-02, -5.55685283e-01,  3.98731199e-01,\n",
       "        -2.05716872e-01, -1.03958185e-01, -4.63275577e-01,\n",
       "        -2.69193966e-01, -4.24688738e-01, -3.52519501e-02,\n",
       "         5.71354522e-01],\n",
       "       [-2.87256505e-01, -5.37521249e-02,  7.32440356e-02,\n",
       "         5.01869564e-01,  2.18980590e-01,  3.36945492e-01,\n",
       "         1.28061887e-01,  2.80625555e-01,  2.27837812e-01,\n",
       "         9.63180093e-02],\n",
       "       [-1.34275385e-01, -7.71916342e-02,  4.70811246e-01,\n",
       "         4.26992470e-02,  5.62220188e-01, -1.47838314e-01,\n",
       "         5.94295752e-01, -6.55886054e-01,  6.88138103e-01,\n",
       "         3.55972457e-01],\n",
       "       [ 4.53673235e-01, -3.72683312e-01, -1.32897928e-01,\n",
       "         1.29381075e-01, -3.46793506e-01,  8.18536816e-01,\n",
       "        -6.03996046e-02,  8.33256402e-02, -2.64109958e-01,\n",
       "        -4.28973359e-02],\n",
       "       [ 1.35654319e-01, -1.80137785e-01, -1.71385040e-01,\n",
       "         2.61891809e-03,  2.51974271e-01,  5.89452907e-02,\n",
       "        -8.00979376e-01, -1.39242711e-01,  2.06986094e-01,\n",
       "         1.53461676e-01],\n",
       "       [-8.86509055e-02,  1.88386501e-01, -1.94151239e-01,\n",
       "        -3.22823647e-01, -6.56979862e-01, -4.85616224e-01,\n",
       "        -1.41647525e-01, -1.00785338e-01, -2.89983844e-01,\n",
       "         4.92473202e-01],\n",
       "       [ 1.81104997e-01, -1.13760768e-01, -7.04125802e-01,\n",
       "         5.32092322e-02, -1.14674249e-01, -4.20004231e-01,\n",
       "        -1.83994120e-01,  1.45572046e-01,  2.38330921e-01,\n",
       "        -2.68691610e-01],\n",
       "       [ 3.79178894e-01, -3.19348969e-02, -9.54490181e-02,\n",
       "        -3.07784324e-01,  1.84950283e-01, -3.34483227e-01,\n",
       "        -1.85723575e-01,  4.62153150e-01,  2.32961155e-02,\n",
       "         1.47674430e-02],\n",
       "       [ 1.39646245e-01, -5.03455957e-02,  4.20771944e-01,\n",
       "        -1.92064071e-01,  4.11582463e-01,  7.30790609e-02,\n",
       "         6.20919345e-02, -1.06151423e-03,  5.15479838e-01,\n",
       "         3.57759669e-01],\n",
       "       [ 1.37236517e-01, -2.81028288e-01, -5.28335341e-01,\n",
       "         1.96672571e-01, -3.27301272e-01, -3.85313330e-01,\n",
       "        -1.62444192e-01,  3.37397774e-02,  1.51299894e-01,\n",
       "         2.49043696e-01],\n",
       "       [ 1.86606676e-01,  4.20288644e-01, -7.68599285e-03,\n",
       "        -1.11617252e-01,  2.11885657e-01,  3.68660072e-02,\n",
       "        -4.56050713e-01, -3.76049871e-01,  3.44440793e-02,\n",
       "        -1.72164423e-01],\n",
       "       [-3.09372799e-01,  3.72437538e-01,  2.60891312e-01,\n",
       "        -2.97567224e-01, -5.93690011e-01, -1.36156120e-02,\n",
       "        -4.36626445e-02, -5.27214882e-01, -8.10876017e-01,\n",
       "         3.13566084e-01],\n",
       "       [ 5.45952409e-01,  7.50414461e-02,  1.39561075e-01,\n",
       "         3.51407275e-02,  1.46088390e-01,  1.16586612e-02,\n",
       "        -6.10261203e-01,  1.24538860e-01,  1.70987974e-01,\n",
       "        -3.99593329e-01],\n",
       "       [-6.00021559e-01,  9.48647937e-02, -1.80380946e-01,\n",
       "         2.69929623e-01,  8.08075957e-03,  4.51202132e-01,\n",
       "        -1.83109386e-01,  1.66375937e-01,  7.26371199e-01,\n",
       "         1.08625171e-01],\n",
       "       [-7.48935852e-02, -3.26149584e-02,  1.13127170e-01,\n",
       "         2.80955131e-01, -3.42423701e-01,  1.81926603e-01,\n",
       "        -2.08616498e-01, -6.94284996e-02, -1.10201968e-02,\n",
       "        -1.05169243e-01],\n",
       "       [-1.74619315e-01,  2.88272815e-01,  1.07105721e-01,\n",
       "         3.55093694e-01,  2.56973965e-01, -4.15162404e-01,\n",
       "        -7.12746396e-01,  2.76128053e-01,  1.48817569e-02,\n",
       "         3.42609029e-01],\n",
       "       [-6.20444196e-01, -2.46186338e-02,  1.02535283e-01,\n",
       "        -4.27489931e-01,  3.83091832e-01,  1.55651790e-02,\n",
       "        -9.17835404e-02, -3.39682262e-01, -4.72539975e-02,\n",
       "         9.19132191e-01],\n",
       "       [-2.02419777e-01, -6.32913486e-01, -6.09588498e-01,\n",
       "         2.86313376e-01, -2.16495793e-02,  2.72315723e-01,\n",
       "         1.33152562e-01, -7.78604246e-01,  1.68172873e-02,\n",
       "         1.29017654e-01],\n",
       "       [-3.32734096e-01,  3.75718428e-01,  1.75430093e-01,\n",
       "         1.50911172e-01,  1.46890424e-01,  1.81817217e-01,\n",
       "        -3.12688869e-01, -3.84491517e-01, -3.76662937e-01,\n",
       "        -7.38137253e-02],\n",
       "       [-8.39382069e-02,  1.75892711e-01,  1.33183623e-03,\n",
       "        -4.38136663e-01, -4.22379730e-01, -2.38985775e-02,\n",
       "         3.91828778e-01, -1.26222147e-01,  4.04053663e-01,\n",
       "         3.87144467e-03],\n",
       "       [ 3.64263883e-01,  1.23637428e-01,  1.24035045e-01,\n",
       "         2.59251867e-01, -4.41535619e-02,  6.08521051e-01,\n",
       "         8.19989152e-02,  3.63092076e-01, -4.46926730e-01,\n",
       "        -1.28709958e-01],\n",
       "       [ 6.85852542e-01,  4.31453315e-01, -1.83978537e-01,\n",
       "        -1.37074389e-01, -2.87061961e-01, -3.37814394e-01,\n",
       "        -6.38836793e-02,  1.33379351e-01, -3.05073198e-01,\n",
       "        -1.24842027e-01],\n",
       "       [ 2.04215735e-01, -6.11465910e-01, -3.34747650e-01,\n",
       "         2.10700892e-01,  4.11486922e-01, -5.36283602e-01,\n",
       "         1.45367928e-02,  1.47685900e-01,  2.17177514e-01,\n",
       "         1.17849442e-02],\n",
       "       [ 4.57632506e-01, -4.98648585e-01, -1.77097424e-01,\n",
       "        -8.78953799e-02,  1.69310720e-01, -2.60826356e-01,\n",
       "        -3.47331932e-02,  1.73434469e-01,  3.21136828e-01,\n",
       "        -3.41713755e-01],\n",
       "       [-2.48216143e-01, -1.80441812e-01, -1.65853972e-01,\n",
       "         1.07898715e-01,  1.11612188e-02, -4.47631712e-01,\n",
       "        -2.95371591e-01,  8.62274871e-02,  2.12253233e-01,\n",
       "         2.96572685e-01],\n",
       "       [-2.34088921e-01, -1.86432508e-01, -1.03448047e-01,\n",
       "        -1.47497427e-01,  4.48254184e-01, -1.22576176e-01,\n",
       "         4.35640376e-02, -2.34240651e-01,  4.31901113e-01,\n",
       "        -2.96811165e-01],\n",
       "       [ 2.70665134e-01,  3.94179569e-01,  2.59253857e-01,\n",
       "         2.16139892e-01, -1.28258482e-01,  1.63799012e-01,\n",
       "         5.78253695e-02, -6.36204131e-02,  3.19155600e-01,\n",
       "        -8.78577473e-02],\n",
       "       [ 2.79518186e-01, -2.49058403e-01, -3.08380854e-01,\n",
       "         4.50463111e-01,  5.20861963e-01,  9.72848339e-02,\n",
       "         4.98813036e-02, -4.44329046e-02,  1.15564817e-01,\n",
       "         5.10551320e-01],\n",
       "       [ 3.73673819e-01,  3.05704976e-01,  6.90640756e-01,\n",
       "         2.61959448e-01, -2.84872039e-01, -1.70362656e-01,\n",
       "         3.72567704e-01,  5.79652751e-01,  3.57740135e-03,\n",
       "         2.61196463e-02],\n",
       "       [ 2.26192461e-02,  5.75303312e-01, -1.48166863e-01,\n",
       "        -1.03067306e-01, -6.45178876e-01,  4.06624285e-01,\n",
       "         5.63512414e-02,  1.30459513e-01,  7.58947776e-02,\n",
       "        -1.19742883e-01],\n",
       "       [ 1.67793517e-01,  6.72665561e-02, -7.70618771e-01,\n",
       "         1.43028425e-01, -6.35515900e-02,  1.61300184e-01,\n",
       "        -2.80007410e-01,  2.64275861e-01,  2.64356218e-01,\n",
       "         6.74294147e-01],\n",
       "       [ 8.82964798e-01, -5.00343122e-02,  3.53518199e-02,\n",
       "        -4.84045658e-01, -9.70973811e-02,  5.30116256e-02,\n",
       "         1.90341139e-01, -1.07497938e-01, -3.02620786e-01,\n",
       "        -3.37956899e-03],\n",
       "       [-5.83557502e-01,  2.12790788e-01, -1.00412634e-01,\n",
       "        -1.11306074e-01,  1.85609104e-01, -6.18636847e-01,\n",
       "        -4.48980220e-01, -1.04871655e-01,  4.18529356e-01,\n",
       "        -4.21483654e-01],\n",
       "       [-2.23080658e-01,  4.85454013e-01,  1.79669068e-01,\n",
       "        -1.02683970e-01,  4.23213818e-01, -4.56000489e-01,\n",
       "         2.36442062e-01, -6.15560629e-01, -5.05038772e-01,\n",
       "        -2.52848712e-01],\n",
       "       [ 9.16922062e-01,  6.34055096e-01, -2.38362883e-01,\n",
       "         4.62267534e-01,  3.98349787e-01,  6.76071877e-01,\n",
       "         6.05107414e-01,  3.47300473e-01,  1.56340286e-01,\n",
       "        -2.93468205e-01],\n",
       "       [ 1.00264531e-01, -3.95718264e-01, -5.91105892e-01,\n",
       "        -9.68898219e-02,  1.25171647e-01, -4.03228874e-01,\n",
       "        -2.95432502e-01,  3.15595425e-01,  2.50388047e-01,\n",
       "        -6.78662974e-01]])"
      ]
     },
     "execution_count": 431,
     "metadata": {},
     "output_type": "execute_result"
    }
   ],
   "source": [
    "l3.output_weight.val"
   ]
  },
  {
   "cell_type": "code",
   "execution_count": 432,
   "metadata": {},
   "outputs": [
    {
     "data": {
      "text/plain": [
       "array([[0, 0, 0, 0, 0, 0, 0, 0, 0, 0, 0, 0, 0, 0, 0, 0, 0, 0, 0, 0, 0, 0,\n",
       "        0, 0, 0, 0, 0, 0, 0, 0, 0, 0, 0, 0, 0, 0, 0, 0, 0, 0, 0, 0, 0, 0,\n",
       "        0, 0, 0, 0, 0, 0]])"
      ]
     },
     "execution_count": 432,
     "metadata": {},
     "output_type": "execute_result"
    }
   ],
   "source": [
    "l3.val"
   ]
  },
  {
   "cell_type": "code",
   "execution_count": 433,
   "metadata": {},
   "outputs": [
    {
     "data": {
      "text/plain": [
       "array([[ 0.79954577],\n",
       "       [ 0.21106686],\n",
       "       [-0.07571242],\n",
       "       [ 0.23552675],\n",
       "       [ 0.22483998],\n",
       "       [-0.04415023],\n",
       "       [-0.08776268],\n",
       "       [ 0.12151827],\n",
       "       [ 0.15595564],\n",
       "       [ 0.17852104]])"
      ]
     },
     "execution_count": 433,
     "metadata": {},
     "output_type": "execute_result"
    }
   ],
   "source": [
    "l4.output_weight.val"
   ]
  },
  {
   "cell_type": "code",
   "execution_count": 434,
   "metadata": {},
   "outputs": [
    {
     "data": {
      "text/plain": [
       "array([[0, 0, 0, 0, 0, 0, 0, 0, 0, 0]])"
      ]
     },
     "execution_count": 434,
     "metadata": {},
     "output_type": "execute_result"
    }
   ],
   "source": [
    "l4.val"
   ]
  },
  {
   "cell_type": "code",
   "execution_count": 435,
   "metadata": {},
   "outputs": [
    {
     "data": {
      "text/plain": [
       "array([[0.]])"
      ]
     },
     "execution_count": 435,
     "metadata": {},
     "output_type": "execute_result"
    }
   ],
   "source": [
    "output_layer.val"
   ]
  },
  {
   "cell_type": "code",
   "execution_count": 29,
   "metadata": {},
   "outputs": [
    {
     "data": {
      "image/png": "[encoded data removed]",
      "text/plain": [
       "<Figure size 432x288 with 1 Axes>"
      ]
     },
     "metadata": {
      "needs_background": "light"
     },
     "output_type": "display_data"
    }
   ],
   "source": [
    "# Pred vs Real\n",
    "res = []\n",
    "for i in range(1000):\n",
    "    x = np.array(random.choices(range(100), k=10))\n",
    "    x = x/x.sum()\n",
    "    y_percise = x.dot(vector) \n",
    "    y_real = x.dot(vector) + (random.random()-0.5)*0.02\n",
    "    y_predict = nk.predict(x)\n",
    "    res.append(y_predict[0][0]-y_real)\n",
    "\n",
    "#     print('x:',x)\n",
    "#     print('y_percise:',y_percise)\n",
    "#     print('y_real:',y_real)\n",
    "#     print('y_predict:',y_predict)\n",
    "\n",
    "#     print('l1:\\n',l1.val)\n",
    "#     print('l4:\\n',l4.val)\n",
    "#     pl()\n",
    "res = pd.DataFrame(res)\n",
    "res.hist()\n",
    "plt.show()"
   ]
  },
  {
   "cell_type": "code",
   "execution_count": 13,
   "metadata": {},
   "outputs": [
    {
     "data": {
      "image/png": "[encoded data removed]",
      "text/plain": [
       "<Figure size 432x288 with 1 Axes>"
      ]
     },
     "metadata": {
      "needs_background": "light"
     },
     "output_type": "display_data"
    }
   ],
   "source": [
    "# Pred vs Percise\n",
    "res = []\n",
    "for i in range(1000):\n",
    "    x = np.array(random.choices(range(100), k=10))\n",
    "    x = x/x.sum()\n",
    "    y_percise = x.dot(vector) \n",
    "    y_real = x.dot(vector) + (random.random()-0.5)*0.02\n",
    "    y_predict = nk.predict(x)\n",
    "    res.append(y_predict[0][0]-y_percise)\n",
    "\n",
    "#     print('x:',x)\n",
    "#     print('y_percise:',y_percise)\n",
    "#     print('y_real:',y_real)\n",
    "#     print('y_predict:',y_predict)\n",
    "\n",
    "#     print('l1:\\n',l1.val)\n",
    "#     print('l4:\\n',l4.val)\n",
    "#     pl()\n",
    "res = pd.DataFrame(res)\n",
    "res.hist()\n",
    "plt.show()"
   ]
  },
  {
   "cell_type": "code",
   "execution_count": 14,
   "metadata": {},
   "outputs": [
    {
     "data": {
      "text/plain": [
       "'\\n\\n很精确的\\n\\nLooks Good\\n'"
      ]
     },
     "execution_count": 14,
     "metadata": {},
     "output_type": "execute_result"
    }
   ],
   "source": [
    "\"\"\"\n",
    "\n",
    "当前设置非常容易出现参数消失\n",
    "\n",
    "\n",
    "找一种函数可以自动的大变小，小变大\n",
    "\n",
    "\"\"\""
   ]
  },
  {
   "cell_type": "markdown",
   "metadata": {},
   "source": [
    "## Notes"
   ]
  },
  {
   "cell_type": "markdown",
   "metadata": {},
   "source": [
    "https://app.yinxiang.com/shard/s18/nl/18934792/e81511f4-0b23-48bc-b627-22416bbf9554"
   ]
  },
  {
   "cell_type": "code",
   "execution_count": null,
   "metadata": {},
   "outputs": [],
   "source": [
    "\"\"\"\n",
    "\n",
    "\n",
    "\"\"\""
   ]
  },
  {
   "cell_type": "code",
   "execution_count": null,
   "metadata": {},
   "outputs": [],
   "source": []
  }
 ],
 "metadata": {
  "kernelspec": {
   "display_name": "Python 3",
   "language": "python",
   "name": "python3"
  },
  "language_info": {
   "codemirror_mode": {
    "name": "ipython",
    "version": 3
   },
   "file_extension": ".py",
   "mimetype": "text/x-python",
   "name": "python",
   "nbconvert_exporter": "python",
   "pygments_lexer": "ipython3",
   "version": "3.7.3"
  }
 },
 "nbformat": 4,
 "nbformat_minor": 2
}
