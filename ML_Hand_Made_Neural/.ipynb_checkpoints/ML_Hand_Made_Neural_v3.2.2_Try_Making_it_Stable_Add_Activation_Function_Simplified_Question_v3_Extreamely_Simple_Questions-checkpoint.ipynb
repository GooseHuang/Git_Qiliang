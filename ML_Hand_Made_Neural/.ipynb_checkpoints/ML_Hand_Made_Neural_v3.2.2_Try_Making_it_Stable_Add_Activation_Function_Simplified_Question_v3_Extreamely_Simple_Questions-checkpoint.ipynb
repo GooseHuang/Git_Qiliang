{
 "cells": [
  {
   "cell_type": "code",
   "execution_count": 1,
   "metadata": {},
   "outputs": [
    {
     "data": {
      "text/plain": [
       "\"\\nLet's Check Zero one prediction problem\\n\\n\\n\""
      ]
     },
     "execution_count": 1,
     "metadata": {},
     "output_type": "execute_result"
    }
   ],
   "source": [
    "\"\"\"\n",
    "Let's Check Zero one prediction problem\n",
    "\n",
    "\n",
    "\"\"\""
   ]
  },
  {
   "cell_type": "code",
   "execution_count": 2,
   "metadata": {},
   "outputs": [],
   "source": [
    "\n",
    "from IPython.display import display, Markdown, Latex\n",
    "h1 = lambda x: display(Markdown('# '+str(x)))\n",
    "h3 = lambda x: display(Markdown('### '+str(x)))\n",
    "h4 = lambda x: display(Markdown('#### '+ (str(x).replace(' ','&nbsp;') if str(x) else 'None')))\n",
    "h5 = lambda x: display(Markdown('##### '+ (str(x).replace(' ','&nbsp;') if str(x) else 'None')))\n",
    "bl = lambda x: display(Markdown('##### <font color=\"blue\"> %s </font>'%(str(x).replace(' ','&nbsp;') if str(x) else 'None')))\n",
    "rd = lambda x: display(Markdown('##### <font color=\"red\"> %s </font>'%(str(x).replace(' ','&nbsp;') if str(x) else 'None')))\n",
    "rd1 = lambda x: display(Markdown('# <font color=\"red\"> %s </font>'%(str(x).replace(' ','&nbsp;') if str(x) else 'None')))\n",
    "gra = lambda x: display(Markdown('##### <font color=\"gray\"> %s </font>'%(str(x).replace(' ','&nbsp;') if str(x) else 'None')))\n",
    "itc = lambda x: display(Markdown('***'+str(x.strip()) + '***' ))\n",
    "pl = lambda: print('\\n'+'#'*100 + '\\n')\n",
    "pl2 = lambda: print('\\n'+'='*100 + '\\n')\n",
    "pls = lambda: print('\\n'+'#'*50 +' Start '+'#'*50 + '\\n')\n",
    "pn = lambda x=5: print('\\n'*x)\n",
    "\n",
    "from collections import Counter\n"
   ]
  },
  {
   "cell_type": "markdown",
   "metadata": {},
   "source": [
    "## Hand Made Neural Network"
   ]
  },
  {
   "cell_type": "markdown",
   "metadata": {},
   "source": [
    "https://144.34.140.210:8579/notebooks/Git_Qiliang/ML_ANN_Gradiant_Decent/Backpropagation.ipynb"
   ]
  },
  {
   "cell_type": "code",
   "execution_count": 3,
   "metadata": {},
   "outputs": [],
   "source": [
    "import pdb\n",
    "bp = pdb.set_trace\n",
    "\n",
    "import random\n",
    "import uuid\n",
    "import numpy as np\n",
    "import pandas as pd\n",
    "from matplotlib import pyplot as plt\n",
    "import math\n"
   ]
  },
  {
   "cell_type": "code",
   "execution_count": 344,
   "metadata": {},
   "outputs": [],
   "source": [
    "# Direct\n",
    "def relu(x):\n",
    "    return x\n",
    "activation_func = np.vectorize(relu)  \n",
    "\n",
    "         \n",
    "def derivative(x):\n",
    "    return 1\n",
    "derivative_func = np.vectorize(derivative)   \n",
    "\n",
    "\n",
    "# # Relu\n",
    "# def relu(x):\n",
    "#     if x >0:\n",
    "#         return x\n",
    "#     else:\n",
    "#         return 0\n",
    "\n",
    "# activation_func = np.vectorize(relu)  \n",
    "\n",
    "         \n",
    "# def derivative(x):\n",
    "#     if x>0:\n",
    "#         return 1\n",
    "#     else:\n",
    "#         return 0\n",
    "# derivative_func = np.vectorize(derivative)   \n",
    "\n",
    "\n",
    "# # Sigmoid\n",
    "# def relu(x):\n",
    "#     if x<-100:\n",
    "#         return 0\n",
    "#     elif x>100:\n",
    "#         return 1\n",
    "#     else:\n",
    "#         y = 1/(1+np.exp(-x))\n",
    "#         return y\n",
    "# activation_func = np.vectorize(relu)  \n",
    "\n",
    "         \n",
    "# def derivative(x):\n",
    "#     return x*(1-x)\n",
    "# derivative_func = np.vectorize(derivative)   \n",
    "    \n",
    "\n",
    "    \n",
    "\n",
    "# def relu(x):\n",
    "#     if x>0:\n",
    "#         if x<5:\n",
    "#             return x\n",
    "#         else:\n",
    "#             return 5\n",
    "#     else:\n",
    "#         return 0\n",
    "\n",
    "\n",
    "# activation_func = np.vectorize(relu)  \n",
    "# # activation_func = np.vectorize(lambda x: x) \n",
    "         \n",
    "# def derivative(x):\n",
    "#     if x>0:\n",
    "#             return 1\n",
    "#     else:\n",
    "#         return 0\n",
    "# #         return -1\n",
    "# #         return 1\n",
    "# derivative_func = np.vectorize(derivative)   \n",
    "    \n",
    "    \n",
    "class Weight:\n",
    "    def __init__(self,m,n):\n",
    "        self.sigma = 0.2# 0.1 # 0.3 #0.2\n",
    "        self.mu = 0 #0.5\n",
    "        self.m = m\n",
    "        self.n = n\n",
    "        self.val = self.sigma * np.random.randn(m,n) + self.mu\n",
    "#         self.normalize()\n",
    "        \n",
    "    def normalize(self):\n",
    "        self.val = self.val/self.val.sum()\n",
    "\n",
    "class Layer:\n",
    "    def __init__(self,n,id=None,output_ind=False):\n",
    "        self.val = None\n",
    "        self.id = id\n",
    "        self.input_weight = None\n",
    "        self.output_weight = None\n",
    "        self.pre_layer = None\n",
    "        self.next_layer = None\n",
    "        self.n = n\n",
    "        self.delta_weight = None\n",
    "        self.output_ind = output_ind\n",
    "        \n",
    "        \n",
    "    def full_connect(self,other):\n",
    "        m = self.n\n",
    "        n = other.n\n",
    "        weight = Weight(m,n)\n",
    "        self.output_weight = weight\n",
    "        other.input_weight = weight\n",
    "        \n",
    "        self.next_layer = other\n",
    "        other.pre_layer = self\n",
    "    \n",
    "    def stats(self):\n",
    "        print(\"n:\",self.n)\n",
    "        if self.output_weight:\n",
    "            print('Weight:',self.output_weight.val.shape)\n",
    "        print()\n",
    "            \n",
    "    def pull_in(self,input_list):\n",
    "        self.val = np.array([input_list,])\n",
    "#         self.val = self.val/self.val.sum()\n",
    "            \n",
    "    def forwarding(self):\n",
    "#         print(self.id,'forwarding')\n",
    "        val = self.val.dot(self.output_weight.val)\n",
    "        try:\n",
    "            if self.next_layer:\n",
    "                if not self.next_layer.output_ind:\n",
    "                    self.next_layer.val = activation_func(val)   \n",
    "                else:\n",
    "                    self.next_layer.val = val \n",
    "        except:\n",
    "#             bp()\n",
    "            raise\n",
    "        \n",
    "    def backwarding(self, error_term, learning_rate):\n",
    "#         print(self.id,'backwarding')\n",
    "        pre = self.pre_layer\n",
    "        K1 = pre.output_weight.val\n",
    "#         print(K1.shape)\n",
    "        while(pre.pre_layer):\n",
    "            pre = pre.pre_layer\n",
    "            K1 = pre.output_weight.val.dot(K1)\n",
    "            \n",
    "        K1 = pre.val.dot(K1)\n",
    "#         print('K1:',K1.shape)\n",
    "\n",
    "\n",
    "        next_layer = self.next_layer\n",
    "        if next_layer.output_weight:\n",
    "            K2 = next_layer.output_weight.val\n",
    "            while(next_layer.next_layer.output_weight):\n",
    "                next_layer = next_layer.next_layer\n",
    "                K2 = K2.dot(next_layer.output_weight.val) \n",
    "#             print(\"K2:\",K2.shape)\n",
    "        else:\n",
    "            K2 = np.array([[1]])\n",
    "                   \n",
    "        derivative = (K1.T*self.val.T).dot(K2.T)\n",
    "#         derivative = K1.T.dot(K2.T)\n",
    "#         bp()\n",
    "    \n",
    "        if not self.output_ind:\n",
    "            K3 = derivative_func(self.val)\n",
    "#             bp()\n",
    "            derivative = derivative*K3.T\n",
    "#         bp()\n",
    "#         print(\"Derivative:\",derivative.shape)\n",
    "#         return derivative\n",
    "\n",
    "#         derivative = derivative/derivative.sum()\n",
    "    \n",
    "        delta_weight = learning_rate*(-1)*(error_term)*derivative\n",
    "#         bp()\n",
    "#         print('delta_weight:',delta_weight)\n",
    "        if type(self.delta_weight)!=type(None):\n",
    "            self.delta_weight += delta_weight\n",
    "        else:\n",
    "            self.delta_weight = delta_weight\n",
    "    \n",
    "    def update_weights(self):\n",
    "        if type(self.delta_weight)!=type(None):\n",
    "            self.output_weight.val += self.delta_weight\n",
    "            self.delta_weight = None\n",
    "    \n",
    "class Network:\n",
    "    def __init__(self,input_layer,output_layer):\n",
    "        self.input_layer = input_layer\n",
    "        self.output_layer = output_layer\n",
    "        self.learning_rate = 0.01\n",
    "        \n",
    "    def set_learning_rate(self,rate):\n",
    "        self.learning_rate = rate\n",
    "        \n",
    "              \n",
    "    def batch_forwarding(self):\n",
    "        cur = self.input_layer\n",
    "        while(cur.next_layer):\n",
    "            cur.forwarding()\n",
    "            cur = cur.next_layer\n",
    "             \n",
    "    def get_error_term(self,ground_truth_list):      \n",
    "        error = self.output_layer.val-ground_truth_list\n",
    "        return error\n",
    "    \n",
    "    def batch_backwarding(self, error_term):\n",
    "        cur = self.input_layer.next_layer\n",
    "        while(cur and cur.output_weight):\n",
    "            cur.backwarding(error_term, self.learning_rate)\n",
    "            cur = cur.next_layer\n",
    "            \n",
    "    def one_train(self,x,y):\n",
    "        input_layer.pull_in(x)\n",
    "        self.batch_forwarding()\n",
    "        error_term = self.get_error_term(y)\n",
    "        self.batch_backwarding(error_term)\n",
    "        \n",
    "        \n",
    "    def batch_update_weights(self):\n",
    "        cur = self.input_layer.next_layer\n",
    "        while(cur and cur.output_weight):\n",
    "            cur.update_weights() \n",
    "            cur = cur.next_layer\n",
    "\n",
    "    def batch_train(self,X,Y,batch_size=20):\n",
    "        i=0\n",
    "        for i,(x,y) in enumerate(zip(X,Y)):\n",
    "            self.one_train(x,y)\n",
    "            if i%batch_size==0:\n",
    "                self.batch_update_weights()\n",
    "        self.batch_update_weights()\n",
    "        \n",
    "        \n",
    "    def predict(self,x):\n",
    "        input_layer.pull_in(x)\n",
    "        self.batch_forwarding()\n",
    "        return self.output_layer.val\n",
    "    \n",
    "    \n",
    "#     def save(self,model_dir='./model.json'):\n",
    "#         res = []\n",
    "#         cur = self.input_layer\n",
    "#         while(cur.output_weight):\n",
    "#             res.append(cur)\n",
    "         \n",
    "#     def load(self,model_dir='./model.json')\n",
    "#         pass\n",
    "\n",
    "\n",
    "\n",
    "# # Networks\n",
    "# input_layer = Layer(10,'in')\n",
    "# l1 = Layer(10,'l1')\n",
    "# l2 = Layer(50,'l2')\n",
    "# l3 = Layer(50,'l3')\n",
    "# l4 = Layer(10,'l4')\n",
    "# output_layer = Layer(1,'out')\n",
    "\n",
    "\n",
    "# input_layer.full_connect(l1)\n",
    "# l1.full_connect(l2)\n",
    "# l2.full_connect(l3)\n",
    "# l3.full_connect(l4)\n",
    "# l4.full_connect(output_layer)\n",
    "\n",
    "# x = random.choices(range(100), k=10)\n",
    "\n",
    "# print(x)\n",
    "# y = np.array([[1]])\n",
    "\n",
    "# nk = Network(input_layer,output_layer)\n",
    "# nk.one_train(x,y)\n",
    "\n"
   ]
  },
  {
   "cell_type": "code",
   "execution_count": 345,
   "metadata": {},
   "outputs": [
    {
     "data": {
      "text/plain": [
       "'\\n最简单和最直接的方法是什么\\n\\n看起来不行\\n\\n如何保证每次都有进步呢？  这种简单的信息是如何被学到的呢？\\n\\n这是一个超级不稳定的系统\\n\\n\\n产生合理的顿感系数\\n\\n\\n\\n'"
      ]
     },
     "execution_count": 345,
     "metadata": {},
     "output_type": "execute_result"
    }
   ],
   "source": [
    "\"\"\"\n",
    "最简单和最直接的方法是什么\n",
    "\n",
    "看起来不行\n",
    "\n",
    "如何保证每次都有进步呢？  这种简单的信息是如何被学到的呢？\n",
    "\n",
    "这是一个超级不稳定的系统\n",
    "\n",
    "\n",
    "产生合理的顿感系数\n",
    "\n",
    "\n",
    "\n",
    "\"\"\""
   ]
  },
  {
   "cell_type": "code",
   "execution_count": 360,
   "metadata": {},
   "outputs": [],
   "source": [
    "# # Networks\n",
    "# input_layer = Layer(10,'in')\n",
    "# l1 = Layer(10,'l1')\n",
    "# l2 = Layer(50,'l2')\n",
    "# l3 = Layer(50,'l3')\n",
    "# l4 = Layer(10,'l4')\n",
    "# output_layer = Layer(1,'out',output_ind=True)\n",
    "\n",
    "# input_layer.full_connect(l1)\n",
    "# l1.full_connect(l2)\n",
    "# l2.full_connect(l3)\n",
    "# l3.full_connect(l4)\n",
    "# l4.full_connect(output_layer)\n",
    "\n",
    "\n",
    "# # Networks\n",
    "# input_layer = Layer(10,'in')\n",
    "# l1 = Layer(10,'l1')\n",
    "# l2 = Layer(50,'l2')\n",
    "# l2_5 = Layer(50,'l2.5')\n",
    "# l3 = Layer(50,'l3')\n",
    "# l4 = Layer(10,'l4')\n",
    "# output_layer = Layer(1,'out',output_ind=True)\n",
    "\n",
    "# input_layer.full_connect(l1)\n",
    "# l1.full_connect(l2)\n",
    "# l2.full_connect(l2_5)\n",
    "# l2_5.full_connect(l3)\n",
    "# l3.full_connect(l4)\n",
    "# l4.full_connect(output_layer)\n",
    "\n",
    "# # Networks\n",
    "# input_layer = Layer(1,'in')\n",
    "# l1 = Layer(10,'l1')\n",
    "# l2 = Layer(50,'l2')\n",
    "# l3 = Layer(50,'l3')\n",
    "# l4 = Layer(50,'l4')\n",
    "# output_layer = Layer(1,'out',output_ind=True)\n",
    "\n",
    "# input_layer.full_connect(l1)\n",
    "# l1.full_connect(l2)\n",
    "# l2.full_connect(l3)\n",
    "# l3.full_connect(l4)\n",
    "# l4.full_connect(output_layer)\n",
    "\n",
    "\n",
    "\n",
    "# Networks\n",
    "input_layer = Layer(1,'in')\n",
    "l1 = Layer(10,'l1')\n",
    "l2 = Layer(10,'l2')\n",
    "output_layer = Layer(1,'out',output_ind=True)\n",
    "\n",
    "input_layer.full_connect(l1)\n",
    "l1.full_connect(l2)\n",
    "l2.full_connect(output_layer)\n",
    "\n",
    "nk = Network(input_layer,output_layer)"
   ]
  },
  {
   "cell_type": "code",
   "execution_count": null,
   "metadata": {},
   "outputs": [],
   "source": []
  },
  {
   "cell_type": "code",
   "execution_count": 504,
   "metadata": {},
   "outputs": [],
   "source": [
    "X = []\n",
    "Y = []\n",
    "# for i in range(1):\n",
    "# for i in range(10):\n",
    "# for i in range(100):\n",
    "# for i in range(500):\n",
    "# for i in range(1000):\n",
    "# for i in range(10000):\n",
    "# for i in range(100000):\n",
    "for i in range(1000000):\n",
    "# for i in range(5000000):\n",
    "#     x = np.array(random.choices(range(100), k=10))\n",
    "    x = np.array([np.random.rand(),])\n",
    "    if x>0.5:\n",
    "        y=1\n",
    "    else:\n",
    "        y=0\n",
    "        X.append(x)\n",
    "        Y.append(y)"
   ]
  },
  {
   "cell_type": "code",
   "execution_count": 505,
   "metadata": {
    "scrolled": true
   },
   "outputs": [],
   "source": [
    "# nk.set_learning_rate(0.0000000000001)\n",
    "# nk.set_learning_rate(0.00000001)\n",
    "nk.set_learning_rate(0.00001)\n",
    "# nk.set_learning_rate(0.0001)\n",
    "# nk.set_learning_rate(0.001)\n",
    "# nk.set_learning_rate(0.01)\n",
    "# nk.set_learning_rate(0.1)\n",
    "# nk.set_learning_rate(1)\n",
    "# nk.set_learning_rate(2)\n",
    "nk.batch_train(X,Y)"
   ]
  },
  {
   "cell_type": "code",
   "execution_count": 506,
   "metadata": {},
   "outputs": [
    {
     "name": "stdout",
     "output_type": "stream",
     "text": [
      "x: [0.12643655]\n",
      "y_real: 0\n",
      "y_predict: [[0.40920147]]\n",
      "rate: [[0.30898362]]\n"
     ]
    }
   ],
   "source": [
    "x = np.array([np.random.rand(),])\n",
    "if x>0.5:\n",
    "    y=1\n",
    "else:\n",
    "    y=0\n",
    "y_predict = nk.predict(x)\n",
    "\n",
    "print('x:',x)\n",
    "print('y_real:',y)\n",
    "print('y_predict:',y_predict)\n",
    "print('rate:',x/y_predict)\n",
    "\n",
    "# print('l1:\\n',l1.val)\n",
    "# print('l2:\\n',l2.val)\n",
    "# print('l3:\\n',l3.val)\n",
    "# print('l4:\\n',l4.val)\n",
    "# pl()"
   ]
  },
  {
   "cell_type": "code",
   "execution_count": 427,
   "metadata": {},
   "outputs": [
    {
     "data": {
      "text/plain": [
       "3.117410647566187"
      ]
     },
     "execution_count": 427,
     "metadata": {},
     "output_type": "execute_result"
    }
   ],
   "source": [
    "0.15581657/0.04998269"
   ]
  },
  {
   "cell_type": "code",
   "execution_count": 429,
   "metadata": {},
   "outputs": [
    {
     "data": {
      "text/plain": [
       "3.1174105273320314"
      ]
     },
     "execution_count": 429,
     "metadata": {},
     "output_type": "execute_result"
    }
   ],
   "source": [
    "0.88346529/0.28339716"
   ]
  },
  {
   "cell_type": "code",
   "execution_count": 435,
   "metadata": {},
   "outputs": [
    {
     "data": {
      "text/plain": [
       "3.117404944991884"
      ]
     },
     "execution_count": 435,
     "metadata": {},
     "output_type": "execute_result"
    }
   ],
   "source": [
    "0.38026729/0.121982"
   ]
  },
  {
   "cell_type": "code",
   "execution_count": 439,
   "metadata": {},
   "outputs": [
    {
     "data": {
      "text/plain": [
       "3.1173993249015366"
      ]
     },
     "execution_count": 439,
     "metadata": {},
     "output_type": "execute_result"
    }
   ],
   "source": [
    "0.70735711/0.22690616"
   ]
  },
  {
   "cell_type": "code",
   "execution_count": null,
   "metadata": {},
   "outputs": [],
   "source": [
    "3.11734317\n",
    "rate: [[0.94361637]]"
   ]
  },
  {
   "cell_type": "code",
   "execution_count": 403,
   "metadata": {},
   "outputs": [
    {
     "data": {
      "text/plain": [
       "'\\n需要有偏置项？\\n\\n使用更简单的网络试试\\n\\n\\n也许可以储备多种终端传导方式供选择   \\n\\n有多种结合体？ 不同特性的    如何连接\\n\\n似乎没有学到   但是成功产生收敛了   因为weight叠加加成的影响，学习率变得很重要\\n\\n初始weight的选取似乎影响很大\\n\\n'"
      ]
     },
     "execution_count": 403,
     "metadata": {},
     "output_type": "execute_result"
    }
   ],
   "source": [
    "\"\"\"\n",
    "尝试下非0、1，看是否会收敛   可以收敛\n",
    "\n",
    "需要有偏置项？\n",
    "\n",
    "使用更简单的网络试试\n",
    "\n",
    "\n",
    "也许可以储备多种终端传导方式供选择   \n",
    "\n",
    "有多种结合体？ 不同特性的    如何连接\n",
    "\n",
    "似乎没有学到   但是成功产生收敛了   因为weight叠加加成的影响，学习率变得很重要\n",
    "\n",
    "初始weight的选取似乎影响很大\n",
    "\n",
    "\"\"\""
   ]
  },
  {
   "cell_type": "code",
   "execution_count": 220,
   "metadata": {},
   "outputs": [
    {
     "data": {
      "text/plain": [
       "array([[0.58560121]])"
      ]
     },
     "execution_count": 220,
     "metadata": {},
     "output_type": "execute_result"
    }
   ],
   "source": [
    "input_layer.val"
   ]
  },
  {
   "cell_type": "code",
   "execution_count": 221,
   "metadata": {
    "scrolled": true
   },
   "outputs": [
    {
     "data": {
      "text/plain": [
       "array([[-5.83841606e-02,  1.59875727e-01, -9.76441043e-02,\n",
       "        -2.43167898e-02,  3.26445969e-01, -1.47019191e-01,\n",
       "         1.51163607e-01, -6.10046774e-02, -1.38496394e-01,\n",
       "        -7.35173548e-02,  2.08661667e-01,  1.77490307e-01,\n",
       "         4.31967855e-02, -2.88842087e-01, -1.89794981e-01,\n",
       "        -2.51859569e-01, -5.02327973e-02, -1.81442996e-02,\n",
       "         1.35500150e-01,  1.60785843e-01,  1.49996530e-01,\n",
       "        -3.91018877e-01,  7.30428977e-02,  1.64781001e-01,\n",
       "         4.01024758e-02,  1.59729671e-01,  1.69116873e-01,\n",
       "         2.77360008e-02, -3.15039042e-01,  5.45916705e-02,\n",
       "        -2.10101847e-02, -9.56638934e-02, -2.93580392e-02,\n",
       "        -1.71071805e-01, -2.47319375e-01,  2.60907894e-01,\n",
       "        -3.02718108e-03, -3.85380049e-01, -1.71870478e-01,\n",
       "        -1.24832376e-01, -3.76520333e-01, -2.14593770e-01,\n",
       "         2.42199708e-01, -8.38343019e-02, -3.70856520e-02,\n",
       "         2.34095560e-02, -1.12415997e-01,  1.74718753e-02,\n",
       "         1.39543173e-01,  7.68809082e-02],\n",
       "       [ 1.76926316e-01, -1.52673389e-01,  3.17619365e-01,\n",
       "        -1.00480459e-01, -3.76905169e-01, -2.10853782e-01,\n",
       "         3.68697226e-02, -1.75718235e-01,  1.25628619e-01,\n",
       "        -5.82949878e-02,  2.87492590e-01, -9.29105428e-02,\n",
       "        -4.55562805e-01,  5.06706522e-02,  1.11530387e-01,\n",
       "        -1.14560190e-02,  4.29091633e-01, -2.44372204e-01,\n",
       "        -1.90273977e-01,  2.09824586e-02, -4.30271461e-01,\n",
       "         4.92799228e-02, -2.07775033e-01, -3.07422741e-01,\n",
       "        -1.19710177e-01,  3.16107484e-01,  2.20193770e-01,\n",
       "         3.76074014e-02,  8.29481853e-03,  2.52585960e-02,\n",
       "        -2.01775318e-01, -3.96092886e-01,  3.82994545e-02,\n",
       "        -1.48918805e-01,  6.21303841e-02,  4.88236125e-02,\n",
       "         1.37567141e-01,  5.60067801e-01,  1.25575275e-02,\n",
       "        -5.19379147e-01, -3.91951297e-01, -3.15267181e-01,\n",
       "        -1.77812669e-01, -1.74423813e-01, -9.85288456e-02,\n",
       "         1.48352420e-01, -1.35714115e-01, -1.39844070e-01,\n",
       "         2.34358707e-01,  1.36274124e-02],\n",
       "       [-9.80985125e-02, -9.67606617e-02, -2.05325367e-01,\n",
       "         1.36395233e-01,  7.54245890e-02, -5.55817818e-02,\n",
       "         8.58858932e-02, -1.46045360e-02,  2.36272811e-01,\n",
       "        -1.19009236e-01,  1.12264911e-01, -1.70601929e-01,\n",
       "         1.76798058e-01, -5.94279903e-02,  2.27266668e-02,\n",
       "        -4.45483050e-02,  1.01064503e-01, -4.58659413e-01,\n",
       "        -4.86172819e-02, -1.83785010e-01, -3.50179316e-02,\n",
       "        -9.64764779e-02, -3.28084920e-01,  2.64600487e-01,\n",
       "        -8.06934105e-02,  2.36657955e-01, -4.47836897e-02,\n",
       "         1.12363210e-01, -3.44343712e-01,  1.79342163e-02,\n",
       "         6.50467068e-02, -3.46264404e-01,  1.53805904e-01,\n",
       "        -8.87114612e-02, -1.03354895e-01,  2.44719252e-01,\n",
       "        -4.11531559e-02, -1.40624769e-01, -2.43825842e-01,\n",
       "        -2.33902374e-01,  8.96874242e-02,  3.11120155e-01,\n",
       "        -8.55597116e-02,  3.50673492e-01, -2.02707579e-03,\n",
       "        -1.81854545e-01,  1.26111627e-01, -1.25042582e-01,\n",
       "         8.54734329e-02,  4.99169605e-01],\n",
       "       [-1.59330709e-01,  2.75361345e-01, -2.06647692e-01,\n",
       "         5.27189251e-02,  9.58577894e-02,  2.67690233e-01,\n",
       "        -2.07480961e-01, -1.47605292e-01,  3.99313158e-01,\n",
       "         7.39132437e-02,  7.35202723e-02, -1.79965933e-01,\n",
       "         3.94250524e-01, -2.60081850e-02,  2.44457231e-01,\n",
       "        -7.86601138e-02,  1.47330476e-02, -3.07151963e-03,\n",
       "         2.88981469e-02,  9.14610447e-02, -1.11768707e-01,\n",
       "         1.36130902e-01,  1.59185089e-01, -7.45678981e-02,\n",
       "        -2.69698059e-02,  2.22134199e-01,  1.87243534e-01,\n",
       "        -2.93103091e-01, -2.18852061e-02, -1.30289620e-01,\n",
       "        -4.62917642e-02,  1.43321719e-01, -6.57538637e-02,\n",
       "        -3.26511932e-03, -1.13218153e-01, -1.72482728e-01,\n",
       "        -1.00926809e-02, -1.05259125e-01, -9.28380578e-02,\n",
       "         9.63196609e-02, -4.72281583e-01,  1.14464643e-01,\n",
       "        -1.71691808e-01,  4.09636054e-02, -5.94634878e-02,\n",
       "         4.42297211e-01,  3.40644451e-01, -2.38646346e-01,\n",
       "         1.46690903e-01,  2.82631585e-01],\n",
       "       [-3.64775171e-01, -1.35919606e-01, -2.88237339e-01,\n",
       "         7.74129499e-02,  2.45722702e-01,  6.88584854e-02,\n",
       "        -1.00702257e-01, -1.43778077e-01,  2.94287752e-01,\n",
       "        -2.80314707e-02, -4.77535331e-02,  1.45573446e-02,\n",
       "        -9.79548294e-02, -2.49643469e-01,  2.34817223e-01,\n",
       "        -1.85698602e-02,  1.38343676e-01,  1.41512684e-01,\n",
       "        -2.33265055e-02, -1.62453152e-01, -2.25691056e-01,\n",
       "        -2.72249381e-02, -1.15655875e-01, -5.18285136e-02,\n",
       "        -1.81980078e-01,  5.96125932e-02,  3.35712141e-01,\n",
       "        -1.37739804e-01,  1.47750311e-01, -4.93729889e-01,\n",
       "        -1.18894160e-01,  2.11851579e-01, -4.05932668e-02,\n",
       "         7.03390684e-02, -7.14274479e-02,  1.77403446e-01,\n",
       "         3.41035962e-01, -1.03154790e-01,  3.80158416e-01,\n",
       "        -2.69871040e-01, -7.79490779e-02, -1.34360492e-01,\n",
       "        -1.31339390e-01,  1.34160879e-01, -1.35089191e-02,\n",
       "        -2.50104658e-02,  6.08864225e-02,  1.97301243e-01,\n",
       "        -1.30327747e-01,  1.54691509e-01],\n",
       "       [ 2.96289899e-01,  3.37137011e-02,  1.39360192e-02,\n",
       "         1.84102769e-01,  1.29637048e-01,  1.51050849e-01,\n",
       "        -3.25830062e-01, -1.44966711e-01,  1.74579052e-01,\n",
       "         1.96483987e-01,  6.13738803e-02,  3.68103557e-01,\n",
       "         1.72047253e-01, -3.76667455e-02, -7.97597783e-02,\n",
       "        -2.30675816e-01, -4.40673678e-02,  5.54703037e-02,\n",
       "         1.66260723e-01, -4.21305003e-02, -1.87581118e-01,\n",
       "         2.84918576e-01,  4.33649939e-01, -2.14188468e-01,\n",
       "         2.58325758e-01, -1.66825435e-02,  1.37948134e-01,\n",
       "        -4.93620104e-01, -1.58009835e-01,  2.86867824e-01,\n",
       "        -1.82108237e-01, -2.23858542e-01,  2.17649589e-01,\n",
       "         1.90382987e-02, -2.46005976e-01,  2.82594709e-01,\n",
       "         3.42750210e-01, -3.40875456e-01, -1.83966605e-02,\n",
       "        -7.54080803e-02, -1.77023630e-01,  3.06266268e-01,\n",
       "        -2.60572418e-01, -6.89523699e-02,  1.22477853e-01,\n",
       "         4.77142410e-02, -3.48199750e-01,  3.78271180e-01,\n",
       "        -1.76329989e-01, -2.30288830e-01],\n",
       "       [ 1.70049151e-01,  2.41158727e-01, -1.74116486e-01,\n",
       "         3.23491068e-02,  4.64366257e-02,  3.42423902e-01,\n",
       "        -3.56111998e-01, -3.81542456e-01,  6.39069341e-02,\n",
       "        -4.39165391e-02, -5.89147774e-02,  8.65997543e-02,\n",
       "         1.44725110e-01, -2.23029431e-01,  5.27939411e-02,\n",
       "         2.24542330e-01,  8.31299202e-02, -1.42247429e-01,\n",
       "        -1.46447540e-01, -1.04819236e-01,  1.72652286e-01,\n",
       "        -1.47500634e-01, -2.85524553e-01,  6.78894869e-02,\n",
       "        -1.79027031e-01,  1.31444618e-01, -3.96958286e-01,\n",
       "         1.05904283e-01, -7.91695248e-02,  1.20343466e-01,\n",
       "        -6.66723838e-03,  1.07504008e-01,  2.68626825e-01,\n",
       "        -7.70882878e-02,  4.38714369e-01, -9.89799593e-02,\n",
       "        -3.28732015e-04, -1.75100439e-01, -2.16002257e-01,\n",
       "        -3.40201537e-02, -3.75642045e-01, -2.61629889e-01,\n",
       "         2.54209478e-01,  9.01096334e-02, -7.22409394e-01,\n",
       "        -2.60095101e-01, -1.19218057e-01, -6.93383416e-02,\n",
       "         3.86577426e-02, -1.26659956e-01],\n",
       "       [ 2.56569233e-01, -1.80351039e-01, -2.65644457e-01,\n",
       "         6.19590512e-02,  5.45593705e-01, -7.23631505e-02,\n",
       "        -6.59906561e-02, -3.28450392e-01, -3.82179576e-02,\n",
       "         1.07768546e-01, -2.36608082e-01,  3.24914583e-01,\n",
       "         1.24168661e-01,  2.54400041e-01, -1.37195483e-01,\n",
       "        -4.71717756e-02,  1.20861629e-01, -1.40463517e-01,\n",
       "        -2.60980470e-02, -2.80285946e-01, -1.46069732e-01,\n",
       "        -1.82086183e-01,  2.42155593e-01,  2.80039649e-02,\n",
       "         5.06570550e-02,  3.37426072e-01,  1.51870564e-01,\n",
       "        -1.03378599e-01,  1.33871277e-01,  2.30253808e-01,\n",
       "        -1.53377539e-01,  2.50872364e-01,  3.12822070e-02,\n",
       "         1.10645605e-01,  3.47900424e-01,  1.42739569e-01,\n",
       "         6.43171024e-02, -1.20727756e-01,  5.26970714e-02,\n",
       "        -5.79579605e-01, -1.58237604e-01,  4.94284434e-03,\n",
       "         3.64984467e-01, -3.12781867e-01,  3.91394513e-01,\n",
       "         1.66371117e-01,  2.47062903e-01, -3.49083021e-02,\n",
       "         3.85648537e-01,  1.70613589e-02],\n",
       "       [ 6.78582748e-02,  1.49891740e-02,  1.35206684e-01,\n",
       "         9.01508211e-02,  1.51678399e-01,  1.84812249e-02,\n",
       "         2.92503105e-02,  3.22284835e-01,  8.82525519e-02,\n",
       "        -1.59115802e-01,  7.89969375e-02,  3.10176638e-01,\n",
       "        -1.29492527e-01, -7.44896497e-02, -5.90336929e-03,\n",
       "        -1.41626204e-01, -7.03857651e-02, -1.88609857e-01,\n",
       "        -2.46727992e-02,  1.23644707e-01,  8.32480713e-02,\n",
       "        -6.34355619e-02,  3.07841200e-01,  2.10361287e-01,\n",
       "        -3.61773081e-02,  7.27242422e-02,  2.45483398e-01,\n",
       "         2.51791289e-01, -1.59350329e-01,  1.60242520e-01,\n",
       "        -2.27725745e-01,  1.90184635e-01,  1.68329442e-01,\n",
       "         2.00000972e-02,  4.98406413e-02, -1.74388498e-01,\n",
       "        -2.12949791e-01, -1.80901556e-01, -2.40203356e-01,\n",
       "        -3.70597539e-01, -9.06118745e-02,  3.98846789e-02,\n",
       "        -2.29371748e-01,  4.56824132e-01, -1.10734442e-01,\n",
       "        -6.07625465e-02,  2.02317712e-01,  3.01507380e-01,\n",
       "         2.44515938e-01, -1.73751794e-01],\n",
       "       [ 1.03759260e-01,  2.08208644e-01, -9.15444652e-02,\n",
       "         3.59627043e-01, -2.35361958e-01,  1.00178741e-01,\n",
       "         3.09244039e-02, -1.07150415e-01,  4.13788257e-01,\n",
       "        -9.41490913e-02,  2.62740912e-01,  2.49932064e-02,\n",
       "        -4.52387683e-01,  8.15074882e-02, -4.14528586e-01,\n",
       "         1.21612699e-01,  1.79854418e-01,  2.85818736e-01,\n",
       "         4.83522912e-02, -5.30894008e-02, -3.29611264e-02,\n",
       "         1.88633475e-01,  3.63675624e-01,  1.40380250e-01,\n",
       "         2.36470888e-01,  1.09277405e-01, -1.55948083e-01,\n",
       "         3.37199458e-01,  1.53079839e-01, -1.92894563e-01,\n",
       "         4.18923661e-02,  2.85178211e-02, -1.58838394e-03,\n",
       "        -3.83351518e-01, -1.46774802e-01,  3.33066573e-01,\n",
       "         2.26213800e-02, -3.35441384e-01,  2.90079489e-01,\n",
       "         3.22283744e-02, -3.16241345e-02,  2.67584951e-01,\n",
       "         1.35608733e-01,  7.68448752e-02,  3.60995854e-01,\n",
       "         1.18957920e-01,  3.57973057e-01, -2.13007354e-02,\n",
       "         9.87041059e-02, -4.25214122e-02]])"
      ]
     },
     "execution_count": 221,
     "metadata": {},
     "output_type": "execute_result"
    }
   ],
   "source": [
    "l1.output_weight.val"
   ]
  },
  {
   "cell_type": "code",
   "execution_count": 168,
   "metadata": {},
   "outputs": [
    {
     "data": {
      "text/plain": [
       "array([[-0.08746892, -0.01180136,  0.00829178,  0.00467142, -0.00968312,\n",
       "        -0.02018527,  0.0091286 ,  0.00252669, -0.00312581, -0.06764962]])"
      ]
     },
     "execution_count": 168,
     "metadata": {},
     "output_type": "execute_result"
    }
   ],
   "source": [
    "l1.val"
   ]
  },
  {
   "cell_type": "code",
   "execution_count": 169,
   "metadata": {},
   "outputs": [
    {
     "data": {
      "text/plain": [
       "array([[ 0.50955934, -0.18056819, -0.14014381, ...,  0.2150705 ,\n",
       "         0.48985946,  0.0086994 ],\n",
       "       [ 0.67617799, -0.34681971,  0.21316451, ...,  0.34839674,\n",
       "         0.14525553, -0.36118593],\n",
       "       [-0.35341964,  0.01537269, -0.15254973, ...,  0.10854696,\n",
       "         0.00440901,  0.03643905],\n",
       "       ...,\n",
       "       [-0.23709402,  0.15308738, -0.36258111, ..., -0.20372472,\n",
       "         0.23614095, -0.10056012],\n",
       "       [-0.75321606, -0.24009424, -0.29402255, ...,  0.22006575,\n",
       "         0.09237358,  0.00752325],\n",
       "       [-0.29495973, -0.09761436, -0.54517645, ...,  0.01305571,\n",
       "         0.3241681 , -0.0225372 ]])"
      ]
     },
     "execution_count": 169,
     "metadata": {},
     "output_type": "execute_result"
    }
   ],
   "source": [
    "l2.output_weight.val"
   ]
  },
  {
   "cell_type": "code",
   "execution_count": 170,
   "metadata": {},
   "outputs": [
    {
     "data": {
      "text/plain": [
       "array([[-0.04493706, -0.01252948, -0.05500102,  0.06561082, -0.04437205,\n",
       "        -0.01049943, -0.04263223,  0.0163712 ,  0.00242183, -0.0433442 ,\n",
       "         0.07183695,  0.05434986, -0.00242082,  0.05400033,  0.02500544,\n",
       "        -0.01174492,  0.03304365, -0.03689774,  0.01333461, -0.02378916,\n",
       "         0.01039982,  0.04858056, -0.07207484, -0.01687468, -0.01822032,\n",
       "         0.00542879, -0.00680638, -0.04220316, -0.01553353, -0.00619614,\n",
       "         0.006388  , -0.05687082,  0.00841843,  0.00628656,  0.00952218,\n",
       "        -0.00016962, -0.00658621,  0.05661344,  0.00091893, -0.01498832,\n",
       "        -0.02332029,  0.0094584 , -0.03800848, -0.00166083,  0.03307885,\n",
       "         0.01292697, -0.00849442, -0.00080574, -0.03422231, -0.01486073]])"
      ]
     },
     "execution_count": 170,
     "metadata": {},
     "output_type": "execute_result"
    }
   ],
   "source": [
    "l2.val"
   ]
  },
  {
   "cell_type": "code",
   "execution_count": 171,
   "metadata": {
    "scrolled": true
   },
   "outputs": [
    {
     "data": {
      "text/plain": [
       "array([[-0.21687436, -0.2941624 ,  0.16822897, ..., -0.25208303,\n",
       "        -0.26676303,  0.00284637],\n",
       "       [-0.24814809, -0.12578653,  0.35846065, ...,  0.26147035,\n",
       "         0.20592374, -0.1803767 ],\n",
       "       [-0.15056684,  0.18561818, -0.23164456, ...,  0.25230887,\n",
       "         0.15922066, -0.15555275],\n",
       "       ...,\n",
       "       [ 0.03608389, -0.17335529,  0.19898177, ..., -0.21197662,\n",
       "         0.21166451,  0.49462689],\n",
       "       [ 0.41988608, -0.00927433,  0.30255739, ...,  0.28389179,\n",
       "        -0.14911535, -0.05962151],\n",
       "       [-0.18905381,  0.28519119,  0.00100285, ...,  0.34574108,\n",
       "        -0.3400062 , -0.05504826]])"
      ]
     },
     "execution_count": 171,
     "metadata": {},
     "output_type": "execute_result"
    }
   ],
   "source": [
    "l3.output_weight.val"
   ]
  },
  {
   "cell_type": "code",
   "execution_count": 172,
   "metadata": {},
   "outputs": [
    {
     "data": {
      "text/plain": [
       "array([[-0.0448213 , -0.09597967,  0.15219009, -0.02098392, -0.01542579,\n",
       "         0.09494079,  0.07638696, -0.03950973,  0.04936815, -0.1340145 ,\n",
       "         0.06359826, -0.07932735, -0.11411186,  0.09979221,  0.00661891,\n",
       "         0.0620844 ,  0.11725831,  0.06986508, -0.01274057,  0.06124108,\n",
       "        -0.16231666,  0.02456043,  0.11478645, -0.03131714,  0.05246287,\n",
       "         0.04524489,  0.05091013,  0.06980575,  0.10163752, -0.00526721,\n",
       "         0.01843964, -0.01907829, -0.07055152, -0.0279046 ,  0.11104129,\n",
       "        -0.03212377, -0.03017175, -0.03964   , -0.20767085, -0.04121024,\n",
       "        -0.01572604, -0.02189955,  0.09660757, -0.10100486, -0.07814193,\n",
       "        -0.04451283,  0.00635976, -0.02774449,  0.0031036 ,  0.12775591]])"
      ]
     },
     "execution_count": 172,
     "metadata": {},
     "output_type": "execute_result"
    }
   ],
   "source": [
    "l3.val"
   ]
  },
  {
   "cell_type": "code",
   "execution_count": 173,
   "metadata": {},
   "outputs": [
    {
     "data": {
      "text/plain": [
       "array([[-0.59472918],\n",
       "       [-0.24441027],\n",
       "       [ 0.62609755],\n",
       "       [-0.10691708],\n",
       "       [ 0.30003725],\n",
       "       [ 0.18347305],\n",
       "       [ 0.18243542],\n",
       "       [ 0.16239599],\n",
       "       [-0.22661432],\n",
       "       [ 0.02297569],\n",
       "       [ 0.69880413],\n",
       "       [ 0.56031021],\n",
       "       [ 0.08163068],\n",
       "       [ 0.04369627],\n",
       "       [ 0.45100922],\n",
       "       [ 0.18293961],\n",
       "       [-0.0116464 ],\n",
       "       [-0.55731291],\n",
       "       [ 0.2540942 ],\n",
       "       [ 0.09632412],\n",
       "       [ 0.50653305],\n",
       "       [-0.28051569],\n",
       "       [ 0.0069488 ],\n",
       "       [ 0.10843931],\n",
       "       [ 0.03860016],\n",
       "       [ 0.47657341],\n",
       "       [-0.08330561],\n",
       "       [-0.17609592],\n",
       "       [-0.05295108],\n",
       "       [-0.25617296],\n",
       "       [ 0.55676044],\n",
       "       [-0.07676087],\n",
       "       [-0.07558063],\n",
       "       [-0.01314843],\n",
       "       [-0.23466799],\n",
       "       [ 0.41508251],\n",
       "       [-0.25120104],\n",
       "       [ 0.01402803],\n",
       "       [-0.13615577],\n",
       "       [ 0.01784295],\n",
       "       [ 0.30223832],\n",
       "       [-0.57344112],\n",
       "       [ 0.36587298],\n",
       "       [-0.06703676],\n",
       "       [ 0.10811401],\n",
       "       [ 0.33392039],\n",
       "       [-0.22295409],\n",
       "       [ 0.16608182],\n",
       "       [-0.29362472],\n",
       "       [-0.12071313]])"
      ]
     },
     "execution_count": 173,
     "metadata": {},
     "output_type": "execute_result"
    }
   ],
   "source": [
    "l4.output_weight.val"
   ]
  },
  {
   "cell_type": "code",
   "execution_count": 174,
   "metadata": {},
   "outputs": [
    {
     "data": {
      "text/plain": [
       "array([[ 1.95236050e-01,  9.57827551e-02,  1.54415396e-02,\n",
       "         1.90973974e-01, -1.90742693e-01,  1.40109049e-01,\n",
       "         1.30953365e-01,  1.74646112e-01,  5.09469716e-02,\n",
       "        -6.48411898e-02, -3.11482187e-01,  1.79225692e-01,\n",
       "        -1.63757917e-04, -1.08607787e-01,  1.28668819e-02,\n",
       "         1.73872095e-01,  8.19001427e-03,  1.69637233e-01,\n",
       "         7.29088121e-03, -3.03357257e-01, -4.05746328e-01,\n",
       "         1.66482086e-01, -6.84090987e-02,  8.80046900e-02,\n",
       "         1.04884739e-01,  1.17373835e-01,  1.73952463e-02,\n",
       "        -7.02409628e-02, -1.74645586e-01, -1.15991539e-01,\n",
       "        -3.60247616e-02, -1.36674438e-02,  3.14791959e-01,\n",
       "         8.52311187e-02,  4.59278015e-02,  2.57992622e-02,\n",
       "         4.82661233e-02,  3.51150368e-03, -6.80787839e-02,\n",
       "         1.16164178e-01, -4.16179338e-01,  2.80416144e-03,\n",
       "        -3.33978546e-01,  4.34409281e-02, -2.09042447e-02,\n",
       "        -2.25706641e-01, -3.88800903e-02,  9.62131200e-02,\n",
       "         1.38550807e-01,  2.41214260e-01]])"
      ]
     },
     "execution_count": 174,
     "metadata": {},
     "output_type": "execute_result"
    }
   ],
   "source": [
    "l4.val"
   ]
  },
  {
   "cell_type": "code",
   "execution_count": 175,
   "metadata": {},
   "outputs": [
    {
     "data": {
      "text/plain": [
       "array([[-0.90226704]])"
      ]
     },
     "execution_count": 175,
     "metadata": {},
     "output_type": "execute_result"
    }
   ],
   "source": [
    "output_layer.val"
   ]
  },
  {
   "cell_type": "code",
   "execution_count": 176,
   "metadata": {},
   "outputs": [
    {
     "data": {
      "text/plain": [
       "-0.9022670437452267"
      ]
     },
     "execution_count": 176,
     "metadata": {},
     "output_type": "execute_result"
    }
   ],
   "source": [
    "output_layer.val[0][0]"
   ]
  },
  {
   "cell_type": "markdown",
   "metadata": {},
   "source": [
    "\"\"\"\n",
    "\n",
    "当前设置非常容易出现参数消失\n",
    "\n",
    "\n",
    "找一种函数可以自动的大变小，小变大\n",
    "\n",
    "\"\"\""
   ]
  },
  {
   "cell_type": "markdown",
   "metadata": {},
   "source": [
    "## Notes"
   ]
  },
  {
   "cell_type": "markdown",
   "metadata": {},
   "source": [
    "https://app.yinxiang.com/shard/s18/nl/18934792/e81511f4-0b23-48bc-b627-22416bbf9554"
   ]
  },
  {
   "cell_type": "code",
   "execution_count": null,
   "metadata": {},
   "outputs": [],
   "source": [
    "\"\"\"\n",
    "\n",
    "\n",
    "\"\"\""
   ]
  },
  {
   "cell_type": "code",
   "execution_count": null,
   "metadata": {},
   "outputs": [],
   "source": []
  }
 ],
 "metadata": {
  "kernelspec": {
   "display_name": "Python 3",
   "language": "python",
   "name": "python3"
  },
  "language_info": {
   "codemirror_mode": {
    "name": "ipython",
    "version": 3
   },
   "file_extension": ".py",
   "mimetype": "text/x-python",
   "name": "python",
   "nbconvert_exporter": "python",
   "pygments_lexer": "ipython3",
   "version": "3.7.3"
  }
 },
 "nbformat": 4,
 "nbformat_minor": 2
}
