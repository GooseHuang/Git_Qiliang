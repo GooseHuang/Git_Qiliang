{
 "cells": [
  {
   "cell_type": "code",
   "execution_count": null,
   "metadata": {},
   "outputs": [],
   "source": [
    "输入: [10,2]\n",
    "输出: \"102\""
   ]
  },
  {
   "cell_type": "code",
   "execution_count": null,
   "metadata": {},
   "outputs": [],
   "source": [
    "输入: [3,30,34,5,9]\n",
    "输出: \"3033459\""
   ]
  },
  {
   "cell_type": "code",
   "execution_count": 4,
   "metadata": {},
   "outputs": [
    {
     "data": {
      "text/plain": [
       "'3033459'"
      ]
     },
     "execution_count": 4,
     "metadata": {},
     "output_type": "execute_result"
    }
   ],
   "source": [
    "\n",
    "class Solution:\n",
    "    def compare(self, init, cmp):\n",
    "        if (int(init + cmp) >= int(cmp + init)):\n",
    "            return True\n",
    "        return False\n",
    "    def minNumber(self, numbers):\n",
    "        numbers = [str(i) for i in numbers]\n",
    "        for i in range(len(numbers) - 1):\n",
    "            for j in range(i + 1, len(numbers)):\n",
    "                if self.compare(numbers[i], numbers[j]):\n",
    "                    numbers[i], numbers[j] = numbers[j], numbers[i]\n",
    "        return ''.join(numbers)\n",
    "\n",
    "s = Solution()\n",
    "s.minNumber([3,30,34,5,9])"
   ]
  },
  {
   "cell_type": "code",
   "execution_count": null,
   "metadata": {},
   "outputs": [],
   "source": []
  }
 ],
 "metadata": {
  "kernelspec": {
   "display_name": "Python 3",
   "language": "python",
   "name": "python3"
  },
  "language_info": {
   "codemirror_mode": {
    "name": "ipython",
    "version": 3
   },
   "file_extension": ".py",
   "mimetype": "text/x-python",
   "name": "python",
   "nbconvert_exporter": "python",
   "pygments_lexer": "ipython3",
   "version": "3.7.3"
  }
 },
 "nbformat": 4,
 "nbformat_minor": 2
}
