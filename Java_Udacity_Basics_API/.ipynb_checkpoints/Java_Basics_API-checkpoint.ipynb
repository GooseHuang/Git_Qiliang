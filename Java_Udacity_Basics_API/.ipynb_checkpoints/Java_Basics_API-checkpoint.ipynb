{
 "cells": [
  {
   "cell_type": "code",
   "execution_count": null,
   "metadata": {},
   "outputs": [],
   "source": [
    "\"\"\"\n",
    "你去花一些时间思考过的\n",
    "\n",
    "第二遍能看得很清楚\n",
    "\n",
    "\n",
    "You have just forgotent this that can open you up.\n",
    "\n",
    "Try a bunch\n",
    "\n",
    "Choose one to focus. Unless they help each other.\n",
    "\n",
    "\"\"\""
   ]
  },
  {
   "cell_type": "markdown",
   "metadata": {},
   "source": [
    "## Class Math\n",
    "https://docs.oracle.com/javase/8/docs/api/java/lang/Math.html"
   ]
  },
  {
   "cell_type": "markdown",
   "metadata": {},
   "source": [
    "## Class Date\n",
    "https://docs.oracle.com/javase/8/docs/api/java/util/Date.html"
   ]
  },
  {
   "cell_type": "markdown",
   "metadata": {},
   "source": [
    "## Class String\n",
    "https://docs.oracle.com/javase/8/docs/api/java/lang/String.html"
   ]
  },
  {
   "cell_type": "markdown",
   "metadata": {},
   "source": [
    "## Class Character\n",
    "https://docs.oracle.com/javase/8/docs/api/java/lang/Character.html"
   ]
  },
  {
   "cell_type": "code",
   "execution_count": null,
   "metadata": {},
   "outputs": [],
   "source": []
  },
  {
   "cell_type": "markdown",
   "metadata": {},
   "source": [
    "## Class StringBuilder\n",
    "https://docs.oracle.com/javase/8/docs/api/java/lang/StringBuilder.html"
   ]
  },
  {
   "cell_type": "markdown",
   "metadata": {},
   "source": [
    "```java\n",
    "StringBuilder sb = new StringBuilder(\"Good Morning\");\n",
    "sb.insert(1, \"Friend \");\n",
    "System.out.println(sb.toString()); \n",
    "```"
   ]
  },
  {
   "cell_type": "markdown",
   "metadata": {},
   "source": [
    "## Class StringBuffer \n",
    "https://docs.oracle.com/javase/8/docs/api/java/lang/StringBuffer.html"
   ]
  },
  {
   "cell_type": "markdown",
   "metadata": {},
   "source": [
    "## Class Pattern\n",
    "https://docs.oracle.com/javase/8/docs/api/java/lang/StringBuffer.html"
   ]
  },
  {
   "cell_type": "markdown",
   "metadata": {},
   "source": [
    "```java\n",
    "// Email Adress\n",
    "^[_A-Za-z0-9-]+(\\\\.[_A-Za-z0-9-]+)*@[A-Za-z0-9-]+(\\\\.[A-Za-z0-9-]+)*(\\\\.[A-Za-z]{2,})$\n",
    "```"
   ]
  },
  {
   "cell_type": "markdown",
   "metadata": {},
   "source": [
    "```java\n",
    "public static String vowelOnly(String input) {\n",
    "}\n",
    "```"
   ]
  },
  {
   "cell_type": "code",
   "execution_count": null,
   "metadata": {},
   "outputs": [],
   "source": [
    "public class vowelOnly {\n",
    "\n",
    "    public static String vowelOnly(String input) {\n",
    "        \n",
    "\n",
    "\n",
    "\n",
    "    }\n",
    "\n",
    "\n",
    "\n",
    "\n",
    "}\n"
   ]
  }
 ],
 "metadata": {
  "kernelspec": {
   "display_name": "Python 3",
   "language": "python",
   "name": "python3"
  },
  "language_info": {
   "codemirror_mode": {
    "name": "ipython",
    "version": 3
   },
   "file_extension": ".py",
   "mimetype": "text/x-python",
   "name": "python",
   "nbconvert_exporter": "python",
   "pygments_lexer": "ipython3",
   "version": "3.7.3"
  }
 },
 "nbformat": 4,
 "nbformat_minor": 2
}
