{
 "cells": [
  {
   "cell_type": "markdown",
   "metadata": {},
   "source": [
    "# Linked List"
   ]
  },
  {
   "cell_type": "code",
   "execution_count": null,
   "metadata": {},
   "outputs": [],
   "source": [
    "'''\n",
    "可相互利用起来的组合\n",
    "\n",
    "\n",
    "快速收纳法\n",
    "\n",
    "\n",
    "还没有明显的效果，先别吹出去\n",
    "\n",
    "\n",
    "用上  观察反应\n",
    "\n",
    "\n",
    "保持乐观和接纳，别怪别人  物质已经够丰富了\n",
    "\n",
    "\n",
    "会了之后，加上足够的难度，会被承认\n",
    "\n",
    "而且你有相应的专业，去更广的寻找\n",
    "\n",
    "'''"
   ]
  },
  {
   "cell_type": "markdown",
   "metadata": {},
   "source": [
    "```cpp\n",
    "// Definition for singly-linked list.\n",
    "struct SinglyListNode {\n",
    "    int val;\n",
    "    SinglyListNode *next;\n",
    "    SinglyListNode(int x) : val(x), next(NULL) {}\n",
    "};\n",
    "```"
   ]
  },
  {
   "cell_type": "code",
   "execution_count": null,
   "metadata": {},
   "outputs": [],
   "source": []
  }
 ],
 "metadata": {
  "kernelspec": {
   "display_name": "Python 3",
   "language": "python",
   "name": "python3"
  },
  "language_info": {
   "codemirror_mode": {
    "name": "ipython",
    "version": 3
   },
   "file_extension": ".py",
   "mimetype": "text/x-python",
   "name": "python",
   "nbconvert_exporter": "python",
   "pygments_lexer": "ipython3",
   "version": "3.7.3"
  }
 },
 "nbformat": 4,
 "nbformat_minor": 2
}
