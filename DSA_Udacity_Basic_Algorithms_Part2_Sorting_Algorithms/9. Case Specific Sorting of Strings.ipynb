{
 "cells": [
  {
   "cell_type": "markdown",
   "metadata": {},
   "source": [
    "# Case Specific Sorting of Strings\n",
    "\n",
    "## Problem statement\n",
    "Given a string consisting of uppercase and lowercase ASCII characters, write a function, `case_sort`, that sorts uppercase and lowercase letters separately, such that if the $i$th place in the original string had an uppercase character then it should not have a lowercase character after being sorted and vice versa.\n",
    "\n",
    "For example:  \n",
    "**Input:** fedRTSersUXJ  \n",
    "**Output:** deeJRSfrsTUX"
   ]
  },
  {
   "cell_type": "code",
   "execution_count": 9,
   "metadata": {},
   "outputs": [],
   "source": [
    "def mergesort(items):\n",
    "    # Base case, a list of 0 or 1 items is already sorted\n",
    "    if len(items) <= 1:\n",
    "        return items\n",
    "\n",
    "    # Otherwise, find the midpoint and split the list\n",
    "    # TODO\n",
    "    mid = len(items)//2\n",
    "    left = items[:mid]\n",
    "    right = items[mid:]\n",
    "\n",
    "    # Call mergesort recursively with the left and right half\n",
    "    left = mergesort(left)\n",
    "    right = mergesort(right)\n",
    "\n",
    "    # Merge our two halves and return\n",
    "    return merge(left, right)\n",
    "\n",
    "def merge(left, right):\n",
    "    # Given two ordered lists, merge them together in order,\n",
    "    # returning the merged list.\n",
    "    # TODO\n",
    "    new_list = []\n",
    "    i=0\n",
    "    j=0\n",
    "    while(i<len(left) or j<len(right)):\n",
    "        if i==len(left):\n",
    "            while(j<len(right)):\n",
    "                new_list.append(right[j])\n",
    "                j+=1\n",
    "            break;\n",
    "        if j==len(right):\n",
    "            while(i<len(left)):\n",
    "                new_list.append(left[i])\n",
    "                i+=1\n",
    "            break\n",
    "            \n",
    "        if left[i]<=right[j]:\n",
    "            new_list.append(left[i])\n",
    "            i+=1\n",
    "        else:\n",
    "            new_list.append(right[j])\n",
    "            j+=1\n",
    "\n",
    "    return new_list\n",
    "\n",
    "\n",
    "def case_sort(string):\n",
    "    \"\"\"\n",
    "    Here are some pointers on how the function should work:\n",
    "    1. Sort the string\n",
    "    2. Create an empty output list\n",
    "    3. Iterate over original string\n",
    "        if the character is lower-case:\n",
    "            pick lower-case character from sorted string to place in output list\n",
    "        else:\n",
    "            pick upper-case character from sorted string to place in output list\n",
    "    \n",
    "    Note: You can use Python's inbuilt ord() function to find the ASCII value of a character\n",
    "    \"\"\"\n",
    "    items1 = []\n",
    "    items1_index = []\n",
    "    items2 = []\n",
    "    items2_index = []\n",
    "    \n",
    "    for i,s in enumerate(string):\n",
    "        if s.islower():\n",
    "            items1.append(s)\n",
    "            items1_index.append(i)\n",
    "        else:\n",
    "            items2.append(s)\n",
    "            items2_index.append(i)\n",
    "    items1 = mergesort(items1)\n",
    "    items2 = mergesort(items2)\n",
    "    \n",
    "    new_items = ['']*len(string)\n",
    "    for i,s in zip(items1_index,items1):\n",
    "        new_items[i] = s\n",
    "    \n",
    "    for i,s in zip(items2_index,items2):\n",
    "        new_items[i] = s\n",
    "        \n",
    "    return ''.join(new_items)"
   ]
  },
  {
   "cell_type": "code",
   "execution_count": 10,
   "metadata": {},
   "outputs": [],
   "source": [
    "def test_function(test_case):\n",
    "    test_string = test_case[0]\n",
    "    solution = test_case[1]\n",
    "    \n",
    "    if case_sort(test_string) == solution:\n",
    "        print(\"Pass\")\n",
    "    else:\n",
    "        print(\"False\")"
   ]
  },
  {
   "cell_type": "code",
   "execution_count": 11,
   "metadata": {},
   "outputs": [
    {
     "name": "stdout",
     "output_type": "stream",
     "text": [
      "Pass\n"
     ]
    }
   ],
   "source": [
    "test_string = 'fedRTSersUXJ'\n",
    "solution = \"deeJRSfrsTUX\"\n",
    "test_case = [test_string, solution]\n",
    "test_function(test_case)"
   ]
  },
  {
   "cell_type": "code",
   "execution_count": 12,
   "metadata": {},
   "outputs": [
    {
     "name": "stdout",
     "output_type": "stream",
     "text": [
      "Pass\n"
     ]
    }
   ],
   "source": [
    "test_string = \"defRTSersUXI\"\n",
    "solution = \"deeIRSfrsTUX\"\n",
    "test_case = [test_string, solution]\n",
    "test_function(test_case)"
   ]
  },
  {
   "cell_type": "markdown",
   "metadata": {},
   "source": [
    "## Standard Error"
   ]
  },
  {
   "cell_type": "code",
   "execution_count": null,
   "metadata": {},
   "outputs": [],
   "source": [
    "def case_sort(string):\n",
    "    upper_ch_index = 0\n",
    "    lower_ch_index = 0\n",
    "    \n",
    "    sorted_string = sorted(string)\n",
    "    for index, character in enumerate(sorted_string):\n",
    "        # check if character is lower-case\n",
    "        ascii_int = ord(character)\n",
    "        if 97 <= ascii_int <= 122:       # ASCII value of a = 97 & ASCII value of z = 122\n",
    "            lower_ch_index = index\n",
    "            break\n",
    "            \n",
    "    output = list()\n",
    "    for character in string:\n",
    "        ascii_int = ord(character)\n",
    "        # if character is lower case pick next lower_case character\n",
    "        if 97 <= ascii_int <= 122:\n",
    "            output.append(sorted_string[lower_ch_index])\n",
    "            lower_ch_index += 1\n",
    "        else:\n",
    "            output.append(sorted_string[upper_ch_index])\n",
    "            upper_ch_index += 1\n",
    "    return \"\".join(output)\n",
    "\n",
    "\n"
   ]
  }
 ],
 "metadata": {
  "kernelspec": {
   "display_name": "Python 3",
   "language": "python",
   "name": "python3"
  },
  "language_info": {
   "codemirror_mode": {
    "name": "ipython",
    "version": 3
   },
   "file_extension": ".py",
   "mimetype": "text/x-python",
   "name": "python",
   "nbconvert_exporter": "python",
   "pygments_lexer": "ipython3",
   "version": "3.7.3"
  }
 },
 "nbformat": 4,
 "nbformat_minor": 2
}
