{
 "cells": [
  {
   "cell_type": "markdown",
   "metadata": {},
   "source": [
    "```java\n",
    "class Solution {\n",
    "    public int[] sortArray(int[] nums) {\n",
    "        selectionSort2(nums);\n",
    "        return nums;\n",
    "    }\n",
    "\n",
    "    public static void selectionSort2(int[] arr) {\n",
    "        int minIndex, maxIndex;\n",
    "        // i 只需要遍历一半\n",
    "        for (int i = 0; i < arr.length / 2; i++) {\n",
    "            minIndex = i;\n",
    "            maxIndex = i;\n",
    "            for (int j = i + 1; j < arr.length - i; j++) {\n",
    "                if (arr[minIndex] > arr[j]) {\n",
    "                    // 记录最小值的下标\n",
    "                    minIndex = j;\n",
    "                }\n",
    "                if (arr[maxIndex] < arr[j]) {\n",
    "                    // 记录最大值的下标\n",
    "                    maxIndex = j;\n",
    "                }\n",
    "            }\n",
    "            // 如果 minIndex 和 maxIndex 都相等，那么他们必定都等于 i，且后面的所有数字都与 arr[i] 相等，此时已经排序完成\n",
    "            if (minIndex == maxIndex) break;\n",
    "            // 将最小元素交换至首位\n",
    "            swap(arr, i, minIndex);\n",
    "            // 如果最大值的下标刚好是 i，由于 arr[i] 和 arr[minIndex] 已经交换了，所以这里要更新 maxIndex 的值。\n",
    "            if (maxIndex == i) maxIndex = minIndex;\n",
    "            // 将最大元素交换至末尾\n",
    "            swap(arr, arr.length - 1 - i, maxIndex);\n",
    "        }\n",
    "    }\n",
    "\n",
    "    private static void swap(int[] arr, int i, int j) {\n",
    "        int temp = arr[i];\n",
    "        arr[i] = arr[j];\n",
    "        arr[j] = temp;\n",
    "    }\n",
    "}\n",
    "\n",
    "\n",
    "```"
   ]
  },
  {
   "cell_type": "code",
   "execution_count": 2,
   "metadata": {},
   "outputs": [
    {
     "data": {
      "text/plain": [
       "[0, 0, 1, 1, 2, 5]"
      ]
     },
     "execution_count": 2,
     "metadata": {},
     "output_type": "execute_result"
    }
   ],
   "source": [
    "class Solution(object):\n",
    "    def sortArray(self, arr):\n",
    "        \"\"\"\n",
    "        :type nums: List[int]\n",
    "        :rtype: List[int]\n",
    "        \"\"\"\n",
    "        for i in range(len(arr)):\n",
    "            minIndex = i\n",
    "            for j in range(i+1,len(arr)):\n",
    "                if arr[minIndex] > arr[j]:\n",
    "                    minIndex = j\n",
    "            \n",
    "            temp = arr[i]\n",
    "            arr[i] = arr[minIndex]\n",
    "            arr[minIndex] = temp\n",
    "            \n",
    "        return arr\n",
    "            \n",
    "\n",
    "arr = [5,1,1,2,0,0]\n",
    "s = Solution()\n",
    "s.sortArray(arr)"
   ]
  },
  {
   "cell_type": "code",
   "execution_count": null,
   "metadata": {},
   "outputs": [],
   "source": []
  }
 ],
 "metadata": {
  "kernelspec": {
   "display_name": "Python 3",
   "language": "python",
   "name": "python3"
  },
  "language_info": {
   "codemirror_mode": {
    "name": "ipython",
    "version": 3
   },
   "file_extension": ".py",
   "mimetype": "text/x-python",
   "name": "python",
   "nbconvert_exporter": "python",
   "pygments_lexer": "ipython3",
   "version": "3.7.3"
  }
 },
 "nbformat": 4,
 "nbformat_minor": 2
}
