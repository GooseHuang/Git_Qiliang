{
 "cells": [
  {
   "cell_type": "markdown",
   "metadata": {},
   "source": [
    "# Binary Search Template II"
   ]
  },
  {
   "cell_type": "markdown",
   "metadata": {},
   "source": [
    "```cpp\n",
    "int binarySearch(vector<int>& nums, int target){\n",
    "  if(nums.size() == 0)\n",
    "    return -1;\n",
    "\n",
    "  int left = 0, right = nums.size();\n",
    "  while(left < right){\n",
    "    // Prevent (left + right) overflow\n",
    "    int mid = left + (right - left) / 2;\n",
    "    if(nums[mid] == target){ return mid; }\n",
    "    else if(nums[mid] < target) { left = mid + 1; }\n",
    "    else { right = mid; }\n",
    "  }\n",
    "\n",
    "  // Post-processing:\n",
    "  // End Condition: left == right\n",
    "  if(left != nums.size() && nums[left] == target) return left;\n",
    "  return -1;\n",
    "}\n",
    "```"
   ]
  },
  {
   "cell_type": "markdown",
   "metadata": {},
   "source": [
    "## First Bad Version"
   ]
  },
  {
   "cell_type": "markdown",
   "metadata": {},
   "source": [
    "https://leetcode.com/explore/learn/card/binary-search/126/template-ii/947/"
   ]
  },
  {
   "cell_type": "markdown",
   "metadata": {},
   "source": [
    "You are a product manager and currently leading a team to develop a new product. Unfortunately, the latest version of your product fails the quality check. Since each version is developed based on the previous version, all the versions after a bad version are also bad.\n",
    "\n",
    "Suppose you have n versions [1, 2, ..., n] and you want to find out the first bad one, which causes all the following ones to be bad.\n",
    "\n",
    "You are given an API bool isBadVersion(version) which returns whether version is bad. Implement a function to find the first bad version. You should minimize the number of calls to the API."
   ]
  },
  {
   "cell_type": "markdown",
   "metadata": {},
   "source": [
    "##### V1 Accepted\n",
    "```cpp\n",
    "// The API isBadVersion is defined for you.\n",
    "// bool isBadVersion(int version);\n",
    "\n",
    "class Solution {\n",
    "public:\n",
    "    \n",
    "    int binarySearch(int n){\n",
    "        \n",
    "        if(n==1){\n",
    "            return 1;\n",
    "        }\n",
    "        \n",
    "\n",
    "        int left = 1, right = n;\n",
    "        \n",
    "        while(left < right){\n",
    "            // Prevent (left + right) overflow\n",
    "            int mid = left + (right - left) / 2;\n",
    "            bool mid_status = isBadVersion(mid);\n",
    "            bool mid_left_status = isBadVersion(mid-1);\n",
    "            bool mid_right_status = isBadVersion(mid+1);\n",
    "            \n",
    "            if(!mid_left_status and mid_status){ \n",
    "                return mid; \n",
    "            }\n",
    "            if(!mid_status and mid_right_status){ \n",
    "                return mid+1; \n",
    "            }\n",
    "            \n",
    "            else if(mid_status) { \n",
    "                right = mid; \n",
    "            }\n",
    "            else { \n",
    "                left = mid; \n",
    "            }\n",
    "            // cout<<mid<<\" mid\\n\";\n",
    "        }\n",
    "        \n",
    "        \n",
    "        // cout<<left<<\" left\\n\";\n",
    "        // cout<<right<<\" right\\n\";\n",
    "        return -1;\n",
    "    }\n",
    "    \n",
    "    \n",
    "\n",
    "\n",
    "    \n",
    "    int firstBadVersion(int n) {\n",
    "        // cout<<isBadVersion(4)<<\" isBadVersion(4);\\n\";\n",
    "        // cout<<isBadVersion(5)<<\" isBadVersion(5);\\n\";\n",
    "        return binarySearch(n);\n",
    "    }\n",
    "};\n",
    "```"
   ]
  },
  {
   "cell_type": "markdown",
   "metadata": {},
   "source": [
    "### Solution\n",
    "https://leetcode.com/problems/first-bad-version/solution/"
   ]
  },
  {
   "cell_type": "markdown",
   "metadata": {},
   "source": [
    "##### Approach #2 (Binary Search) [Accepted]\n",
    "```java\n",
    "public int firstBadVersion(int n) {\n",
    "    int left = 1;\n",
    "    int right = n;\n",
    "    while (left < right) {\n",
    "        int mid = left + (right - left) / 2;\n",
    "        if (isBadVersion(mid)) {\n",
    "            right = mid;\n",
    "        } else {\n",
    "            left = mid + 1;\n",
    "        }\n",
    "    }\n",
    "    return left;\n",
    "}\n",
    "```"
   ]
  },
  {
   "cell_type": "markdown",
   "metadata": {},
   "source": [
    "## Find Peak Element"
   ]
  },
  {
   "cell_type": "markdown",
   "metadata": {},
   "source": [
    "https://leetcode.com/explore/learn/card/binary-search/126/template-ii/948/"
   ]
  },
  {
   "cell_type": "markdown",
   "metadata": {},
   "source": [
    "A peak element is an element that is strictly greater than its neighbors.\n",
    "\n",
    "Given an integer array nums, find a peak element, and return its index. If the array contains multiple peaks, return the index to any of the peaks.\n",
    "\n",
    "You may imagine that nums[-1] = nums[n] = -∞.\n",
    "\n",
    "You must write an algorithm that runs in O(log n) time.\n",
    "\n",
    " "
   ]
  },
  {
   "cell_type": "markdown",
   "metadata": {},
   "source": [
    "##### v1 failed\n",
    "```cpp\n",
    "class Solution {\n",
    "public:\n",
    "    int findPeakElement(vector<int>& nums) {\n",
    "        \n",
    "        if(nums.size()==1){\n",
    "            return 0;\n",
    "        }\n",
    "        \n",
    "        if(nums[0]>nums[1]){\n",
    "            return 0;\n",
    "        }\n",
    "        \n",
    "        if(nums[nums.size()-1]>nums[nums.size()-2]){\n",
    "            return nums.size()-1;\n",
    "        }\n",
    "        \n",
    "        \n",
    "        \n",
    "        int left = 0;\n",
    "        int right = nums.size()-1;\n",
    "        while (left < right) {\n",
    "            int mid = left + (right - left) / 2;\n",
    "            \n",
    "            \n",
    "            if(nums[mid]>nums[mid-1] & nums[mid]>nums[mid+1]){\n",
    "                return mid;\n",
    "            }\n",
    "\n",
    "            if(mid-left==1){\n",
    "                if(nums[mid]>nums[mid-1] and nums[mid]>nums[mid+1]){\n",
    "                    return mid;\n",
    "                }\n",
    "            }\n",
    "            \n",
    "            if(right-mid==1){\n",
    "                if(nums[mid]>nums[mid-1] and nums[mid]>nums[mid+1]){\n",
    "                    return mid;\n",
    "                }\n",
    "            }\n",
    "           \n",
    "\n",
    "            if (nums[mid]-nums[left]<mid-left) {\n",
    "                right = mid;\n",
    "            } else {\n",
    "                left = mid + 1;\n",
    "            }\n",
    "        }\n",
    "        return left-1;\n",
    "        \n",
    "        \n",
    "        \n",
    "    }\n",
    "};\n",
    "```"
   ]
  },
  {
   "cell_type": "code",
   "execution_count": null,
   "metadata": {},
   "outputs": [],
   "source": [
    "# Test\n",
    "[1,6,5,4,3,2,1]"
   ]
  }
 ],
 "metadata": {
  "kernelspec": {
   "display_name": "Python 3",
   "language": "python",
   "name": "python3"
  },
  "language_info": {
   "codemirror_mode": {
    "name": "ipython",
    "version": 3
   },
   "file_extension": ".py",
   "mimetype": "text/x-python",
   "name": "python",
   "nbconvert_exporter": "python",
   "pygments_lexer": "ipython3",
   "version": "3.7.3"
  }
 },
 "nbformat": 4,
 "nbformat_minor": 2
}
