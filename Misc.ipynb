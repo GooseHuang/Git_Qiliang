{
 "cells": [
  {
   "cell_type": "code",
   "execution_count": 1,
   "metadata": {},
   "outputs": [],
   "source": [
    "import os\n",
    "import re\n",
    "def searchFolder(contents, path = './'):\n",
    "    ## Comment this for Linux\n",
    "    #path = path.replace('/','\\\\')\n",
    "    for subdir, dirs, files in os.walk(path):\n",
    "        for filename in files:\n",
    "            if os.path.splitext(filename)[1] in ['.zip','.xls','.xlsx','.pyc']:\n",
    "                continue\n",
    "            filepath = os.path.abspath(subdir + os.sep + filename)\n",
    "            # print(filepath)\n",
    "            try:\n",
    "                with open(filepath,'r',encoding='utf-8',errors='ignore') as f:\n",
    "                    f = f.readlines()\n",
    "                    f = ''.join(f)\n",
    "                    if contents.lower() in f.lower():\n",
    "                        print(filepath.replace('/root/','https://144.34.140.210:8579/notebooks/'))\n",
    "#                         print(re.sub('/+|\\\\+','\\\\',filepath))\n",
    "            except(Exception) as e:\n",
    "                pass\n",
    "                print(e)\n",
    "                print('Failed: ',filepath)\n"
   ]
  },
  {
   "cell_type": "markdown",
   "metadata": {},
   "source": [
    "https://144.34.140.210:8579/notebooks/Git_Qiliang/Misc.ipynb"
   ]
  },
  {
   "cell_type": "code",
   "execution_count": null,
   "metadata": {},
   "outputs": [
    {
     "name": "stdout",
     "output_type": "stream",
     "text": [
      "https://144.34.140.210:8579/notebooks/Git_Qiliang/Misc.ipynb\n",
      "https://144.34.140.210:8579/notebooks/Git_Qiliang/DSA_Google_Interview/DSA_Google_Arrays_and_Strings.ipynb\n",
      "https://144.34.140.210:8579/notebooks/Git_Qiliang/DSA_Array_and_String/DSA_Array_and_String_Part3_Introduction_to_String.ipynb\n",
      "https://144.34.140.210:8579/notebooks/Git_Qiliang/DSA_Array_and_String/.ipynb_checkpoints/DSA_Array_and_String_Part3_Introduction_to_String-checkpoint.ipynb\n",
      "https://144.34.140.210:8579/notebooks/Git_Qiliang/ML_NLP_Part_of_Speech_Tagging_with_HMMs/hmm-tagger-master/brown-universal.txt\n",
      "https://144.34.140.210:8579/notebooks/Git_Qiliang/DSA_Hash_Table/DSA_Conclusion.ipynb\n",
      "https://144.34.140.210:8579/notebooks/Git_Qiliang/ML_NLP_Topic_Modeling/abcnews-date-text.csv\n",
      "https://144.34.140.210:8579/notebooks/Git_Qiliang/.git/logs/HEAD\n",
      "https://144.34.140.210:8579/notebooks/Git_Qiliang/.git/logs/refs/heads/main\n"
     ]
    }
   ],
   "source": [
    "searchFolder('longest')"
   ]
  },
  {
   "cell_type": "code",
   "execution_count": 15,
   "metadata": {},
   "outputs": [
    {
     "name": "stdout",
     "output_type": "stream",
     "text": [
      "1P/AV0qU2T8jANKqEaURc4ERGnE=\n"
     ]
    }
   ],
   "source": [
    "import base64\n",
    "import hmac\n",
    "from hashlib import sha1\n",
    "def hash_hmac(code,key,sha1):\n",
    "    hmac_code=hmac.new(key.encode(),code.encode(),sha1).digest()\n",
    "    return base64.b64encode(hmac_code).decode()\n",
    "if __name__=='__main__':\n",
    "    \n",
    "    text = \"uid=PyMLsmusCr1hQQ-Zf\"\n",
    "    \n",
    "    print(hash_hmac(text,'S0GCJFjyZLSY7MRNe',sha1))"
   ]
  },
  {
   "cell_type": "code",
   "execution_count": 16,
   "metadata": {},
   "outputs": [
    {
     "name": "stdout",
     "output_type": "stream",
     "text": [
      "\n",
      "\n",
      "https://api.seniverse.com/v3?uid=PyMLsmusCr1hQQ-Zf&locations=29.5617:120.0962&sig=gpxTYz1ZhpnQdPjyoIMHCNMSMTA=\n",
      "\n",
      "https://api.seniverse.com/v3/weather/now.json?key=S0GCJFjyZLSY7MRNe&location=beijing&language=zh-Hans&unit=c\n",
      "\n",
      "\n"
     ]
    }
   ],
   "source": [
    "text = \"\"\"\n",
    "\n",
    "https://api.seniverse.com/v3?uid=PyMLsmusCr1hQQ-Zf&locations=29.5617:120.0962&sig=gpxTYz1ZhpnQdPjyoIMHCNMSMTA=\n",
    "\n",
    "https://api.seniverse.com/v3/weather/now.json?key=S0GCJFjyZLSY7MRNe&location=beijing&language=zh-Hans&unit=c\n",
    "\n",
    "\"\"\"\n",
    "print(text)"
   ]
  },
  {
   "cell_type": "code",
   "execution_count": null,
   "metadata": {},
   "outputs": [],
   "source": []
  }
 ],
 "metadata": {
  "kernelspec": {
   "display_name": "Python 3",
   "language": "python",
   "name": "python3"
  },
  "language_info": {
   "codemirror_mode": {
    "name": "ipython",
    "version": 3
   },
   "file_extension": ".py",
   "mimetype": "text/x-python",
   "name": "python",
   "nbconvert_exporter": "python",
   "pygments_lexer": "ipython3",
   "version": "3.7.3"
  }
 },
 "nbformat": 4,
 "nbformat_minor": 2
}
