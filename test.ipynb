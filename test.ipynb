{
 "cells": [
  {
   "cell_type": "code",
   "execution_count": 1,
   "metadata": {},
   "outputs": [
    {
     "data": {
      "text/plain": [
       "[1, 2, 3]"
      ]
     },
     "execution_count": 1,
     "metadata": {},
     "output_type": "execute_result"
    }
   ],
   "source": [
    "sorted([1,2,3])"
   ]
  },
  {
   "cell_type": "code",
   "execution_count": 3,
   "metadata": {},
   "outputs": [
    {
     "data": {
      "text/plain": [
       "1"
      ]
     },
     "execution_count": 3,
     "metadata": {},
     "output_type": "execute_result"
    }
   ],
   "source": [
    "4//3"
   ]
  },
  {
   "cell_type": "code",
   "execution_count": 6,
   "metadata": {},
   "outputs": [
    {
     "data": {
      "text/plain": [
       "-2"
      ]
     },
     "execution_count": 6,
     "metadata": {},
     "output_type": "execute_result"
    }
   ],
   "source": [
    "(-3+0)//2"
   ]
  },
  {
   "cell_type": "code",
   "execution_count": null,
   "metadata": {},
   "outputs": [],
   "source": [
    "class Solution:\n",
    "    def findMinHeightTrees(self, n: int, edges: List[List[int]]) -> List[int]:\n",
    "\n",
    "        # edge cases\n",
    "        if n <= 2:\n",
    "            return [i for i in range(n)]\n",
    "\n",
    "        # Build the graph with the adjacency list\n",
    "        neighbors = [set() for i in range(n)]\n",
    "        for start, end in edges:\n",
    "            neighbors[start].add(end)\n",
    "            neighbors[end].add(start)\n",
    "\n",
    "        # Initialize the first layer of leaves\n",
    "        leaves = []\n",
    "        for i in range(n):\n",
    "            if len(neighbors[i]) == 1:\n",
    "                leaves.append(i)\n",
    "\n",
    "        # Trim the leaves until reaching the centroids\n",
    "        remaining_nodes = n\n",
    "        while remaining_nodes > 2:\n",
    "            remaining_nodes -= len(leaves)\n",
    "            new_leaves = []\n",
    "            # remove the current leaves along with the edges\n",
    "            while leaves:\n",
    "                leaf = leaves.pop()\n",
    "                # the only neighbor left for the leaf node\n",
    "                neighbor = neighbors[leaf].pop()\n",
    "                # remove the only edge left\n",
    "                neighbors[neighbor].remove(leaf)\n",
    "                if len(neighbors[neighbor]) == 1:\n",
    "                    new_leaves.append(neighbor)\n",
    "\n",
    "            # prepare for the next round\n",
    "            leaves = new_leaves\n",
    "\n",
    "        # The remaining nodes are the centroids of the graph\n",
    "        return leaves"
   ]
  }
 ],
 "metadata": {
  "kernelspec": {
   "display_name": "Python 3",
   "language": "python",
   "name": "python3"
  },
  "language_info": {
   "codemirror_mode": {
    "name": "ipython",
    "version": 3
   },
   "file_extension": ".py",
   "mimetype": "text/x-python",
   "name": "python",
   "nbconvert_exporter": "python",
   "pygments_lexer": "ipython3",
   "version": "3.7.3"
  }
 },
 "nbformat": 4,
 "nbformat_minor": 2
}
