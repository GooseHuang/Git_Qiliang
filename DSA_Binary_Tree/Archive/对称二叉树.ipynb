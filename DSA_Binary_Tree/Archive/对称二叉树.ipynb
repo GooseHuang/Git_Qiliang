{
 "cells": [
  {
   "cell_type": "code",
   "execution_count": 13,
   "metadata": {},
   "outputs": [],
   "source": [
    "class Solution:\n",
    "    def isSymmetric(self, root: TreeNode) -> bool:\n",
    "        # 如果根不存在，返回True\n",
    "        if not root:\n",
    "            return True\n",
    "\n",
    "        # 判断两边是否对称\n",
    "        def isSame(left, right):\n",
    "            # 如果都不存在，返回True，终止条件\n",
    "            if not left and not right:\n",
    "                return True\n",
    "            # 如果只有一边存在，返回False，终止条件\n",
    "            if not left or not right:\n",
    "                return False\n",
    "            # 如果值不相等，返回False， 终止条件\n",
    "            if left.val != right.val:\n",
    "                return False\n",
    "            # 递归判断\"左子树的左子树\"和\"右子树的右子树\"是否相等，\"左子树的右子树\"和\"右子树的左子树\"是否相等\n",
    "            # and两边是往下传，整体是往上传\n",
    "            return isSame(left.left, right.right) and isSame(left.right, right.left)\n",
    "        \n",
    "        return isSame(root.left, root.right)"
   ]
  },
  {
   "cell_type": "markdown",
   "metadata": {},
   "source": [
    "# 递归"
   ]
  },
  {
   "cell_type": "code",
   "execution_count": 27,
   "metadata": {},
   "outputs": [],
   "source": [
    "# Definition for a binary tree node.\n",
    "class TreeNode(object):\n",
    "    def __init__(self, x):\n",
    "        self.val = x\n",
    "        self.left = None\n",
    "        self.right = None\n",
    "\n",
    "class Solution(object):\n",
    "    def isSymmetric(self, root):\n",
    "        \"\"\"\n",
    "        :type root: TreeNode\n",
    "        :rtype: bool\n",
    "        \"\"\"\n",
    "        if not root:\n",
    "            return True\n",
    "        return self.recursiveTree(root.left, root.right)\n",
    "    \n",
    "    def recursiveTree(self, left, right):\n",
    "        if not left and not right:\n",
    "            return True\n",
    "        elif not left or not right:\n",
    "            return False\n",
    "        elif left.val == right.val:\n",
    "            return self.recursiveTree(left.left, right.right) and self.recursiveTree(left.right, right.left)\n",
    "        else:\n",
    "            return False\n",
    "# 怎么传导下去的？ 很神奇！\n",
    "\n",
    "\n",
    "# [1,2,2,3,4,4,3]\n",
    "root = TreeNode(1)\n",
    "root.left = TreeNode(2)\n",
    "root.right = TreeNode(2)\n",
    "root.left.left = TreeNode(3)\n",
    "root.left.right = TreeNode(4)\n",
    "root.right.left = TreeNode(4)\n",
    "root.right.right = TreeNode(3)\n",
    "s = Solution()\n",
    "print(s.isSymmetric(root))"
   ]
  },
  {
   "cell_type": "markdown",
   "metadata": {},
   "source": [
    "# 迭代"
   ]
  },
  {
   "cell_type": "code",
   "execution_count": 31,
   "metadata": {},
   "outputs": [
    {
     "name": "stdout",
     "output_type": "stream",
     "text": [
      "True\n"
     ]
    }
   ],
   "source": [
    "# Definition for a binary tree node.\n",
    "class TreeNode(object):\n",
    "    def __init__(self, x):\n",
    "        self.val = x\n",
    "        self.left = None\n",
    "        self.right = None\n",
    "\n",
    "class Solution(object):\n",
    "    def isSymmetric(self, root):\n",
    "        \"\"\"\n",
    "        :type root: TreeNode\n",
    "        :rtype: bool\n",
    "        \"\"\"\n",
    "        queue = [root]\n",
    "        while queue:\n",
    "            layer = []\n",
    "            next_queue = []\n",
    "            for node in queue:\n",
    "                if not node:\n",
    "                    layer.append(None)\n",
    "                    continue\n",
    "                \n",
    "                layer.append(node.val)\n",
    "                next_queue.append(node.left)\n",
    "                next_queue.append(node.right)\n",
    "            \n",
    "            if layer != layer[::-1]:\n",
    "                return False\n",
    "            queue = next_queue\n",
    "        return True\n",
    "                \n",
    "            \n",
    "# [1,2,2,3,4,4,3]\n",
    "root = TreeNode(1)\n",
    "root.left = TreeNode(2)\n",
    "root.right = TreeNode(2)\n",
    "root.left.left = TreeNode(3)\n",
    "root.left.right = TreeNode(4)\n",
    "root.right.left = TreeNode(4)\n",
    "root.right.right = TreeNode(3)\n",
    "s = Solution()\n",
    "print(s.isSymmetric(root))"
   ]
  },
  {
   "cell_type": "code",
   "execution_count": 32,
   "metadata": {},
   "outputs": [
    {
     "name": "stdout",
     "output_type": "stream",
     "text": [
      "False\n"
     ]
    }
   ],
   "source": [
    "A = TreeNode('A')\n",
    "B = TreeNode('B')\n",
    "C = TreeNode('C')\n",
    "D = TreeNode('D')\n",
    "E = TreeNode('E')\n",
    "F = TreeNode('F')\n",
    "G = TreeNode('G')\n",
    "H = TreeNode('H')\n",
    "I = TreeNode('I')\n",
    "\n",
    "root = F\n",
    "F.left = B\n",
    "B.left = A\n",
    "B.right = D\n",
    "D.left = C\n",
    "D.right = E\n",
    "\n",
    "F.right = G\n",
    "G.right = I\n",
    "I.left = H\n",
    "\n",
    "s = Solution()\n",
    "print(s.isSymmetric(root))\n"
   ]
  },
  {
   "cell_type": "code",
   "execution_count": 33,
   "metadata": {},
   "outputs": [
    {
     "data": {
      "text/plain": [
       "[3, 4, 4, 3, 2, 2, 1]"
      ]
     },
     "execution_count": 33,
     "metadata": {},
     "output_type": "execute_result"
    }
   ],
   "source": [
    "[1,2,2,3,4,4,3][::-1]"
   ]
  },
  {
   "cell_type": "code",
   "execution_count": null,
   "metadata": {},
   "outputs": [],
   "source": []
  }
 ],
 "metadata": {
  "kernelspec": {
   "display_name": "Python 3",
   "language": "python",
   "name": "python3"
  },
  "language_info": {
   "codemirror_mode": {
    "name": "ipython",
    "version": 3
   },
   "file_extension": ".py",
   "mimetype": "text/x-python",
   "name": "python",
   "nbconvert_exporter": "python",
   "pygments_lexer": "ipython3",
   "version": "3.7.3"
  }
 },
 "nbformat": 4,
 "nbformat_minor": 2
}
