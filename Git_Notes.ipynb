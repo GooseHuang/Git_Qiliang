{
 "cells": [
  {
   "cell_type": "code",
   "execution_count": 2,
   "metadata": {},
   "outputs": [
    {
     "name": "stdout",
     "output_type": "stream",
     "text": [
      "\n",
      "https://www.khanacademy.org/math/multivariable-calculus/applications-of-multivariable-derivatives/lagrange-multipliers-and-constrained-optimization/v/lagrange-multipliers-using-tangency-to-solve-constrained-optimization\n",
      "\n",
      "https://github.com/ddbourgin/numpy-ml\n",
      "\n",
      "https://my.oschina.net/u/4586369/blog/4770352\n",
      "\n",
      "\n"
     ]
    }
   ],
   "source": [
    "text = \"\"\"\n",
    "https://www.khanacademy.org/math/multivariable-calculus/applications-of-multivariable-derivatives/lagrange-multipliers-and-constrained-optimization/v/lagrange-multipliers-using-tangency-to-solve-constrained-optimization\n",
    "\n",
    "https://github.com/ddbourgin/numpy-ml\n",
    "\n",
    "https://my.oschina.net/u/4586369/blog/4770352\n",
    "\n",
    "\"\"\"\n",
    "print(text)"
   ]
  },
  {
   "cell_type": "code",
   "execution_count": null,
   "metadata": {},
   "outputs": [],
   "source": [
    "\"\"\"\n",
    "1. Find 5 real life SVM examples.\n",
    "\n",
    "\n",
    "\n",
    "No hands on meanings. That you can use.\n",
    "\n",
    "Layers gap.\n",
    "\n",
    "\n",
    "\n",
    "\"\"\""
   ]
  },
  {
   "cell_type": "code",
   "execution_count": null,
   "metadata": {},
   "outputs": [
    {
     "name": "stdout",
     "output_type": "stream",
     "text": [
      "./QT_Main/QT_Stock_Returns.ipynb\n",
      "./QT_Main/QT_Data_Processing.ipynb\n",
      "./QT_Main/QT_Market_Mechanics.ipynb\n",
      "./QT_Main/QT_Trading.ipynb\n",
      "./QT_Main/.ipynb_checkpoints/QT_Stock_Returns-checkpoint.ipynb\n",
      "./QT_Main/.ipynb_checkpoints/QT_Market_Mechanics-checkpoint.ipynb\n",
      "./QT_Main/.ipynb_checkpoints/QT_Trading-checkpoint.ipynb\n",
      "./QT_Main/.ipynb_checkpoints/QT_Data_Processing-checkpoint.ipynb\n",
      "./ML_NLP_Pipeline/NLP_Pipeline.ipynb\n",
      "./ML_NLP_Pipeline/Text Processing.ipynb\n",
      "./ML_NLP_Pipeline/Spam Email.ipynb\n",
      "./ML_NLP_Pipeline/smsspamcollection/SMSSpamCollection\n",
      "./ML_NLP_Feature_extraction_and_embeddings/ML_NLP_Feature_extraction_and_embeddings.ipynb\n",
      "./ML_NLP_Feature_extraction_and_embeddings/.ipynb_checkpoints/ML_NLP_Feature_extraction_and_embeddings-checkpoint.ipynb\n",
      "./UD_Hadoop/UD_Hadoop_Intro.ipynb\n",
      "./UD_Hadoop/.ipynb_checkpoints/UD_Hadoop_Intro-checkpoint.ipynb\n",
      "./ML_PCA/ML_PCA_Part2.ipynb\n",
      "./ML_PCA/ML_PCA_Part1.ipynb\n",
      "./ML_PCA/.ipynb_checkpoints/ML_PCA_Part2-checkpoint.ipynb\n",
      "./ML_PCA/.ipynb_checkpoints/ML_PCA_Part1-checkpoint.ipynb\n",
      "./DSA_Recursion/DSA_Recursion_Part4_Complexity_Analysis.ipynb\n",
      "./DSA_Recursion/DSA_Recursion_Part5_Conclusion.ipynb\n",
      "./DSA_Recursion/.ipynb_checkpoints/DSA_Recursion_Part4_Complexity_Analysis-checkpoint.ipynb\n",
      "./DSA_Recursion/.ipynb_checkpoints/DSA_Recursion_Part5_Conclusion-checkpoint.ipynb\n",
      "./ML_NLP_Seq2seq/ML_NLP_Seq2seq.ipynb\n",
      "./ML_ANN_Gradiant_Decent/梯度下降.ipynb\n",
      "./UD_BA/UD_BA_Crisp_DM_Framework.ipynb\n",
      "./ML_RNN_Introduction/ML_RNN_Introduction_Part3.ipynb\n",
      "./ML_RNN_Introduction/ML_RNN_Introduction_Part6.ipynb\n",
      "./ML_RNN_Introduction/ML_RNN_Introduction_Part1.ipynb\n",
      "./ML_RNN_Introduction/ML_RNN_Introduction_Part4.ipynb\n",
      "./ML_RNN_Introduction/ML_RNN_Introduction_Part5.ipynb\n",
      "./ML_RNN_Introduction/ML_RNN_Introduction_Part7.ipynb\n",
      "./ML_RNN_Introduction/ML_RNN_Introduction_Part2.ipynb\n",
      "./ML_RNN_Introduction/.ipynb_checkpoints/ML_RNN_Introduction_Part7-checkpoint.ipynb\n",
      "./ML_RNN_Introduction/.ipynb_checkpoints/ML_RNN_Introduction_Part6-checkpoint.ipynb\n",
      "./ML_RNN_Introduction/.ipynb_checkpoints/ML_RNN_Introduction_Part3-checkpoint.ipynb\n",
      "./ML_RNN_Introduction/.ipynb_checkpoints/ML_RNN_Introduction_Part5-checkpoint.ipynb\n",
      "./ML_RNN_Introduction/.ipynb_checkpoints/ML_RNN_Introduction_Part4-checkpoint.ipynb\n",
      "./ML_RNN_Introduction/.ipynb_checkpoints/ML_RNN_Introduction_Part1-checkpoint.ipynb\n",
      "./ML_RNN_Introduction/.ipynb_checkpoints/ML_RNN_Introduction_Part2-checkpoint.ipynb\n",
      "./Coursera_Information_Theory/Coursera_Information_Theory.ipynb\n",
      "./ML_RNN_LSTM/ML_RNN_LSTM_part1.ipynb\n",
      "./ML_RNN_LSTM/.ipynb_checkpoints/ML_RNN_LSTM_part1-checkpoint.ipynb\n",
      "./ML_NLP_Part_of_Speech_Tagging_with_HMMs/Part of Speech Tagging.ipynb\n",
      "./ML_NLP_Part_of_Speech_Tagging_with_HMMs/hmm-tagger-master/brown-universal.txt\n",
      "./ML_CNN/ML_CNN_Practice1.ipynb\n",
      "./ML_CNN/MLP_Structure.ipynb\n",
      "./ML_CNN/ML_CNN_Preprocessing.ipynb\n",
      "./ML_CNN/ML_CNN_Transfer_Learning.ipynb\n",
      "./ML_CNN/ML_CNN_Application.ipynb\n",
      "./ML_CNN/ML_CNN.ipynb\n",
      "./ML_CNN/ML_CNN_2.ipynb\n",
      "./ML_CNN/.ipynb_checkpoints/ML_CNN_Practice1-checkpoint.ipynb\n",
      "./ML_CNN/.ipynb_checkpoints/ML_CNN_2-checkpoint.ipynb\n",
      "./ML_CNN/.ipynb_checkpoints/ML_CNN-checkpoint.ipynb\n",
      "./ML_CNN_in_Keras/ML_CNN_in_Keras.ipynb\n",
      "./ML_NLP_Topic_Modeling/ML_NLP_Topic_Modeling.ipynb\n",
      "./ML_NLP_Topic_Modeling/abcnews-date-text.csv\n",
      "./ML_ANN/Feedforword.ipynb\n",
      "./ML_ANN/Backpropagation.ipynb\n",
      "./ML_ANN/Structure of Neural Network.ipynb\n",
      "./ML_ANN/.ipynb_checkpoints/Backpropagation-checkpoint.ipynb\n",
      "./ML_Word2Vector/ML_Word2Vector.ipynb\n",
      "./ML_Word2Vector/.ipynb_checkpoints/ML_Word2Vector-checkpoint.ipynb\n",
      "./ML_GAN/ML_GAN.ipynb\n",
      "./ML_GAN/.ipynb_checkpoints/ML_GAN-checkpoint.ipynb\n",
      "./ML_Reinforcement_Learning/ML_Reinforcement_Learning.ipynb\n",
      "./DSA_Udacity_Basic_Algorithms_Part2_Sorting_Algorithms/13. Heap Sort.ipynb\n",
      "./DSA_Udacity_Basic_Algorithms_Part2_Sorting_Algorithms/.ipynb_checkpoints/13. Heap Sort-checkpoint.ipynb\n",
      "./ML_Attention/ML_Attention.ipynb\n",
      "./ML_Attention/.ipynb_checkpoints/ML_Attention-checkpoint.ipynb\n",
      "./DSA_Queue_and_Stack/Stack_and_DFS_Part5.ipynb\n",
      "./DSA_Queue_and_Stack/Stack_and_DFS_Part6.ipynb\n",
      "./DSA_Queue_and_Stack/.ipynb_checkpoints/Stack_and_DFS_Part6-checkpoint.ipynb\n",
      "./DSA_Queue_and_Stack/.ipynb_checkpoints/Stack_and_DFS_Part5-checkpoint.ipynb\n",
      "./DSA_Udacity_Basic_Algorithms_Part3_Faster_Devide_and_Conquer/Faster_Devide_and_Conquer.ipynb\n",
      "./DSA_Udacity_Basic_Algorithms_Part1_Basics/10. Heaps Exercise.ipynb\n",
      "./DSA_Udacity_Basic_Algorithms_Part1_Basics/.ipynb_checkpoints/10. Heaps Exercise-checkpoint.ipynb\n",
      "./DSA_Udacity_Advanced_Algorithms_Part2_Graph_Algorithms/10. Implement DFS — Recursive Solution.ipynb\n",
      "./DSA_Udacity_Advanced_Algorithms_Part2_Graph_Algorithms/DSA_Graph_Algorithms_Main.ipynb\n",
      "./DSA_Udacity_Advanced_Algorithms_Part2_Graph_Algorithms/15. Prim’s Algorithm - Connecting Islands.ipynb\n",
      "./DSA_Udacity_Advanced_Algorithms_Part2_Graph_Algorithms/.ipynb_checkpoints/DSA_Graph_Algorithms_Main-checkpoint.ipynb\n",
      "./DSA_Udacity_Advanced_Algorithms_Part2_Graph_Algorithms/.ipynb_checkpoints/15. Prim’s Algorithm - Connecting Islands-checkpoint.ipynb\n",
      "./.git/index\n",
      "./.git/objects/c6/b5e8d2129cfdae8880460d6ae065f50348189f\n",
      "./.git/objects/e0/15605ba7e21880f4a55b8466f1c1e33b2bb319\n"
     ]
    }
   ],
   "source": [
    "searchFolder('heap')"
   ]
  },
  {
   "cell_type": "code",
   "execution_count": 2,
   "metadata": {},
   "outputs": [],
   "source": [
    "import os\n",
    "import re\n",
    "def searchFolder(contents, path = './'):\n",
    "    ## Comment this for Linux\n",
    "    #path = path.replace('/','\\\\')\n",
    "    for subdir, dirs, files in os.walk(path):\n",
    "        for filename in files:\n",
    "            if os.path.splitext(filename)[1] in ['.zip','.xls','.xlsx','.pyc']:\n",
    "                continue\n",
    "            filepath = subdir + os.sep + filename\n",
    "            # print(filepath)\n",
    "            try:\n",
    "                with open(filepath,'r',encoding='utf-8',errors='ignore') as f:\n",
    "                    f = f.readlines()\n",
    "                    f = ''.join(f)\n",
    "                    if contents.lower() in f.lower():\n",
    "                        print(filepath)\n",
    "#                         print(re.sub('/+|\\\\+','\\\\',filepath))\n",
    "            except(Exception) as e:\n",
    "                pass\n",
    "                print(e)\n",
    "                print('Failed: ',filepath)"
   ]
  },
  {
   "cell_type": "code",
   "execution_count": null,
   "metadata": {},
   "outputs": [],
   "source": []
  }
 ],
 "metadata": {
  "kernelspec": {
   "display_name": "Python 3",
   "language": "python",
   "name": "python3"
  },
  "language_info": {
   "codemirror_mode": {
    "name": "ipython",
    "version": 3
   },
   "file_extension": ".py",
   "mimetype": "text/x-python",
   "name": "python",
   "nbconvert_exporter": "python",
   "pygments_lexer": "ipython3",
   "version": "3.7.3"
  }
 },
 "nbformat": 4,
 "nbformat_minor": 2
}
