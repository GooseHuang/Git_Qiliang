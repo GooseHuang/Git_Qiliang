{
 "cells": [
  {
   "cell_type": "code",
   "execution_count": 1,
   "metadata": {},
   "outputs": [],
   "source": [
    "from numpy import *\n",
    "import matplotlib.pyplot as plt\n",
    "import operator\n",
    "import time\n"
   ]
  },
  {
   "cell_type": "code",
   "execution_count": 12,
   "metadata": {},
   "outputs": [],
   "source": [
    "def selectJ(i, oS, Ei):\n",
    "    maxK = -1\n",
    "    maxDeltaE = 0\n",
    "    Ej = 0\n",
    "    oS.eCache[i] = [1, Ei]\n",
    "    validEcacheList = nonzero(oS.eCache[:, 0].A)[0]\n",
    "    if (len(validEcacheList)) > 1:\n",
    "        for k in validEcacheList:\n",
    "            if k == i:\n",
    "                continue\n",
    "            Ek = calcEk(oS, k)\n",
    "            deltaE = abs(Ei - Ek)\n",
    "            if (deltaE > maxDeltaE):\n",
    "                maxK = k\n",
    "                maxDeltaE = deltaE\n",
    "                Ej = Ek\n",
    "        return maxK, Ej\n",
    "    else:\n",
    "        j = selectJrand(i, oS.m)\n",
    "        Ej = calcEk(oS, j)\n",
    "    return j, Ej\n",
    "\n",
    "def calcEk(oS, k):\n",
    "    fXk = float(multiply(oS.alphas, oS.labelMat).T * (oS.X * oS.X[k, :].T)) + oS.b\n",
    "    Ek = fXk - float(oS.labelMat[k])\n",
    "    return Ek\n",
    "\n",
    "def selectJrand(i, m):\n",
    "    j = i\n",
    "    while (j == i):\n",
    "        j = int(random.uniform(0, m))\n",
    "    return j"
   ]
  },
  {
   "cell_type": "code",
   "execution_count": 19,
   "metadata": {},
   "outputs": [],
   "source": [
    "def loadDataSet(fileName):\n",
    "    dataMat = []\n",
    "    labelMat = []\n",
    "    with open(fileName) as fr:\n",
    "        for line in fr.readlines():\n",
    "            lineArr = line.strip().split('    ')\n",
    "            dataMat.append([float(lineArr[0]), float(lineArr[1])])\n",
    "            labelMat.append(float(lineArr[2]))\n",
    "    return dataMat, labelMat\n",
    "\n",
    "\n",
    "class optStruct:\n",
    "    def __init__(self, dataMatIn, classLabels, C, toler):\n",
    "        self.X = dataMatIn\n",
    "        self.labelMat = classLabels\n",
    "        self.C = C\n",
    "        self.tol = toler\n",
    "        self.m = shape(dataMatIn)[0]\n",
    "        self.alphas = mat(zeros((self.m, 1)))\n",
    "        self.b = 0\n",
    "        self.eCache = mat(zeros((self.m, 2)))\n",
    "\n",
    "trainDataSet, trainLabel = loadDataSet('testSet.txt')\n",
    "dataMatIn = trainDataSet\n",
    "classLabels = trainLabel\n",
    "C = 0.6\n",
    "toler = 0.0001 \n",
    "maxIter = 40\n",
    "kTup=('lin', 0)\n",
    "\n",
    "\n",
    "oS = optStruct(mat(dataMatIn), mat(classLabels).transpose(), C, toler)\n",
    "iterr = 0\n",
    "entireSet = True\n",
    "alphaPairsChanged = 0"
   ]
  },
  {
   "cell_type": "code",
   "execution_count": 17,
   "metadata": {},
   "outputs": [],
   "source": [
    "def innerL(i, oS):\n",
    "    Ei = calcEk(oS, i)\n",
    "    if ((oS.labelMat[i] * Ei < -oS.tol) and (oS.alphas[i] < oS.C)) or ((oS.labelMat[i] * Ei > oS.tol) and (oS.alphas[i] > 0)):\n",
    "        j, Ej = selectJ(i, oS, Ei)\n",
    "        alphaIold = oS.alphas[i].copy()\n",
    "        alphaJold = oS.alphas[j].copy()\n",
    "        if (oS.labelMat[i] != oS.labelMat[j]):\n",
    "            L = max(0, oS.alphas[j] - oS.alphas[i])\n",
    "            H = min(oS.C, oS.C + oS.alphas[j] - oS.alphas[i])\n",
    "        else:\n",
    "            L = max(0, oS.alphas[j] + oS.alphas[i] - oS.C)\n",
    "            H = min(oS.C, oS.alphas[j] + oS.alphas[i])\n",
    "        if (L == H):\n",
    "            # print(\"L == H\")\n",
    "            return 0\n",
    "        eta = 2.0 * oS.X[i, :] * oS.X[j, :].T - oS.X[i, :] * oS.X[i, :].T - oS.X[j, :] * oS.X[j, :].T\n",
    "        if eta >= 0:\n",
    "            # print(\"eta >= 0\")\n",
    "            return 0\n",
    "        oS.alphas[j] -= oS.labelMat[j] * (Ei - Ej) / eta\n",
    "        oS.alphas[j] = clipAlpha(oS.alphas[j], H, L)\n",
    "        updateEk(oS, j)\n",
    "        if (abs(oS.alphas[j] - alphaJold) < 0.00001):\n",
    "            # print(\"j not moving enough\")\n",
    "            return 0\n",
    "        oS.alphas[i] += oS.labelMat[j] * oS.labelMat[i] * (alphaJold - oS.alphas[j])\n",
    "        updateEk(oS, i)\n",
    "        b1 = oS.b - Ei - oS.labelMat[i] * (oS.alphas[i] - alphaIold) * oS.X[i, :] * oS.X[i, :].T - oS.labelMat[j] * (oS.alphas[j] - alphaJold) * oS.X[i, :] * oS.X[j, :].T\n",
    "        b2 = oS.b - Ei - oS.labelMat[i] * (oS.alphas[i] - alphaIold) * oS.X[i, :] * oS.X[j, :].T - oS.labelMat[j] * (oS.alphas[j] - alphaJold) * oS.X[j, :] * oS.X[j, :].T\n",
    "        if (0 < oS.alphas[i]) and (oS.C > oS.alphas[i]):\n",
    "            oS.b = b1\n",
    "        elif (0 < oS.alphas[j]) and (oS.C > oS.alphas[j]):\n",
    "            oS.b = b2\n",
    "        else:\n",
    "            oS.b = (b1 + b2) / 2.0\n",
    "        return 1\n",
    "    else:\n",
    "        return 0"
   ]
  },
  {
   "cell_type": "code",
   "execution_count": 18,
   "metadata": {},
   "outputs": [
    {
     "data": {
      "text/plain": [
       "0"
      ]
     },
     "execution_count": 18,
     "metadata": {},
     "output_type": "execute_result"
    }
   ],
   "source": [
    "i = 0\n",
    "innerL(i, oS)"
   ]
  },
  {
   "cell_type": "code",
   "execution_count": 20,
   "metadata": {},
   "outputs": [
    {
     "data": {
      "text/plain": [
       "1.0"
      ]
     },
     "execution_count": 20,
     "metadata": {},
     "output_type": "execute_result"
    }
   ],
   "source": [
    "Ei = calcEk(oS, i)\n",
    "Ei"
   ]
  },
  {
   "cell_type": "code",
   "execution_count": 21,
   "metadata": {
    "scrolled": true
   },
   "outputs": [
    {
     "data": {
      "text/plain": [
       "matrix([[-1.],\n",
       "        [-1.],\n",
       "        [ 1.],\n",
       "        [-1.],\n",
       "        [ 1.],\n",
       "        [ 1.],\n",
       "        [ 1.],\n",
       "        [-1.],\n",
       "        [-1.],\n",
       "        [-1.],\n",
       "        [-1.],\n",
       "        [-1.],\n",
       "        [-1.],\n",
       "        [ 1.],\n",
       "        [-1.],\n",
       "        [ 1.],\n",
       "        [ 1.],\n",
       "        [-1.],\n",
       "        [ 1.],\n",
       "        [-1.],\n",
       "        [-1.],\n",
       "        [-1.],\n",
       "        [ 1.],\n",
       "        [-1.],\n",
       "        [-1.],\n",
       "        [ 1.],\n",
       "        [ 1.],\n",
       "        [-1.],\n",
       "        [-1.],\n",
       "        [-1.],\n",
       "        [-1.],\n",
       "        [ 1.],\n",
       "        [ 1.],\n",
       "        [ 1.],\n",
       "        [ 1.],\n",
       "        [-1.],\n",
       "        [ 1.],\n",
       "        [-1.],\n",
       "        [-1.],\n",
       "        [ 1.],\n",
       "        [-1.],\n",
       "        [-1.],\n",
       "        [-1.],\n",
       "        [-1.],\n",
       "        [ 1.],\n",
       "        [ 1.],\n",
       "        [ 1.],\n",
       "        [ 1.],\n",
       "        [ 1.],\n",
       "        [-1.],\n",
       "        [ 1.],\n",
       "        [ 1.],\n",
       "        [-1.],\n",
       "        [-1.],\n",
       "        [ 1.],\n",
       "        [ 1.],\n",
       "        [-1.],\n",
       "        [ 1.],\n",
       "        [-1.],\n",
       "        [-1.],\n",
       "        [-1.],\n",
       "        [-1.],\n",
       "        [ 1.],\n",
       "        [-1.],\n",
       "        [ 1.],\n",
       "        [-1.],\n",
       "        [-1.],\n",
       "        [ 1.],\n",
       "        [ 1.],\n",
       "        [ 1.],\n",
       "        [-1.],\n",
       "        [ 1.],\n",
       "        [ 1.],\n",
       "        [-1.],\n",
       "        [-1.],\n",
       "        [ 1.],\n",
       "        [-1.],\n",
       "        [ 1.],\n",
       "        [ 1.],\n",
       "        [ 1.],\n",
       "        [ 1.],\n",
       "        [ 1.],\n",
       "        [ 1.],\n",
       "        [ 1.],\n",
       "        [-1.],\n",
       "        [-1.],\n",
       "        [-1.],\n",
       "        [-1.],\n",
       "        [ 1.],\n",
       "        [-1.],\n",
       "        [ 1.],\n",
       "        [ 1.],\n",
       "        [ 1.],\n",
       "        [-1.],\n",
       "        [-1.],\n",
       "        [-1.],\n",
       "        [-1.],\n",
       "        [-1.],\n",
       "        [-1.],\n",
       "        [-1.]])"
      ]
     },
     "execution_count": 21,
     "metadata": {},
     "output_type": "execute_result"
    }
   ],
   "source": [
    "oS.labelMat"
   ]
  },
  {
   "cell_type": "code",
   "execution_count": 22,
   "metadata": {
    "scrolled": true
   },
   "outputs": [
    {
     "data": {
      "text/plain": [
       "matrix([[0.],\n",
       "        [0.],\n",
       "        [0.],\n",
       "        [0.],\n",
       "        [0.],\n",
       "        [0.],\n",
       "        [0.],\n",
       "        [0.],\n",
       "        [0.],\n",
       "        [0.],\n",
       "        [0.],\n",
       "        [0.],\n",
       "        [0.],\n",
       "        [0.],\n",
       "        [0.],\n",
       "        [0.],\n",
       "        [0.],\n",
       "        [0.],\n",
       "        [0.],\n",
       "        [0.],\n",
       "        [0.],\n",
       "        [0.],\n",
       "        [0.],\n",
       "        [0.],\n",
       "        [0.],\n",
       "        [0.],\n",
       "        [0.],\n",
       "        [0.],\n",
       "        [0.],\n",
       "        [0.],\n",
       "        [0.],\n",
       "        [0.],\n",
       "        [0.],\n",
       "        [0.],\n",
       "        [0.],\n",
       "        [0.],\n",
       "        [0.],\n",
       "        [0.],\n",
       "        [0.],\n",
       "        [0.],\n",
       "        [0.],\n",
       "        [0.],\n",
       "        [0.],\n",
       "        [0.],\n",
       "        [0.],\n",
       "        [0.],\n",
       "        [0.],\n",
       "        [0.],\n",
       "        [0.],\n",
       "        [0.],\n",
       "        [0.],\n",
       "        [0.],\n",
       "        [0.],\n",
       "        [0.],\n",
       "        [0.],\n",
       "        [0.],\n",
       "        [0.],\n",
       "        [0.],\n",
       "        [0.],\n",
       "        [0.],\n",
       "        [0.],\n",
       "        [0.],\n",
       "        [0.],\n",
       "        [0.],\n",
       "        [0.],\n",
       "        [0.],\n",
       "        [0.],\n",
       "        [0.],\n",
       "        [0.],\n",
       "        [0.],\n",
       "        [0.],\n",
       "        [0.],\n",
       "        [0.],\n",
       "        [0.],\n",
       "        [0.],\n",
       "        [0.],\n",
       "        [0.],\n",
       "        [0.],\n",
       "        [0.],\n",
       "        [0.],\n",
       "        [0.],\n",
       "        [0.],\n",
       "        [0.],\n",
       "        [0.],\n",
       "        [0.],\n",
       "        [0.],\n",
       "        [0.],\n",
       "        [0.],\n",
       "        [0.],\n",
       "        [0.],\n",
       "        [0.],\n",
       "        [0.],\n",
       "        [0.],\n",
       "        [0.],\n",
       "        [0.],\n",
       "        [0.],\n",
       "        [0.],\n",
       "        [0.],\n",
       "        [0.],\n",
       "        [0.]])"
      ]
     },
     "execution_count": 22,
     "metadata": {},
     "output_type": "execute_result"
    }
   ],
   "source": [
    "oS.alphas"
   ]
  },
  {
   "cell_type": "code",
   "execution_count": 25,
   "metadata": {},
   "outputs": [],
   "source": [
    "k = i"
   ]
  },
  {
   "cell_type": "code",
   "execution_count": 40,
   "metadata": {},
   "outputs": [],
   "source": [
    "b = 0; m,n = shape(dataMatrix)\n",
    "alphas = mat(zeros((m,1)))"
   ]
  },
  {
   "cell_type": "code",
   "execution_count": 23,
   "metadata": {},
   "outputs": [
    {
     "data": {
      "text/plain": [
       "matrix([[-0., -0.,  0., -0.,  0.,  0.,  0., -0., -0., -0., -0., -0., -0.,\n",
       "          0., -0.,  0.,  0., -0.,  0., -0., -0., -0.,  0., -0., -0.,  0.,\n",
       "          0., -0., -0., -0., -0.,  0.,  0.,  0.,  0., -0.,  0., -0., -0.,\n",
       "          0., -0., -0., -0., -0.,  0.,  0.,  0.,  0.,  0., -0.,  0.,  0.,\n",
       "         -0., -0.,  0.,  0., -0.,  0., -0., -0., -0., -0.,  0., -0.,  0.,\n",
       "         -0., -0.,  0.,  0.,  0., -0.,  0.,  0., -0., -0.,  0., -0.,  0.,\n",
       "          0.,  0.,  0.,  0.,  0.,  0., -0., -0., -0., -0.,  0., -0.,  0.,\n",
       "          0.,  0., -0., -0., -0., -0., -0., -0., -0.]])"
      ]
     },
     "execution_count": 23,
     "metadata": {},
     "output_type": "execute_result"
    }
   ],
   "source": [
    "multiply(oS.alphas, oS.labelMat).T"
   ]
  },
  {
   "cell_type": "code",
   "execution_count": 36,
   "metadata": {},
   "outputs": [],
   "source": [
    "dataMatrix = mat(dataMatIn)"
   ]
  },
  {
   "cell_type": "code",
   "execution_count": 37,
   "metadata": {
    "scrolled": true
   },
   "outputs": [
    {
     "data": {
      "text/plain": [
       "matrix([[ 16.45930283],\n",
       "        [ 15.74944568],\n",
       "        [ 23.62676274],\n",
       "        [  7.48352117],\n",
       "        [ 31.31011654],\n",
       "        [ 23.23121223],\n",
       "        [ 34.5502158 ],\n",
       "        [  8.76530388],\n",
       "        [ 16.29538278],\n",
       "        [ -0.56047978],\n",
       "        [ 11.65350847],\n",
       "        [  5.97217245],\n",
       "        [ -2.38720614],\n",
       "        [ 20.68613682],\n",
       "        [  3.61193398],\n",
       "        [ 29.98735792],\n",
       "        [ 29.57379773],\n",
       "        [ 23.43708958],\n",
       "        [ 32.09373166],\n",
       "        [  4.70087189],\n",
       "        [  6.19516763],\n",
       "        [  7.67904154],\n",
       "        [ 28.85126395],\n",
       "        [ 10.32526493],\n",
       "        [ 17.18557231],\n",
       "        [ 26.00106749],\n",
       "        [ 26.30828953],\n",
       "        [  7.09568772],\n",
       "        [ -1.90677766],\n",
       "        [ 12.08413697],\n",
       "        [ 10.59876818],\n",
       "        [ 30.14366779],\n",
       "        [ 33.67857529],\n",
       "        [ 24.52205584],\n",
       "        [ 26.55162967],\n",
       "        [ 10.1555109 ],\n",
       "        [ 20.79607383],\n",
       "        [  4.29629731],\n",
       "        [  6.03878151],\n",
       "        [ 37.20946573],\n",
       "        [  3.23741434],\n",
       "        [ 10.13957401],\n",
       "        [ -6.06516048],\n",
       "        [ 20.36849701],\n",
       "        [ 29.84343868],\n",
       "        [ 25.20741727],\n",
       "        [ 24.17287665],\n",
       "        [ 30.55832341],\n",
       "        [ 27.14996521],\n",
       "        [  4.20392   ],\n",
       "        [ 36.78090735],\n",
       "        [ 28.31618463],\n",
       "        [  7.00125084],\n",
       "        [  4.56874144],\n",
       "        [ 14.06535931],\n",
       "        [ 22.36864298],\n",
       "        [ 12.40278062],\n",
       "        [ 13.88902133],\n",
       "        [  2.16547692],\n",
       "        [  2.86559166],\n",
       "        [ 11.11366566],\n",
       "        [  4.32875604],\n",
       "        [ 25.41251856],\n",
       "        [  7.73508743],\n",
       "        [ 27.5076578 ],\n",
       "        [ 10.27244463],\n",
       "        [  6.23478318],\n",
       "        [ 30.36172283],\n",
       "        [ 29.94742746],\n",
       "        [ 24.03816271],\n",
       "        [-12.24165482],\n",
       "        [ 29.32373046],\n",
       "        [ 37.68502625],\n",
       "        [  4.21120684],\n",
       "        [  1.50483436],\n",
       "        [ 31.45172175],\n",
       "        [  3.32623347],\n",
       "        [ 32.88384522],\n",
       "        [ 22.15871743],\n",
       "        [ 27.24464744],\n",
       "        [ 32.61954528],\n",
       "        [ 28.82574866],\n",
       "        [ 35.78729623],\n",
       "        [ 35.59306495],\n",
       "        [  9.64462946],\n",
       "        [  7.26211933],\n",
       "        [  5.22406284],\n",
       "        [  6.91157867],\n",
       "        [ 25.95296259],\n",
       "        [  6.38060891],\n",
       "        [ 37.60809821],\n",
       "        [ 25.43505773],\n",
       "        [ 33.06481757],\n",
       "        [  4.17024543],\n",
       "        [ 12.50790449],\n",
       "        [ 11.02975204],\n",
       "        [ 14.26607968],\n",
       "        [  9.91600422],\n",
       "        [  7.29970318],\n",
       "        [ 11.56662842]])"
      ]
     },
     "execution_count": 37,
     "metadata": {},
     "output_type": "execute_result"
    }
   ],
   "source": [
    "(dataMatrix*dataMatrix[i,:].T)"
   ]
  },
  {
   "cell_type": "code",
   "execution_count": null,
   "metadata": {},
   "outputs": [],
   "source": [
    "multiply(oS.alphas, oS.labelMat).T *"
   ]
  },
  {
   "cell_type": "code",
   "execution_count": 41,
   "metadata": {},
   "outputs": [
    {
     "data": {
      "text/plain": [
       "0"
      ]
     },
     "execution_count": 41,
     "metadata": {},
     "output_type": "execute_result"
    }
   ],
   "source": [
    "i"
   ]
  },
  {
   "cell_type": "code",
   "execution_count": 43,
   "metadata": {},
   "outputs": [],
   "source": [
    "labelMat = oS.labelMat"
   ]
  },
  {
   "cell_type": "code",
   "execution_count": 44,
   "metadata": {},
   "outputs": [
    {
     "data": {
      "text/plain": [
       "matrix([[0.]])"
      ]
     },
     "execution_count": 44,
     "metadata": {},
     "output_type": "execute_result"
    }
   ],
   "source": [
    "multiply(alphas,labelMat).T*(dataMatrix*dataMatrix[i,:].T)"
   ]
  },
  {
   "cell_type": "code",
   "execution_count": 33,
   "metadata": {},
   "outputs": [
    {
     "data": {
      "text/plain": [
       "matrix([[3.542485, 1.977398]])"
      ]
     },
     "execution_count": 33,
     "metadata": {},
     "output_type": "execute_result"
    }
   ],
   "source": [
    "oS.X[k, :]"
   ]
  },
  {
   "cell_type": "code",
   "execution_count": null,
   "metadata": {},
   "outputs": [],
   "source": []
  },
  {
   "cell_type": "code",
   "execution_count": 34,
   "metadata": {
    "scrolled": true
   },
   "outputs": [
    {
     "data": {
      "text/plain": [
       "matrix([[ 3.542485e+00,  1.977398e+00],\n",
       "        [ 3.018896e+00,  2.556416e+00],\n",
       "        [ 7.551510e+00, -1.580030e+00],\n",
       "        [ 2.114999e+00, -4.466000e-03],\n",
       "        [ 8.127113e+00,  1.274372e+00],\n",
       "        [ 7.108772e+00, -9.869060e-01],\n",
       "        [ 8.610639e+00,  2.046708e+00],\n",
       "        [ 2.326297e+00,  2.652130e-01],\n",
       "        [ 3.634009e+00,  1.730537e+00],\n",
       "        [ 3.413670e-01, -8.949980e-01],\n",
       "        [ 3.125951e+00,  2.932510e-01],\n",
       "        [ 2.123252e+00, -7.835630e-01],\n",
       "        [ 8.878350e-01, -2.797792e+00],\n",
       "        [ 7.139979e+00, -2.329896e+00],\n",
       "        [ 1.696414e+00, -1.212496e+00],\n",
       "        [ 8.117032e+00,  6.234930e-01],\n",
       "        [ 8.497162e+00, -2.666490e-01],\n",
       "        [ 4.658191e+00,  3.507396e+00],\n",
       "        [ 8.197181e+00,  1.545132e+00],\n",
       "        [ 1.208047e+00,  2.131000e-01],\n",
       "        [ 1.928486e+00, -3.218700e-01],\n",
       "        [ 2.175808e+00, -1.452700e-02],\n",
       "        [ 7.886608e+00,  4.617550e-01],\n",
       "        [ 3.223038e+00, -5.523920e-01],\n",
       "        [ 3.628502e+00,  2.190585e+00],\n",
       "        [ 7.407860e+00, -1.219610e-01],\n",
       "        [ 7.286357e+00,  2.510770e-01],\n",
       "        [ 2.301095e+00, -5.339880e-01],\n",
       "        [-2.325420e-01, -5.476900e-01],\n",
       "        [ 3.457096e+00, -8.221600e-02],\n",
       "        [ 3.023938e+00, -5.739200e-02],\n",
       "        [ 8.015003e+00,  8.853250e-01],\n",
       "        [ 8.991748e+00,  9.231540e-01],\n",
       "        [ 7.916831e+00, -1.781735e+00],\n",
       "        [ 7.616862e+00, -2.179580e-01],\n",
       "        [ 2.450939e+00,  7.449670e-01],\n",
       "        [ 7.270337e+00, -2.507834e+00],\n",
       "        [ 1.749721e+00, -9.619020e-01],\n",
       "        [ 1.803111e+00, -1.763490e-01],\n",
       "        [ 8.804461e+00,  3.044301e+00],\n",
       "        [ 1.231257e+00, -5.685730e-01],\n",
       "        [ 2.074915e+00,  1.410550e+00],\n",
       "        [-7.430360e-01, -1.736103e+00],\n",
       "        [ 3.536555e+00,  3.964960e+00],\n",
       "        [ 8.410143e+00,  2.560600e-02],\n",
       "        [ 7.382988e+00, -4.787640e-01],\n",
       "        [ 6.960661e+00, -2.453530e-01],\n",
       "        [ 8.234460e+00,  7.018680e-01],\n",
       "        [ 8.168618e+00, -9.038350e-01],\n",
       "        [ 1.534187e+00, -6.224920e-01],\n",
       "        [ 9.229518e+00,  2.066088e+00],\n",
       "        [ 7.886242e+00,  1.918130e-01],\n",
       "        [ 2.893743e+00, -1.643468e+00],\n",
       "        [ 1.870457e+00, -1.040420e+00],\n",
       "        [ 5.286862e+00, -2.358286e+00],\n",
       "        [ 6.080573e+00,  4.188860e-01],\n",
       "        [ 2.544314e+00,  1.714165e+00],\n",
       "        [ 6.016004e+00, -3.753712e+00],\n",
       "        [ 9.263100e-01, -5.643590e-01],\n",
       "        [ 8.702960e-01, -1.099520e-01],\n",
       "        [ 2.369345e+00,  1.375695e+00],\n",
       "        [ 1.363782e+00, -2.540820e-01],\n",
       "        [ 7.279460e+00, -1.895720e-01],\n",
       "        [ 1.896005e+00,  5.150800e-01],\n",
       "        [ 8.102154e+00, -6.038750e-01],\n",
       "        [ 2.529893e+00,  6.626570e-01],\n",
       "        [ 1.963874e+00, -3.652330e-01],\n",
       "        [ 8.132048e+00,  7.859140e-01],\n",
       "        [ 8.245938e+00,  3.723660e-01],\n",
       "        [ 6.543888e+00,  4.331640e-01],\n",
       "        [-2.367130e-01, -5.766721e+00],\n",
       "        [ 8.112593e+00,  2.958390e-01],\n",
       "        [ 9.803425e+00,  1.495167e+00],\n",
       "        [ 1.497407e+00, -5.529160e-01],\n",
       "        [ 1.336267e+00, -1.632889e+00],\n",
       "        [ 9.205805e+00, -5.864800e-01],\n",
       "        [ 1.966279e+00, -1.840439e+00],\n",
       "        [ 8.398012e+00,  1.584918e+00],\n",
       "        [ 7.239953e+00, -1.764292e+00],\n",
       "        [ 7.556201e+00,  2.411850e-01],\n",
       "        [ 9.015509e+00,  3.450190e-01],\n",
       "        [ 8.266085e+00, -2.309770e-01],\n",
       "        [ 8.545620e+00,  2.788799e+00],\n",
       "        [ 9.295969e+00,  1.346332e+00],\n",
       "        [ 2.404234e+00,  5.702780e-01],\n",
       "        [ 2.037772e+00,  2.191900e-02],\n",
       "        [ 1.727631e+00, -4.531430e-01],\n",
       "        [ 1.979395e+00, -5.077300e-02],\n",
       "        [ 8.092288e+00, -1.372433e+00],\n",
       "        [ 1.667645e+00,  2.392040e-01],\n",
       "        [ 9.854303e+00,  1.365116e+00],\n",
       "        [ 7.921057e+00, -1.327587e+00],\n",
       "        [ 8.500757e+00,  1.492372e+00],\n",
       "        [ 1.339746e+00, -2.911830e-01],\n",
       "        [ 3.107511e+00,  7.583670e-01],\n",
       "        [ 2.609525e+00,  9.029790e-01],\n",
       "        [ 3.263585e+00,  1.367898e+00],\n",
       "        [ 2.912122e+00, -2.023590e-01],\n",
       "        [ 1.731786e+00,  5.890960e-01],\n",
       "        [ 2.387003e+00,  1.573131e+00]])"
      ]
     },
     "execution_count": 34,
     "metadata": {},
     "output_type": "execute_result"
    }
   ],
   "source": [
    "oS.X"
   ]
  },
  {
   "cell_type": "code",
   "execution_count": 27,
   "metadata": {},
   "outputs": [
    {
     "data": {
      "text/plain": [
       "0"
      ]
     },
     "execution_count": 27,
     "metadata": {},
     "output_type": "execute_result"
    }
   ],
   "source": [
    "oS.b"
   ]
  },
  {
   "cell_type": "code",
   "execution_count": 30,
   "metadata": {},
   "outputs": [
    {
     "data": {
      "text/plain": [
       "0.0"
      ]
     },
     "execution_count": 30,
     "metadata": {},
     "output_type": "execute_result"
    }
   ],
   "source": [
    "fXk"
   ]
  },
  {
   "cell_type": "code",
   "execution_count": 26,
   "metadata": {
    "scrolled": true
   },
   "outputs": [
    {
     "data": {
      "text/plain": [
       "matrix([[ 16.45930283],\n",
       "        [ 15.74944568],\n",
       "        [ 23.62676274],\n",
       "        [  7.48352117],\n",
       "        [ 31.31011654],\n",
       "        [ 23.23121223],\n",
       "        [ 34.5502158 ],\n",
       "        [  8.76530388],\n",
       "        [ 16.29538278],\n",
       "        [ -0.56047978],\n",
       "        [ 11.65350847],\n",
       "        [  5.97217245],\n",
       "        [ -2.38720614],\n",
       "        [ 20.68613682],\n",
       "        [  3.61193398],\n",
       "        [ 29.98735792],\n",
       "        [ 29.57379773],\n",
       "        [ 23.43708958],\n",
       "        [ 32.09373166],\n",
       "        [  4.70087189],\n",
       "        [  6.19516763],\n",
       "        [  7.67904154],\n",
       "        [ 28.85126395],\n",
       "        [ 10.32526493],\n",
       "        [ 17.18557231],\n",
       "        [ 26.00106749],\n",
       "        [ 26.30828953],\n",
       "        [  7.09568772],\n",
       "        [ -1.90677766],\n",
       "        [ 12.08413697],\n",
       "        [ 10.59876818],\n",
       "        [ 30.14366779],\n",
       "        [ 33.67857529],\n",
       "        [ 24.52205584],\n",
       "        [ 26.55162967],\n",
       "        [ 10.1555109 ],\n",
       "        [ 20.79607383],\n",
       "        [  4.29629731],\n",
       "        [  6.03878151],\n",
       "        [ 37.20946573],\n",
       "        [  3.23741434],\n",
       "        [ 10.13957401],\n",
       "        [ -6.06516048],\n",
       "        [ 20.36849701],\n",
       "        [ 29.84343868],\n",
       "        [ 25.20741727],\n",
       "        [ 24.17287665],\n",
       "        [ 30.55832341],\n",
       "        [ 27.14996521],\n",
       "        [  4.20392   ],\n",
       "        [ 36.78090735],\n",
       "        [ 28.31618463],\n",
       "        [  7.00125084],\n",
       "        [  4.56874144],\n",
       "        [ 14.06535931],\n",
       "        [ 22.36864298],\n",
       "        [ 12.40278062],\n",
       "        [ 13.88902133],\n",
       "        [  2.16547692],\n",
       "        [  2.86559166],\n",
       "        [ 11.11366566],\n",
       "        [  4.32875604],\n",
       "        [ 25.41251856],\n",
       "        [  7.73508743],\n",
       "        [ 27.5076578 ],\n",
       "        [ 10.27244463],\n",
       "        [  6.23478318],\n",
       "        [ 30.36172283],\n",
       "        [ 29.94742746],\n",
       "        [ 24.03816271],\n",
       "        [-12.24165482],\n",
       "        [ 29.32373046],\n",
       "        [ 37.68502625],\n",
       "        [  4.21120684],\n",
       "        [  1.50483436],\n",
       "        [ 31.45172175],\n",
       "        [  3.32623347],\n",
       "        [ 32.88384522],\n",
       "        [ 22.15871743],\n",
       "        [ 27.24464744],\n",
       "        [ 32.61954528],\n",
       "        [ 28.82574866],\n",
       "        [ 35.78729623],\n",
       "        [ 35.59306495],\n",
       "        [  9.64462946],\n",
       "        [  7.26211933],\n",
       "        [  5.22406284],\n",
       "        [  6.91157867],\n",
       "        [ 25.95296259],\n",
       "        [  6.38060891],\n",
       "        [ 37.60809821],\n",
       "        [ 25.43505773],\n",
       "        [ 33.06481757],\n",
       "        [  4.17024543],\n",
       "        [ 12.50790449],\n",
       "        [ 11.02975204],\n",
       "        [ 14.26607968],\n",
       "        [  9.91600422],\n",
       "        [  7.29970318],\n",
       "        [ 11.56662842]])"
      ]
     },
     "execution_count": 26,
     "metadata": {},
     "output_type": "execute_result"
    }
   ],
   "source": [
    "(oS.X * oS.X[k, :].T)"
   ]
  },
  {
   "cell_type": "code",
   "execution_count": 31,
   "metadata": {},
   "outputs": [
    {
     "data": {
      "text/plain": [
       "matrix([[-1.]])"
      ]
     },
     "execution_count": 31,
     "metadata": {},
     "output_type": "execute_result"
    }
   ],
   "source": [
    "oS.labelMat[k]"
   ]
  },
  {
   "cell_type": "code",
   "execution_count": 29,
   "metadata": {},
   "outputs": [],
   "source": [
    "fXk = float(multiply(oS.alphas, oS.labelMat).T * (oS.X * oS.X[k, :].T)) + oS.b\n",
    "Ek = fXk - float(oS.labelMat[k])"
   ]
  },
  {
   "cell_type": "code",
   "execution_count": 32,
   "metadata": {},
   "outputs": [
    {
     "data": {
      "text/plain": [
       "1.0"
      ]
     },
     "execution_count": 32,
     "metadata": {},
     "output_type": "execute_result"
    }
   ],
   "source": [
    "Ek"
   ]
  },
  {
   "cell_type": "code",
   "execution_count": null,
   "metadata": {},
   "outputs": [],
   "source": [
    "\n",
    "if ((oS.labelMat[i] * Ei < -oS.tol) and (oS.alphas[i] < oS.C)) or ((oS.labelMat[i] * Ei > oS.tol) and (oS.alphas[i] > 0)):\n",
    "    j, Ej = selectJ(i, oS, Ei)\n",
    "    alphaIold = oS.alphas[i].copy()\n",
    "    alphaJold = oS.alphas[j].copy()\n",
    "    if (oS.labelMat[i] != oS.labelMat[j]):\n",
    "        L = max(0, oS.alphas[j] - oS.alphas[i])\n",
    "        H = min(oS.C, oS.C + oS.alphas[j] - oS.alphas[i])\n",
    "    else:\n",
    "        L = max(0, oS.alphas[j] + oS.alphas[i] - oS.C)\n",
    "        H = min(oS.C, oS.alphas[j] + oS.alphas[i])\n",
    "    if (L == H):\n",
    "        # print(\"L == H\")\n",
    "        return 0\n",
    "    eta = 2.0 * oS.X[i, :] * oS.X[j, :].T - oS.X[i, :] * oS.X[i, :].T - oS.X[j, :] * oS.X[j, :].T\n",
    "    if eta >= 0:\n",
    "        # print(\"eta >= 0\")\n",
    "        return 0\n",
    "    oS.alphas[j] -= oS.labelMat[j] * (Ei - Ej) / eta\n",
    "    oS.alphas[j] = clipAlpha(oS.alphas[j], H, L)\n",
    "    updateEk(oS, j)\n",
    "    if (abs(oS.alphas[j] - alphaJold) < 0.00001):\n",
    "        # print(\"j not moving enough\")\n",
    "        return 0\n",
    "    oS.alphas[i] += oS.labelMat[j] * oS.labelMat[i] * (alphaJold - oS.alphas[j])\n",
    "    updateEk(oS, i)\n",
    "    b1 = oS.b - Ei - oS.labelMat[i] * (oS.alphas[i] - alphaIold) * oS.X[i, :] * oS.X[i, :].T - oS.labelMat[j] * (oS.alphas[j] - alphaJold) * oS.X[i, :] * oS.X[j, :].T\n",
    "    b2 = oS.b - Ei - oS.labelMat[i] * (oS.alphas[i] - alphaIold) * oS.X[i, :] * oS.X[j, :].T - oS.labelMat[j] * (oS.alphas[j] - alphaJold) * oS.X[j, :] * oS.X[j, :].T\n",
    "    if (0 < oS.alphas[i]) and (oS.C > oS.alphas[i]):\n",
    "        oS.b = b1\n",
    "    elif (0 < oS.alphas[j]) and (oS.C > oS.alphas[j]):\n",
    "        oS.b = b2\n",
    "    else:\n",
    "        oS.b = (b1 + b2) / 2.0\n",
    "    return 1\n",
    "else:\n",
    "    return 0"
   ]
  }
 ],
 "metadata": {
  "kernelspec": {
   "display_name": "Python 3",
   "language": "python",
   "name": "python3"
  },
  "language_info": {
   "codemirror_mode": {
    "name": "ipython",
    "version": 3
   },
   "file_extension": ".py",
   "mimetype": "text/x-python",
   "name": "python",
   "nbconvert_exporter": "python",
   "pygments_lexer": "ipython3",
   "version": "3.7.3"
  }
 },
 "nbformat": 4,
 "nbformat_minor": 2
}
