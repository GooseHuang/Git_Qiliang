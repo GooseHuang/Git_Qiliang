{
 "cells": [
  {
   "cell_type": "markdown",
   "metadata": {},
   "source": [
    "# Traverse a Tree - Introduction"
   ]
  },
  {
   "cell_type": "code",
   "execution_count": null,
   "metadata": {},
   "outputs": [],
   "source": [
    "\"\"\"\n",
    "可以不接受\n",
    "\n",
    "做出来之后看下答案找不同的思路，然后  合上书从头把它写出来\n",
    "\n",
    "自己先有一套方法就可以解决80%的问题，剩下的20%不用立马完美   先引子\n",
    "\n",
    "需要可以灵活调度的方法\n",
    "\n",
    "\"\"\""
   ]
  },
  {
   "cell_type": "markdown",
   "metadata": {},
   "source": [
    "## Pre-order Traversal"
   ]
  },
  {
   "cell_type": "markdown",
   "metadata": {},
   "source": [
    "Pre-order traversal is to visit the root first. Then traverse the left subtree. Finally, traverse the right subtree. "
   ]
  },
  {
   "cell_type": "markdown",
   "metadata": {},
   "source": [
    "## In-order Traversal"
   ]
  },
  {
   "cell_type": "markdown",
   "metadata": {},
   "source": [
    "In-order traversal is to traverse the left subtree first. Then visit the root. Finally, traverse the right subtree."
   ]
  },
  {
   "cell_type": "markdown",
   "metadata": {},
   "source": [
    "## Post-order Traversal"
   ]
  },
  {
   "cell_type": "markdown",
   "metadata": {},
   "source": [
    "Post-order traversal is to traverse the left subtree first. Then traverse the right subtree. Finally, visit the root."
   ]
  },
  {
   "cell_type": "markdown",
   "metadata": {},
   "source": [
    "## Binary Tree Preorder Traversal"
   ]
  },
  {
   "cell_type": "markdown",
   "metadata": {},
   "source": [
    "Given the root of a binary tree, return the preorder traversal of its nodes' values."
   ]
  },
  {
   "cell_type": "code",
   "execution_count": null,
   "metadata": {},
   "outputs": [],
   "source": [
    "# Python"
   ]
  },
  {
   "cell_type": "code",
   "execution_count": 1,
   "metadata": {},
   "outputs": [
    {
     "data": {
      "text/plain": [
       "5"
      ]
     },
     "execution_count": 1,
     "metadata": {},
     "output_type": "execute_result"
    }
   ],
   "source": [
    "[1,2,3,4,5].pop()"
   ]
  },
  {
   "cell_type": "code",
   "execution_count": null,
   "metadata": {},
   "outputs": [],
   "source": [
    "# Python"
   ]
  },
  {
   "cell_type": "code",
   "execution_count": null,
   "metadata": {},
   "outputs": [],
   "source": [
    "# Definition for a binary tree node.\n",
    "# class TreeNode:\n",
    "#     def __init__(self, val=0, left=None, right=None):\n",
    "#         self.val = val\n",
    "#         self.left = left\n",
    "#         self.right = right\n",
    "class Solution:\n",
    "    def preorderTraversal(self, root: Optional[TreeNode]) -> List[int]:\n",
    "        if root == None:\n",
    "            return []\n",
    "        \n",
    "        stack = [root,]\n",
    "        output = []\n",
    "        while stack:\n",
    "            cur = stack.pop()\n",
    "            output.append(cur.val)\n",
    "            if cur.right:\n",
    "                stack.append(cur.right)\n",
    "            if cur.left:\n",
    "                stack.append(cur.left)\n",
    "                \n",
    "        return output"
   ]
  },
  {
   "cell_type": "code",
   "execution_count": null,
   "metadata": {},
   "outputs": [],
   "source": [
    "# Morris traversal\n",
    "class Solution(object):\n",
    "    def preorderTraversal(self, root):\n",
    "        \"\"\"\n",
    "        :type root: TreeNode\n",
    "        :rtype: List[int]\n",
    "        \"\"\"\n",
    "        node, output = root, []\n",
    "        while node:  \n",
    "            if not node.left: \n",
    "                output.append(node.val)\n",
    "                node = node.right \n",
    "            else: \n",
    "                predecessor = node.left \n",
    "\n",
    "                while predecessor.right and predecessor.right is not node: \n",
    "                    predecessor = predecessor.right \n",
    "\n",
    "                if not predecessor.right:\n",
    "                    output.append(node.val)\n",
    "                    predecessor.right = node  \n",
    "                    node = node.left  \n",
    "                else:\n",
    "                    predecessor.right = None\n",
    "                    node = node.right         \n",
    "\n",
    "        return output"
   ]
  },
  {
   "cell_type": "markdown",
   "metadata": {},
   "source": [
    "https://leetcode.com/explore/learn/card/data-structure-tree/134/traverse-a-tree/928/\n",
    "\n",
    "#### Accepted \n",
    "```cpp\n",
    "/**\n",
    " * Definition for a binary tree node.\n",
    " * struct TreeNode {\n",
    " *     int val;\n",
    " *     TreeNode *left;\n",
    " *     TreeNode *right;\n",
    " *     TreeNode() : val(0), left(nullptr), right(nullptr) {}\n",
    " *     TreeNode(int x) : val(x), left(nullptr), right(nullptr) {}\n",
    " *     TreeNode(int x, TreeNode *left, TreeNode *right) : val(x), left(left), right(right) {}\n",
    " * };\n",
    " */\n",
    "class Solution {\n",
    "public:\n",
    "    vector<int> preorderTraversal(TreeNode* root) {\n",
    "        \n",
    "        \n",
    "        stack<TreeNode*> s;\n",
    "        set<TreeNode*> visited;\n",
    "        vector<int> v;\n",
    "\n",
    "        if(!root){\n",
    "            return v;\n",
    "        }\n",
    "\n",
    "        s.push(root);        \n",
    "\n",
    "        while(s.size()){\n",
    "            TreeNode* cur = s.top();\n",
    "            if(visited.find(cur) == visited.end()){\n",
    "                v.push_back(cur->val);\n",
    "                visited.insert(cur);\n",
    "            }\n",
    "            \n",
    "            if(cur->left and visited.find(cur->left) == visited.end()){\n",
    "                s.push(cur->left);\n",
    "            }else{\n",
    "                s.pop();\n",
    "                if(cur->right and visited.find(cur->right) == visited.end()){\n",
    "                    s.push(cur->right);\n",
    "                }\n",
    "            }\n",
    "        } \n",
    "    return v;\n",
    "        \n",
    "        \n",
    "        \n",
    "    }\n",
    "};\n",
    "```"
   ]
  },
  {
   "cell_type": "markdown",
   "metadata": {},
   "source": [
    "### Solutions"
   ]
  },
  {
   "cell_type": "markdown",
   "metadata": {},
   "source": [
    "https://leetcode.com/problems/binary-tree-preorder-traversal/solution/"
   ]
  },
  {
   "cell_type": "markdown",
   "metadata": {},
   "source": [
    "### Good one:\n",
    "```cpp\n",
    "/**\n",
    " * Definition for a binary tree node.\n",
    " * struct TreeNode {\n",
    " *     int val;\n",
    " *     TreeNode *left;\n",
    " *     TreeNode *right;\n",
    " *     TreeNode(int x) : val(x), left(NULL), right(NULL) {}\n",
    " * };\n",
    " */\n",
    "class Solution {\n",
    "public:\n",
    "    vector<int> preorderTraversal(TreeNode* root) {\n",
    "        vector<int> answer;\n",
    "        stack<TreeNode*> s;\n",
    "        if (root) {\n",
    "            s.push(root);\n",
    "        }\n",
    "        TreeNode* cur;\n",
    "        while (!s.empty()) {\n",
    "            cur = s.top();\n",
    "            s.pop();\n",
    "            answer.push_back(cur->val);     // visit the root\n",
    "            if (cur->right) {\n",
    "                s.push(cur->right);         // push right child to stack if it is not null\n",
    "            }\n",
    "            if (cur->left) {\n",
    "                s.push(cur->left);          // push left child to stack if it is not null\n",
    "            }\n",
    "        }\n",
    "        return answer;\n",
    "    }\n",
    "};\n",
    "```"
   ]
  },
  {
   "cell_type": "markdown",
   "metadata": {},
   "source": [
    "#### Approach 1: Iterations\n",
    "```java\n",
    "/* Definition for a binary tree node. */\n",
    "public class TreeNode {\n",
    "  int val;\n",
    "  TreeNode left;\n",
    "  TreeNode right;\n",
    "\n",
    "  TreeNode(int x) {\n",
    "    val = x;\n",
    "  }\n",
    "}\n",
    "\n",
    "\n",
    "class Solution {\n",
    "  public List<Integer> preorderTraversal(TreeNode root) {\n",
    "    LinkedList<TreeNode> stack = new LinkedList<>();\n",
    "    LinkedList<Integer> output = new LinkedList<>();\n",
    "    if (root == null) {\n",
    "      return output;\n",
    "    }\n",
    "\n",
    "    stack.add(root);\n",
    "    while (!stack.isEmpty()) {\n",
    "      TreeNode node = stack.pollLast();\n",
    "      output.add(node.val);\n",
    "      if (node.right != null) {\n",
    "        stack.add(node.right);\n",
    "      }\n",
    "      if (node.left != null) {\n",
    "        stack.add(node.left);\n",
    "      }\n",
    "    }\n",
    "    return output;\n",
    "  }\n",
    "\n",
    "```"
   ]
  },
  {
   "cell_type": "markdown",
   "metadata": {},
   "source": [
    "#### Approach 2: Morris traversal\n",
    "```java\n",
    "class Solution {\n",
    "  public List<Integer> preorderTraversal(TreeNode root) {\n",
    "    LinkedList<Integer> output = new LinkedList<>();\n",
    "\n",
    "    TreeNode node = root;\n",
    "    while (node != null) {\n",
    "      if (node.left == null) {\n",
    "        output.add(node.val);\n",
    "        node = node.right;\n",
    "      }\n",
    "      else {\n",
    "        TreeNode predecessor = node.left;\n",
    "        while ((predecessor.right != null) && (predecessor.right != node)) {\n",
    "          predecessor = predecessor.right;\n",
    "        }\n",
    "\n",
    "        if (predecessor.right == null) {\n",
    "          output.add(node.val);\n",
    "          predecessor.right = node;\n",
    "          node = node.left;\n",
    "        }\n",
    "        else{\n",
    "          predecessor.right = null;\n",
    "          node = node.right;\n",
    "        }\n",
    "      }\n",
    "    }\n",
    "    return output;\n",
    "  }\n",
    "}\n",
    "```"
   ]
  },
  {
   "cell_type": "markdown",
   "metadata": {},
   "source": [
    "## Binary Tree Inorder Traversal"
   ]
  },
  {
   "cell_type": "code",
   "execution_count": null,
   "metadata": {},
   "outputs": [],
   "source": [
    "# Python"
   ]
  },
  {
   "cell_type": "code",
   "execution_count": null,
   "metadata": {},
   "outputs": [],
   "source": [
    "# Definition for a binary tree node.\n",
    "# class TreeNode:\n",
    "#     def __init__(self, val=0, left=None, right=None):\n",
    "#         self.val = val\n",
    "#         self.left = left\n",
    "#         self.right = right\n",
    "class Solution:\n",
    "    def inorderTraversal(self, root: Optional[TreeNode]) -> List[int]:\n",
    "        if root == None:\n",
    "            return []\n",
    "        \n",
    "        visited = set([None,])\n",
    "        \n",
    "        stack = [root,]\n",
    "        output = []\n",
    "        while stack:\n",
    "            cur = stack[-1]\n",
    "            if not cur:\n",
    "                stack.pop()\n",
    "                continue\n",
    "                \n",
    "            if not cur.left in visited:\n",
    "                stack.append(cur.left)\n",
    "            else:\n",
    "                output.append(cur.val)\n",
    "                visited.add(cur)\n",
    "                stack.pop()\n",
    "                stack.append(cur.right)\n",
    "                \n",
    "        return output\n"
   ]
  },
  {
   "cell_type": "code",
   "execution_count": null,
   "metadata": {},
   "outputs": [],
   "source": [
    "# Definition for a binary tree node.\n",
    "# class TreeNode:\n",
    "#     def __init__(self, val=0, left=None, right=None):\n",
    "#         self.val = val\n",
    "#         self.left = left\n",
    "#         self.right = right\n",
    "class Solution:\n",
    "    def inorderTraversal(self, root: Optional[TreeNode]) -> List[int]:\n",
    "        res = []\n",
    "        stack = []\n",
    "        cur = root;\n",
    "        while (cur or stack):\n",
    "            while (cur):\n",
    "                stack.append(cur);\n",
    "                cur = cur.left;\n",
    "\n",
    "            cur = stack.pop();\n",
    "            res.append(cur.val);\n",
    "            cur = cur.right\n",
    "\n",
    "        return res;\n"
   ]
  },
  {
   "cell_type": "code",
   "execution_count": null,
   "metadata": {},
   "outputs": [],
   "source": [
    "# Definition for a binary tree node.\n",
    "# class TreeNode:\n",
    "#     def __init__(self, val=0, left=None, right=None):\n",
    "#         self.val = val\n",
    "#         self.left = left\n",
    "#         self.right = right\n",
    "class Solution:\n",
    "    def inorderTraversal(self, root: Optional[TreeNode]) -> List[int]:\n",
    "        res = []\n",
    "        self.helper(root, res);\n",
    "        return res;\n",
    "    \n",
    "\n",
    "    def helper(self, root, res):\n",
    "        if root :\n",
    "            self.helper(root.left, res);\n",
    "            res.append(root.val);\n",
    "            self.helper(root.right, res);\n"
   ]
  },
  {
   "cell_type": "markdown",
   "metadata": {},
   "source": [
    "https://leetcode.com/explore/learn/card/data-structure-tree/134/traverse-a-tree/929/"
   ]
  },
  {
   "cell_type": "markdown",
   "metadata": {},
   "source": [
    "```cpp\n",
    "/**\n",
    " * Definition for a binary tree node.\n",
    " * struct TreeNode {\n",
    " *     int val;\n",
    " *     TreeNode *left;\n",
    " *     TreeNode *right;\n",
    " *     TreeNode() : val(0), left(nullptr), right(nullptr) {}\n",
    " *     TreeNode(int x) : val(x), left(nullptr), right(nullptr) {}\n",
    " *     TreeNode(int x, TreeNode *left, TreeNode *right) : val(x), left(left), right(right) {}\n",
    " * };\n",
    " */\n",
    "class Solution {\n",
    "public:\n",
    "    vector<int> inorderTraversal(TreeNode* root) {\n",
    "        stack<TreeNode*> s;\n",
    "        set<TreeNode*> visited;\n",
    "        vector<int> v;\n",
    "        \n",
    "        if(!root){\n",
    "            return v;\n",
    "        }\n",
    "        \n",
    "        s.push(root);        \n",
    "\n",
    "        while(s.size()){\n",
    "            TreeNode* cur = s.top();\n",
    "            if(cur->left and visited.find(cur->left) == visited.end()){\n",
    "                s.push(cur->left);\n",
    "            }else{\n",
    "                v.push_back(cur->val);\n",
    "                visited.insert(cur);\n",
    "                s.pop();\n",
    "                if(cur->right and visited.find(cur->right) == visited.end()){\n",
    "                    s.push(cur->right);\n",
    "                }\n",
    "            }\n",
    "        } \n",
    "    return v;\n",
    "    }\n",
    "};\n",
    "\n",
    "```"
   ]
  },
  {
   "cell_type": "markdown",
   "metadata": {},
   "source": [
    "#### Good one\n",
    "```cpp\n",
    "/**\n",
    " * Definition for a binary tree node.\n",
    " * struct TreeNode {\n",
    " *     int val;\n",
    " *     TreeNode *left;\n",
    " *     TreeNode *right;\n",
    " *     TreeNode() : val(0), left(nullptr), right(nullptr) {}\n",
    " *     TreeNode(int x) : val(x), left(nullptr), right(nullptr) {}\n",
    " *     TreeNode(int x, TreeNode *left, TreeNode *right) : val(x), left(left), right(right) {}\n",
    " * };\n",
    " */\n",
    "class Solution {\n",
    "public:\n",
    "    vector<int> inorderTraversal(TreeNode* root) {\n",
    "        stack<TreeNode*> s;\n",
    "        vector<int> v;\n",
    "        \n",
    "        TreeNode* cur = root;\n",
    "        while(cur != NULL or s.size()!=0){\n",
    "            while(cur != NULL){\n",
    "                s.push(cur);\n",
    "                cur = cur->left;\n",
    "            }\n",
    "            cur = s.top();\n",
    "            v.push_back(cur->val); \n",
    "            s.pop();  // 这里这个值被直接抽调了  所以不会影响  巧\n",
    "            cur = cur->right;\n",
    "            \n",
    "        }\n",
    "\n",
    "    return v;\n",
    "    }\n",
    "};\n",
    "```"
   ]
  },
  {
   "cell_type": "markdown",
   "metadata": {},
   "source": [
    "### Solutions\n",
    "\n",
    "\n",
    "#### Approach 1: Recursive Approach\n",
    "```java\n",
    "class Solution {\n",
    "    public List < Integer > inorderTraversal(TreeNode root) {\n",
    "        List < Integer > res = new ArrayList < > ();\n",
    "        helper(root, res);\n",
    "        return res;\n",
    "    }\n",
    "\n",
    "    public void helper(TreeNode root, List < Integer > res) {\n",
    "        if (root != null) {\n",
    "            if (root.left != null) {\n",
    "                helper(root.left, res);\n",
    "            }\n",
    "            res.add(root.val);\n",
    "            if (root.right != null) {\n",
    "                helper(root.right, res);\n",
    "            }\n",
    "        }\n",
    "    }\n",
    "}\n",
    "```\n",
    "\n",
    "#### Approach 2: Iterating method using Stack\n",
    "```java\n",
    "public class Solution {\n",
    "    public List < Integer > inorderTraversal(TreeNode root) {\n",
    "        List < Integer > res = new ArrayList < > ();\n",
    "        Stack < TreeNode > stack = new Stack < > ();\n",
    "        TreeNode curr = root;\n",
    "        while (curr != null || !stack.isEmpty()) {\n",
    "            while (curr != null) {\n",
    "                stack.push(curr);\n",
    "                curr = curr.left;\n",
    "            }\n",
    "            curr = stack.pop();\n",
    "            res.add(curr.val);\n",
    "            curr = curr.right;\n",
    "        }\n",
    "        return res;\n",
    "    }\n",
    "}\n",
    "```"
   ]
  },
  {
   "cell_type": "markdown",
   "metadata": {},
   "source": [
    "## Binary Tree Postorder Traversal"
   ]
  },
  {
   "cell_type": "code",
   "execution_count": null,
   "metadata": {},
   "outputs": [],
   "source": [
    "# Python"
   ]
  },
  {
   "attachments": {
    "image.png": {
     "image/png": "[encoded data removed]"
    }
   },
   "cell_type": "markdown",
   "metadata": {},
   "source": [
    "![image.png](attachment:image.png)"
   ]
  },
  {
   "cell_type": "code",
   "execution_count": null,
   "metadata": {},
   "outputs": [],
   "source": [
    "# Python"
   ]
  },
  {
   "cell_type": "code",
   "execution_count": null,
   "metadata": {},
   "outputs": [],
   "source": [
    "# Definition for a binary tree node.\n",
    "# class TreeNode:\n",
    "#     def __init__(self, val=0, left=None, right=None):\n",
    "#         self.val = val\n",
    "#         self.left = left\n",
    "#         self.right = right\n",
    "class Solution:\n",
    "    def postorderTraversal(self, root: Optional[TreeNode]) -> List[int]:\n",
    "        res = []\n",
    "        self.helper(root, res);\n",
    "        return res;\n",
    "    \n",
    "\n",
    "    def helper(self, root, res):\n",
    "        if root :\n",
    "            self.helper(root.left, res);\n",
    "            self.helper(root.right, res);\n",
    "            res.append(root.val);\n",
    "            "
   ]
  },
  {
   "cell_type": "code",
   "execution_count": null,
   "metadata": {},
   "outputs": [],
   "source": [
    "# Definition for a binary tree node.\n",
    "# class TreeNode:\n",
    "#     def __init__(self, val=0, left=None, right=None):\n",
    "#         self.val = val\n",
    "#         self.left = left\n",
    "#         self.right = right\n",
    "from collections import deque\n",
    "class Solution:\n",
    "    def postorderTraversal(self, root: Optional[TreeNode]) -> List[int]:\n",
    "        stack = []\n",
    "        p = root\n",
    "        res = deque()\n",
    "        while stack or p:\n",
    "            if p:\n",
    "                stack.append(p.left)\n",
    "                res.appendleft(p.val)\n",
    "                p = p.right\n",
    "            else:\n",
    "                p = stack.pop()\n",
    "        return list(res)"
   ]
  },
  {
   "cell_type": "markdown",
   "metadata": {},
   "source": [
    "https://leetcode.com/explore/learn/card/data-structure-tree/134/traverse-a-tree/930/"
   ]
  },
  {
   "cell_type": "markdown",
   "metadata": {},
   "source": [
    "Given the root of a binary tree, return the postorder traversal of its nodes' values."
   ]
  },
  {
   "cell_type": "markdown",
   "metadata": {},
   "source": [
    "#### Accepted\n",
    "```cpp\n",
    "/**\n",
    " * Definition for a binary tree node.\n",
    " * struct TreeNode {\n",
    " *     int val;\n",
    " *     TreeNode *left;\n",
    " *     TreeNode *right;\n",
    " *     TreeNode() : val(0), left(nullptr), right(nullptr) {}\n",
    " *     TreeNode(int x) : val(x), left(nullptr), right(nullptr) {}\n",
    " *     TreeNode(int x, TreeNode *left, TreeNode *right) : val(x), left(left), right(right) {}\n",
    " * };\n",
    " */\n",
    "class Solution {\n",
    "public:\n",
    "    vector<int> postorderTraversal(TreeNode* root) {\n",
    "        \n",
    "    \n",
    "        stack<TreeNode*> s;\n",
    "        set<TreeNode*> visited;\n",
    "        vector<int> v;\n",
    "\n",
    "        if(!root){\n",
    "            return v;\n",
    "        }\n",
    "\n",
    "        s.push(root);        \n",
    "\n",
    "        while(s.size()){\n",
    "            TreeNode* cur = s.top();\n",
    "            \n",
    "            \n",
    "            if(cur->left and visited.find(cur->left) == visited.end()){\n",
    "                s.push(cur->left);\n",
    "            }else if(cur->right and visited.find(cur->right) == visited.end()){\n",
    "                s.push(cur->right);\n",
    "                \n",
    "            }else{\n",
    "                v.push_back(cur->val);\n",
    "                visited.insert(cur);\n",
    "                s.pop();\n",
    "            }\n",
    "        } \n",
    "    return v;  \n",
    "        \n",
    "        \n",
    "    }\n",
    "};\n",
    "\n",
    "```"
   ]
  },
  {
   "cell_type": "markdown",
   "metadata": {},
   "source": [
    "### Solution\n",
    "#### Recurse\n",
    "\n",
    "```cpp\n",
    "/**\n",
    " * Definition for a binary tree node.\n",
    " * struct TreeNode {\n",
    " *     int val;\n",
    " *     TreeNode *left;\n",
    " *     TreeNode *right;\n",
    " *     TreeNode() : val(0), left(nullptr), right(nullptr) {}\n",
    " *     TreeNode(int x) : val(x), left(nullptr), right(nullptr) {}\n",
    " *     TreeNode(int x, TreeNode *left, TreeNode *right) : val(x), left(left), right(right) {}\n",
    " * };\n",
    " */\n",
    "class Solution {\n",
    "public:\n",
    "    void traverse(TreeNode* root, vector<int>& result){\n",
    "        if (root == NULL){\n",
    "            return;\n",
    "        }\n",
    "        \n",
    "        traverse(root->left, result);\n",
    "        traverse(root->right, result);\n",
    "        result.push_back(root->val);\n",
    "    }\n",
    "    vector<int> postorderTraversal(TreeNode* root) {\n",
    "        vector<int> result;\n",
    "        traverse(root, result);\n",
    "        return result;\n",
    "    }\n",
    "};\n",
    "```"
   ]
  },
  {
   "cell_type": "markdown",
   "metadata": {},
   "source": [
    "## Binary Tree Traversal - Solution"
   ]
  },
  {
   "cell_type": "markdown",
   "metadata": {},
   "source": [
    "https://leetcode.com/explore/learn/card/data-structure-tree/134/traverse-a-tree/1036/"
   ]
  },
  {
   "cell_type": "markdown",
   "metadata": {},
   "source": [
    "### Pre-order Traversal - Recursive Solution"
   ]
  },
  {
   "cell_type": "markdown",
   "metadata": {},
   "source": [
    "```cpp\n",
    "/**\n",
    " * Definition for a binary tree node.\n",
    " * struct TreeNode {\n",
    " *     int val;\n",
    " *     TreeNode *left;\n",
    " *     TreeNode *right;\n",
    " *     TreeNode(int x) : val(x), left(NULL), right(NULL) {}\n",
    " * };\n",
    " */\n",
    "class Solution {\n",
    "private:\n",
    "    void preorderTraversal(TreeNode* root, vector<int>& answer) {\n",
    "        if (!root) {\n",
    "            return;\n",
    "        }\n",
    "        answer.push_back(root->val);               // visit the root\n",
    "        preorderTraversal(root->left, answer);     // traverse left subtree\n",
    "        preorderTraversal(root->right, answer);    // traverse right subtree\n",
    "    }\n",
    "public:\n",
    "    vector<int> preorderTraversal(TreeNode* root) {\n",
    "        vector<int> answer;\n",
    "        preorderTraversal(root, answer);\n",
    "        return answer;\n",
    "    }\n",
    "};\n",
    "\n",
    "```"
   ]
  },
  {
   "cell_type": "markdown",
   "metadata": {},
   "source": [
    "### In-order Traversal - Recursive Solution\n",
    "```cpp\n",
    "/**\n",
    " * Definition for a binary tree node.\n",
    " * struct TreeNode {\n",
    " *     int val;\n",
    " *     TreeNode *left;\n",
    " *     TreeNode *right;\n",
    " *     TreeNode(int x) : val(x), left(NULL), right(NULL) {}\n",
    " * };\n",
    " */\n",
    "class Solution {\n",
    "private:\n",
    "    void inorderTraversal(TreeNode* root, vector<int>& answer) {\n",
    "        if (!root) {\n",
    "            return;\n",
    "        }\n",
    "        inorderTraversal(root->left, answer);     // traverse left subtree\n",
    "        answer.push_back(root->val);              // visit the root\n",
    "        inorderTraversal(root->right, answer);    // traverse right subtree\n",
    "    }\n",
    "public:\n",
    "    vector<int> inorderTraversal(TreeNode* root) {\n",
    "        vector<int> answer;\n",
    "        inorderTraversal(root, answer);\n",
    "        return answer;   \n",
    "    }\n",
    "};\n",
    "```"
   ]
  },
  {
   "cell_type": "markdown",
   "metadata": {},
   "source": [
    "### Post-order Traversal - Recursive Solution"
   ]
  },
  {
   "cell_type": "markdown",
   "metadata": {},
   "source": [
    "```cpp\n",
    "/**\n",
    " * Definition for a binary tree node.\n",
    " * struct TreeNode {\n",
    " *     int val;\n",
    " *     TreeNode *left;\n",
    " *     TreeNode *right;\n",
    " *     TreeNode(int x) : val(x), left(NULL), right(NULL) {}\n",
    " * };\n",
    " */\n",
    "class Solution {\n",
    "private:\n",
    "    void postorderTraversal(TreeNode* root, vector<int>& answer) {\n",
    "        if (!root) {\n",
    "            return;\n",
    "        }\n",
    "        postorderTraversal(root->left, answer);     // traverse left subtree\n",
    "        postorderTraversal(root->right, answer);    // traverse right subtree\n",
    "        answer.push_back(root->val);                // visit the root\n",
    "    }\n",
    "public:\n",
    "    vector<int> postorderTraversal(TreeNode* root) {\n",
    "        vector<int> answer;\n",
    "        postorderTraversal(root, answer);\n",
    "        return answer;   \n",
    "    }\n",
    "};\n",
    "```"
   ]
  },
  {
   "cell_type": "markdown",
   "metadata": {},
   "source": [
    "## Iterative Solution"
   ]
  },
  {
   "cell_type": "markdown",
   "metadata": {},
   "source": [
    "There are several iterative solutions for tree traversal. One of the solutions is to use a stack to simulate the recursion process.\n",
    "\n",
    "Taking pre-order traversal as an example, in each iteration, we pop one node from the stack and visit this node. Then if this node has a right child, push its right child into the stack. If this node has a left child, push its left child into the stack. It is noteworthy that we push the right child first so that we can visit the left child first since the nature of the stack is LIFO(last in first out). After that, we can continue to the next iteration until the stack is empty."
   ]
  },
  {
   "cell_type": "markdown",
   "metadata": {},
   "source": [
    "```cpp\n",
    "/**\n",
    " * Definition for a binary tree node.\n",
    " * struct TreeNode {\n",
    " *     int val;\n",
    " *     TreeNode *left;\n",
    " *     TreeNode *right;\n",
    " *     TreeNode(int x) : val(x), left(NULL), right(NULL) {}\n",
    " * };\n",
    " */\n",
    "class Solution {\n",
    "public:\n",
    "    vector<int> preorderTraversal(TreeNode* root) {\n",
    "        vector<int> answer;\n",
    "        stack<TreeNode*> s;\n",
    "        if (root) {\n",
    "            s.push(root);\n",
    "        }\n",
    "        TreeNode* cur;\n",
    "        while (!s.empty()) {\n",
    "            cur = s.top();\n",
    "            s.pop();\n",
    "            answer.push_back(cur->val);     // visit the root\n",
    "            if (cur->right) {\n",
    "                s.push(cur->right);         // push right child to stack if it is not null\n",
    "            }\n",
    "            if (cur->left) {\n",
    "                s.push(cur->left);          // push left child to stack if it is not null\n",
    "            }\n",
    "        }\n",
    "        return answer;\n",
    "    }\n",
    "};\n",
    "```"
   ]
  },
  {
   "cell_type": "markdown",
   "metadata": {},
   "source": [
    "## Level-order Traversal - Introduction"
   ]
  },
  {
   "cell_type": "markdown",
   "metadata": {},
   "source": [
    "Level-order traversal is to traverse the tree level by level.\n",
    "\n",
    "Breadth-First Search is an algorithm to traverse or search in data structures like a tree or a graph. The algorithm starts with a root node and visit the node itself first. Then traverse its neighbors, traverse its second level neighbors, traverse its third level neighbors, so on and so forth.\n",
    "\n",
    "When we do breadth-first search in a tree, the order of the nodes we visited is in level order.\n",
    "\n",
    "Here is an example of level-order traversal:"
   ]
  },
  {
   "attachments": {
    "image.png": {
     "image/png": "[encoded data removed]"
    }
   },
   "cell_type": "markdown",
   "metadata": {},
   "source": [
    "![image.png](attachment:image.png)"
   ]
  },
  {
   "cell_type": "markdown",
   "metadata": {},
   "source": [
    "Typically, we use a queue to help us to do BFS. "
   ]
  },
  {
   "cell_type": "markdown",
   "metadata": {},
   "source": [
    "## Binary Tree Level Order Traversal"
   ]
  },
  {
   "cell_type": "markdown",
   "metadata": {},
   "source": [
    "https://leetcode.com/explore/learn/card/data-structure-tree/134/traverse-a-tree/931/"
   ]
  },
  {
   "cell_type": "markdown",
   "metadata": {},
   "source": [
    "Given the root of a binary tree, return the level order traversal of its nodes' values. (i.e., from left to right, level by level)."
   ]
  },
  {
   "attachments": {
    "image.png": {
     "image/png": "[encoded data removed]"
    }
   },
   "cell_type": "markdown",
   "metadata": {},
   "source": [
    "![image.png](attachment:image.png)"
   ]
  },
  {
   "cell_type": "markdown",
   "metadata": {},
   "source": [
    "#### Accepted 1 BFS\n",
    "\n",
    "```cpp\n",
    "/**\n",
    " * Definition for a binary tree node.\n",
    " * struct TreeNode {\n",
    " *     int val;\n",
    " *     TreeNode *left;\n",
    " *     TreeNode *right;\n",
    " *     TreeNode() : val(0), left(nullptr), right(nullptr) {}\n",
    " *     TreeNode(int x) : val(x), left(nullptr), right(nullptr) {}\n",
    " *     TreeNode(int x, TreeNode *left, TreeNode *right) : val(x), left(left), right(right) {}\n",
    " * };\n",
    " */\n",
    "class Solution {\n",
    "public:\n",
    "    vector<vector<int>> levelOrder(TreeNode* root) {\n",
    "        queue<TreeNode*> q1;\n",
    "        queue<TreeNode*> q2;\n",
    "        q1.push(root);\n",
    "        vector<vector<int>> v;\n",
    "        \n",
    "        if(!root){\n",
    "            return v;\n",
    "        }\n",
    "        \n",
    "        while(q1.size() or q2.size()){\n",
    "            vector<int> v1;\n",
    "            while(q1.size()){\n",
    "                TreeNode* cur = q1.front();\n",
    "                q1.pop();\n",
    "                v1.push_back(cur->val);\n",
    "                if(cur->left){\n",
    "                    q2.push(cur->left);\n",
    "                }\n",
    "                if(cur->right){\n",
    "                    q2.push(cur->right);\n",
    "                }\n",
    "            }\n",
    "            if(v1.size()){\n",
    "                v.push_back(v1);\n",
    "            }\n",
    "            \n",
    "            vector<int> v2;\n",
    "            while(q2.size()){\n",
    "                TreeNode* cur = q2.front();\n",
    "                q2.pop();\n",
    "                v2.push_back(cur->val);\n",
    "                if(cur->left){\n",
    "                    q1.push(cur->left);\n",
    "                }\n",
    "                if(cur->right){\n",
    "                    q1.push(cur->right);\n",
    "                }\n",
    "            }\n",
    "            if(v2.size()){\n",
    "            v.push_back(v2);\n",
    "            }\n",
    "            \n",
    "        }\n",
    "            \n",
    "        return v;\n",
    "    }\n",
    "};\n",
    "```"
   ]
  },
  {
   "cell_type": "markdown",
   "metadata": {},
   "source": [
    "#### Accpetd Recursion with levels as indicator\n",
    "```cpp\n",
    "/**\n",
    " * Definition for a binary tree node.\n",
    " * struct TreeNode {\n",
    " *     int val;\n",
    " *     TreeNode *left;\n",
    " *     TreeNode *right;\n",
    " *     TreeNode() : val(0), left(nullptr), right(nullptr) {}\n",
    " *     TreeNode(int x) : val(x), left(nullptr), right(nullptr) {}\n",
    " *     TreeNode(int x, TreeNode *left, TreeNode *right) : val(x), left(left), right(right) {}\n",
    " * };\n",
    " */\n",
    "class Solution {\n",
    "public:\n",
    "    \n",
    "    void BFS(TreeNode* cur, vector<vector<int>>& v, int levels){\n",
    "        \n",
    "        if(!cur){\n",
    "            return;\n",
    "        }\n",
    "        \n",
    "        if(v.size()==levels){\n",
    "         vector<int> level;\n",
    "         v.push_back(level);   \n",
    "        }\n",
    "        \n",
    "        v[levels].push_back(cur->val);\n",
    "        \n",
    "        if(cur->left){\n",
    "            BFS(cur->left, v, levels+1);\n",
    "        }\n",
    "        \n",
    "        if(cur->right){\n",
    "            BFS(cur->right, v, levels+1);\n",
    "        }\n",
    "        \n",
    "        \n",
    "    }\n",
    "    \n",
    "    \n",
    "    vector<vector<int>> levelOrder(TreeNode* root) {\n",
    "\n",
    "        vector<vector<int>> v;\n",
    "        BFS(root, v, 0);\n",
    "        return v;\n",
    "    }\n",
    "};\n",
    "```"
   ]
  },
  {
   "cell_type": "markdown",
   "metadata": {},
   "source": [
    "### Solutions\n",
    "https://leetcode.com/problems/binary-tree-level-order-traversal/solution/"
   ]
  },
  {
   "cell_type": "markdown",
   "metadata": {},
   "source": [
    "#### Standard\n",
    "```cpp\n",
    "/**\n",
    " * Definition for a binary tree node.\n",
    " * struct TreeNode {\n",
    " *     int val;\n",
    " *     TreeNode *left;\n",
    " *     TreeNode *right;\n",
    " *     TreeNode(int x) : val(x), left(NULL), right(NULL) {}\n",
    " * };\n",
    " */\n",
    "class Solution {\n",
    "public:\n",
    "    vector<vector<int>> levelOrder(TreeNode* root) {\n",
    "        vector<vector<int>> ans;\n",
    "        queue<TreeNode*> q;\n",
    "        if (root) {\n",
    "            q.push(root);\n",
    "        }\n",
    "        TreeNode* cur;\n",
    "        while (!q.empty()) {\n",
    "            int size = q.size();\n",
    "            ans.push_back(vector<int>());\n",
    "            for (int i = 0; i < size; ++i) {\t\t// traverse nodes in the same level\n",
    "                cur = q.front();\n",
    "                q.pop();\n",
    "                ans.back().push_back(cur->val);\t\t// visit the root\n",
    "                if (cur->left) {\n",
    "                    q.push(cur->left);\t\t\t\t// push left child to queue if it is not null\n",
    "                }\n",
    "                if (cur->right) {\n",
    "                    q.push(cur->right);\t\t\t\t// push right child to queue if it is not null\n",
    "                }\n",
    "            }\n",
    "        }\n",
    "        return ans;\n",
    "    }\n",
    "};\n",
    "```"
   ]
  },
  {
   "cell_type": "markdown",
   "metadata": {},
   "source": [
    "#### Approach 1: Recursion"
   ]
  },
  {
   "cell_type": "markdown",
   "metadata": {},
   "source": [
    "```java\n",
    "class Solution {\n",
    "    List<List<Integer>> levels = new ArrayList<List<Integer>>();\n",
    "\n",
    "    public void helper(TreeNode node, int level) {\n",
    "        // start the current level\n",
    "        if (levels.size() == level)\n",
    "            levels.add(new ArrayList<Integer>());\n",
    "\n",
    "         // fulfil the current level\n",
    "         levels.get(level).add(node.val);\n",
    "\n",
    "         // process child nodes for the next level\n",
    "         if (node.left != null)\n",
    "            helper(node.left, level + 1);\n",
    "         if (node.right != null)\n",
    "            helper(node.right, level + 1);\n",
    "    }\n",
    "    \n",
    "    public List<List<Integer>> levelOrder(TreeNode root) {\n",
    "        if (root == null) return levels;\n",
    "        helper(root, 0);\n",
    "        return levels;\n",
    "    }\n",
    "}\n",
    "\n",
    "```"
   ]
  },
  {
   "cell_type": "markdown",
   "metadata": {},
   "source": [
    "#### Approach 2: Iteration"
   ]
  },
  {
   "cell_type": "markdown",
   "metadata": {},
   "source": [
    "```java\n",
    "class Solution {\n",
    "  public List<List<Integer>> levelOrder(TreeNode root) {\n",
    "    List<List<Integer>> levels = new ArrayList<List<Integer>>();\n",
    "    if (root == null) return levels;\n",
    "\n",
    "    Queue<TreeNode> queue = new LinkedList<TreeNode>();\n",
    "    queue.add(root);\n",
    "    int level = 0;\n",
    "    while ( !queue.isEmpty() ) {\n",
    "      // start the current level\n",
    "      levels.add(new ArrayList<Integer>());\n",
    "\n",
    "      // number of elements in the current level\n",
    "      int level_length = queue.size();\n",
    "      for(int i = 0; i < level_length; ++i) {\n",
    "        TreeNode node = queue.remove();\n",
    "\n",
    "        // fulfill the current level\n",
    "        levels.get(level).add(node.val);\n",
    "\n",
    "        // add child nodes of the current level\n",
    "        // in the queue for the next level\n",
    "        if (node.left != null) queue.add(node.left);\n",
    "        if (node.right != null) queue.add(node.right);\n",
    "      }\n",
    "      // go to next level\n",
    "      level++;\n",
    "    }\n",
    "    return levels;\n",
    "  }\n",
    "}\n",
    "```"
   ]
  }
 ],
 "metadata": {
  "kernelspec": {
   "display_name": "Python 3",
   "language": "python",
   "name": "python3"
  },
  "language_info": {
   "codemirror_mode": {
    "name": "ipython",
    "version": 3
   },
   "file_extension": ".py",
   "mimetype": "text/x-python",
   "name": "python",
   "nbconvert_exporter": "python",
   "pygments_lexer": "ipython3",
   "version": "3.7.3"
  }
 },
 "nbformat": 4,
 "nbformat_minor": 2
}
