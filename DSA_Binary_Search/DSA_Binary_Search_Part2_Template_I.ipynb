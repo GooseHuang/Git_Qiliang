{
 "cells": [
  {
   "cell_type": "markdown",
   "metadata": {},
   "source": [
    "# Binary Search Template I"
   ]
  },
  {
   "cell_type": "markdown",
   "metadata": {},
   "source": [
    "https://leetcode.com/explore/learn/card/binary-search/125/template-i/938/"
   ]
  },
  {
   "cell_type": "markdown",
   "metadata": {},
   "source": [
    "```cpp\n",
    "int binarySearch(vector<int>& nums, int target){\n",
    "  if(nums.size() == 0)\n",
    "    return -1;\n",
    "\n",
    "  int left = 0, right = nums.size() - 1;\n",
    "  while(left <= right){\n",
    "    // Prevent (left + right) overflow\n",
    "    int mid = left + (right - left) / 2;\n",
    "    if(nums[mid] == target){ return mid; }\n",
    "    else if(nums[mid] < target) { left = mid + 1; }\n",
    "    else { right = mid - 1; }\n",
    "  }\n",
    "\n",
    "  // End Condition: left > right\n",
    "  return -1;\n",
    "}\n",
    "```"
   ]
  },
  {
   "cell_type": "markdown",
   "metadata": {},
   "source": [
    "## Sqrt(x)"
   ]
  },
  {
   "cell_type": "markdown",
   "metadata": {},
   "source": [
    "Given a non-negative integer x, compute and return the square root of x.\n",
    "\n",
    "Since the return type is an integer, the decimal digits are truncated, and only the integer part of the result is returned.\n",
    "\n",
    "Note: You are not allowed to use any built-in exponent function or operator, such as pow(x, 0.5) or x ** 0.5."
   ]
  },
  {
   "cell_type": "code",
   "execution_count": 1,
   "metadata": {},
   "outputs": [
    {
     "data": {
      "text/plain": [
       "2415820801"
      ]
     },
     "execution_count": 1,
     "metadata": {},
     "output_type": "execute_result"
    }
   ],
   "source": [
    "49151 * 49151"
   ]
  },
  {
   "cell_type": "code",
   "execution_count": 2,
   "metadata": {},
   "outputs": [
    {
     "data": {
      "text/plain": [
       "32768"
      ]
     },
     "execution_count": 2,
     "metadata": {},
     "output_type": "execute_result"
    }
   ],
   "source": [
    "2**15"
   ]
  },
  {
   "cell_type": "code",
   "execution_count": 3,
   "metadata": {},
   "outputs": [
    {
     "data": {
      "text/plain": [
       "2147483648"
      ]
     },
     "execution_count": 3,
     "metadata": {},
     "output_type": "execute_result"
    }
   ],
   "source": [
    "2**31"
   ]
  },
  {
   "cell_type": "code",
   "execution_count": null,
   "metadata": {},
   "outputs": [],
   "source": [
    "2147395599"
   ]
  },
  {
   "cell_type": "code",
   "execution_count": 5,
   "metadata": {},
   "outputs": [
    {
     "data": {
      "text/plain": [
       "65536"
      ]
     },
     "execution_count": 5,
     "metadata": {},
     "output_type": "execute_result"
    }
   ],
   "source": [
    "2**16"
   ]
  },
  {
   "cell_type": "code",
   "execution_count": 6,
   "metadata": {},
   "outputs": [
    {
     "data": {
      "text/plain": [
       "32768"
      ]
     },
     "execution_count": 6,
     "metadata": {},
     "output_type": "execute_result"
    }
   ],
   "source": [
    "2**15"
   ]
  },
  {
   "cell_type": "markdown",
   "metadata": {},
   "source": [
    "##### Accepted V1\n",
    "```cpp\n",
    "class Solution {\n",
    "public:\n",
    "    \n",
    "//     int helper(int x){\n",
    "//         while(x*x<=INT_MAX){\n",
    "//             x++;\n",
    "//             cout<<x<<\" x\\n\";\n",
    "//         }\n",
    "//         return x;\n",
    "//     }\n",
    "    \n",
    "    \n",
    "    int mySqrt(int x) {\n",
    "        // helper(46000);\n",
    "        \n",
    "      int left = 0, right = x;\n",
    "      int max_sqrt = 46340; \n",
    "      if(right>max_sqrt){\n",
    "          right = max_sqrt;\n",
    "      }\n",
    "      // cout<<max_sqrt<<\" max_sqrt\\n\";\n",
    "      while(right-left>1){\n",
    "        // Prevent (left + right) overflow\n",
    "        int mid = left + (right - left) / 2;\n",
    "        if(mid*mid == x){ return mid; }\n",
    "        else if(mid*mid < x) { left = mid; }\n",
    "        else { right = mid; }\n",
    "         \n",
    "      }\n",
    "    \n",
    "        if(right*right<=x){\n",
    "            return right;\n",
    "        }else{\n",
    "            return left;\n",
    "        }\n",
    "    }\n",
    "};\n",
    "```"
   ]
  },
  {
   "cell_type": "markdown",
   "metadata": {},
   "source": [
    "### Solutions\n",
    "https://leetcode.com/problems/sqrtx/solution/"
   ]
  },
  {
   "cell_type": "markdown",
   "metadata": {},
   "source": [
    "##### Approach 1: Pocket Calculator Algorithm\n",
    "```java\n",
    "class Solution {\n",
    "  public int mySqrt(int x) {\n",
    "    if (x < 2) return x;\n",
    "\n",
    "    int left = (int)Math.pow(Math.E, 0.5 * Math.log(x));\n",
    "    int right = left + 1;\n",
    "    return (long)right * right > x ? left : right;\n",
    "  }\n",
    "}\n",
    "```"
   ]
  },
  {
   "cell_type": "markdown",
   "metadata": {},
   "source": [
    "##### Approach 2: Binary Search\n",
    "```java\n",
    "class Solution {\n",
    "  public int mySqrt(int x) {\n",
    "    if (x < 2) return x;\n",
    "\n",
    "    long num;\n",
    "    int pivot, left = 2, right = x / 2;\n",
    "    while (left <= right) {\n",
    "      pivot = left + (right - left) / 2;\n",
    "      num = (long)pivot * pivot;\n",
    "      if (num > x) right = pivot - 1;\n",
    "      else if (num < x) left = pivot + 1;\n",
    "      else return pivot;\n",
    "    }\n",
    "\n",
    "    return right;\n",
    "  }\n",
    "}\n",
    "```"
   ]
  },
  {
   "cell_type": "markdown",
   "metadata": {},
   "source": [
    "##### Approach 3: Recursion + Bit Shifts\n",
    "```java\n",
    "class Solution {\n",
    "  public int mySqrt(int x) {\n",
    "    if (x < 2) return x;\n",
    "\n",
    "    int left = mySqrt(x >> 2) << 1;\n",
    "    int right = left + 1;\n",
    "    return (long)right * right > x ? left : right;\n",
    "  }\n",
    "}\n",
    "```"
   ]
  },
  {
   "cell_type": "markdown",
   "metadata": {},
   "source": [
    "## Guess Number Higher or Lower\n",
    "https://leetcode.com/explore/learn/card/binary-search/125/template-i/951/"
   ]
  },
  {
   "cell_type": "markdown",
   "metadata": {},
   "source": [
    "We are playing the Guess Game. The game is as follows:\n",
    "\n",
    "I pick a number from 1 to n. You have to guess which number I picked.\n",
    "\n",
    "Every time you guess wrong, I will tell you whether the number I picked is higher or lower than your guess.\n",
    "\n",
    "You call a pre-defined API int guess(int num), which returns 3 possible results:\n",
    "\n",
    "-1: The number I picked is lower than your guess (i.e. pick < num).\n",
    "1: The number I picked is higher than your guess (i.e. pick > num).\n",
    "0: The number I picked is equal to your guess (i.e. pick == num).\n",
    "Return the number that I picked.\n",
    "\n",
    " "
   ]
  },
  {
   "cell_type": "markdown",
   "metadata": {},
   "source": [
    "##### V1 Accepted\n",
    "```cpp\n",
    "/** \n",
    " * Forward declaration of guess API.\n",
    " * @param  num   your guess\n",
    " * @return \t     -1 if num is lower than the guess number\n",
    " *\t\t\t      1 if num is higher than the guess number\n",
    " *               otherwise return 0\n",
    " * int guess(int num);\n",
    " */\n",
    "\n",
    "class Solution {\n",
    "public:\n",
    "    int guessNumber(int n) {\n",
    "        \n",
    "        int start = 1;\n",
    "        int end = n;\n",
    "        while(end - start>1){\n",
    "            // cout<<start<<\" start\\n\";\n",
    "            // cout<<end<<\" end\\n\";\n",
    "            // cout<<\" \\n\";\n",
    "            int cur =  start + (end - start)/2;\n",
    "            int result = guess(cur); \n",
    "            if(result==0){\n",
    "                return cur;\n",
    "            }else if(result == -1){\n",
    "                end = cur;\n",
    "            }else{\n",
    "                start = cur;\n",
    "            }      \n",
    "      }\n",
    "        // cout<<start<<\" start\\n\";\n",
    "        // cout<<end<<\" end\\n\";\n",
    "        // cout<<\" \\n\";    \n",
    "        if(guess(start)==0){\n",
    "            return start;\n",
    "        }else{\n",
    "            return end;\n",
    "        }\n",
    "\n",
    "    }\n",
    "};\n",
    "```"
   ]
  },
  {
   "cell_type": "markdown",
   "metadata": {},
   "source": [
    "### Solutions\n",
    "https://leetcode.com/problems/guess-number-higher-or-lower/solution/\n",
    "#####  Approach 2: Using Binary Search\n",
    "```java\n",
    "/* The guess API is defined in the parent class GuessGame.\n",
    "   @param num, your guess\n",
    "   @return -1 if my number is lower, 1 if my number is higher, otherwise return 0\n",
    "      int guess(int num); */\n",
    "\n",
    "public class Solution extends GuessGame {\n",
    "    public int guessNumber(int n) {\n",
    "        int low = 1;\n",
    "        int high = n;\n",
    "        while (low <= high) {\n",
    "            int mid = low + (high - low) / 2;\n",
    "            int res = guess(mid);\n",
    "            if (res == 0)\n",
    "                return mid;\n",
    "            else if (res < 0)\n",
    "                high = mid - 1;\n",
    "            else\n",
    "                low = mid + 1;\n",
    "        }\n",
    "        return -1;\n",
    "    }\n",
    "```"
   ]
  },
  {
   "cell_type": "markdown",
   "metadata": {},
   "source": [
    "##### Approach 3: Ternary Search\n",
    "```cpp\n",
    "/* The guess API is defined in the parent class GuessGame.\n",
    "   @param num, your guess\n",
    "   @return -1 if my number is lower, 1 if my number is higher, otherwise return 0\n",
    "      int guess(int num); */\n",
    "\n",
    "public class Solution extends GuessGame {\n",
    "    public int guessNumber(int n) {\n",
    "        int low = 1;\n",
    "        int high = n;\n",
    "        while (low <= high) {\n",
    "            int mid1 = low + (high - low) / 3;\n",
    "            int mid2 = high - (high - low) / 3;\n",
    "            int res1 = guess(mid1);\n",
    "            int res2 = guess(mid2);\n",
    "            if (res1 == 0)\n",
    "                return mid1;\n",
    "            if (res2 == 0)\n",
    "                return mid2;\n",
    "            else if (res1 < 0)\n",
    "                high = mid1 - 1;\n",
    "            else if (res2 > 0)\n",
    "                low = mid2 + 1;\n",
    "            else {\n",
    "                low = mid1 + 1;\n",
    "                high = mid2 - 1;\n",
    "            }\n",
    "        }\n",
    "        return -1;\n",
    "    }\n",
    "}\n",
    "```"
   ]
  },
  {
   "cell_type": "markdown",
   "metadata": {},
   "source": [
    "##  Search in Rotated Sorted Array\n",
    "https://leetcode.com/explore/learn/card/binary-search/125/template-i/952/"
   ]
  },
  {
   "cell_type": "markdown",
   "metadata": {},
   "source": [
    "There is an integer array nums sorted in ascending order (with distinct values).\n",
    "\n",
    "Prior to being passed to your function, nums is rotated at an unknown pivot index k (0 <= k < nums.length) such that the resulting array is [nums[k], nums[k+1], ..., nums[n-1], nums[0], nums[1], ..., nums[k-1]] (0-indexed). For example, [0,1,2,4,5,6,7] might be rotated at pivot index 3 and become [4,5,6,7,0,1,2].\n",
    "\n",
    "Given the array nums after the rotation and an integer target, return the index of target if it is in nums, or -1 if it is not in nums.\n",
    "\n",
    "You must write an algorithm with O(log n) runtime complexity."
   ]
  },
  {
   "cell_type": "markdown",
   "metadata": {},
   "source": [
    "```cpp\n",
    "class Solution {\n",
    "public:\n",
    "    \n",
    "    int helper(vector<int>& nums, int target, int start, int end){\n",
    "        \n",
    "        if(nums[start]==target){\n",
    "            return start;\n",
    "        }\n",
    "        if(nums[end]==target){\n",
    "            return end;\n",
    "        }\n",
    "        \n",
    "        if(start == end){\n",
    "            return -1;\n",
    "        }\n",
    "        \n",
    "        \n",
    "        if(nums[start]<nums[end]){\n",
    "            if(target < nums[start] or target > nums[end]){\n",
    "                return -1;\n",
    "            }\n",
    "        }else{\n",
    "            if(target < nums[start] and target > nums[end]){\n",
    "                return -1;\n",
    "            }\n",
    "        }\n",
    "        \n",
    "        int mid = (start + end)/2;\n",
    "        \n",
    "        return max(helper(nums, target, start,mid), helper(nums,target, mid+1,end));\n",
    "        \n",
    "    }\n",
    "    \n",
    "\n",
    "    \n",
    "    int search(vector<int>& nums, int target) {\n",
    "        \n",
    "        return helper(nums, target, 0, nums.size()-1);\n",
    "        \n",
    "    }\n",
    "};\n",
    "```"
   ]
  },
  {
   "cell_type": "markdown",
   "metadata": {},
   "source": [
    "### Solution\n",
    "https://leetcode.com/problems/search-in-rotated-sorted-array/solution/"
   ]
  },
  {
   "cell_type": "markdown",
   "metadata": {},
   "source": [
    "##### Approach 1: Binary search\n",
    "```java\n",
    "class Solution {\n",
    "  int [] nums;\n",
    "  int target;\n",
    "\n",
    "  public int find_rotate_index(int left, int right) {\n",
    "    if (nums[left] < nums[right])\n",
    "      return 0;\n",
    "\n",
    "    while (left <= right) {\n",
    "      int pivot = (left + right) / 2;\n",
    "      if (nums[pivot] > nums[pivot + 1])\n",
    "        return pivot + 1;\n",
    "      else {\n",
    "        if (nums[pivot] < nums[left])\n",
    "          right = pivot - 1;\n",
    "        else\n",
    "          left = pivot + 1;\n",
    "      }\n",
    "    }\n",
    "    return 0;\n",
    "  }\n",
    "\n",
    "  public int search(int left, int right) {\n",
    "    /*\n",
    "    Binary search\n",
    "    */\n",
    "    while (left <= right) {\n",
    "      int pivot = (left + right) / 2;\n",
    "      if (nums[pivot] == target)\n",
    "        return pivot;\n",
    "      else {\n",
    "        if (target < nums[pivot])\n",
    "          right = pivot - 1;\n",
    "        else\n",
    "          left = pivot + 1;\n",
    "      }\n",
    "    }\n",
    "    return -1;\n",
    "  }\n",
    "\n",
    "  public int search(int[] nums, int target) {\n",
    "    this.nums = nums;\n",
    "    this.target = target;\n",
    "\n",
    "    int n = nums.length;\n",
    "\n",
    "    if (n == 1)\n",
    "      return this.nums[0] == target ? 0 : -1;\n",
    "\n",
    "    int rotate_index = find_rotate_index(0, n - 1);\n",
    "\n",
    "    // if target is the smallest element\n",
    "    if (nums[rotate_index] == target)\n",
    "      return rotate_index;\n",
    "    // if array is not rotated, search in the entire array\n",
    "    if (rotate_index == 0)\n",
    "      return search(0, n - 1);\n",
    "    if (target < nums[0])\n",
    "      // search in the right side\n",
    "      return search(rotate_index, n - 1);\n",
    "    // search in the left side\n",
    "    return search(0, rotate_index);\n",
    "  }\n",
    "}\n",
    "```"
   ]
  },
  {
   "cell_type": "markdown",
   "metadata": {},
   "source": [
    "##### Approach 2: One-pass Binary Search\n",
    "```java\n",
    "class Solution {\n",
    "  public int search(int[] nums, int target) {\n",
    "    int start = 0, end = nums.length - 1;\n",
    "    while (start <= end) {\n",
    "      int mid = start + (end - start) / 2;\n",
    "      if (nums[mid] == target) return mid;\n",
    "      else if (nums[mid] >= nums[start]) {\n",
    "        if (target >= nums[start] && target < nums[mid]) end = mid - 1;\n",
    "        else start = mid + 1;\n",
    "      }\n",
    "      else {\n",
    "        if (target <= nums[end] && target > nums[mid]) start = mid + 1;\n",
    "        else end = mid - 1;\n",
    "      }\n",
    "    }\n",
    "    return -1;\n",
    "  }\n",
    "}\n",
    "```"
   ]
  },
  {
   "cell_type": "code",
   "execution_count": null,
   "metadata": {},
   "outputs": [],
   "source": []
  }
 ],
 "metadata": {
  "kernelspec": {
   "display_name": "Python 3",
   "language": "python",
   "name": "python3"
  },
  "language_info": {
   "codemirror_mode": {
    "name": "ipython",
    "version": 3
   },
   "file_extension": ".py",
   "mimetype": "text/x-python",
   "name": "python",
   "nbconvert_exporter": "python",
   "pygments_lexer": "ipython3",
   "version": "3.7.3"
  }
 },
 "nbformat": 4,
 "nbformat_minor": 2
}
