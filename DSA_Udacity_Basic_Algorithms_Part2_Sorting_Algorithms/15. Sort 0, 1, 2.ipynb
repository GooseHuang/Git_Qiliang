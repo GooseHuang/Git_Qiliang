{
 "cells": [
  {
   "cell_type": "markdown",
   "metadata": {},
   "source": [
    "### Problem Statement\n",
    "\n",
    "Write a function that takes an input array (or Python list) consisting of only `0`s, `1`s, and `2`s, and sorts that array in a single traversal.\n",
    "\n",
    "Note that if you can get the function to put the `0`s and `2`s in the correct positions, this will aotumatically cause the `1`s to be in the correct positions as well."
   ]
  },
  {
   "cell_type": "markdown",
   "metadata": {},
   "source": [
    "##### fialed v1\n",
    "```python\n",
    "def swap(arr,i,j):\n",
    "    tmp = arr[i]\n",
    "    arr[i] = arr[j]\n",
    "    arr[j] = tmp\n",
    "    \n",
    "def sort_012(input_list):\n",
    "    i = 0\n",
    "    j = len(input_list)-1\n",
    "    while i < j:\n",
    "        print(i,j)\n",
    "        if input_list[i] > input_list[j]:\n",
    "            swap(input_list,i,j)\n",
    "        elif input_list[i]==1 and input_list[j]==1:\n",
    "            m = i+1\n",
    "            n = j-1\n",
    "            while m < n:\n",
    "                if input_list[m]==0:\n",
    "                    swap(arr,i,m)\n",
    "                    i+=1\n",
    "                    m+=1\n",
    "                elif input_list[m]==2:\n",
    "                    swap(arr,m,j)\n",
    "                    j-=1\n",
    "                    n-=1\n",
    "                else:\n",
    "                    m+=1\n",
    "                    \n",
    "                if input_list[n]==0:\n",
    "                    swap(arr,i,n)\n",
    "                    i+=1\n",
    "                    n-=1\n",
    "                elif input_list[n]==2:\n",
    "                    swap(arr,n,j)\n",
    "                    j-=1\n",
    "                    n-=1\n",
    "                else:\n",
    "                    n-=1\n",
    "\n",
    "        if input_list[i] == 0:\n",
    "            i+=1\n",
    "        if input_list[j] == 2:\n",
    "            j-=1\n",
    "    return input_list\n",
    "```"
   ]
  },
  {
   "cell_type": "code",
   "execution_count": 37,
   "metadata": {},
   "outputs": [],
   "source": [
    "### Accepted v2\n",
    "def swap(arr,i,j):\n",
    "    tmp = arr[i]\n",
    "    arr[i] = arr[j]\n",
    "    arr[j] = tmp\n",
    "    \n",
    "def sort_012(input_list):\n",
    "    i = 0\n",
    "    j = len(input_list)-1\n",
    "    while i < j:\n",
    "#         print(input_list)\n",
    "#         print(i,j)\n",
    "#         print()\n",
    "        if input_list[i] > input_list[j]:\n",
    "            swap(input_list,i,j)\n",
    "        elif input_list[i]==1 and input_list[j]==1:\n",
    "            k=i+1\n",
    "            while input_list[k]==1:\n",
    "                k+=1\n",
    "            if k==j+1:\n",
    "\n",
    "                return \n",
    "            else:\n",
    "                if k==0:\n",
    "                    swap(input_list,i,k)\n",
    "                else:\n",
    "                    swap(input_list,k,j)\n",
    "\n",
    "\n",
    "        if input_list[i] == 0:\n",
    "            i+=1\n",
    "        if input_list[j] == 2:\n",
    "            j-=1\n",
    "    return "
   ]
  },
  {
   "cell_type": "markdown",
   "metadata": {},
   "source": [
    "#### Standard Answer\n",
    "```python\n",
    "def sort_012(input_list):\n",
    "    \"\"\"\n",
    "    The idea is to put 0 and 2 in their correct positions, which will make sure\n",
    "    all the 1s are automatically placed in their right positions\n",
    "    \"\"\"\n",
    "    # initialize pointers for next positions of 0 and 2\n",
    "    next_pos_0 = 0\n",
    "    next_pos_2 = len(input_list) - 1\n",
    "\n",
    "    front_index = 0\n",
    "\n",
    "    while front_index <= next_pos_2:\n",
    "        if input_list[front_index] == 0:\n",
    "            input_list[front_index] = input_list[next_pos_0]\n",
    "            input_list[next_pos_0] = 0\n",
    "            next_pos_0 += 1\n",
    "            front_index += 1\n",
    "        elif input_list[front_index] == 2:           \n",
    "            input_list[front_index] = input_list[next_pos_2] \n",
    "            input_list[next_pos_2] = 2\n",
    "            next_pos_2 -= 1\n",
    "        else:\n",
    "            front_index += 1\n",
    "```"
   ]
  },
  {
   "cell_type": "code",
   "execution_count": 38,
   "metadata": {},
   "outputs": [
    {
     "name": "stdout",
     "output_type": "stream",
     "text": [
      "[0, 0, 0, 1, 1, 1, 2, 2, 2, 2, 2]\n",
      "Pass\n"
     ]
    }
   ],
   "source": [
    "test_case = [0, 0, 2, 2, 2, 1, 1, 1, 2, 0, 2]\n",
    "test_function(test_case)"
   ]
  },
  {
   "cell_type": "code",
   "execution_count": 39,
   "metadata": {},
   "outputs": [],
   "source": [
    "def test_function(test_case):\n",
    "    sort_012(test_case)\n",
    "    print(test_case)\n",
    "    if test_case == sorted(test_case):\n",
    "        print(\"Pass\")\n",
    "    else:\n",
    "        print(\"Fail\")\n"
   ]
  },
  {
   "cell_type": "code",
   "execution_count": 40,
   "metadata": {},
   "outputs": [
    {
     "name": "stdout",
     "output_type": "stream",
     "text": [
      "[0, 0, 0, 0, 0, 0, 0, 0, 0, 0, 0, 1, 1, 1, 1, 1, 1, 2, 2, 2, 2, 2, 2, 2, 2, 2]\n",
      "Pass\n"
     ]
    }
   ],
   "source": [
    "test_case = [2, 1, 2, 0, 0, 2, 1, 0, 1, 0, 0, 2, 2, 2, 1, 2, 0, 0, 0, 2, 1, 0, 2, 0, 0, 1]\n",
    "test_function(test_case)"
   ]
  },
  {
   "cell_type": "code",
   "execution_count": 41,
   "metadata": {},
   "outputs": [
    {
     "name": "stdout",
     "output_type": "stream",
     "text": [
      "[0, 0, 0, 0, 0, 0, 1, 1, 1, 1, 1, 1, 2, 2, 2, 2, 2, 2, 2]\n",
      "Pass\n"
     ]
    }
   ],
   "source": [
    "test_case = [2, 2, 0, 0, 2, 1, 0, 2, 2, 1, 1, 1, 0, 1, 2, 0, 2, 0, 1]\n",
    "test_function(test_case)"
   ]
  },
  {
   "cell_type": "code",
   "execution_count": null,
   "metadata": {},
   "outputs": [],
   "source": []
  }
 ],
 "metadata": {
  "kernelspec": {
   "display_name": "Python 3",
   "language": "python",
   "name": "python3"
  },
  "language_info": {
   "codemirror_mode": {
    "name": "ipython",
    "version": 3
   },
   "file_extension": ".py",
   "mimetype": "text/x-python",
   "name": "python",
   "nbconvert_exporter": "python",
   "pygments_lexer": "ipython3",
   "version": "3.7.3"
  }
 },
 "nbformat": 4,
 "nbformat_minor": 2
}
