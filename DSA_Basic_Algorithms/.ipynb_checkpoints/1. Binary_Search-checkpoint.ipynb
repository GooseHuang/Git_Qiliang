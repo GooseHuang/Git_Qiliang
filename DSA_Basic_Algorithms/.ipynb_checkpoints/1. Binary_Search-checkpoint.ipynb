{
 "cells": [
  {
   "cell_type": "markdown",
   "metadata": {},
   "source": [
    "# Guess the number\n",
    "\n",
    "This notebook simulates a classic game where you have to guess a random number from within a certain range. Typically, you might have to guess a number from 1 to 10, and have three guesses to get the right answer.\n",
    "\n",
    "In this case, you'll need to guess a random number between 1 and 100, and you will have 7 tries.\n",
    "\n",
    "Try running it and playing a round or two. Notice that the game always tells you whether your guess was too high or too low. This information allows you to rule out some of the numbers (so that you don't waste time guessing those numbers).\n",
    "\n",
    "With this fact in mind, try to make your guesses in the most efficient way you can. Specifically, try to make guesses that rule out the largest number of possibilities each time."
   ]
  },
  {
   "cell_type": "code",
   "execution_count": 2,
   "metadata": {},
   "outputs": [
    {
     "name": "stdout",
     "output_type": "stream",
     "text": [
      "Guess the number: 50\n",
      "Oops! That's incorrect\n",
      "Go higher!\n",
      "Guess the number: 75\n",
      "Oops! That's incorrect\n",
      "Go lower!\n",
      "Guess the number: 62\n",
      "Oops! That's incorrect\n",
      "Go lower!\n",
      "Guess the number: 56\n",
      "Oops! That's incorrect\n",
      "Go lower!\n",
      "Guess the number: 53\n",
      "Oops! That's incorrect\n",
      "Go higher!\n",
      "Guess the number: 54\n",
      "Oops! That's incorrect\n",
      "Go higher!\n",
      "Guess the number: 55\n",
      "Awesome! You guessed correctly\n"
     ]
    }
   ],
   "source": [
    "import random\n",
    "\n",
    "def guess_the_number(total_tries, start_range, end_range):\n",
    "    if start_range > end_range:\n",
    "        start_range, end_range = end_range, start_range\n",
    "        \n",
    "    random_number = random.randint(start_range, end_range)\n",
    "    try_count = 0\n",
    "    success_message = \"Awesome! You guessed correctly\"\n",
    "    failure_message = \"Sorry! No more retries left\"\n",
    "    miss_message = \"Oops! That's incorrect\"\n",
    "    \n",
    "    num_tries = 0\n",
    "    while num_tries < total_tries:\n",
    "        attempt = int(input(\"Guess the number: \"))\n",
    "        \n",
    "        if attempt == random_number:\n",
    "            print(success_message)\n",
    "            return\n",
    "        print(miss_message)\n",
    "        if attempt < random_number:\n",
    "            print(\"Go higher!\")\n",
    "        else:\n",
    "            print(\"Go lower!\")\n",
    "        num_tries += 1\n",
    "    print(failure_message)\n",
    "\n",
    "total_tries = 7\n",
    "start_range = 1\n",
    "end_range = 100\n",
    "guess_the_number(total_tries, start_range, end_range)"
   ]
  },
  {
   "cell_type": "markdown",
   "metadata": {},
   "source": [
    "# Binary search practice\n",
    "\n",
    "Let's get some practice doing binary search on an array of integers. We'll solve the problem two different ways—both iteratively and resursively.\n",
    "\n",
    "Here is a reminder of how the algorithm works:\n",
    "\n",
    "1. Find the center of the list (try setting an upper and lower bound to find the center)\n",
    "2. Check to see if the element at the center is your target.\n",
    "3. If it is, return the index.\n",
    "4. If not, is the target greater or less than that element?\n",
    "5. If greater, move the lower bound to just above the current center\n",
    "6. If less, move the upper bound to just below the current center\n",
    "7. Repeat steps 1-6 until you find the target or until the bounds are the same or cross (the upper bound is less than the lower bound).\n",
    "\n",
    "\n",
    "## Problem statement:\n",
    "Given a sorted array of integers, and a target value, find the index of the target value in the array. If the target value is not present in the array, return -1.\n",
    "\n",
    "## Iterative solution\n",
    "\n",
    "First, see if you can code an iterative solution (i.e., one that uses loops). If you get stuck, the solution is below."
   ]
  },
  {
   "cell_type": "code",
   "execution_count": 11,
   "metadata": {},
   "outputs": [],
   "source": [
    "def helper(array, start, end, target):\n",
    "    while(start<end):\n",
    "        middle = int((start+end)/2)\n",
    "        if array[middle]==target:\n",
    "            return middle\n",
    "        \n",
    "        elif array[middle]>target:\n",
    "            end = middle\n",
    "        else:\n",
    "            start = middle\n",
    "    \n",
    "    return -1;\n",
    "        \n",
    "\n",
    "\n",
    "\n",
    "def binary_search(array, target):\n",
    "    '''Write a function that implements the binary search algorithm using iteration\n",
    "   \n",
    "    args:\n",
    "      array: a sorted array of items of the same type\n",
    "      target: the element you're searching for\n",
    "   \n",
    "    returns:\n",
    "      int: the index of the target, if found, in the source\n",
    "      -1: if the target is not found\n",
    "    '''\n",
    "    return helper(array, 0, len(array)-1, target)\n",
    "\n",
    "\n"
   ]
  },
  {
   "cell_type": "code",
   "execution_count": 12,
   "metadata": {},
   "outputs": [],
   "source": [
    "def test_function(test_case):\n",
    "    answer = binary_search(test_case[0], test_case[1])\n",
    "    if answer == test_case[2]:\n",
    "        print(\"Pass!\")\n",
    "    else:\n",
    "        print(\"Fail!\")"
   ]
  },
  {
   "cell_type": "code",
   "execution_count": 13,
   "metadata": {},
   "outputs": [
    {
     "name": "stdout",
     "output_type": "stream",
     "text": [
      "Pass!\n"
     ]
    }
   ],
   "source": [
    "array = [0, 1, 2, 3, 4, 5, 6, 7, 8, 9, 10]\n",
    "target = 6\n",
    "index = 6\n",
    "test_case = [array, target, index]\n",
    "test_function(test_case)"
   ]
  },
  {
   "cell_type": "markdown",
   "metadata": {},
   "source": [
    "## Recursive solution\n",
    "Now, see if you can write a function that gives the same results, but that uses recursion to do so."
   ]
  },
  {
   "cell_type": "code",
   "execution_count": 4,
   "metadata": {},
   "outputs": [],
   "source": [
    "def helper(array, start, end, target):\n",
    "    if start>end:\n",
    "        return -1 \n",
    "    middle = int((start+end)/2)\n",
    "    if array[middle]==target:\n",
    "        return middle\n",
    "    elif array[middle]>target:\n",
    "        return helper(array, start, middle,target)\n",
    "    else:\n",
    "        return helper(array, middle, end, target)\n",
    "\n",
    "\n",
    "def binary_search(array, target):\n",
    "    '''Write a function that implements the binary search algorithm using iteration\n",
    "   \n",
    "    args:\n",
    "      array: a sorted array of items of the same type\n",
    "      target: the element you're searching for\n",
    "   \n",
    "    returns:\n",
    "      int: the index of the target, if found, in the source\n",
    "      -1: if the target is not found\n",
    "    '''\n",
    "    return helper(array, 0, len(array)-1, target)\n",
    "\n",
    "\n"
   ]
  },
  {
   "cell_type": "code",
   "execution_count": 6,
   "metadata": {},
   "outputs": [
    {
     "name": "stdout",
     "output_type": "stream",
     "text": [
      "Pass!\n"
     ]
    }
   ],
   "source": [
    "array = [0, 1, 2, 3, 4, 5, 6, 7, 8, 9, 10]\n",
    "target = 6\n",
    "index = 6\n",
    "test_case = [array, target, index]\n",
    "test_function(test_case)"
   ]
  },
  {
   "cell_type": "markdown",
   "metadata": {},
   "source": [
    "# Binary Search Variation"
   ]
  },
  {
   "cell_type": "markdown",
   "metadata": {},
   "source": [
    "# Variations on Binary Search \n",
    "\n",
    "Now that you've gone through the work of building a binary search function, let's take some time to try out a few exercises that are variations (or extensions) of binary search. We'll provide the function for you to start:"
   ]
  },
  {
   "cell_type": "code",
   "execution_count": 16,
   "metadata": {},
   "outputs": [],
   "source": [
    "def recursive_binary_search(target, source, left=0):\n",
    "    if len(source) == 0:\n",
    "        return None\n",
    "    center = (len(source)-1) // 2\n",
    "    if source[center] == target:\n",
    "        return center + left\n",
    "    elif source[center] < target:\n",
    "        return recursive_binary_search(target, source[center+1:], left+center+1)\n",
    "    else:\n",
    "        return recursive_binary_search(target, source[:center], left)"
   ]
  },
  {
   "cell_type": "markdown",
   "metadata": {},
   "source": [
    "## Find First\n",
    "\n",
    "The binary search function is guaranteed to return _an_ index for the element you're looking for in an array, but what if the element appears more than once?\n",
    "\n",
    "Consider this array:\n",
    "\n",
    "`[1, 3, 5, 7, 7, 7, 8, 11, 12]`\n",
    "\n",
    "Let's find the number 7:"
   ]
  },
  {
   "cell_type": "code",
   "execution_count": 19,
   "metadata": {},
   "outputs": [
    {
     "data": {
      "text/plain": [
       "4"
      ]
     },
     "execution_count": 19,
     "metadata": {},
     "output_type": "execute_result"
    }
   ],
   "source": [
    "multiple = [1, 3, 5, 7, 7, 7, 8, 11, 12]\n",
    "recursive_binary_search(7, multiple)"
   ]
  },
  {
   "cell_type": "code",
   "execution_count": 23,
   "metadata": {},
   "outputs": [
    {
     "name": "stdout",
     "output_type": "stream",
     "text": [
      "5\n",
      "None\n"
     ]
    }
   ],
   "source": [
    "multiple = [1, 3, 5, 7, 7, 7, 8, 11, 12, 13, 14, 15]\n",
    "print(recursive_binary_search(7, multiple)) # Should return 3\n",
    "print(recursive_binary_search(9, multiple)) # Should return None"
   ]
  },
  {
   "cell_type": "markdown",
   "metadata": {},
   "source": [
    "### Hmm...\n",
    "\n",
    "Looks like we got the index 4, which is _correct_, but what if we wanted to find the _first_ occurrence of an element, rather than just any occurrence?\n",
    "\n",
    "Write a new function: `find_first()` that uses binary_search as a starting point.\n",
    "\n",
    "> Hint: You shouldn't need to modify binary_search() at all."
   ]
  },
  {
   "cell_type": "code",
   "execution_count": 31,
   "metadata": {},
   "outputs": [
    {
     "name": "stdout",
     "output_type": "stream",
     "text": [
      "3\n",
      "None\n"
     ]
    }
   ],
   "source": [
    "def find_first(target, source):\n",
    "    index = recursive_binary_search(target, source)\n",
    "#     print(index)\n",
    "    while(index != None and (index-1)>=0):\n",
    "#         print('tata')\n",
    "#         print(index)\n",
    "#         print(array)\n",
    "        if source[index-1]==target:\n",
    "#             print('tata')\n",
    "            index = index -1;\n",
    "        else:\n",
    "            break;\n",
    "    return index;\n",
    "\n",
    "multiple = [1, 3, 5, 7, 7, 7, 8, 11, 12, 13, 14, 15]\n",
    "print(find_first(7, multiple)) # Should return 3\n",
    "print(find_first(9, multiple)) # Should return None\n",
    "\n",
    "\n",
    "## Add your own tests to verify that your code works!"
   ]
  },
  {
   "cell_type": "markdown",
   "metadata": {},
   "source": [
    "## Contains\n",
    "\n",
    "The second variation is a function that returns a boolean value indicating whether an element is _present_, but with no information about the location of that element.\n",
    "\n",
    "For example:\n",
    "\n",
    "```python\n",
    "letters = ['a', 'c', 'd', 'f', 'g']\n",
    "print(contains('a', letters)) ## True\n",
    "print(contains('b', letters)) ## False\n",
    "```\n",
    "\n",
    "There are a few different ways to approach this, so try it out, and we'll share two solutions after."
   ]
  },
  {
   "cell_type": "code",
   "execution_count": null,
   "metadata": {},
   "outputs": [],
   "source": []
  }
 ],
 "metadata": {
  "kernelspec": {
   "display_name": "Python 3",
   "language": "python",
   "name": "python3"
  },
  "language_info": {
   "codemirror_mode": {
    "name": "ipython",
    "version": 3
   },
   "file_extension": ".py",
   "mimetype": "text/x-python",
   "name": "python",
   "nbconvert_exporter": "python",
   "pygments_lexer": "ipython3",
   "version": "3.7.3"
  }
 },
 "nbformat": 4,
 "nbformat_minor": 2
}
