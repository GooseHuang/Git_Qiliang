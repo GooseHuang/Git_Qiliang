{
 "cells": [
  {
   "cell_type": "markdown",
   "metadata": {},
   "source": [
    "# Array 101"
   ]
  },
  {
   "cell_type": "markdown",
   "metadata": {},
   "source": [
    "```java\n",
    "// The actual code for creating an Array to hold DVD's.\n",
    "DVD[] dvdCollection = new DVD[15];\n",
    "\n",
    "// A simple definition for a DVD.\n",
    "public class DVD {\n",
    "    public String name;\n",
    "    public int releaseYear;\n",
    "    public String director;\n",
    "\n",
    "    public DVD(String name, int releaseYear, String director) {\n",
    "        this.name = name;\n",
    "        this.releaseYear = releaseYear;\n",
    "        this.director = director;\n",
    "    }\n",
    "\n",
    "    public String toString() {\n",
    "        System.out.println(\n",
    "            this.name + \", directed by \" + this.director + \", released in \" + this.releaseYear));\n",
    "    }\n",
    "}\n",
    "```"
   ]
  },
  {
   "cell_type": "markdown",
   "metadata": {},
   "source": [
    "```java\n",
    "\n",
    "// Firstly, we need to actually create a DVD object for The Avengers.\n",
    "DVD avengersDVD = new DVD(\"The Avengers\", 2012, \"Joss Whedon\");\n",
    "\n",
    "// Next, we'll put it into the 8th place of the Array. Remember, because we\n",
    "// started numbering from 0, the index we want is 7.\n",
    "dvdCollection[7] = avengersDVD;\n",
    "```"
   ]
  },
  {
   "cell_type": "markdown",
   "metadata": {},
   "source": [
    "```java\n",
    "DVD incrediblesDVD = new DVD(\"The Incredibles\", 2004, \"Brad Bird\");\n",
    "DVD findingDoryDVD = new DVD(\"Finding Dory\", 2016, \"Andrew Stanton\");\n",
    "DVD lionKingDVD = new DVD(\"The Lion King\", 2019, \"Jon Favreau\");\n",
    "\n",
    "// Put \"The Incredibles\" into the 4th place: index 3.\n",
    "dvdCollection[3] = incrediblesDVD;\n",
    "\n",
    "// Put \"Finding Dory\" into the 10th place: index 9.\n",
    "dvdCollection[9] = findingDoryDVD;\n",
    "\n",
    "// Put \"The Lion King\" into the 3rd place: index 2.\n",
    "dvdCollection[2] = lionKingDVD;\n",
    "\n",
    "```"
   ]
  },
  {
   "cell_type": "markdown",
   "metadata": {},
   "source": [
    "```java\n",
    "\n",
    "DVD starWarsDVD = new DVD(\"Star Wars\", 1977, \"George Lucas\");\n",
    "dvdCollection[3] = starWarsDVD;\n",
    "```"
   ]
  },
  {
   "cell_type": "markdown",
   "metadata": {},
   "source": [
    "```java\n",
    "\n",
    "// Print out what's in indexes 7, 10, and 3.\n",
    "System.out.println(dvdCollection[7]);\n",
    "System.out.println(dvdCollection[10]);\n",
    "System.out.println(dvdCollection[3]);\n",
    "\n",
    "// Will print:\n",
    "\n",
    "// The Avengers, directed by Joss Whedon, released in 2012\n",
    "// null\n",
    "// Star Wars, directed by George Lucas, released in 1977\n",
    "```"
   ]
  },
  {
   "cell_type": "markdown",
   "metadata": {},
   "source": [
    "## Writing Items into an Array with a Loop"
   ]
  },
  {
   "cell_type": "markdown",
   "metadata": {},
   "source": [
    "```java\n",
    "int[] squareNumbers = new int[10];\n",
    "\n",
    "// Go through each of the Array indexes, from 0 to 9.\n",
    "for (int i = 0; i < 10; i++) {\n",
    "    // We need to be careful with the 0-indexing. The next square number\n",
    "    // is given by (i + 1) * (i + 1).\n",
    "    // Calculate it and insert it into the Array at index i.\n",
    "    int square = (i + 1) * (i + 1);\n",
    "    squareNumbers[i] = square;\n",
    "}\n",
    "\n",
    "\n",
    "\n",
    "```"
   ]
  },
  {
   "cell_type": "markdown",
   "metadata": {},
   "source": [
    "## Reading Items from an Array with a Loop"
   ]
  },
  {
   "cell_type": "markdown",
   "metadata": {},
   "source": [
    "```java\n",
    "// Go through each of the Array indexes, from 0 to 9.\n",
    "for (int i = 0; i < 10; i++) {\n",
    "    // Access and print what's at the i'th index.\n",
    "    System.out.println(squareNumbers[i]);\n",
    "}\n",
    "\n",
    "// Will print:\n",
    "// 1\n",
    "// 4\n",
    "// 9\n",
    "// 16\n",
    "// 25\n",
    "// 36\n",
    "// 49\n",
    "// 64\n",
    "// 81\n",
    "// 100\n",
    "\n",
    "```"
   ]
  },
  {
   "cell_type": "markdown",
   "metadata": {},
   "source": [
    "```java\n",
    "// For each VALUE in the Array.\n",
    "for (int square : squareNumbers) {\n",
    "    // Print the current value of square.\n",
    "    System.out.println(square);\n",
    "}\n",
    "// Prints exactly the same as the previous example.\n",
    "\n",
    "```"
   ]
  },
  {
   "cell_type": "markdown",
   "metadata": {},
   "source": [
    "## Length\n",
    "```java\n",
    "int capacity = array.length;\n",
    "System.out.println(\"The Array has a capacity of \" + capacity);\n",
    "```"
   ]
  },
  {
   "cell_type": "markdown",
   "metadata": {},
   "source": [
    "# Code\n"
   ]
  },
  {
   "cell_type": "markdown",
   "metadata": {},
   "source": [
    "## Max Consecutive Ones\n",
    "https://leetcode.com/explore/learn/card/fun-with-arrays/521/introduction/3238/"
   ]
  },
  {
   "cell_type": "markdown",
   "metadata": {},
   "source": [
    "## Tips: 通过Python主体转换  先写fake code"
   ]
  },
  {
   "cell_type": "markdown",
   "metadata": {},
   "source": [
    "##  Find Numbers with Even Number of Digits\n",
    "https://leetcode.com/explore/learn/card/fun-with-arrays/521/introduction/3237/"
   ]
  },
  {
   "cell_type": "markdown",
   "metadata": {},
   "source": [
    "## Squares of a Sorted Array\n",
    "https://leetcode.com/explore/learn/card/fun-with-arrays/521/introduction/3240/"
   ]
  },
  {
   "cell_type": "markdown",
   "metadata": {},
   "source": [
    "## Tips: 总是先尝试暴力击破"
   ]
  },
  {
   "cell_type": "markdown",
   "metadata": {},
   "source": [
    "### 冒泡排序\n",
    "```cpp\n",
    "class Solution {\n",
    "public:\n",
    "    vector<int> sortedSquares(vector<int>& nums) {\n",
    "        vector<int> new_nums(nums.size());\n",
    "        for(int i=0;i<nums.size();i++){\n",
    "            new_nums[i] = nums[i]*nums[i];\n",
    "        }\n",
    "        int tmp;\n",
    "        for(int i=0;i< new_nums.size();i++){\n",
    "            for(int j=i+1;j<new_nums.size();j++){\n",
    "                if(new_nums[i]>new_nums[j]){\n",
    "                    tmp = new_nums[j];\n",
    "                    new_nums[j] = new_nums[i];\n",
    "                    new_nums[i] = tmp;\n",
    "                }\n",
    "            }\n",
    "            \n",
    "        }\n",
    "        \n",
    "        return new_nums;\n",
    "    }\n",
    "};\n",
    "```"
   ]
  },
  {
   "cell_type": "markdown",
   "metadata": {},
   "source": [
    "### Issue: 未通过  之后尝试改进"
   ]
  },
  {
   "cell_type": "markdown",
   "metadata": {},
   "source": [
    "# Insert"
   ]
  },
  {
   "cell_type": "markdown",
   "metadata": {},
   "source": [
    "```java\n",
    "// Declare an integer array of 6 elements\n",
    "int intArray = new int[6];\n",
    "int length = 0;\n",
    "\n",
    "// Add 3 elements to the Array\n",
    "for (int i = 0; i < 3; i++) {\n",
    "    intArray[length] = i;\n",
    "    length++;\n",
    "}\n",
    "\n",
    "```"
   ]
  },
  {
   "cell_type": "markdown",
   "metadata": {},
   "source": [
    "### Insert at the start\n",
    "```java\n",
    "// First, we will have to create space for a new element.\n",
    "// We do that by shifting each element one index to the right.\n",
    "// This will firstly move the element at index 3, then 2, then 1, then finally 0.\n",
    "// We need to go backwards to avoid overwriting any elements.\n",
    "for (int i = 3; i >= 0; i--) {\n",
    "    intArray[i + 1] = intArray[i];\n",
    "}\n",
    "\n",
    "// Now that we have created space for the new element,\n",
    "// we can insert it at the beginning.\n",
    "intArray[0] = 20;\n",
    "```"
   ]
  },
  {
   "cell_type": "markdown",
   "metadata": {},
   "source": [
    "### Insert as anywhere\n",
    "```java\n",
    "// Say we want to insert the element at index 2.\n",
    "// First, we will have to create space for the new element.\n",
    "for (int i = 4; i >= 2; i--)\n",
    "{\n",
    "    // Shift each element one position to the right.\n",
    "    intArray[i + 1] = intArray[i];\n",
    "}\n",
    "\n",
    "// Now that we have created space for the new element,\n",
    "// we can insert it at the required index.\n",
    "intArray[2] = 30;\n",
    "\n",
    "```"
   ]
  },
  {
   "cell_type": "markdown",
   "metadata": {},
   "source": [
    "## Duplicate Zeros\n",
    "https://leetcode.com/explore/learn/card/fun-with-arrays/525/inserting-items-into-an-array/3245/"
   ]
  },
  {
   "cell_type": "markdown",
   "metadata": {},
   "source": [
    "```cpp\n",
    "class Solution {\n",
    "public:\n",
    "    void duplicateZeros(vector<int>& arr) {\n",
    "        for(int i=0;i<arr.size()-1;i++){\n",
    "            if(arr[i]==0){\n",
    "                for(int j=arr.size()-1;j>i+1;j--){\n",
    "                    arr[j] = arr[j-1];\n",
    "                }\n",
    "            arr[i+1] = 0;\n",
    "            i++;\n",
    "            }\n",
    "        }\n",
    "    }\n",
    "};\n",
    "```"
   ]
  },
  {
   "cell_type": "markdown",
   "metadata": {},
   "source": [
    "##  Merge Sorted Array"
   ]
  },
  {
   "cell_type": "markdown",
   "metadata": {},
   "source": [
    "https://leetcode.com/explore/learn/card/fun-with-arrays/525/inserting-items-into-an-array/3253/"
   ]
  },
  {
   "cell_type": "markdown",
   "metadata": {},
   "source": [
    "### Inplace modification without return value\n",
    "```cpp\n",
    "class Solution {\n",
    "public:\n",
    "    void merge(vector<int>& nums1, int m, vector<int>& nums2, int n) {\n",
    "        int i=m-1;\n",
    "        int j=n-1;\n",
    "        int z=m+n-1;\n",
    "        \n",
    "        while(z >= 0){\n",
    "            if(i>= 0 and j >=0){\n",
    "                if(nums1[i] > nums2[j]){\n",
    "                    nums1[z]=nums1[i];\n",
    "                    i--;\n",
    "                }else{\n",
    "                    nums1[z]=nums2[j];\n",
    "                    j--;\n",
    "                }\n",
    "            }else if(i >= 0){\n",
    "                    nums1[z]=nums1[i];\n",
    "                    i--;\n",
    "            }else if(j >= 0 ){\n",
    "                    nums1[z]=nums2[j];\n",
    "                    j--;\n",
    "            }\n",
    "            z--;\n",
    "            \n",
    "        }\n",
    "        \n",
    "        }\n",
    "};\n",
    "```"
   ]
  },
  {
   "cell_type": "markdown",
   "metadata": {},
   "source": [
    "### with return value\n",
    "```cpp\n",
    "class Solution {\n",
    "public:\n",
    "    void merge(vector<int>& nums1, int m, vector<int>& nums2, int n) {\n",
    "        \n",
    "        vector<int> new_nums(m+n);\n",
    "        int i=0;\n",
    "        int j=0;\n",
    "        int z=0;\n",
    "        while(z < m+n){\n",
    "            if(i< m and j <n){\n",
    "                if(nums1[i] < nums2[j]){\n",
    "                    new_nums[z]=nums1[i];\n",
    "                    i++;\n",
    "                }else{\n",
    "                    new_nums[z]=nums2[j];\n",
    "                    j++;\n",
    "                }\n",
    "            }else if(i < m){\n",
    "                    new_nums[z]=nums1[i];\n",
    "                    i++;\n",
    "            }else if(j < n){\n",
    "                    new_nums[z]=nums2[j];\n",
    "                    j++;\n",
    "            }\n",
    "            z++;\n",
    "        \n",
    "        }\n",
    "        for (auto const &v : new_nums)\n",
    "            std::cout << v << \"\\n\";\n",
    "\t\n",
    "    }\n",
    "};\n",
    "\n",
    "```"
   ]
  },
  {
   "cell_type": "markdown",
   "metadata": {},
   "source": [
    "#### Insert\n",
    "```cpp\n",
    "        // Insert at z\n",
    "        for(int i=m;i>z;i--){\n",
    "                nums1[i+1] = nums1[i];\n",
    "        }\n",
    "\n",
    "```"
   ]
  },
  {
   "cell_type": "markdown",
   "metadata": {},
   "source": [
    "#  Array Deletions"
   ]
  },
  {
   "cell_type": "markdown",
   "metadata": {},
   "source": [
    "### Deleting From the End of an Array"
   ]
  },
  {
   "cell_type": "markdown",
   "metadata": {},
   "source": [
    "```java\n",
    "// Declare an integer array of 10 elements.\n",
    "int[] intArray = new int[10];\n",
    "\n",
    "// The array currently contains 0 elements\n",
    "int length = 0;\n",
    "\n",
    "// Add elements at the first 6 indexes of the Array.\n",
    "for(int i = 0; i < 6; i++) {\n",
    "    intArray[length] = i;\n",
    "    length++;\n",
    "}\n",
    "\n",
    "\n",
    "// Deletion from the end is as simple as reducing the length\n",
    "// of the array by 1.\n",
    "length--;\n",
    "\n",
    "for (int i = 0; i < intArray.length; i++) {\n",
    "    System.out.println(\"Index \" + i + \" contains \" + intArray[i]);\n",
    "}\n",
    "\n",
    "```"
   ]
  },
  {
   "cell_type": "markdown",
   "metadata": {},
   "source": [
    "### Deleting From the Start of an Array"
   ]
  },
  {
   "cell_type": "markdown",
   "metadata": {},
   "source": [
    "```java\n",
    "// Starting at index 1, we shift each element one position\n",
    "// to the left.\n",
    "for (int i = 1; i < length; i++) {\n",
    "    // Shift each element one position to the left\n",
    "    int_array[i - 1] = int_array[i];\n",
    "}\n",
    "\n",
    "// Note that it's important to reduce the length of the array by 1.\n",
    "// Otherwise, we'll lose consistency of the size. This length\n",
    "// variable is the only thing controlling where new elements might\n",
    "// get added.\n",
    "length--;\n",
    "\n",
    "```"
   ]
  },
  {
   "cell_type": "markdown",
   "metadata": {},
   "source": [
    "### Deleting From Anywhere in the Array"
   ]
  },
  {
   "cell_type": "markdown",
   "metadata": {},
   "source": [
    "```java\n",
    "// Say we want to delete the element at index 1\n",
    "for (int i = 2; i < length; i++) {\n",
    "    // Shift each element one position to the left\n",
    "    int_array[i - 1] = int_array[i];\n",
    "}\n",
    "\n",
    "// Again, the length needs to be consistent with the current\n",
    "// state of the array.\n",
    "length--;\n",
    "```"
   ]
  },
  {
   "cell_type": "markdown",
   "metadata": {},
   "source": [
    "## Remove Element"
   ]
  },
  {
   "cell_type": "markdown",
   "metadata": {},
   "source": [
    "https://leetcode.com/explore/learn/card/fun-with-arrays/526/deleting-items-from-an-array/3247/"
   ]
  },
  {
   "cell_type": "markdown",
   "metadata": {},
   "source": [
    "## Remove Duplicates from Sorted Array"
   ]
  },
  {
   "cell_type": "code",
   "execution_count": null,
   "metadata": {},
   "outputs": [],
   "source": []
  }
 ],
 "metadata": {
  "kernelspec": {
   "display_name": "Python 3",
   "language": "python",
   "name": "python3"
  },
  "language_info": {
   "codemirror_mode": {
    "name": "ipython",
    "version": 3
   },
   "file_extension": ".py",
   "mimetype": "text/x-python",
   "name": "python",
   "nbconvert_exporter": "python",
   "pygments_lexer": "ipython3",
   "version": "3.7.3"
  }
 },
 "nbformat": 4,
 "nbformat_minor": 2
}
