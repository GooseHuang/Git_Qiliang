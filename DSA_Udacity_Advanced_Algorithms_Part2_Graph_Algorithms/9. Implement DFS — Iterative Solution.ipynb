{
 "cells": [
  {
   "cell_type": "markdown",
   "metadata": {},
   "source": [
    "# Graph Depth First Search\n",
    "In this exercise, you'll see how to do a depth first search on a graph. To start, let's create a graph class in Python."
   ]
  },
  {
   "cell_type": "code",
   "execution_count": null,
   "metadata": {},
   "outputs": [],
   "source": [
    "\"\"\"\n",
    "树和图是应对更复杂事物的方法\n",
    "\n",
    "别把自己一开始就太限制在某一个专业里\n",
    "\n",
    "\n",
    "\"\"\""
   ]
  },
  {
   "cell_type": "code",
   "execution_count": 1,
   "metadata": {},
   "outputs": [],
   "source": [
    "class GraphNode(object):\n",
    "    def __init__(self, val):\n",
    "        self.value = val\n",
    "        self.children = []\n",
    "        \n",
    "    def add_child(self,new_node):\n",
    "        self.children.append(new_node)\n",
    "    \n",
    "    def remove_child(self,del_node):\n",
    "        if del_node in self.children:\n",
    "            self.children.remove(del_node)\n",
    "\n",
    "class Graph(object):\n",
    "    def __init__(self,node_list):\n",
    "        self.nodes = node_list\n",
    "        \n",
    "    def add_edge(self,node1,node2):\n",
    "        if(node1 in self.nodes and node2 in self.nodes):\n",
    "            node1.add_child(node2)\n",
    "            node2.add_child(node1)\n",
    "            \n",
    "    def remove_edge(self,node1,node2):\n",
    "        if(node1 in self.nodes and node2 in self.nodes):\n",
    "            node1.remove_child(node2)\n",
    "            node2.remove_child(node1)"
   ]
  },
  {
   "cell_type": "markdown",
   "metadata": {},
   "source": [
    "Now let's create the graph."
   ]
  },
  {
   "cell_type": "code",
   "execution_count": 2,
   "metadata": {},
   "outputs": [],
   "source": [
    "nodeG = GraphNode('G')\n",
    "nodeR = GraphNode('R')\n",
    "nodeA = GraphNode('A')\n",
    "nodeP = GraphNode('P')\n",
    "nodeH = GraphNode('H')\n",
    "nodeS = GraphNode('S')\n",
    "\n",
    "graph1 = Graph([nodeS,nodeH,nodeG,nodeP,nodeR,nodeA] ) \n",
    "graph1.add_edge(nodeG,nodeR)\n",
    "graph1.add_edge(nodeA,nodeR)\n",
    "graph1.add_edge(nodeA,nodeG)\n",
    "graph1.add_edge(nodeR,nodeP)\n",
    "graph1.add_edge(nodeH,nodeG)\n",
    "graph1.add_edge(nodeH,nodeP)\n",
    "graph1.add_edge(nodeS,nodeR)"
   ]
  },
  {
   "cell_type": "markdown",
   "metadata": {},
   "source": [
    "## Implement DFS\n",
    "Using what you know about DFS for trees, apply this to graphs. Implement the `dfs_search` to return the `GraphNode` with the value `search_value` starting at the `root_node`."
   ]
  },
  {
   "cell_type": "code",
   "execution_count": 6,
   "metadata": {},
   "outputs": [
    {
     "data": {
      "text/plain": [
       "[<__main__.GraphNode at 0x7f7b64361978>,\n",
       " <__main__.GraphNode at 0x7f7b64361940>,\n",
       " <__main__.GraphNode at 0x7f7b64361898>,\n",
       " <__main__.GraphNode at 0x7f7b64361908>,\n",
       " <__main__.GraphNode at 0x7f7b64361860>,\n",
       " <__main__.GraphNode at 0x7f7b643618d0>]"
      ]
     },
     "execution_count": 6,
     "metadata": {},
     "output_type": "execute_result"
    }
   ],
   "source": [
    "graph1.nodes"
   ]
  },
  {
   "cell_type": "code",
   "execution_count": 7,
   "metadata": {},
   "outputs": [
    {
     "name": "stdout",
     "output_type": "stream",
     "text": [
      "S [<__main__.GraphNode object at 0x7f7b64361860>]\n",
      "H [<__main__.GraphNode object at 0x7f7b64361898>, <__main__.GraphNode object at 0x7f7b64361908>]\n",
      "G [<__main__.GraphNode object at 0x7f7b64361860>, <__main__.GraphNode object at 0x7f7b643618d0>, <__main__.GraphNode object at 0x7f7b64361940>]\n",
      "P [<__main__.GraphNode object at 0x7f7b64361860>, <__main__.GraphNode object at 0x7f7b64361940>]\n",
      "R [<__main__.GraphNode object at 0x7f7b64361898>, <__main__.GraphNode object at 0x7f7b643618d0>, <__main__.GraphNode object at 0x7f7b64361908>, <__main__.GraphNode object at 0x7f7b64361978>]\n",
      "A [<__main__.GraphNode object at 0x7f7b64361860>, <__main__.GraphNode object at 0x7f7b64361898>]\n"
     ]
    }
   ],
   "source": [
    "for node in graph1.nodes:\n",
    "    print(node.value, node.children)"
   ]
  },
  {
   "cell_type": "code",
   "execution_count": 8,
   "metadata": {},
   "outputs": [
    {
     "name": "stdout",
     "output_type": "stream",
     "text": [
      "S ['R']\n",
      "H ['G', 'P']\n",
      "G ['R', 'A', 'H']\n",
      "P ['R', 'H']\n",
      "R ['G', 'A', 'P', 'S']\n",
      "A ['R', 'G']\n"
     ]
    }
   ],
   "source": [
    "for node in graph1.nodes:\n",
    "    print(node.value, [x.value for x in node.children])"
   ]
  },
  {
   "cell_type": "code",
   "execution_count": 13,
   "metadata": {},
   "outputs": [],
   "source": [
    "def dfs_search(root_node, search_value):\n",
    "    stack = []\n",
    "    visited = set()\n",
    "    stack.append(root_node)\n",
    "    while(stack):\n",
    "        cur = stack.pop()\n",
    "        visited.add(cur)\n",
    "        if cur.value == search_value:\n",
    "            return cur\n",
    "        for node in cur.children:\n",
    "            if not node in visited and not node in stack:\n",
    "                stack.append(node)\n",
    "    return None\n",
    "        \n",
    "        "
   ]
  },
  {
   "cell_type": "markdown",
   "metadata": {},
   "source": [
    "### Tests"
   ]
  },
  {
   "cell_type": "code",
   "execution_count": 14,
   "metadata": {},
   "outputs": [],
   "source": [
    "assert nodeA == dfs_search(nodeS, 'A')\n",
    "assert nodeS == dfs_search(nodeP, 'S')\n",
    "assert nodeR == dfs_search(nodeH, 'R')"
   ]
  },
  {
   "cell_type": "code",
   "execution_count": null,
   "metadata": {},
   "outputs": [],
   "source": []
  },
  {
   "cell_type": "code",
   "execution_count": null,
   "metadata": {},
   "outputs": [],
   "source": []
  },
  {
   "cell_type": "code",
   "execution_count": null,
   "metadata": {},
   "outputs": [],
   "source": []
  },
  {
   "cell_type": "code",
   "execution_count": null,
   "metadata": {},
   "outputs": [],
   "source": []
  },
  {
   "cell_type": "code",
   "execution_count": null,
   "metadata": {},
   "outputs": [],
   "source": []
  },
  {
   "cell_type": "markdown",
   "metadata": {},
   "source": [
    "##### Standard Answer\n",
    "```python\n",
    "# Solution                \n",
    "def dfs_search(root_node, search_value):\n",
    "    visited = set()                         # Sets are faster for lookups\n",
    "    stack = [root_node]                     # Start with a given root node\n",
    "    \n",
    "    while len(stack) > 0:                   # Repeat until the stack is empty\n",
    "            \n",
    "        current_node = stack.pop()          # Pop out a node added recently \n",
    "        visited.add(current_node)           # Mark it as visited\n",
    "\n",
    "        if current_node.value == search_value:\n",
    "            return current_node\n",
    "\n",
    "        # Check all the neighbours\n",
    "        for child in current_node.children:\n",
    "\n",
    "            # If a node hasn't been visited before, and not available in the stack already.\n",
    "            if (child not in visited) and (child not in stack):         \n",
    "                stack.append(child)\n",
    "                \n",
    "```"
   ]
  },
  {
   "cell_type": "code",
   "execution_count": null,
   "metadata": {},
   "outputs": [],
   "source": []
  }
 ],
 "metadata": {
  "kernelspec": {
   "display_name": "Python 3",
   "language": "python",
   "name": "python3"
  },
  "language_info": {
   "codemirror_mode": {
    "name": "ipython",
    "version": 3
   },
   "file_extension": ".py",
   "mimetype": "text/x-python",
   "name": "python",
   "nbconvert_exporter": "python",
   "pygments_lexer": "ipython3",
   "version": "3.7.3"
  }
 },
 "nbformat": 4,
 "nbformat_minor": 2
}
