{
 "cells": [
  {
   "cell_type": "code",
   "execution_count": 1,
   "metadata": {},
   "outputs": [],
   "source": [
    "import re"
   ]
  },
  {
   "cell_type": "code",
   "execution_count": 7,
   "metadata": {},
   "outputs": [
    {
     "name": "stdout",
     "output_type": "stream",
     "text": [
      "from pyspark.sql import SparkSession\n",
      "from pyspark.sql.functions import *\n",
      "from pyspark.sql.types import *\n",
      "from pyspark.sql import SQLContext\n",
      "from pyspark.sql import functions as F\n",
      "import sys\n",
      "import os\n",
      "\n"
     ]
    }
   ],
   "source": [
    "text = \"\"\"\n",
    "\n",
    "\n",
    "\n",
    "from pyspark.sql import SparkSession\n",
    "from pyspark.sql.functions import *\n",
    "from pyspark.sql.types import *\n",
    "from pyspark.sql import SQLContext\n",
    "from pyspark.sql import functions as F\n",
    "import sys\n",
    "import os\n",
    "\"\"\"\n",
    "\n",
    "print(re.sub('^\\n*','',text))"
   ]
  },
  {
   "cell_type": "code",
   "execution_count": 108,
   "metadata": {},
   "outputs": [
    {
     "data": {
      "text/plain": [
       "0"
      ]
     },
     "execution_count": 108,
     "metadata": {},
     "output_type": "execute_result"
    }
   ],
   "source": [
    "10%5"
   ]
  },
  {
   "cell_type": "code",
   "execution_count": 105,
   "metadata": {},
   "outputs": [
    {
     "data": {
      "text/plain": [
       "[9, 8, 7, 6, 5, 4, 3, 2, 1, 0]"
      ]
     },
     "execution_count": 105,
     "metadata": {},
     "output_type": "execute_result"
    }
   ],
   "source": [
    "n = 10\n",
    "list(range(n - 1, -1, -1))"
   ]
  },
  {
   "cell_type": "code",
   "execution_count": 103,
   "metadata": {},
   "outputs": [
    {
     "data": {
      "text/plain": [
       "{'a', 'e'}"
      ]
     },
     "execution_count": 103,
     "metadata": {},
     "output_type": "execute_result"
    }
   ],
   "source": [
    "txt1 = 'apple'\n",
    "txt2 = 'star terk'\n",
    "common = set(txt1) & set(txt2)\n",
    "common"
   ]
  },
  {
   "cell_type": "code",
   "execution_count": 93,
   "metadata": {},
   "outputs": [
    {
     "ename": "KeyboardInterrupt",
     "evalue": "",
     "output_type": "error",
     "traceback": [
      "\u001b[0;31m---------------------------------------------------------------------------\u001b[0m",
      "\u001b[0;31mKeyboardInterrupt\u001b[0m                         Traceback (most recent call last)",
      "\u001b[0;32m<ipython-input-93-3b574b3c8d0d>\u001b[0m in \u001b[0;36m<module>\u001b[0;34m\u001b[0m\n\u001b[1;32m      7\u001b[0m     \u001b[0ms\u001b[0m\u001b[0;34m.\u001b[0m\u001b[0mbind\u001b[0m\u001b[0;34m(\u001b[0m\u001b[0;34m(\u001b[0m\u001b[0mHOST\u001b[0m\u001b[0;34m,\u001b[0m \u001b[0mPORT\u001b[0m\u001b[0;34m)\u001b[0m\u001b[0;34m)\u001b[0m\u001b[0;34m\u001b[0m\u001b[0;34m\u001b[0m\u001b[0m\n\u001b[1;32m      8\u001b[0m     \u001b[0ms\u001b[0m\u001b[0;34m.\u001b[0m\u001b[0mlisten\u001b[0m\u001b[0;34m(\u001b[0m\u001b[0;34m)\u001b[0m\u001b[0;34m\u001b[0m\u001b[0;34m\u001b[0m\u001b[0m\n\u001b[0;32m----> 9\u001b[0;31m     \u001b[0mconn\u001b[0m\u001b[0;34m,\u001b[0m \u001b[0maddr\u001b[0m \u001b[0;34m=\u001b[0m \u001b[0ms\u001b[0m\u001b[0;34m.\u001b[0m\u001b[0maccept\u001b[0m\u001b[0;34m(\u001b[0m\u001b[0;34m)\u001b[0m\u001b[0;34m\u001b[0m\u001b[0;34m\u001b[0m\u001b[0m\n\u001b[0m\u001b[1;32m     10\u001b[0m     \u001b[0;32mwith\u001b[0m \u001b[0mconn\u001b[0m\u001b[0;34m:\u001b[0m\u001b[0;34m\u001b[0m\u001b[0;34m\u001b[0m\u001b[0m\n\u001b[1;32m     11\u001b[0m         \u001b[0mprint\u001b[0m\u001b[0;34m(\u001b[0m\u001b[0;34m'Connected by'\u001b[0m\u001b[0;34m,\u001b[0m \u001b[0maddr\u001b[0m\u001b[0;34m)\u001b[0m\u001b[0;34m\u001b[0m\u001b[0;34m\u001b[0m\u001b[0m\n",
      "\u001b[0;32m~/anaconda3/lib/python3.7/socket.py\u001b[0m in \u001b[0;36maccept\u001b[0;34m(self)\u001b[0m\n\u001b[1;32m    210\u001b[0m         \u001b[0mFor\u001b[0m \u001b[0mIP\u001b[0m \u001b[0msockets\u001b[0m\u001b[0;34m,\u001b[0m \u001b[0mthe\u001b[0m \u001b[0maddress\u001b[0m \u001b[0minfo\u001b[0m \u001b[0;32mis\u001b[0m \u001b[0ma\u001b[0m \u001b[0mpair\u001b[0m \u001b[0;34m(\u001b[0m\u001b[0mhostaddr\u001b[0m\u001b[0;34m,\u001b[0m \u001b[0mport\u001b[0m\u001b[0;34m)\u001b[0m\u001b[0;34m.\u001b[0m\u001b[0;34m\u001b[0m\u001b[0;34m\u001b[0m\u001b[0m\n\u001b[1;32m    211\u001b[0m         \"\"\"\n\u001b[0;32m--> 212\u001b[0;31m         \u001b[0mfd\u001b[0m\u001b[0;34m,\u001b[0m \u001b[0maddr\u001b[0m \u001b[0;34m=\u001b[0m \u001b[0mself\u001b[0m\u001b[0;34m.\u001b[0m\u001b[0m_accept\u001b[0m\u001b[0;34m(\u001b[0m\u001b[0;34m)\u001b[0m\u001b[0;34m\u001b[0m\u001b[0;34m\u001b[0m\u001b[0m\n\u001b[0m\u001b[1;32m    213\u001b[0m         \u001b[0msock\u001b[0m \u001b[0;34m=\u001b[0m \u001b[0msocket\u001b[0m\u001b[0;34m(\u001b[0m\u001b[0mself\u001b[0m\u001b[0;34m.\u001b[0m\u001b[0mfamily\u001b[0m\u001b[0;34m,\u001b[0m \u001b[0mself\u001b[0m\u001b[0;34m.\u001b[0m\u001b[0mtype\u001b[0m\u001b[0;34m,\u001b[0m \u001b[0mself\u001b[0m\u001b[0;34m.\u001b[0m\u001b[0mproto\u001b[0m\u001b[0;34m,\u001b[0m \u001b[0mfileno\u001b[0m\u001b[0;34m=\u001b[0m\u001b[0mfd\u001b[0m\u001b[0;34m)\u001b[0m\u001b[0;34m\u001b[0m\u001b[0;34m\u001b[0m\u001b[0m\n\u001b[1;32m    214\u001b[0m         \u001b[0;31m# Issue #7995: if no default timeout is set and the listening\u001b[0m\u001b[0;34m\u001b[0m\u001b[0;34m\u001b[0m\u001b[0;34m\u001b[0m\u001b[0m\n",
      "\u001b[0;31mKeyboardInterrupt\u001b[0m: "
     ]
    }
   ],
   "source": [
    "import socket\n",
    "\n",
    "HOST = '127.0.0.1'  # Standard loopback interface address (localhost)\n",
    "PORT = 65432        # Port to listen on (non-privileged ports are > 1023)\n",
    "\n",
    "with socket.socket(socket.AF_INET, socket.SOCK_STREAM) as s:\n",
    "    s.bind((HOST, PORT))\n",
    "    s.listen()\n",
    "    conn, addr = s.accept()\n",
    "    with conn:\n",
    "        print('Connected by', addr)\n",
    "        while True:\n",
    "            data = conn.recv(1024)\n",
    "            if not data:\n",
    "                break\n",
    "            conn.sendall(data)"
   ]
  },
  {
   "cell_type": "code",
   "execution_count": 98,
   "metadata": {},
   "outputs": [
    {
     "name": "stdout",
     "output_type": "stream",
     "text": [
      "127.0.0.1\n"
     ]
    },
    {
     "ename": "ConnectionRefusedError",
     "evalue": "[Errno 111] Connection refused",
     "output_type": "error",
     "traceback": [
      "\u001b[0;31m---------------------------------------------------------------------------\u001b[0m",
      "\u001b[0;31mConnectionRefusedError\u001b[0m                    Traceback (most recent call last)",
      "\u001b[0;32m<ipython-input-98-56eef0b72ab4>\u001b[0m in \u001b[0;36m<module>\u001b[0;34m\u001b[0m\n\u001b[1;32m     24\u001b[0m \u001b[0;34m\u001b[0m\u001b[0m\n\u001b[1;32m     25\u001b[0m \u001b[0;32mif\u001b[0m \u001b[0m__name__\u001b[0m \u001b[0;34m==\u001b[0m \u001b[0;34m'__main__'\u001b[0m\u001b[0;34m:\u001b[0m\u001b[0;34m\u001b[0m\u001b[0;34m\u001b[0m\u001b[0m\n\u001b[0;32m---> 26\u001b[0;31m     \u001b[0mclient\u001b[0m\u001b[0;34m(\u001b[0m\u001b[0;34m)\u001b[0m\u001b[0;34m\u001b[0m\u001b[0;34m\u001b[0m\u001b[0m\n\u001b[0m",
      "\u001b[0;32m<ipython-input-98-56eef0b72ab4>\u001b[0m in \u001b[0;36mclient\u001b[0;34m()\u001b[0m\n\u001b[1;32m     13\u001b[0m \u001b[0;34m\u001b[0m\u001b[0m\n\u001b[1;32m     14\u001b[0m     \u001b[0ms\u001b[0m \u001b[0;34m=\u001b[0m \u001b[0msocket\u001b[0m\u001b[0;34m.\u001b[0m\u001b[0msocket\u001b[0m\u001b[0;34m(\u001b[0m\u001b[0;34m)\u001b[0m\u001b[0;34m\u001b[0m\u001b[0;34m\u001b[0m\u001b[0m\n\u001b[0;32m---> 15\u001b[0;31m     \u001b[0ms\u001b[0m\u001b[0;34m.\u001b[0m\u001b[0mconnect\u001b[0m\u001b[0;34m(\u001b[0m\u001b[0;34m(\u001b[0m\u001b[0mhost\u001b[0m\u001b[0;34m,\u001b[0m \u001b[0mport\u001b[0m\u001b[0;34m)\u001b[0m\u001b[0;34m)\u001b[0m\u001b[0;34m\u001b[0m\u001b[0;34m\u001b[0m\u001b[0m\n\u001b[0m\u001b[1;32m     16\u001b[0m \u001b[0;34m\u001b[0m\u001b[0m\n\u001b[1;32m     17\u001b[0m     \u001b[0mmessage\u001b[0m \u001b[0;34m=\u001b[0m \u001b[0minput\u001b[0m\u001b[0;34m(\u001b[0m\u001b[0;34m'-> '\u001b[0m\u001b[0;34m)\u001b[0m\u001b[0;34m\u001b[0m\u001b[0;34m\u001b[0m\u001b[0m\n",
      "\u001b[0;31mConnectionRefusedError\u001b[0m: [Errno 111] Connection refused"
     ]
    }
   ],
   "source": [
    "import socket\n",
    "# import ipdb\n",
    "# bp = ipdb.set_trace\n",
    "\n",
    "\n",
    "def client():\n",
    "#     host = socket.gethostname()  # get local machine name\n",
    "    host = '127.0.0.1' \n",
    "    port = 8080  # Make sure it's within the > 1024 $$ <65535 range\n",
    "  \n",
    "  # bp()\n",
    "    print(host)\n",
    "\n",
    "    s = socket.socket()\n",
    "    s.connect((host, port))\n",
    "  \n",
    "    message = input('-> ')\n",
    "    while message != 'q':\n",
    "        s.send(message.encode('utf-8'))\n",
    "        data = s.recv(1024).decode('utf-8')\n",
    "        print('Received from server: ' + data)\n",
    "        message = input('==> ')\n",
    "    s.close()\n",
    "\n",
    "if __name__ == '__main__':\n",
    "    client()"
   ]
  },
  {
   "cell_type": "code",
   "execution_count": 92,
   "metadata": {},
   "outputs": [
    {
     "data": {
      "text/plain": [
       "('my_image.jpg', <http.client.HTTPMessage at 0x7fecd6c8a2b0>)"
      ]
     },
     "execution_count": 92,
     "metadata": {},
     "output_type": "execute_result"
    }
   ],
   "source": [
    "import urllib.request\n",
    "\n",
    "image_url = 'https://i.imgur.com/GmSC59m.jpg' #the image on the web\n",
    "save_name = 'my_image.jpg' #local name to be saved\n",
    "urllib.request.urlretrieve(image_url, save_name)"
   ]
  },
  {
   "cell_type": "code",
   "execution_count": 90,
   "metadata": {},
   "outputs": [],
   "source": [
    "import smoothnlp "
   ]
  },
  {
   "cell_type": "code",
   "execution_count": 91,
   "metadata": {},
   "outputs": [
    {
     "name": "stderr",
     "output_type": "stream",
     "text": [
      "CRITICAL:SmoothNLP:HTTPConnectionPool(host='api.smoothnlp.com', port=80): Max retries exceeded with url: /nlp/query?text=%E6%AC%A2%E8%BF%8E%E5%9C%A8Python%E4%B8%AD%E4%BD%BF%E7%94%A8SmoothNLP (Caused by ConnectTimeoutError(<urllib3.connection.HTTPConnection object at 0x7fecd70e0860>, 'Connection to api.smoothnlp.com timed out. (connect timeout=120)'))\n"
     ]
    },
    {
     "ename": "ValueError",
     "evalue": "Meta Extraction Failure",
     "output_type": "error",
     "traceback": [
      "\u001b[0;31m---------------------------------------------------------------------------\u001b[0m",
      "\u001b[0;31mValueError\u001b[0m                                Traceback (most recent call last)",
      "\u001b[0;32m<ipython-input-91-37509de5f0b5>\u001b[0m in \u001b[0;36m<module>\u001b[0;34m\u001b[0m\n\u001b[0;32m----> 1\u001b[0;31m \u001b[0msmoothnlp\u001b[0m\u001b[0;34m.\u001b[0m\u001b[0msegment\u001b[0m\u001b[0;34m(\u001b[0m\u001b[0;34m'欢迎在Python中使用SmoothNLP'\u001b[0m\u001b[0;34m)\u001b[0m\u001b[0;34m\u001b[0m\u001b[0;34m\u001b[0m\u001b[0m\n\u001b[0m",
      "\u001b[0;32m~/anaconda3/lib/python3.7/site-packages/smoothnlp/__init__.py\u001b[0m in \u001b[0;36msegment\u001b[0;34m(text)\u001b[0m\n\u001b[1;32m     20\u001b[0m \u001b[0;34m\u001b[0m\u001b[0m\n\u001b[1;32m     21\u001b[0m \u001b[0;32mdef\u001b[0m \u001b[0msegment\u001b[0m\u001b[0;34m(\u001b[0m\u001b[0mtext\u001b[0m\u001b[0;34m)\u001b[0m\u001b[0;34m:\u001b[0m\u001b[0;34m\u001b[0m\u001b[0;34m\u001b[0m\u001b[0m\n\u001b[0;32m---> 22\u001b[0;31m     \u001b[0;32mreturn\u001b[0m \u001b[0mnlp\u001b[0m\u001b[0;34m.\u001b[0m\u001b[0msegment\u001b[0m\u001b[0;34m(\u001b[0m\u001b[0mtext\u001b[0m\u001b[0;34m)\u001b[0m\u001b[0;34m\u001b[0m\u001b[0;34m\u001b[0m\u001b[0m\n\u001b[0m\u001b[1;32m     23\u001b[0m \u001b[0;34m\u001b[0m\u001b[0m\n\u001b[1;32m     24\u001b[0m \u001b[0;32mdef\u001b[0m \u001b[0mpostag\u001b[0m\u001b[0;34m(\u001b[0m\u001b[0mtext\u001b[0m\u001b[0;34m)\u001b[0m\u001b[0;34m:\u001b[0m\u001b[0;34m\u001b[0m\u001b[0;34m\u001b[0m\u001b[0m\n",
      "\u001b[0;32m~/anaconda3/lib/python3.7/site-packages/smoothnlp/server/__init__.py\u001b[0m in \u001b[0;36msegment\u001b[0;34m(self, text)\u001b[0m\n\u001b[1;32m    165\u001b[0m         \"\"\"\n\u001b[1;32m    166\u001b[0m         \u001b[0mresult\u001b[0m \u001b[0;34m=\u001b[0m \u001b[0m_request\u001b[0m\u001b[0;34m(\u001b[0m\u001b[0mtext\u001b[0m\u001b[0;34m,\u001b[0m\u001b[0mpath\u001b[0m\u001b[0;34m=\u001b[0m\u001b[0mconfig\u001b[0m\u001b[0;34m.\u001b[0m\u001b[0mNLP_PATH\u001b[0m\u001b[0;34m)\u001b[0m\u001b[0;34m\u001b[0m\u001b[0;34m\u001b[0m\u001b[0m\n\u001b[0;32m--> 167\u001b[0;31m         \u001b[0mtokens\u001b[0m \u001b[0;34m=\u001b[0m \u001b[0mextract_meta\u001b[0m\u001b[0;34m(\u001b[0m\u001b[0mresult\u001b[0m\u001b[0;34m,\u001b[0m \u001b[0;34m\"tokens\"\u001b[0m\u001b[0;34m)\u001b[0m\u001b[0;34m\u001b[0m\u001b[0;34m\u001b[0m\u001b[0m\n\u001b[0m\u001b[1;32m    168\u001b[0m         \u001b[0;32mif\u001b[0m \u001b[0mtokens\u001b[0m \u001b[0;32mis\u001b[0m \u001b[0;32mNone\u001b[0m \u001b[0;32mor\u001b[0m \u001b[0mtext\u001b[0m \u001b[0;32mis\u001b[0m \u001b[0;32mNone\u001b[0m\u001b[0;34m:\u001b[0m\u001b[0;34m\u001b[0m\u001b[0;34m\u001b[0m\u001b[0m\n\u001b[1;32m    169\u001b[0m             \u001b[0;32mreturn\u001b[0m \u001b[0;34m[\u001b[0m\u001b[0;34m]\u001b[0m\u001b[0;34m\u001b[0m\u001b[0;34m\u001b[0m\u001b[0m\n",
      "\u001b[0;32m~/anaconda3/lib/python3.7/site-packages/smoothnlp/server/__init__.py\u001b[0m in \u001b[0;36mextract_meta\u001b[0;34m(meta, key)\u001b[0m\n\u001b[1;32m     89\u001b[0m         \u001b[0;32mreturn\u001b[0m \u001b[0;34m[\u001b[0m\u001b[0mm\u001b[0m\u001b[0;34m[\u001b[0m\u001b[0mkey\u001b[0m\u001b[0;34m]\u001b[0m \u001b[0;32mfor\u001b[0m \u001b[0mm\u001b[0m \u001b[0;32min\u001b[0m \u001b[0mmeta\u001b[0m\u001b[0;34m]\u001b[0m\u001b[0;34m\u001b[0m\u001b[0;34m\u001b[0m\u001b[0m\n\u001b[1;32m     90\u001b[0m     \u001b[0;32melse\u001b[0m\u001b[0;34m:\u001b[0m\u001b[0;34m\u001b[0m\u001b[0;34m\u001b[0m\u001b[0m\n\u001b[0;32m---> 91\u001b[0;31m         \u001b[0;32mraise\u001b[0m \u001b[0mValueError\u001b[0m\u001b[0;34m(\u001b[0m\u001b[0;34m\"Meta Extraction Failure\"\u001b[0m\u001b[0;34m)\u001b[0m\u001b[0;34m\u001b[0m\u001b[0;34m\u001b[0m\u001b[0m\n\u001b[0m\u001b[1;32m     92\u001b[0m \u001b[0;34m\u001b[0m\u001b[0m\n\u001b[1;32m     93\u001b[0m \u001b[0;32mclass\u001b[0m \u001b[0mSmoothNLPClient\u001b[0m\u001b[0;34m(\u001b[0m\u001b[0mobject\u001b[0m\u001b[0;34m)\u001b[0m\u001b[0;34m:\u001b[0m\u001b[0;34m\u001b[0m\u001b[0;34m\u001b[0m\u001b[0m\n",
      "\u001b[0;31mValueError\u001b[0m: Meta Extraction Failure"
     ]
    }
   ],
   "source": [
    "smoothnlp.segment('欢迎在Python中使用SmoothNLP')"
   ]
  },
  {
   "cell_type": "code",
   "execution_count": 88,
   "metadata": {},
   "outputs": [
    {
     "name": "stdout",
     "output_type": "stream",
     "text": [
      "191800.10405827264\n",
      "1.0311833551520035\n"
     ]
    }
   ],
   "source": [
    "u = 180000\n",
    "c = 186000\n",
    "v = 185900\n",
    "t_p = 1\n",
    "\n",
    "# 相对时间不一样的\n",
    "\n",
    "v_p = u+ v*t_p*(1-(u**2/c**2))**0.5/(t_p/(1-(u**2/c**2))**0.5)\n",
    "print(v_p)\n",
    "print(v_p/c)"
   ]
  },
  {
   "cell_type": "code",
   "execution_count": 76,
   "metadata": {},
   "outputs": [
    {
     "name": "stdout",
     "output_type": "stream",
     "text": [
      "185900.05373455133\n",
      "0.9994626544868351\n"
     ]
    }
   ],
   "source": [
    "u = 180000\n",
    "c = 186000\n",
    "v = 180000\n",
    "\n",
    "v_p = (v+u)/(1+u*v/c**2)\n",
    "print(v_p)\n",
    "print(v_p/c)"
   ]
  },
  {
   "cell_type": "code",
   "execution_count": 74,
   "metadata": {},
   "outputs": [
    {
     "name": "stdout",
     "output_type": "stream",
     "text": [
      "155152.92851376804\n",
      "0.8341555296439142\n"
     ]
    }
   ],
   "source": [
    "u = 100000\n",
    "c = 186000\n",
    "v = 100000\n",
    "\n",
    "v_p = (v+u)/(1+u*v/c**2)\n",
    "print(v_p)\n",
    "print(v_p/c)"
   ]
  },
  {
   "cell_type": "code",
   "execution_count": 73,
   "metadata": {},
   "outputs": [
    {
     "name": "stdout",
     "output_type": "stream",
     "text": [
      "171094.92426870158\n",
      "0.919865184240331\n"
     ]
    }
   ],
   "source": [
    "u = 100000\n",
    "c = 186000\n",
    "v = 100000\n",
    "\n",
    "v_p = u + v*(1-(u**2/c**2))\n",
    "print(v_p)\n",
    "print(v_p/c)"
   ]
  },
  {
   "cell_type": "code",
   "execution_count": 72,
   "metadata": {},
   "outputs": [
    {
     "name": "stdout",
     "output_type": "stream",
     "text": [
      "191742.9760665973\n",
      "1.0308762154118134\n"
     ]
    }
   ],
   "source": [
    "u = 180000\n",
    "c = 186000\n",
    "v = 185000\n",
    "\n",
    "v_p = u + v*(1-(u**2/c**2))\n",
    "print(v_p)\n",
    "print(v_p/c)"
   ]
  },
  {
   "cell_type": "code",
   "execution_count": 70,
   "metadata": {},
   "outputs": [
    {
     "name": "stdout",
     "output_type": "stream",
     "text": [
      "191800.10405827264\n",
      "1.0311833551520035\n"
     ]
    }
   ],
   "source": [
    "u = 180000\n",
    "c = 186000\n",
    "v = 185900\n",
    "\n",
    "v_p = u + v*(1-(u**2/c**2))**0.5 * (1-(u**2/c**2))**0.5\n",
    "print(v_p)\n",
    "print(v_p/c)"
   ]
  },
  {
   "cell_type": "code",
   "execution_count": 52,
   "metadata": {},
   "outputs": [
    {
     "data": {
      "text/plain": [
       "171094.92426870158"
      ]
     },
     "execution_count": 52,
     "metadata": {},
     "output_type": "execute_result"
    }
   ],
   "source": [
    "u = 100000\n",
    "c = 186000\n",
    "v = 100000\n",
    "\n",
    "u + v*(1-(u**2/c**2))**0.5 * (1-(u**2/c**2))**0.5"
   ]
  },
  {
   "cell_type": "code",
   "execution_count": 53,
   "metadata": {},
   "outputs": [
    {
     "data": {
      "text/plain": [
       "184963.57960457855"
      ]
     },
     "execution_count": 53,
     "metadata": {},
     "output_type": "execute_result"
    }
   ],
   "source": [
    "u = 150000\n",
    "c = 186000\n",
    "v = 100000\n",
    "\n",
    "u + v*(1-(u**2/c**2))**0.5 * (1-(u**2/c**2))**0.5"
   ]
  },
  {
   "cell_type": "code",
   "execution_count": 62,
   "metadata": {},
   "outputs": [
    {
     "name": "stdout",
     "output_type": "stream",
     "text": [
      "162750.0\n",
      "0.875\n"
     ]
    }
   ],
   "source": [
    "u = 93000\n",
    "c = 186000\n",
    "v = 93000\n",
    "\n",
    "v_p = u + v*(1-(u**2/c**2))**0.5 * (1-(u**2/c**2))**0.5\n",
    "print(v_p)\n",
    "print(v_p/c)"
   ]
  },
  {
   "cell_type": "code",
   "execution_count": 63,
   "metadata": {},
   "outputs": [
    {
     "name": "stdout",
     "output_type": "stream",
     "text": [
      "186347.55463059313\n",
      "1.0018685732827588\n"
     ]
    }
   ],
   "source": [
    "u = 180000\n",
    "c = 186000\n",
    "v = 100000\n",
    "\n",
    "v_p = u + v*(1-(u**2/c**2))**0.5 * (1-(u**2/c**2))**0.5\n",
    "print(v_p)\n",
    "print(v_p/c)"
   ]
  },
  {
   "cell_type": "code",
   "execution_count": 57,
   "metadata": {},
   "outputs": [
    {
     "data": {
      "text/plain": [
       "186072.37830963117"
      ]
     },
     "execution_count": 57,
     "metadata": {},
     "output_type": "execute_result"
    }
   ],
   "source": [
    "u = 185000\n",
    "c = 186000\n",
    "v = 100000\n",
    "\n",
    "u + v*(1-(u**2/c**2))**0.5 * (1-(u**2/c**2))**0.5"
   ]
  },
  {
   "cell_type": "code",
   "execution_count": 58,
   "metadata": {},
   "outputs": [
    {
     "data": {
      "text/plain": [
       "186347.55463059313"
      ]
     },
     "execution_count": 58,
     "metadata": {},
     "output_type": "execute_result"
    }
   ],
   "source": [
    "u = 180000\n",
    "c = 186000\n",
    "v = 100000\n",
    "\n",
    "u + v*(1-(u**2/c**2))**1"
   ]
  },
  {
   "cell_type": "code",
   "execution_count": 59,
   "metadata": {},
   "outputs": [
    {
     "data": {
      "text/plain": [
       "184963.57960457855"
      ]
     },
     "execution_count": 59,
     "metadata": {},
     "output_type": "execute_result"
    }
   ],
   "source": [
    "u = 150000\n",
    "c = 186000\n",
    "v = 100000\n",
    "\n",
    "u + v*(1-(u**2/c**2))**1"
   ]
  },
  {
   "cell_type": "code",
   "execution_count": 60,
   "metadata": {},
   "outputs": [
    {
     "data": {
      "text/plain": [
       "202445.36940686783"
      ]
     },
     "execution_count": 60,
     "metadata": {},
     "output_type": "execute_result"
    }
   ],
   "source": [
    "u = 150000\n",
    "c = 186000\n",
    "v = 150000\n",
    "\n",
    "u + v*(1-(u**2/c**2))**1"
   ]
  },
  {
   "cell_type": "code",
   "execution_count": 64,
   "metadata": {},
   "outputs": [
    {
     "name": "stdout",
     "output_type": "stream",
     "text": [
      "186347.55463059313\n",
      "1.0018685732827588\n"
     ]
    }
   ],
   "source": [
    "u = 180000\n",
    "c = 186000\n",
    "v = 100000\n",
    "\n",
    "v_p = u + v*(1-(u**2/c**2))**0.5 * (1-(u**2/c**2))**0.5\n",
    "print(v_p)\n",
    "print(v_p/c)"
   ]
  },
  {
   "cell_type": "code",
   "execution_count": 1,
   "metadata": {},
   "outputs": [],
   "source": [
    "import math"
   ]
  },
  {
   "cell_type": "code",
   "execution_count": 48,
   "metadata": {},
   "outputs": [
    {
     "data": {
      "text/plain": [
       "8.05"
      ]
     },
     "execution_count": 48,
     "metadata": {},
     "output_type": "execute_result"
    }
   ],
   "source": [
    "5 * 1.61"
   ]
  },
  {
   "cell_type": "code",
   "execution_count": 43,
   "metadata": {
    "scrolled": true
   },
   "outputs": [
    {
     "data": {
      "text/plain": [
       "0.9999992424242424"
      ]
     },
     "execution_count": 43,
     "metadata": {},
     "output_type": "execute_result"
    }
   ],
   "source": [
    "cos_theta = (4000*5280-16)/(4000*5280)\n",
    "cos_theta"
   ]
  },
  {
   "cell_type": "code",
   "execution_count": 44,
   "metadata": {},
   "outputs": [
    {
     "data": {
      "text/plain": [
       "0.0012309149874984476"
      ]
     },
     "execution_count": 44,
     "metadata": {},
     "output_type": "execute_result"
    }
   ],
   "source": [
    "theta = math.acos(cos_theta)\n",
    "theta"
   ]
  },
  {
   "cell_type": "code",
   "execution_count": 45,
   "metadata": {},
   "outputs": [
    {
     "data": {
      "text/plain": [
       "25996.917971086947"
      ]
     },
     "execution_count": 45,
     "metadata": {},
     "output_type": "execute_result"
    }
   ],
   "source": [
    "distance = math.sin(theta) * (4000*5280)\n",
    "distance"
   ]
  },
  {
   "cell_type": "code",
   "execution_count": 46,
   "metadata": {},
   "outputs": [
    {
     "data": {
      "text/plain": [
       "4.923658706645255"
      ]
     },
     "execution_count": 46,
     "metadata": {},
     "output_type": "execute_result"
    }
   ],
   "source": [
    "distance/5280"
   ]
  },
  {
   "cell_type": "code",
   "execution_count": 47,
   "metadata": {},
   "outputs": [
    {
     "data": {
      "text/plain": [
       "1.0"
      ]
     },
     "execution_count": 47,
     "metadata": {},
     "output_type": "execute_result"
    }
   ],
   "source": [
    "math.cos(2*math.pi)"
   ]
  },
  {
   "cell_type": "code",
   "execution_count": 30,
   "metadata": {},
   "outputs": [
    {
     "data": {
      "text/plain": [
       "0.003984268914791755"
      ]
     },
     "execution_count": 30,
     "metadata": {},
     "output_type": "execute_result"
    }
   ],
   "source": [
    "down_distance = (1- math.cos(1/(29*3600*24)*2*math.pi)) * 240000 * 5280\n",
    "down_distance"
   ]
  },
  {
   "cell_type": "code",
   "execution_count": 29,
   "metadata": {},
   "outputs": [
    {
     "data": {
      "text/plain": [
       "0.047811226977501065"
      ]
     },
     "execution_count": 29,
     "metadata": {},
     "output_type": "execute_result"
    }
   ],
   "source": [
    "inch_distance = down_distance * 12\n",
    "inch_distance"
   ]
  },
  {
   "cell_type": "code",
   "execution_count": 28,
   "metadata": {},
   "outputs": [
    {
     "data": {
      "text/plain": [
       "0.05333333333333333"
      ]
     },
     "execution_count": 28,
     "metadata": {},
     "output_type": "execute_result"
    }
   ],
   "source": [
    "16/3600*12"
   ]
  },
  {
   "cell_type": "code",
   "execution_count": 2,
   "metadata": {},
   "outputs": [
    {
     "name": "stdout",
     "output_type": "stream",
     "text": [
      "\n",
      "https://www.khanacademy.org/math/multivariable-calculus/applications-of-multivariable-derivatives/lagrange-multipliers-and-constrained-optimization/v/lagrange-multipliers-using-tangency-to-solve-constrained-optimization\n",
      "\n",
      "https://github.com/ddbourgin/numpy-ml\n",
      "\n",
      "https://my.oschina.net/u/4586369/blog/4770352\n",
      "\n",
      "\n"
     ]
    }
   ],
   "source": [
    "text = \"\"\"\n",
    "https://www.khanacademy.org/math/multivariable-calculus/applications-of-multivariable-derivatives/lagrange-multipliers-and-constrained-optimization/v/lagrange-multipliers-using-tangency-to-solve-constrained-optimization\n",
    "\n",
    "https://github.com/ddbourgin/numpy-ml\n",
    "\n",
    "https://my.oschina.net/u/4586369/blog/4770352\n",
    "\n",
    "\"\"\"\n",
    "print(text)"
   ]
  },
  {
   "cell_type": "code",
   "execution_count": null,
   "metadata": {},
   "outputs": [],
   "source": [
    "\"\"\"\n",
    "1. Find 5 real life SVM examples.\n",
    "\n",
    "\n",
    "\n",
    "No hands on meanings. That you can use.\n",
    "\n",
    "Layers gap.\n",
    "\n",
    "\n",
    "\n",
    "\"\"\""
   ]
  },
  {
   "cell_type": "code",
   "execution_count": null,
   "metadata": {},
   "outputs": [
    {
     "name": "stdout",
     "output_type": "stream",
     "text": [
      "./QT_Main/QT_Stock_Returns.ipynb\n",
      "./QT_Main/QT_Data_Processing.ipynb\n",
      "./QT_Main/QT_Market_Mechanics.ipynb\n",
      "./QT_Main/QT_Trading.ipynb\n",
      "./QT_Main/.ipynb_checkpoints/QT_Stock_Returns-checkpoint.ipynb\n",
      "./QT_Main/.ipynb_checkpoints/QT_Market_Mechanics-checkpoint.ipynb\n",
      "./QT_Main/.ipynb_checkpoints/QT_Trading-checkpoint.ipynb\n",
      "./QT_Main/.ipynb_checkpoints/QT_Data_Processing-checkpoint.ipynb\n",
      "./ML_NLP_Pipeline/NLP_Pipeline.ipynb\n",
      "./ML_NLP_Pipeline/Text Processing.ipynb\n",
      "./ML_NLP_Pipeline/Spam Email.ipynb\n",
      "./ML_NLP_Pipeline/smsspamcollection/SMSSpamCollection\n",
      "./ML_NLP_Feature_extraction_and_embeddings/ML_NLP_Feature_extraction_and_embeddings.ipynb\n",
      "./ML_NLP_Feature_extraction_and_embeddings/.ipynb_checkpoints/ML_NLP_Feature_extraction_and_embeddings-checkpoint.ipynb\n",
      "./UD_Hadoop/UD_Hadoop_Intro.ipynb\n",
      "./UD_Hadoop/.ipynb_checkpoints/UD_Hadoop_Intro-checkpoint.ipynb\n",
      "./ML_PCA/ML_PCA_Part2.ipynb\n",
      "./ML_PCA/ML_PCA_Part1.ipynb\n",
      "./ML_PCA/.ipynb_checkpoints/ML_PCA_Part2-checkpoint.ipynb\n",
      "./ML_PCA/.ipynb_checkpoints/ML_PCA_Part1-checkpoint.ipynb\n",
      "./DSA_Recursion/DSA_Recursion_Part4_Complexity_Analysis.ipynb\n",
      "./DSA_Recursion/DSA_Recursion_Part5_Conclusion.ipynb\n",
      "./DSA_Recursion/.ipynb_checkpoints/DSA_Recursion_Part4_Complexity_Analysis-checkpoint.ipynb\n",
      "./DSA_Recursion/.ipynb_checkpoints/DSA_Recursion_Part5_Conclusion-checkpoint.ipynb\n",
      "./ML_NLP_Seq2seq/ML_NLP_Seq2seq.ipynb\n",
      "./ML_ANN_Gradiant_Decent/梯度下降.ipynb\n",
      "./UD_BA/UD_BA_Crisp_DM_Framework.ipynb\n",
      "./ML_RNN_Introduction/ML_RNN_Introduction_Part3.ipynb\n",
      "./ML_RNN_Introduction/ML_RNN_Introduction_Part6.ipynb\n",
      "./ML_RNN_Introduction/ML_RNN_Introduction_Part1.ipynb\n",
      "./ML_RNN_Introduction/ML_RNN_Introduction_Part4.ipynb\n",
      "./ML_RNN_Introduction/ML_RNN_Introduction_Part5.ipynb\n",
      "./ML_RNN_Introduction/ML_RNN_Introduction_Part7.ipynb\n",
      "./ML_RNN_Introduction/ML_RNN_Introduction_Part2.ipynb\n",
      "./ML_RNN_Introduction/.ipynb_checkpoints/ML_RNN_Introduction_Part7-checkpoint.ipynb\n",
      "./ML_RNN_Introduction/.ipynb_checkpoints/ML_RNN_Introduction_Part6-checkpoint.ipynb\n",
      "./ML_RNN_Introduction/.ipynb_checkpoints/ML_RNN_Introduction_Part3-checkpoint.ipynb\n",
      "./ML_RNN_Introduction/.ipynb_checkpoints/ML_RNN_Introduction_Part5-checkpoint.ipynb\n",
      "./ML_RNN_Introduction/.ipynb_checkpoints/ML_RNN_Introduction_Part4-checkpoint.ipynb\n",
      "./ML_RNN_Introduction/.ipynb_checkpoints/ML_RNN_Introduction_Part1-checkpoint.ipynb\n",
      "./ML_RNN_Introduction/.ipynb_checkpoints/ML_RNN_Introduction_Part2-checkpoint.ipynb\n",
      "./Coursera_Information_Theory/Coursera_Information_Theory.ipynb\n",
      "./ML_RNN_LSTM/ML_RNN_LSTM_part1.ipynb\n",
      "./ML_RNN_LSTM/.ipynb_checkpoints/ML_RNN_LSTM_part1-checkpoint.ipynb\n",
      "./ML_NLP_Part_of_Speech_Tagging_with_HMMs/Part of Speech Tagging.ipynb\n",
      "./ML_NLP_Part_of_Speech_Tagging_with_HMMs/hmm-tagger-master/brown-universal.txt\n",
      "./ML_CNN/ML_CNN_Practice1.ipynb\n",
      "./ML_CNN/MLP_Structure.ipynb\n",
      "./ML_CNN/ML_CNN_Preprocessing.ipynb\n",
      "./ML_CNN/ML_CNN_Transfer_Learning.ipynb\n",
      "./ML_CNN/ML_CNN_Application.ipynb\n",
      "./ML_CNN/ML_CNN.ipynb\n",
      "./ML_CNN/ML_CNN_2.ipynb\n",
      "./ML_CNN/.ipynb_checkpoints/ML_CNN_Practice1-checkpoint.ipynb\n",
      "./ML_CNN/.ipynb_checkpoints/ML_CNN_2-checkpoint.ipynb\n",
      "./ML_CNN/.ipynb_checkpoints/ML_CNN-checkpoint.ipynb\n",
      "./ML_CNN_in_Keras/ML_CNN_in_Keras.ipynb\n",
      "./ML_NLP_Topic_Modeling/ML_NLP_Topic_Modeling.ipynb\n",
      "./ML_NLP_Topic_Modeling/abcnews-date-text.csv\n",
      "./ML_ANN/Feedforword.ipynb\n",
      "./ML_ANN/Backpropagation.ipynb\n",
      "./ML_ANN/Structure of Neural Network.ipynb\n",
      "./ML_ANN/.ipynb_checkpoints/Backpropagation-checkpoint.ipynb\n",
      "./ML_Word2Vector/ML_Word2Vector.ipynb\n",
      "./ML_Word2Vector/.ipynb_checkpoints/ML_Word2Vector-checkpoint.ipynb\n",
      "./ML_GAN/ML_GAN.ipynb\n",
      "./ML_GAN/.ipynb_checkpoints/ML_GAN-checkpoint.ipynb\n",
      "./ML_Reinforcement_Learning/ML_Reinforcement_Learning.ipynb\n",
      "./DSA_Udacity_Basic_Algorithms_Part2_Sorting_Algorithms/13. Heap Sort.ipynb\n",
      "./DSA_Udacity_Basic_Algorithms_Part2_Sorting_Algorithms/.ipynb_checkpoints/13. Heap Sort-checkpoint.ipynb\n",
      "./ML_Attention/ML_Attention.ipynb\n",
      "./ML_Attention/.ipynb_checkpoints/ML_Attention-checkpoint.ipynb\n",
      "./DSA_Queue_and_Stack/Stack_and_DFS_Part5.ipynb\n",
      "./DSA_Queue_and_Stack/Stack_and_DFS_Part6.ipynb\n",
      "./DSA_Queue_and_Stack/.ipynb_checkpoints/Stack_and_DFS_Part6-checkpoint.ipynb\n",
      "./DSA_Queue_and_Stack/.ipynb_checkpoints/Stack_and_DFS_Part5-checkpoint.ipynb\n",
      "./DSA_Udacity_Basic_Algorithms_Part3_Faster_Devide_and_Conquer/Faster_Devide_and_Conquer.ipynb\n",
      "./DSA_Udacity_Basic_Algorithms_Part1_Basics/10. Heaps Exercise.ipynb\n",
      "./DSA_Udacity_Basic_Algorithms_Part1_Basics/.ipynb_checkpoints/10. Heaps Exercise-checkpoint.ipynb\n",
      "./DSA_Udacity_Advanced_Algorithms_Part2_Graph_Algorithms/10. Implement DFS — Recursive Solution.ipynb\n",
      "./DSA_Udacity_Advanced_Algorithms_Part2_Graph_Algorithms/DSA_Graph_Algorithms_Main.ipynb\n",
      "./DSA_Udacity_Advanced_Algorithms_Part2_Graph_Algorithms/15. Prim’s Algorithm - Connecting Islands.ipynb\n",
      "./DSA_Udacity_Advanced_Algorithms_Part2_Graph_Algorithms/.ipynb_checkpoints/DSA_Graph_Algorithms_Main-checkpoint.ipynb\n",
      "./DSA_Udacity_Advanced_Algorithms_Part2_Graph_Algorithms/.ipynb_checkpoints/15. Prim’s Algorithm - Connecting Islands-checkpoint.ipynb\n",
      "./.git/index\n",
      "./.git/objects/c6/b5e8d2129cfdae8880460d6ae065f50348189f\n",
      "./.git/objects/e0/15605ba7e21880f4a55b8466f1c1e33b2bb319\n"
     ]
    }
   ],
   "source": [
    "searchFolder('heap')"
   ]
  },
  {
   "cell_type": "code",
   "execution_count": 2,
   "metadata": {},
   "outputs": [],
   "source": [
    "import os\n",
    "import re\n",
    "def searchFolder(contents, path = './'):\n",
    "    ## Comment this for Linux\n",
    "    #path = path.replace('/','\\\\')\n",
    "    for subdir, dirs, files in os.walk(path):\n",
    "        for filename in files:\n",
    "            if os.path.splitext(filename)[1] in ['.zip','.xls','.xlsx','.pyc']:\n",
    "                continue\n",
    "            filepath = subdir + os.sep + filename\n",
    "            # print(filepath)\n",
    "            try:\n",
    "                with open(filepath,'r',encoding='utf-8',errors='ignore') as f:\n",
    "                    f = f.readlines()\n",
    "                    f = ''.join(f)\n",
    "                    if contents.lower() in f.lower():\n",
    "                        print(filepath)\n",
    "#                         print(re.sub('/+|\\\\+','\\\\',filepath))\n",
    "            except(Exception) as e:\n",
    "                pass\n",
    "                print(e)\n",
    "                print('Failed: ',filepath)"
   ]
  },
  {
   "cell_type": "code",
   "execution_count": null,
   "metadata": {},
   "outputs": [],
   "source": []
  }
 ],
 "metadata": {
  "kernelspec": {
   "display_name": "Python 3",
   "language": "python",
   "name": "python3"
  },
  "language_info": {
   "codemirror_mode": {
    "name": "ipython",
    "version": 3
   },
   "file_extension": ".py",
   "mimetype": "text/x-python",
   "name": "python",
   "nbconvert_exporter": "python",
   "pygments_lexer": "ipython3",
   "version": "3.7.3"
  }
 },
 "nbformat": 4,
 "nbformat_minor": 2
}
