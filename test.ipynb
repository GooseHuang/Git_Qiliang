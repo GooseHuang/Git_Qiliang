{
 "cells": [
  {
   "cell_type": "code",
   "execution_count": 15,
   "metadata": {},
   "outputs": [
    {
     "name": "stdout",
     "output_type": "stream",
     "text": [
      "Help on method randint in module random:\n",
      "\n",
      "randint(a, b) method of random.Random instance\n",
      "    Return random integer in range [a, b], including both end points.\n",
      "\n"
     ]
    }
   ],
   "source": [
    "import random\n",
    "help(random.randint)\n",
    "rd = lambda : random.randint(1,100)"
   ]
  },
  {
   "cell_type": "code",
   "execution_count": 19,
   "metadata": {},
   "outputs": [
    {
     "name": "stdout",
     "output_type": "stream",
     "text": [
      "18\n",
      "77\n",
      "91\n",
      "26\n",
      "62\n",
      "31\n",
      "65\n",
      "49\n",
      "2\n",
      "32\n",
      "80\n",
      "98\n",
      "13\n",
      "53\n",
      "89\n",
      "57\n",
      "81\n",
      "6\n",
      "3\n",
      "99\n",
      "49\n",
      "34\n",
      "87\n",
      "72\n",
      "53\n",
      "35\n",
      "58\n",
      "11\n",
      "50\n",
      "26\n",
      "18\n",
      "76\n",
      "80\n",
      "71\n",
      "66\n",
      "60\n",
      "24\n",
      "52\n",
      "52\n",
      "7\n",
      "29\n",
      "19\n",
      "97\n",
      "63\n",
      "25\n",
      "55\n",
      "26\n",
      "14\n",
      "77\n",
      "95\n",
      "63\n",
      "34\n",
      "41\n",
      "87\n",
      "75\n",
      "5\n",
      "57\n",
      "88\n",
      "41\n",
      "7\n",
      "51\n",
      "21\n",
      "42\n",
      "15\n",
      "24\n",
      "47\n",
      "100\n",
      "40\n",
      "9\n",
      "74\n",
      "80\n",
      "52\n",
      "12\n",
      "27\n",
      "97\n",
      "30\n",
      "40\n",
      "64\n",
      "79\n",
      "21\n",
      "57\n",
      "51\n",
      "46\n",
      "5\n",
      "89\n",
      "83\n",
      "30\n",
      "36\n",
      "62\n",
      "9\n",
      "60\n",
      "52\n",
      "19\n",
      "67\n",
      "44\n",
      "3\n",
      "92\n",
      "77\n",
      "13\n",
      "72\n"
     ]
    }
   ],
   "source": [
    "for i in range(100):\n",
    "    print(rd())"
   ]
  },
  {
   "cell_type": "code",
   "execution_count": 17,
   "metadata": {},
   "outputs": [
    {
     "name": "stdout",
     "output_type": "stream",
     "text": [
      "Help on function set_trace in module pdb:\n",
      "\n",
      "set_trace(*, header=None)\n",
      "\n"
     ]
    }
   ],
   "source": [
    "import pdb\n",
    "bp = pdb.set_trace\n",
    "help(bp)"
   ]
  },
  {
   "cell_type": "code",
   "execution_count": 1,
   "metadata": {},
   "outputs": [
    {
     "data": {
      "text/plain": [
       "[1, 2, 3]"
      ]
     },
     "execution_count": 1,
     "metadata": {},
     "output_type": "execute_result"
    }
   ],
   "source": [
    "sorted([1,2,3])"
   ]
  },
  {
   "cell_type": "code",
   "execution_count": 3,
   "metadata": {},
   "outputs": [
    {
     "data": {
      "text/plain": [
       "1"
      ]
     },
     "execution_count": 3,
     "metadata": {},
     "output_type": "execute_result"
    }
   ],
   "source": [
    "4//3"
   ]
  },
  {
   "cell_type": "code",
   "execution_count": 6,
   "metadata": {},
   "outputs": [
    {
     "data": {
      "text/plain": [
       "-2"
      ]
     },
     "execution_count": 6,
     "metadata": {},
     "output_type": "execute_result"
    }
   ],
   "source": [
    "(-3+0)//2"
   ]
  },
  {
   "cell_type": "code",
   "execution_count": null,
   "metadata": {},
   "outputs": [],
   "source": [
    "class Solution:\n",
    "    def findMinHeightTrees(self, n: int, edges: List[List[int]]) -> List[int]:\n",
    "\n",
    "        # edge cases\n",
    "        if n <= 2:\n",
    "            return [i for i in range(n)]\n",
    "\n",
    "        # Build the graph with the adjacency list\n",
    "        neighbors = [set() for i in range(n)]\n",
    "        for start, end in edges:\n",
    "            neighbors[start].add(end)\n",
    "            neighbors[end].add(start)\n",
    "\n",
    "        # Initialize the first layer of leaves\n",
    "        leaves = []\n",
    "        for i in range(n):\n",
    "            if len(neighbors[i]) == 1:\n",
    "                leaves.append(i)\n",
    "\n",
    "        # Trim the leaves until reaching the centroids\n",
    "        remaining_nodes = n\n",
    "        while remaining_nodes > 2:\n",
    "            remaining_nodes -= len(leaves)\n",
    "            new_leaves = []\n",
    "            # remove the current leaves along with the edges\n",
    "            while leaves:\n",
    "                leaf = leaves.pop()\n",
    "                # the only neighbor left for the leaf node\n",
    "                neighbor = neighbors[leaf].pop()\n",
    "                # remove the only edge left\n",
    "                neighbors[neighbor].remove(leaf)\n",
    "                if len(neighbors[neighbor]) == 1:\n",
    "                    new_leaves.append(neighbor)\n",
    "\n",
    "            # prepare for the next round\n",
    "            leaves = new_leaves\n",
    "\n",
    "        # The remaining nodes are the centroids of the graph\n",
    "        return leaves"
   ]
  }
 ],
 "metadata": {
  "kernelspec": {
   "display_name": "Python 3",
   "language": "python",
   "name": "python3"
  },
  "language_info": {
   "codemirror_mode": {
    "name": "ipython",
    "version": 3
   },
   "file_extension": ".py",
   "mimetype": "text/x-python",
   "name": "python",
   "nbconvert_exporter": "python",
   "pygments_lexer": "ipython3",
   "version": "3.7.3"
  }
 },
 "nbformat": 4,
 "nbformat_minor": 2
}
