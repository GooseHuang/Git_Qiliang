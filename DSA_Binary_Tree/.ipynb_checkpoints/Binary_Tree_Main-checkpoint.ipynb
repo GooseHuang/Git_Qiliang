{
 "cells": [
  {
   "cell_type": "markdown",
   "metadata": {},
   "source": [
    "# Traverse a Tree - Introduction"
   ]
  },
  {
   "cell_type": "code",
   "execution_count": null,
   "metadata": {},
   "outputs": [],
   "source": [
    "\"\"\"\n",
    "可以不接受\n",
    "\n",
    "做出来之后看下答案找不同的思路，然后  合上书从头把它写出来\n",
    "\n",
    "自己先有一套方法就可以解决80%的问题，剩下的20%不用立马完美   先引子\n",
    "\n",
    "\n",
    "\n",
    "\"\"\""
   ]
  },
  {
   "cell_type": "markdown",
   "metadata": {},
   "source": [
    "## Pre-order Traversal"
   ]
  },
  {
   "cell_type": "markdown",
   "metadata": {},
   "source": [
    "Pre-order traversal is to visit the root first. Then traverse the left subtree. Finally, traverse the right subtree. "
   ]
  },
  {
   "cell_type": "markdown",
   "metadata": {},
   "source": [
    "## In-order Traversal"
   ]
  },
  {
   "cell_type": "markdown",
   "metadata": {},
   "source": [
    "In-order traversal is to traverse the left subtree first. Then visit the root. Finally, traverse the right subtree."
   ]
  },
  {
   "cell_type": "markdown",
   "metadata": {},
   "source": [
    "## Post-order Traversal"
   ]
  },
  {
   "cell_type": "markdown",
   "metadata": {},
   "source": [
    "Post-order traversal is to traverse the left subtree first. Then traverse the right subtree. Finally, visit the root."
   ]
  },
  {
   "cell_type": "markdown",
   "metadata": {},
   "source": [
    "## Binary Tree Preorder Traversal"
   ]
  },
  {
   "cell_type": "markdown",
   "metadata": {},
   "source": [
    "Given the root of a binary tree, return the preorder traversal of its nodes' values."
   ]
  },
  {
   "cell_type": "markdown",
   "metadata": {},
   "source": [
    "https://leetcode.com/explore/learn/card/data-structure-tree/134/traverse-a-tree/928/\n",
    "\n",
    "#### Accepted \n",
    "```cpp\n",
    "/**\n",
    " * Definition for a binary tree node.\n",
    " * struct TreeNode {\n",
    " *     int val;\n",
    " *     TreeNode *left;\n",
    " *     TreeNode *right;\n",
    " *     TreeNode() : val(0), left(nullptr), right(nullptr) {}\n",
    " *     TreeNode(int x) : val(x), left(nullptr), right(nullptr) {}\n",
    " *     TreeNode(int x, TreeNode *left, TreeNode *right) : val(x), left(left), right(right) {}\n",
    " * };\n",
    " */\n",
    "class Solution {\n",
    "public:\n",
    "    vector<int> preorderTraversal(TreeNode* root) {\n",
    "        \n",
    "        \n",
    "        stack<TreeNode*> s;\n",
    "        set<TreeNode*> visited;\n",
    "        vector<int> v;\n",
    "\n",
    "        if(!root){\n",
    "            return v;\n",
    "        }\n",
    "\n",
    "        s.push(root);        \n",
    "\n",
    "        while(s.size()){\n",
    "            TreeNode* cur = s.top();\n",
    "            if(visited.find(cur) == visited.end()){\n",
    "                v.push_back(cur->val);\n",
    "                visited.insert(cur);\n",
    "            }\n",
    "            \n",
    "            if(cur->left and visited.find(cur->left) == visited.end()){\n",
    "                s.push(cur->left);\n",
    "            }else{\n",
    "                s.pop();\n",
    "                if(cur->right and visited.find(cur->right) == visited.end()){\n",
    "                    s.push(cur->right);\n",
    "                }\n",
    "            }\n",
    "        } \n",
    "    return v;\n",
    "        \n",
    "        \n",
    "        \n",
    "    }\n",
    "};\n",
    "```"
   ]
  },
  {
   "cell_type": "markdown",
   "metadata": {},
   "source": [
    "### Solutions"
   ]
  },
  {
   "cell_type": "markdown",
   "metadata": {},
   "source": [
    "https://leetcode.com/problems/binary-tree-preorder-traversal/solution/"
   ]
  },
  {
   "cell_type": "markdown",
   "metadata": {},
   "source": [
    "### Good one:\n",
    "```cpp\n",
    "/**\n",
    " * Definition for a binary tree node.\n",
    " * struct TreeNode {\n",
    " *     int val;\n",
    " *     TreeNode *left;\n",
    " *     TreeNode *right;\n",
    " *     TreeNode(int x) : val(x), left(NULL), right(NULL) {}\n",
    " * };\n",
    " */\n",
    "class Solution {\n",
    "public:\n",
    "    vector<int> preorderTraversal(TreeNode* root) {\n",
    "        vector<int> answer;\n",
    "        stack<TreeNode*> s;\n",
    "        if (root) {\n",
    "            s.push(root);\n",
    "        }\n",
    "        TreeNode* cur;\n",
    "        while (!s.empty()) {\n",
    "            cur = s.top();\n",
    "            s.pop();\n",
    "            answer.push_back(cur->val);     // visit the root\n",
    "            if (cur->right) {\n",
    "                s.push(cur->right);         // push right child to stack if it is not null\n",
    "            }\n",
    "            if (cur->left) {\n",
    "                s.push(cur->left);          // push left child to stack if it is not null\n",
    "            }\n",
    "        }\n",
    "        return answer;\n",
    "    }\n",
    "};\n",
    "```"
   ]
  },
  {
   "cell_type": "markdown",
   "metadata": {},
   "source": [
    "#### Approach 1: Iterations\n",
    "```java\n",
    "/* Definition for a binary tree node. */\n",
    "public class TreeNode {\n",
    "  int val;\n",
    "  TreeNode left;\n",
    "  TreeNode right;\n",
    "\n",
    "  TreeNode(int x) {\n",
    "    val = x;\n",
    "  }\n",
    "}\n",
    "\n",
    "\n",
    "class Solution {\n",
    "  public List<Integer> preorderTraversal(TreeNode root) {\n",
    "    LinkedList<TreeNode> stack = new LinkedList<>();\n",
    "    LinkedList<Integer> output = new LinkedList<>();\n",
    "    if (root == null) {\n",
    "      return output;\n",
    "    }\n",
    "\n",
    "    stack.add(root);\n",
    "    while (!stack.isEmpty()) {\n",
    "      TreeNode node = stack.pollLast();\n",
    "      output.add(node.val);\n",
    "      if (node.right != null) {\n",
    "        stack.add(node.right);\n",
    "      }\n",
    "      if (node.left != null) {\n",
    "        stack.add(node.left);\n",
    "      }\n",
    "    }\n",
    "    return output;\n",
    "  }\n",
    "\n",
    "```"
   ]
  },
  {
   "cell_type": "markdown",
   "metadata": {},
   "source": [
    "#### Approach 2: Morris traversal\n",
    "```java\n",
    "class Solution {\n",
    "  public List<Integer> preorderTraversal(TreeNode root) {\n",
    "    LinkedList<Integer> output = new LinkedList<>();\n",
    "\n",
    "    TreeNode node = root;\n",
    "    while (node != null) {\n",
    "      if (node.left == null) {\n",
    "        output.add(node.val);\n",
    "        node = node.right;\n",
    "      }\n",
    "      else {\n",
    "        TreeNode predecessor = node.left;\n",
    "        while ((predecessor.right != null) && (predecessor.right != node)) {\n",
    "          predecessor = predecessor.right;\n",
    "        }\n",
    "\n",
    "        if (predecessor.right == null) {\n",
    "          output.add(node.val);\n",
    "          predecessor.right = node;\n",
    "          node = node.left;\n",
    "        }\n",
    "        else{\n",
    "          predecessor.right = null;\n",
    "          node = node.right;\n",
    "        }\n",
    "      }\n",
    "    }\n",
    "    return output;\n",
    "  }\n",
    "}\n",
    "```"
   ]
  },
  {
   "cell_type": "markdown",
   "metadata": {},
   "source": [
    "## Binary Tree Inorder Traversal"
   ]
  },
  {
   "cell_type": "markdown",
   "metadata": {},
   "source": [
    "https://leetcode.com/explore/learn/card/data-structure-tree/134/traverse-a-tree/929/"
   ]
  },
  {
   "cell_type": "markdown",
   "metadata": {},
   "source": [
    "```cpp\n",
    "/**\n",
    " * Definition for a binary tree node.\n",
    " * struct TreeNode {\n",
    " *     int val;\n",
    " *     TreeNode *left;\n",
    " *     TreeNode *right;\n",
    " *     TreeNode() : val(0), left(nullptr), right(nullptr) {}\n",
    " *     TreeNode(int x) : val(x), left(nullptr), right(nullptr) {}\n",
    " *     TreeNode(int x, TreeNode *left, TreeNode *right) : val(x), left(left), right(right) {}\n",
    " * };\n",
    " */\n",
    "class Solution {\n",
    "public:\n",
    "    vector<int> inorderTraversal(TreeNode* root) {\n",
    "        stack<TreeNode*> s;\n",
    "        set<TreeNode*> visited;\n",
    "        vector<int> v;\n",
    "        \n",
    "        if(!root){\n",
    "            return v;\n",
    "        }\n",
    "        \n",
    "        s.push(root);        \n",
    "\n",
    "        while(s.size()){\n",
    "            TreeNode* cur = s.top();\n",
    "            if(cur->left and visited.find(cur->left) == visited.end()){\n",
    "                s.push(cur->left);\n",
    "            }else{\n",
    "                v.push_back(cur->val);\n",
    "                visited.insert(cur);\n",
    "                s.pop();\n",
    "                if(cur->right and visited.find(cur->right) == visited.end()){\n",
    "                    s.push(cur->right);\n",
    "                }\n",
    "            }\n",
    "        } \n",
    "    return v;\n",
    "    }\n",
    "};\n",
    "\n",
    "```"
   ]
  },
  {
   "cell_type": "markdown",
   "metadata": {},
   "source": [
    "#### Good one\n",
    "```cpp\n",
    "/**\n",
    " * Definition for a binary tree node.\n",
    " * struct TreeNode {\n",
    " *     int val;\n",
    " *     TreeNode *left;\n",
    " *     TreeNode *right;\n",
    " *     TreeNode() : val(0), left(nullptr), right(nullptr) {}\n",
    " *     TreeNode(int x) : val(x), left(nullptr), right(nullptr) {}\n",
    " *     TreeNode(int x, TreeNode *left, TreeNode *right) : val(x), left(left), right(right) {}\n",
    " * };\n",
    " */\n",
    "class Solution {\n",
    "public:\n",
    "    vector<int> inorderTraversal(TreeNode* root) {\n",
    "        stack<TreeNode*> s;\n",
    "        vector<int> v;\n",
    "        \n",
    "        TreeNode* cur = root;\n",
    "        while(cur != NULL or s.size()!=0){\n",
    "            while(cur != NULL){\n",
    "                s.push(cur);\n",
    "                cur = cur->left;\n",
    "            }\n",
    "            cur = s.top();\n",
    "            v.push_back(cur->val); \n",
    "            s.pop();  // 这里这个值被直接抽调了  所以不会影响  巧\n",
    "            cur = cur->right;\n",
    "            \n",
    "        }\n",
    "\n",
    "    return v;\n",
    "    }\n",
    "};\n",
    "```"
   ]
  },
  {
   "cell_type": "markdown",
   "metadata": {},
   "source": [
    "### Solutions\n",
    "\n",
    "\n",
    "#### Approach 1: Recursive Approach\n",
    "```java\n",
    "class Solution {\n",
    "    public List < Integer > inorderTraversal(TreeNode root) {\n",
    "        List < Integer > res = new ArrayList < > ();\n",
    "        helper(root, res);\n",
    "        return res;\n",
    "    }\n",
    "\n",
    "    public void helper(TreeNode root, List < Integer > res) {\n",
    "        if (root != null) {\n",
    "            if (root.left != null) {\n",
    "                helper(root.left, res);\n",
    "            }\n",
    "            res.add(root.val);\n",
    "            if (root.right != null) {\n",
    "                helper(root.right, res);\n",
    "            }\n",
    "        }\n",
    "    }\n",
    "}\n",
    "```\n",
    "\n",
    "#### Approach 2: Iterating method using Stack\n",
    "```java\n",
    "public class Solution {\n",
    "    public List < Integer > inorderTraversal(TreeNode root) {\n",
    "        List < Integer > res = new ArrayList < > ();\n",
    "        Stack < TreeNode > stack = new Stack < > ();\n",
    "        TreeNode curr = root;\n",
    "        while (curr != null || !stack.isEmpty()) {\n",
    "            while (curr != null) {\n",
    "                stack.push(curr);\n",
    "                curr = curr.left;\n",
    "            }\n",
    "            curr = stack.pop();\n",
    "            res.add(curr.val);\n",
    "            curr = curr.right;\n",
    "        }\n",
    "        return res;\n",
    "    }\n",
    "}\n",
    "```"
   ]
  },
  {
   "cell_type": "markdown",
   "metadata": {},
   "source": [
    "## Binary Tree Postorder Traversal"
   ]
  },
  {
   "cell_type": "markdown",
   "metadata": {},
   "source": [
    "https://leetcode.com/explore/learn/card/data-structure-tree/134/traverse-a-tree/930/"
   ]
  },
  {
   "cell_type": "markdown",
   "metadata": {},
   "source": [
    "Given the root of a binary tree, return the postorder traversal of its nodes' values."
   ]
  },
  {
   "cell_type": "markdown",
   "metadata": {},
   "source": [
    "#### Accepted\n",
    "```cpp\n",
    "/**\n",
    " * Definition for a binary tree node.\n",
    " * struct TreeNode {\n",
    " *     int val;\n",
    " *     TreeNode *left;\n",
    " *     TreeNode *right;\n",
    " *     TreeNode() : val(0), left(nullptr), right(nullptr) {}\n",
    " *     TreeNode(int x) : val(x), left(nullptr), right(nullptr) {}\n",
    " *     TreeNode(int x, TreeNode *left, TreeNode *right) : val(x), left(left), right(right) {}\n",
    " * };\n",
    " */\n",
    "class Solution {\n",
    "public:\n",
    "    vector<int> postorderTraversal(TreeNode* root) {\n",
    "        \n",
    "    \n",
    "        stack<TreeNode*> s;\n",
    "        set<TreeNode*> visited;\n",
    "        vector<int> v;\n",
    "\n",
    "        if(!root){\n",
    "            return v;\n",
    "        }\n",
    "\n",
    "        s.push(root);        \n",
    "\n",
    "        while(s.size()){\n",
    "            TreeNode* cur = s.top();\n",
    "            \n",
    "            \n",
    "            if(cur->left and visited.find(cur->left) == visited.end()){\n",
    "                s.push(cur->left);\n",
    "            }else if(cur->right and visited.find(cur->right) == visited.end()){\n",
    "                s.push(cur->right);\n",
    "                \n",
    "            }else{\n",
    "                v.push_back(cur->val);\n",
    "                visited.insert(cur);\n",
    "                s.pop();\n",
    "            }\n",
    "        } \n",
    "    return v;  \n",
    "        \n",
    "        \n",
    "    }\n",
    "};\n",
    "\n",
    "```"
   ]
  },
  {
   "cell_type": "markdown",
   "metadata": {},
   "source": [
    "### Solution\n",
    "#### Recurse\n",
    "\n",
    "```cpp\n",
    "/**\n",
    " * Definition for a binary tree node.\n",
    " * struct TreeNode {\n",
    " *     int val;\n",
    " *     TreeNode *left;\n",
    " *     TreeNode *right;\n",
    " *     TreeNode() : val(0), left(nullptr), right(nullptr) {}\n",
    " *     TreeNode(int x) : val(x), left(nullptr), right(nullptr) {}\n",
    " *     TreeNode(int x, TreeNode *left, TreeNode *right) : val(x), left(left), right(right) {}\n",
    " * };\n",
    " */\n",
    "class Solution {\n",
    "public:\n",
    "    void traverse(TreeNode* root, vector<int>& result){\n",
    "        if (root == NULL){\n",
    "            return;\n",
    "        }\n",
    "        \n",
    "        traverse(root->left, result);\n",
    "        traverse(root->right, result);\n",
    "        result.push_back(root->val);\n",
    "    }\n",
    "    vector<int> postorderTraversal(TreeNode* root) {\n",
    "        vector<int> result;\n",
    "        traverse(root, result);\n",
    "        return result;\n",
    "    }\n",
    "};\n",
    "```"
   ]
  },
  {
   "cell_type": "markdown",
   "metadata": {},
   "source": [
    "## Binary Tree Traversal - Solution"
   ]
  },
  {
   "cell_type": "markdown",
   "metadata": {},
   "source": [
    "https://leetcode.com/explore/learn/card/data-structure-tree/134/traverse-a-tree/1036/"
   ]
  },
  {
   "cell_type": "markdown",
   "metadata": {},
   "source": [
    "### Pre-order Traversal - Recursive Solution"
   ]
  },
  {
   "cell_type": "markdown",
   "metadata": {},
   "source": [
    "```cpp\n",
    "/**\n",
    " * Definition for a binary tree node.\n",
    " * struct TreeNode {\n",
    " *     int val;\n",
    " *     TreeNode *left;\n",
    " *     TreeNode *right;\n",
    " *     TreeNode(int x) : val(x), left(NULL), right(NULL) {}\n",
    " * };\n",
    " */\n",
    "class Solution {\n",
    "private:\n",
    "    void preorderTraversal(TreeNode* root, vector<int>& answer) {\n",
    "        if (!root) {\n",
    "            return;\n",
    "        }\n",
    "        answer.push_back(root->val);               // visit the root\n",
    "        preorderTraversal(root->left, answer);     // traverse left subtree\n",
    "        preorderTraversal(root->right, answer);    // traverse right subtree\n",
    "    }\n",
    "public:\n",
    "    vector<int> preorderTraversal(TreeNode* root) {\n",
    "        vector<int> answer;\n",
    "        preorderTraversal(root, answer);\n",
    "        return answer;\n",
    "    }\n",
    "};\n",
    "\n",
    "```"
   ]
  },
  {
   "cell_type": "markdown",
   "metadata": {},
   "source": [
    "### In-order Traversal - Recursive Solution\n",
    "```cpp\n",
    "/**\n",
    " * Definition for a binary tree node.\n",
    " * struct TreeNode {\n",
    " *     int val;\n",
    " *     TreeNode *left;\n",
    " *     TreeNode *right;\n",
    " *     TreeNode(int x) : val(x), left(NULL), right(NULL) {}\n",
    " * };\n",
    " */\n",
    "class Solution {\n",
    "private:\n",
    "    void inorderTraversal(TreeNode* root, vector<int>& answer) {\n",
    "        if (!root) {\n",
    "            return;\n",
    "        }\n",
    "        inorderTraversal(root->left, answer);     // traverse left subtree\n",
    "        answer.push_back(root->val);              // visit the root\n",
    "        inorderTraversal(root->right, answer);    // traverse right subtree\n",
    "    }\n",
    "public:\n",
    "    vector<int> inorderTraversal(TreeNode* root) {\n",
    "        vector<int> answer;\n",
    "        inorderTraversal(root, answer);\n",
    "        return answer;   \n",
    "    }\n",
    "};\n",
    "```"
   ]
  },
  {
   "cell_type": "markdown",
   "metadata": {},
   "source": [
    "### Post-order Traversal - Recursive Solution"
   ]
  },
  {
   "cell_type": "markdown",
   "metadata": {},
   "source": [
    "```cpp\n",
    "/**\n",
    " * Definition for a binary tree node.\n",
    " * struct TreeNode {\n",
    " *     int val;\n",
    " *     TreeNode *left;\n",
    " *     TreeNode *right;\n",
    " *     TreeNode(int x) : val(x), left(NULL), right(NULL) {}\n",
    " * };\n",
    " */\n",
    "class Solution {\n",
    "private:\n",
    "    void postorderTraversal(TreeNode* root, vector<int>& answer) {\n",
    "        if (!root) {\n",
    "            return;\n",
    "        }\n",
    "        postorderTraversal(root->left, answer);     // traverse left subtree\n",
    "        postorderTraversal(root->right, answer);    // traverse right subtree\n",
    "        answer.push_back(root->val);                // visit the root\n",
    "    }\n",
    "public:\n",
    "    vector<int> postorderTraversal(TreeNode* root) {\n",
    "        vector<int> answer;\n",
    "        postorderTraversal(root, answer);\n",
    "        return answer;   \n",
    "    }\n",
    "};\n",
    "```"
   ]
  },
  {
   "cell_type": "markdown",
   "metadata": {},
   "source": [
    "## Iterative Solution"
   ]
  },
  {
   "cell_type": "markdown",
   "metadata": {},
   "source": [
    "There are several iterative solutions for tree traversal. One of the solutions is to use a stack to simulate the recursion process.\n",
    "\n",
    "Taking pre-order traversal as an example, in each iteration, we pop one node from the stack and visit this node. Then if this node has a right child, push its right child into the stack. If this node has a left child, push its left child into the stack. It is noteworthy that we push the right child first so that we can visit the left child first since the nature of the stack is LIFO(last in first out). After that, we can continue to the next iteration until the stack is empty."
   ]
  },
  {
   "cell_type": "markdown",
   "metadata": {},
   "source": [
    "```cpp\n",
    "/**\n",
    " * Definition for a binary tree node.\n",
    " * struct TreeNode {\n",
    " *     int val;\n",
    " *     TreeNode *left;\n",
    " *     TreeNode *right;\n",
    " *     TreeNode(int x) : val(x), left(NULL), right(NULL) {}\n",
    " * };\n",
    " */\n",
    "class Solution {\n",
    "public:\n",
    "    vector<int> preorderTraversal(TreeNode* root) {\n",
    "        vector<int> answer;\n",
    "        stack<TreeNode*> s;\n",
    "        if (root) {\n",
    "            s.push(root);\n",
    "        }\n",
    "        TreeNode* cur;\n",
    "        while (!s.empty()) {\n",
    "            cur = s.top();\n",
    "            s.pop();\n",
    "            answer.push_back(cur->val);     // visit the root\n",
    "            if (cur->right) {\n",
    "                s.push(cur->right);         // push right child to stack if it is not null\n",
    "            }\n",
    "            if (cur->left) {\n",
    "                s.push(cur->left);          // push left child to stack if it is not null\n",
    "            }\n",
    "        }\n",
    "        return answer;\n",
    "    }\n",
    "};\n",
    "```"
   ]
  },
  {
   "cell_type": "code",
   "execution_count": null,
   "metadata": {},
   "outputs": [],
   "source": []
  }
 ],
 "metadata": {
  "kernelspec": {
   "display_name": "Python 3",
   "language": "python",
   "name": "python3"
  },
  "language_info": {
   "codemirror_mode": {
    "name": "ipython",
    "version": 3
   },
   "file_extension": ".py",
   "mimetype": "text/x-python",
   "name": "python",
   "nbconvert_exporter": "python",
   "pygments_lexer": "ipython3",
   "version": "3.7.3"
  }
 },
 "nbformat": 4,
 "nbformat_minor": 2
}
