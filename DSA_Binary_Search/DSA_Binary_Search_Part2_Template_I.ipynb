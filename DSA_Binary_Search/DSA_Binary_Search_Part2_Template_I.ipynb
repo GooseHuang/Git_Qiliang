{
 "cells": [
  {
   "cell_type": "markdown",
   "metadata": {},
   "source": [
    "# Binary Search Template I"
   ]
  },
  {
   "cell_type": "markdown",
   "metadata": {},
   "source": [
    "https://leetcode.com/explore/learn/card/binary-search/125/template-i/938/"
   ]
  },
  {
   "cell_type": "markdown",
   "metadata": {},
   "source": [
    "```cpp\n",
    "int binarySearch(vector<int>& nums, int target){\n",
    "  if(nums.size() == 0)\n",
    "    return -1;\n",
    "\n",
    "  int left = 0, right = nums.size() - 1;\n",
    "  while(left <= right){\n",
    "    // Prevent (left + right) overflow\n",
    "    int mid = left + (right - left) / 2;\n",
    "    if(nums[mid] == target){ return mid; }\n",
    "    else if(nums[mid] < target) { left = mid + 1; }\n",
    "    else { right = mid - 1; }\n",
    "  }\n",
    "\n",
    "  // End Condition: left > right\n",
    "  return -1;\n",
    "}\n",
    "```"
   ]
  },
  {
   "cell_type": "markdown",
   "metadata": {},
   "source": [
    "## Sqrt(x)"
   ]
  },
  {
   "cell_type": "markdown",
   "metadata": {},
   "source": [
    "Given a non-negative integer x, compute and return the square root of x.\n",
    "\n",
    "Since the return type is an integer, the decimal digits are truncated, and only the integer part of the result is returned.\n",
    "\n",
    "Note: You are not allowed to use any built-in exponent function or operator, such as pow(x, 0.5) or x ** 0.5."
   ]
  },
  {
   "cell_type": "code",
   "execution_count": 1,
   "metadata": {},
   "outputs": [
    {
     "data": {
      "text/plain": [
       "2415820801"
      ]
     },
     "execution_count": 1,
     "metadata": {},
     "output_type": "execute_result"
    }
   ],
   "source": [
    "49151 * 49151"
   ]
  },
  {
   "cell_type": "code",
   "execution_count": 2,
   "metadata": {},
   "outputs": [
    {
     "data": {
      "text/plain": [
       "32768"
      ]
     },
     "execution_count": 2,
     "metadata": {},
     "output_type": "execute_result"
    }
   ],
   "source": [
    "2**15"
   ]
  },
  {
   "cell_type": "code",
   "execution_count": 3,
   "metadata": {},
   "outputs": [
    {
     "data": {
      "text/plain": [
       "2147483648"
      ]
     },
     "execution_count": 3,
     "metadata": {},
     "output_type": "execute_result"
    }
   ],
   "source": [
    "2**31"
   ]
  },
  {
   "cell_type": "code",
   "execution_count": null,
   "metadata": {},
   "outputs": [],
   "source": [
    "2147395599"
   ]
  },
  {
   "cell_type": "code",
   "execution_count": 5,
   "metadata": {},
   "outputs": [
    {
     "data": {
      "text/plain": [
       "65536"
      ]
     },
     "execution_count": 5,
     "metadata": {},
     "output_type": "execute_result"
    }
   ],
   "source": [
    "2**16"
   ]
  },
  {
   "cell_type": "code",
   "execution_count": 6,
   "metadata": {},
   "outputs": [
    {
     "data": {
      "text/plain": [
       "32768"
      ]
     },
     "execution_count": 6,
     "metadata": {},
     "output_type": "execute_result"
    }
   ],
   "source": [
    "2**15"
   ]
  },
  {
   "cell_type": "markdown",
   "metadata": {},
   "source": [
    "##### Accepted V1\n",
    "```cpp\n",
    "class Solution {\n",
    "public:\n",
    "    \n",
    "//     int helper(int x){\n",
    "//         while(x*x<=INT_MAX){\n",
    "//             x++;\n",
    "//             cout<<x<<\" x\\n\";\n",
    "//         }\n",
    "//         return x;\n",
    "//     }\n",
    "    \n",
    "    \n",
    "    int mySqrt(int x) {\n",
    "        // helper(46000);\n",
    "        \n",
    "      int left = 0, right = x;\n",
    "      int max_sqrt = 46340; \n",
    "      if(right>max_sqrt){\n",
    "          right = max_sqrt;\n",
    "      }\n",
    "      // cout<<max_sqrt<<\" max_sqrt\\n\";\n",
    "      while(right-left>1){\n",
    "        // Prevent (left + right) overflow\n",
    "        int mid = left + (right - left) / 2;\n",
    "        if(mid*mid == x){ return mid; }\n",
    "        else if(mid*mid < x) { left = mid; }\n",
    "        else { right = mid; }\n",
    "         \n",
    "      }\n",
    "    \n",
    "        if(right*right<=x){\n",
    "            return right;\n",
    "        }else{\n",
    "            return left;\n",
    "        }\n",
    "    }\n",
    "};\n",
    "```"
   ]
  },
  {
   "cell_type": "markdown",
   "metadata": {},
   "source": [
    "### Solutions\n",
    "https://leetcode.com/problems/sqrtx/solution/"
   ]
  },
  {
   "cell_type": "markdown",
   "metadata": {},
   "source": [
    "##### Approach 1: Pocket Calculator Algorithm\n",
    "```java\n",
    "class Solution {\n",
    "  public int mySqrt(int x) {\n",
    "    if (x < 2) return x;\n",
    "\n",
    "    int left = (int)Math.pow(Math.E, 0.5 * Math.log(x));\n",
    "    int right = left + 1;\n",
    "    return (long)right * right > x ? left : right;\n",
    "  }\n",
    "}\n",
    "```"
   ]
  },
  {
   "cell_type": "markdown",
   "metadata": {},
   "source": [
    "##### Approach 2: Binary Search\n",
    "```java\n",
    "class Solution {\n",
    "  public int mySqrt(int x) {\n",
    "    if (x < 2) return x;\n",
    "\n",
    "    long num;\n",
    "    int pivot, left = 2, right = x / 2;\n",
    "    while (left <= right) {\n",
    "      pivot = left + (right - left) / 2;\n",
    "      num = (long)pivot * pivot;\n",
    "      if (num > x) right = pivot - 1;\n",
    "      else if (num < x) left = pivot + 1;\n",
    "      else return pivot;\n",
    "    }\n",
    "\n",
    "    return right;\n",
    "  }\n",
    "}\n",
    "```"
   ]
  },
  {
   "cell_type": "markdown",
   "metadata": {},
   "source": [
    "##### Approach 3: Recursion + Bit Shifts\n",
    "```java\n",
    "class Solution {\n",
    "  public int mySqrt(int x) {\n",
    "    if (x < 2) return x;\n",
    "\n",
    "    int left = mySqrt(x >> 2) << 1;\n",
    "    int right = left + 1;\n",
    "    return (long)right * right > x ? left : right;\n",
    "  }\n",
    "}\n",
    "```"
   ]
  },
  {
   "cell_type": "code",
   "execution_count": null,
   "metadata": {},
   "outputs": [],
   "source": []
  }
 ],
 "metadata": {
  "kernelspec": {
   "display_name": "Python 3",
   "language": "python",
   "name": "python3"
  },
  "language_info": {
   "codemirror_mode": {
    "name": "ipython",
    "version": 3
   },
   "file_extension": ".py",
   "mimetype": "text/x-python",
   "name": "python",
   "nbconvert_exporter": "python",
   "pygments_lexer": "ipython3",
   "version": "3.7.3"
  }
 },
 "nbformat": 4,
 "nbformat_minor": 2
}
