{
 "cells": [
  {
   "cell_type": "markdown",
   "metadata": {},
   "source": [
    "# Array 101"
   ]
  },
  {
   "cell_type": "code",
   "execution_count": null,
   "metadata": {},
   "outputs": [],
   "source": [
    "\"\"\"\n",
    "关注相互之间的联系\n",
    "\n",
    "逐渐结构化\n",
    "\n",
    "找通用的\n",
    "\n",
    "卡顿的电脑不值得传递信息\n",
    "\n",
    "\"\"\"\n",
    "\n",
    "'''\n",
    "可相互利用起来的组合\n",
    "\n",
    "\n",
    "快速收纳法\n",
    "\n",
    "\n",
    "还没有明显的效果，先别吹出去\n",
    "\n",
    "\n",
    "用上  观察反应\n",
    "\n",
    "\n",
    "保持乐观和接纳，别怪别人  物质已经够丰富了\n",
    "\n",
    "\n",
    "会了之后，加上足够的难度，会被承认\n",
    "\n",
    "而且你有相应的专业，去更广的寻找\n",
    "\n",
    "'''"
   ]
  },
  {
   "cell_type": "markdown",
   "metadata": {},
   "source": [
    "```java\n",
    "// The actual code for creating an Array to hold DVD's.\n",
    "DVD[] dvdCollection = new DVD[15];\n",
    "\n",
    "// A simple definition for a DVD.\n",
    "public class DVD {\n",
    "    public String name;\n",
    "    public int releaseYear;\n",
    "    public String director;\n",
    "\n",
    "    public DVD(String name, int releaseYear, String director) {\n",
    "        this.name = name;\n",
    "        this.releaseYear = releaseYear;\n",
    "        this.director = director;\n",
    "    }\n",
    "\n",
    "    public String toString() {\n",
    "        System.out.println(\n",
    "            this.name + \", directed by \" + this.director + \", released in \" + this.releaseYear));\n",
    "    }\n",
    "}\n",
    "```"
   ]
  },
  {
   "cell_type": "markdown",
   "metadata": {},
   "source": [
    "```java\n",
    "\n",
    "// Firstly, we need to actually create a DVD object for The Avengers.\n",
    "DVD avengersDVD = new DVD(\"The Avengers\", 2012, \"Joss Whedon\");\n",
    "\n",
    "// Next, we'll put it into the 8th place of the Array. Remember, because we\n",
    "// started numbering from 0, the index we want is 7.\n",
    "dvdCollection[7] = avengersDVD;\n",
    "```"
   ]
  },
  {
   "cell_type": "markdown",
   "metadata": {},
   "source": [
    "```java\n",
    "DVD incrediblesDVD = new DVD(\"The Incredibles\", 2004, \"Brad Bird\");\n",
    "DVD findingDoryDVD = new DVD(\"Finding Dory\", 2016, \"Andrew Stanton\");\n",
    "DVD lionKingDVD = new DVD(\"The Lion King\", 2019, \"Jon Favreau\");\n",
    "\n",
    "// Put \"The Incredibles\" into the 4th place: index 3.\n",
    "dvdCollection[3] = incrediblesDVD;\n",
    "\n",
    "// Put \"Finding Dory\" into the 10th place: index 9.\n",
    "dvdCollection[9] = findingDoryDVD;\n",
    "\n",
    "// Put \"The Lion King\" into the 3rd place: index 2.\n",
    "dvdCollection[2] = lionKingDVD;\n",
    "\n",
    "```"
   ]
  },
  {
   "cell_type": "markdown",
   "metadata": {},
   "source": [
    "```java\n",
    "\n",
    "DVD starWarsDVD = new DVD(\"Star Wars\", 1977, \"George Lucas\");\n",
    "dvdCollection[3] = starWarsDVD;\n",
    "```"
   ]
  },
  {
   "cell_type": "markdown",
   "metadata": {},
   "source": [
    "```java\n",
    "\n",
    "// Print out what's in indexes 7, 10, and 3.\n",
    "System.out.println(dvdCollection[7]);\n",
    "System.out.println(dvdCollection[10]);\n",
    "System.out.println(dvdCollection[3]);\n",
    "\n",
    "// Will print:\n",
    "\n",
    "// The Avengers, directed by Joss Whedon, released in 2012\n",
    "// null\n",
    "// Star Wars, directed by George Lucas, released in 1977\n",
    "```"
   ]
  },
  {
   "cell_type": "markdown",
   "metadata": {},
   "source": [
    "## Writing Items into an Array with a Loop"
   ]
  },
  {
   "cell_type": "markdown",
   "metadata": {},
   "source": [
    "```java\n",
    "int[] squareNumbers = new int[10];\n",
    "\n",
    "// Go through each of the Array indexes, from 0 to 9.\n",
    "for (int i = 0; i < 10; i++) {\n",
    "    // We need to be careful with the 0-indexing. The next square number\n",
    "    // is given by (i + 1) * (i + 1).\n",
    "    // Calculate it and insert it into the Array at index i.\n",
    "    int square = (i + 1) * (i + 1);\n",
    "    squareNumbers[i] = square;\n",
    "}\n",
    "\n",
    "\n",
    "\n",
    "```"
   ]
  },
  {
   "cell_type": "markdown",
   "metadata": {},
   "source": [
    "## Reading Items from an Array with a Loop"
   ]
  },
  {
   "cell_type": "markdown",
   "metadata": {},
   "source": [
    "```java\n",
    "// Go through each of the Array indexes, from 0 to 9.\n",
    "for (int i = 0; i < 10; i++) {\n",
    "    // Access and print what's at the i'th index.\n",
    "    System.out.println(squareNumbers[i]);\n",
    "}\n",
    "\n",
    "// Will print:\n",
    "// 1\n",
    "// 4\n",
    "// 9\n",
    "// 16\n",
    "// 25\n",
    "// 36\n",
    "// 49\n",
    "// 64\n",
    "// 81\n",
    "// 100\n",
    "\n",
    "```"
   ]
  },
  {
   "cell_type": "markdown",
   "metadata": {},
   "source": [
    "```java\n",
    "// For each VALUE in the Array.\n",
    "for (int square : squareNumbers) {\n",
    "    // Print the current value of square.\n",
    "    System.out.println(square);\n",
    "}\n",
    "// Prints exactly the same as the previous example.\n",
    "\n",
    "```"
   ]
  },
  {
   "cell_type": "markdown",
   "metadata": {},
   "source": [
    "## Length\n",
    "```java\n",
    "int capacity = array.length;\n",
    "System.out.println(\"The Array has a capacity of \" + capacity);\n",
    "```"
   ]
  },
  {
   "cell_type": "markdown",
   "metadata": {},
   "source": [
    "# Code\n"
   ]
  },
  {
   "cell_type": "markdown",
   "metadata": {},
   "source": [
    "## Max Consecutive Ones\n",
    "https://leetcode.com/explore/learn/card/fun-with-arrays/521/introduction/3238/"
   ]
  },
  {
   "cell_type": "markdown",
   "metadata": {},
   "source": [
    "## Tips: 通过Python主体转换  先写fake code"
   ]
  },
  {
   "cell_type": "markdown",
   "metadata": {},
   "source": [
    "##  Find Numbers with Even Number of Digits\n",
    "https://leetcode.com/explore/learn/card/fun-with-arrays/521/introduction/3237/"
   ]
  },
  {
   "cell_type": "markdown",
   "metadata": {},
   "source": [
    "## Squares of a Sorted Array\n",
    "https://leetcode.com/explore/learn/card/fun-with-arrays/521/introduction/3240/"
   ]
  },
  {
   "cell_type": "markdown",
   "metadata": {},
   "source": [
    "## Tips: 总是先尝试暴力击破"
   ]
  },
  {
   "cell_type": "markdown",
   "metadata": {},
   "source": [
    "### 冒泡排序\n",
    "```cpp\n",
    "class Solution {\n",
    "public:\n",
    "    vector<int> sortedSquares(vector<int>& nums) {\n",
    "        vector<int> new_nums(nums.size());\n",
    "        for(int i=0;i<nums.size();i++){\n",
    "            new_nums[i] = nums[i]*nums[i];\n",
    "        }\n",
    "        int tmp;\n",
    "        for(int i=0;i< new_nums.size();i++){\n",
    "            for(int j=i+1;j<new_nums.size();j++){\n",
    "                if(new_nums[i]>new_nums[j]){\n",
    "                    tmp = new_nums[j];\n",
    "                    new_nums[j] = new_nums[i];\n",
    "                    new_nums[i] = tmp;\n",
    "                }\n",
    "            }\n",
    "            \n",
    "        }\n",
    "        \n",
    "        return new_nums;\n",
    "    }\n",
    "};\n",
    "```"
   ]
  },
  {
   "cell_type": "markdown",
   "metadata": {},
   "source": [
    "### Issue: 未通过  之后尝试改进"
   ]
  },
  {
   "cell_type": "markdown",
   "metadata": {},
   "source": [
    "# Insert"
   ]
  },
  {
   "cell_type": "markdown",
   "metadata": {},
   "source": [
    "```java\n",
    "// Declare an integer array of 6 elements\n",
    "int intArray = new int[6];\n",
    "int length = 0;\n",
    "\n",
    "// Add 3 elements to the Array\n",
    "for (int i = 0; i < 3; i++) {\n",
    "    intArray[length] = i;\n",
    "    length++;\n",
    "}\n",
    "\n",
    "```"
   ]
  },
  {
   "cell_type": "markdown",
   "metadata": {},
   "source": [
    "### Insert at the start\n",
    "```java\n",
    "// First, we will have to create space for a new element.\n",
    "// We do that by shifting each element one index to the right.\n",
    "// This will firstly move the element at index 3, then 2, then 1, then finally 0.\n",
    "// We need to go backwards to avoid overwriting any elements.\n",
    "for (int i = 3; i >= 0; i--) {\n",
    "    intArray[i + 1] = intArray[i];\n",
    "}\n",
    "\n",
    "// Now that we have created space for the new element,\n",
    "// we can insert it at the beginning.\n",
    "intArray[0] = 20;\n",
    "```"
   ]
  },
  {
   "cell_type": "markdown",
   "metadata": {},
   "source": [
    "### Insert as anywhere\n",
    "```java\n",
    "// Say we want to insert the element at index 2.\n",
    "// First, we will have to create space for the new element.\n",
    "for (int i = 4; i >= 2; i--)\n",
    "{\n",
    "    // Shift each element one position to the right.\n",
    "    intArray[i + 1] = intArray[i];\n",
    "}\n",
    "\n",
    "// Now that we have created space for the new element,\n",
    "// we can insert it at the required index.\n",
    "intArray[2] = 30;\n",
    "\n",
    "```"
   ]
  },
  {
   "cell_type": "markdown",
   "metadata": {},
   "source": [
    "## Duplicate Zeros\n",
    "https://leetcode.com/explore/learn/card/fun-with-arrays/525/inserting-items-into-an-array/3245/"
   ]
  },
  {
   "cell_type": "markdown",
   "metadata": {},
   "source": [
    "```cpp\n",
    "class Solution {\n",
    "public:\n",
    "    void duplicateZeros(vector<int>& arr) {\n",
    "        for(int i=0;i<arr.size()-1;i++){\n",
    "            if(arr[i]==0){\n",
    "                for(int j=arr.size()-1;j>i+1;j--){\n",
    "                    arr[j] = arr[j-1];\n",
    "                }\n",
    "            arr[i+1] = 0;\n",
    "            i++;\n",
    "            }\n",
    "        }\n",
    "    }\n",
    "};\n",
    "```"
   ]
  },
  {
   "cell_type": "markdown",
   "metadata": {},
   "source": [
    "##  Merge Sorted Array"
   ]
  },
  {
   "cell_type": "markdown",
   "metadata": {},
   "source": [
    "https://leetcode.com/explore/learn/card/fun-with-arrays/525/inserting-items-into-an-array/3253/"
   ]
  },
  {
   "cell_type": "markdown",
   "metadata": {},
   "source": [
    "### Inplace modification without return value\n",
    "```cpp\n",
    "class Solution {\n",
    "public:\n",
    "    void merge(vector<int>& nums1, int m, vector<int>& nums2, int n) {\n",
    "        int i=m-1;\n",
    "        int j=n-1;\n",
    "        int z=m+n-1;\n",
    "        \n",
    "        while(z >= 0){\n",
    "            if(i>= 0 and j >=0){\n",
    "                if(nums1[i] > nums2[j]){\n",
    "                    nums1[z]=nums1[i];\n",
    "                    i--;\n",
    "                }else{\n",
    "                    nums1[z]=nums2[j];\n",
    "                    j--;\n",
    "                }\n",
    "            }else if(i >= 0){\n",
    "                    nums1[z]=nums1[i];\n",
    "                    i--;\n",
    "            }else if(j >= 0 ){\n",
    "                    nums1[z]=nums2[j];\n",
    "                    j--;\n",
    "            }\n",
    "            z--;\n",
    "            \n",
    "        }\n",
    "        \n",
    "        }\n",
    "};\n",
    "```"
   ]
  },
  {
   "cell_type": "markdown",
   "metadata": {},
   "source": [
    "### with return value\n",
    "```cpp\n",
    "class Solution {\n",
    "public:\n",
    "    void merge(vector<int>& nums1, int m, vector<int>& nums2, int n) {\n",
    "        \n",
    "        vector<int> new_nums(m+n);\n",
    "        int i=0;\n",
    "        int j=0;\n",
    "        int z=0;\n",
    "        while(z < m+n){\n",
    "            if(i< m and j <n){\n",
    "                if(nums1[i] < nums2[j]){\n",
    "                    new_nums[z]=nums1[i];\n",
    "                    i++;\n",
    "                }else{\n",
    "                    new_nums[z]=nums2[j];\n",
    "                    j++;\n",
    "                }\n",
    "            }else if(i < m){\n",
    "                    new_nums[z]=nums1[i];\n",
    "                    i++;\n",
    "            }else if(j < n){\n",
    "                    new_nums[z]=nums2[j];\n",
    "                    j++;\n",
    "            }\n",
    "            z++;\n",
    "        \n",
    "        }\n",
    "        for (auto const &v : new_nums)\n",
    "            std::cout << v << \"\\n\";\n",
    "\t\n",
    "    }\n",
    "};\n",
    "\n",
    "```"
   ]
  },
  {
   "cell_type": "markdown",
   "metadata": {},
   "source": [
    "#### Insert\n",
    "```cpp\n",
    "        // Insert at z\n",
    "        for(int i=m;i>z;i--){\n",
    "                nums1[i+1] = nums1[i];\n",
    "        }\n",
    "\n",
    "```"
   ]
  },
  {
   "cell_type": "markdown",
   "metadata": {},
   "source": [
    "#  Array Deletions"
   ]
  },
  {
   "cell_type": "markdown",
   "metadata": {},
   "source": [
    "### Deleting From the End of an Array"
   ]
  },
  {
   "cell_type": "markdown",
   "metadata": {},
   "source": [
    "```java\n",
    "// Declare an integer array of 10 elements.\n",
    "int[] intArray = new int[10];\n",
    "\n",
    "// The array currently contains 0 elements\n",
    "int length = 0;\n",
    "\n",
    "// Add elements at the first 6 indexes of the Array.\n",
    "for(int i = 0; i < 6; i++) {\n",
    "    intArray[length] = i;\n",
    "    length++;\n",
    "}\n",
    "\n",
    "\n",
    "// Deletion from the end is as simple as reducing the length\n",
    "// of the array by 1.\n",
    "length--;\n",
    "\n",
    "for (int i = 0; i < intArray.length; i++) {\n",
    "    System.out.println(\"Index \" + i + \" contains \" + intArray[i]);\n",
    "}\n",
    "\n",
    "```"
   ]
  },
  {
   "cell_type": "markdown",
   "metadata": {},
   "source": [
    "### Deleting From the Start of an Array"
   ]
  },
  {
   "cell_type": "markdown",
   "metadata": {},
   "source": [
    "```java\n",
    "// Starting at index 1, we shift each element one position\n",
    "// to the left.\n",
    "for (int i = 1; i < length; i++) {\n",
    "    // Shift each element one position to the left\n",
    "    int_array[i - 1] = int_array[i];\n",
    "}\n",
    "\n",
    "// Note that it's important to reduce the length of the array by 1.\n",
    "// Otherwise, we'll lose consistency of the size. This length\n",
    "// variable is the only thing controlling where new elements might\n",
    "// get added.\n",
    "length--;\n",
    "\n",
    "```"
   ]
  },
  {
   "cell_type": "markdown",
   "metadata": {},
   "source": [
    "### Deleting From Anywhere in the Array"
   ]
  },
  {
   "cell_type": "markdown",
   "metadata": {},
   "source": [
    "```java\n",
    "// Say we want to delete the element at index 1\n",
    "for (int i = 2; i < length; i++) {\n",
    "    // Shift each element one position to the left\n",
    "    int_array[i - 1] = int_array[i];\n",
    "}\n",
    "\n",
    "// Again, the length needs to be consistent with the current\n",
    "// state of the array.\n",
    "length--;\n",
    "```"
   ]
  },
  {
   "cell_type": "markdown",
   "metadata": {},
   "source": [
    "## Remove Element"
   ]
  },
  {
   "cell_type": "markdown",
   "metadata": {},
   "source": [
    "https://leetcode.com/explore/learn/card/fun-with-arrays/526/deleting-items-from-an-array/3247/"
   ]
  },
  {
   "cell_type": "markdown",
   "metadata": {},
   "source": [
    "```cpp\n",
    "class Solution {\n",
    "public:\n",
    "    int removeElement(vector<int>& nums, int val) {\n",
    "        int n = nums.size();\n",
    "        int i = 0;\n",
    "        while(i<n){\n",
    "            if(nums[i]==val){\n",
    "            \n",
    "                for (int j=i+1;j<n; j++) {\n",
    "                // Shift each element one position to the left\n",
    "                    nums[j-1] = nums[j];\n",
    "    \n",
    "                }\n",
    "                n--;\n",
    "            }\n",
    "            if(nums[i]!=val){\n",
    "                i++;}\n",
    "        }\n",
    "        \n",
    "        return n;\n",
    "    }\n",
    "};\n",
    "```"
   ]
  },
  {
   "cell_type": "markdown",
   "metadata": {},
   "source": [
    "## Remove Duplicates from Sorted Array"
   ]
  },
  {
   "cell_type": "markdown",
   "metadata": {},
   "source": [
    "https://leetcode.com/explore/learn/card/fun-with-arrays/526/deleting-items-from-an-array/3248/"
   ]
  },
  {
   "cell_type": "markdown",
   "metadata": {},
   "source": [
    "```cpp\n",
    "class Solution {\n",
    "public:\n",
    "    int removeDuplicates(vector<int>& nums) {\n",
    "        \n",
    "        int n = nums.size();\n",
    "        if(n==0){\n",
    "            return 0;\n",
    "        }\n",
    "        \n",
    "        int i = 1;\n",
    "        int val = nums[0];\n",
    "        while(i<n){\n",
    "            if(nums[i]==val){\n",
    "\n",
    "                for (int j=i+1;j<n; j++) {\n",
    "                // Shift each element one position to the left\n",
    "                    nums[j-1] = nums[j];\n",
    "\n",
    "                }\n",
    "                n--;\n",
    "            }else{\n",
    "                val = nums[i];\n",
    "                i++;}\n",
    "        }\n",
    "\n",
    "        return n;\n",
    "        \n",
    "        \n",
    "    }\n",
    "};\n",
    "```"
   ]
  },
  {
   "cell_type": "markdown",
   "metadata": {},
   "source": [
    "# Searching for Items in an Array"
   ]
  },
  {
   "cell_type": "markdown",
   "metadata": {},
   "source": [
    "```cpp\n",
    "public static boolean linearSearch(int[] array, int length, int element) {\n",
    "    // Check for edge cases. Is the array null or empty?\n",
    "    // If it is, then we return false because the element we're\n",
    "    // searching for couldn't possibly be in it.\n",
    "    if (array == null || length == 0) {\n",
    "        return false;\n",
    "    }\n",
    "\n",
    "    // Carry out the linear search by checking each element,\n",
    "    // starting from the first one.\n",
    "    for (int i = 0; i < length; i++) {\n",
    "        // We found the element at index i.\n",
    "        // So we return true to say it exists.\n",
    "        if (array[i] == element) {\n",
    "            return true;\n",
    "        }\n",
    "    }\n",
    "\n",
    "    // We didn't find the element in the array.\n",
    "    return false;\n",
    "}\n",
    "```"
   ]
  },
  {
   "cell_type": "markdown",
   "metadata": {},
   "source": [
    "## Check If N and Its Double Exist"
   ]
  },
  {
   "cell_type": "markdown",
   "metadata": {},
   "source": [
    "https://leetcode.com/explore/learn/card/fun-with-arrays/527/searching-for-items-in-an-array/3250/"
   ]
  },
  {
   "cell_type": "markdown",
   "metadata": {},
   "source": [
    "```cpp\n",
    "class Solution {\n",
    "public:\n",
    "    bool checkIfExist(vector<int>& arr) {\n",
    "        \n",
    "        for (int i=0;i<arr.size();i++){\n",
    "            for(int j=i+1;j<arr.size();j++){\n",
    "                if(arr[i]==2*arr[j] or arr[i]==0.5*arr[j]){\n",
    "                    return true;\n",
    "                }\n",
    "            }\n",
    "        }\n",
    "        return false; \n",
    "        \n",
    "    }\n",
    "};\n",
    "```"
   ]
  },
  {
   "cell_type": "markdown",
   "metadata": {},
   "source": [
    "## Valid Mountain Array"
   ]
  },
  {
   "cell_type": "markdown",
   "metadata": {},
   "source": [
    "https://leetcode.com/explore/learn/card/fun-with-arrays/527/searching-for-items-in-an-array/3251/"
   ]
  },
  {
   "cell_type": "markdown",
   "metadata": {},
   "source": [
    "```cpp\n",
    "class Solution {\n",
    "public:\n",
    "    bool validMountainArray(vector<int>& arr) {\n",
    "        int upwards = 0;\n",
    "        vector<int> state_set(2);\n",
    "        int n=0;\n",
    "        int current_state = -1;\n",
    "        state_set[0]=-1;\n",
    "        state_set[1]=-1;\n",
    "        \n",
    "        if(arr.size()==0){\n",
    "            return false;\n",
    "        }\n",
    "        \n",
    "        int previous = arr[0];\n",
    "        for(int i=1;i<arr.size();i++){\n",
    "            if(arr[i]>previous){\n",
    "                upwards=1;}\n",
    "            else if(arr[i]<previous){\n",
    "                upwards=0;}\n",
    "            else{\n",
    "                return false;\n",
    "            }\n",
    "            \n",
    "            if(current_state!=upwards){\n",
    "                current_state=upwards;\n",
    "                if(n>=2){\n",
    "                    return false;}\n",
    "                else{\n",
    "                    state_set[n] = current_state;\n",
    "                    n++;\n",
    "                    }\n",
    "                }\n",
    "            previous = arr[i];\n",
    "            }\n",
    "        \n",
    "         for (int element: state_set)\n",
    "             cout << element << endl;\n",
    "\n",
    "        if (state_set[0]==1 and state_set[1]==0){\n",
    "            return true;\n",
    "        }else{\n",
    "            return false;\n",
    "        }\n",
    "            \n",
    "    }\n",
    "};\n",
    "```"
   ]
  },
  {
   "cell_type": "markdown",
   "metadata": {},
   "source": [
    "# In-Place Array Operations"
   ]
  },
  {
   "cell_type": "markdown",
   "metadata": {},
   "source": [
    "## Replace Elements with Greatest Element on Right Side"
   ]
  },
  {
   "cell_type": "markdown",
   "metadata": {},
   "source": [
    "https://leetcode.com/explore/learn/card/fun-with-arrays/511/in-place-operations/3259/"
   ]
  },
  {
   "cell_type": "markdown",
   "metadata": {},
   "source": [
    "```cpp\n",
    "class Solution {\n",
    "public:\n",
    "    vector<int> replaceElements(vector<int>& arr) {\n",
    "        \n",
    "        //vector<int> max_arr(arr.size());\n",
    "        int current_max = -1;\n",
    "        int tmp;\n",
    "        for(int i=arr.size()-1;i>=0;i--){\n",
    "            tmp = arr[i];\n",
    "            arr[i] = current_max;\n",
    "            if (tmp > current_max){\n",
    "                current_max = tmp;\n",
    "            }\n",
    "        }\n",
    "        return arr;\n",
    "    }\n",
    "};\n",
    "\n",
    "```"
   ]
  },
  {
   "cell_type": "markdown",
   "metadata": {},
   "source": [
    "## Remove Duplicates from Sorted Array\n",
    "https://leetcode.com/explore/learn/card/fun-with-arrays/511/in-place-operations/3258/\n",
    "\n",
    "```cpp\n",
    "class Solution {\n",
    "public:\n",
    "    int removeDuplicates(vector<int>& nums) {\n",
    "    \n",
    "    if(nums.size()<=1)\n",
    "        return nums.size();\n",
    "    \n",
    "    int p1 = 0;\n",
    "    for(int i=1;i<nums.size();i++){\n",
    "        if(nums[i]!=nums[p1]){\n",
    "            p1++;\n",
    "            nums[p1] = nums[i];\n",
    "        }\n",
    "    }\n",
    "   \n",
    "    return p1+1;\n",
    "    }\n",
    "};\n",
    "```"
   ]
  },
  {
   "cell_type": "markdown",
   "metadata": {},
   "source": [
    "###  two-pointer technique. "
   ]
  },
  {
   "cell_type": "markdown",
   "metadata": {},
   "source": [
    "This was just a very brief introduction to the very versatile and widely used two-pointer technique. It is one of the main techniques used for in-place Array algorithms."
   ]
  },
  {
   "cell_type": "markdown",
   "metadata": {},
   "source": [
    "当有人显式的提出来"
   ]
  },
  {
   "cell_type": "markdown",
   "metadata": {},
   "source": [
    "```java\n",
    "\n",
    "public int removeDuplicates(int[] nums) {\n",
    "        \n",
    "  // Check for edge cases.\n",
    "  if (nums == null) {\n",
    "      return 0;\n",
    "  }\n",
    "  \n",
    "  // Use the two pointer technique to remove the duplicates in-place.\n",
    "  // The first element shouldn't be touched; it's already in its correct place.\n",
    "  int writePointer = 1;\n",
    "  // Go through each element in the Array.\n",
    "  for (int readPointer = 1; readPointer < nums.length; readPointer++) {\n",
    "      // If the current element we're reading is *different* to the previous\n",
    "      // element...\n",
    "      if (nums[readPointer] != nums[readPointer - 1]) {\n",
    "          // Copy it into the next position at the front, tracked by writePointer.\n",
    "          nums[writePointer] = nums[readPointer];\n",
    "          // And we need to now increment writePointer, because the next element\n",
    "          // should be written one space over.\n",
    "          writePointer++;\n",
    "      }\n",
    "  }\n",
    "  \n",
    "  // This turns out to be the correct length value.\n",
    "  return writePointer;\n",
    "}\n",
    "```"
   ]
  },
  {
   "cell_type": "markdown",
   "metadata": {},
   "source": [
    "## Move Zeroes"
   ]
  },
  {
   "cell_type": "markdown",
   "metadata": {},
   "source": [
    "https://leetcode.com/submissions/detail/504388282/?from=explore&item_id=3157"
   ]
  },
  {
   "cell_type": "markdown",
   "metadata": {},
   "source": [
    "```cpp\n",
    "class Solution {\n",
    "public:\n",
    "    void moveZeroes(vector<int>& nums) {\n",
    "    if(nums.size()<=1)\n",
    "        return;\n",
    "        \n",
    "    int p1;\n",
    "    \n",
    "    for(int i=0;i<nums.size();i++){\n",
    "        if(nums[i]==0){\n",
    "            p1 = i;\n",
    "            break;\n",
    "        }\n",
    "    }\n",
    "\n",
    "    for(int i=p1+1;i<nums.size();i++){\n",
    "        if(nums[i]!=0){\n",
    "            nums[p1] = nums[i];\n",
    "            nums[i] = 0;\n",
    "            p1++;\n",
    "        }\n",
    "        \n",
    "    }\n",
    "        \n",
    "        \n",
    "    }\n",
    "};\n",
    "\n",
    "```"
   ]
  },
  {
   "cell_type": "markdown",
   "metadata": {},
   "source": [
    "## Sort Array By Parity"
   ]
  },
  {
   "cell_type": "markdown",
   "metadata": {},
   "source": [
    "https://leetcode.com/explore/learn/card/fun-with-arrays/511/in-place-operations/3260/\n",
    "```cpp\n",
    "class Solution {\n",
    "public:\n",
    "    vector<int> sortArrayByParity(vector<int>& nums) {\n",
    "        \n",
    "        int start=0;\n",
    "        int end=nums.size()-1;\n",
    "        int tmp;\n",
    "        while(start<end){\n",
    "            \n",
    "            if(nums[start]%2!=0 and nums[end]%2==0){\n",
    "                tmp = nums[start];\n",
    "                nums[start] = nums[end];\n",
    "                nums[end] = tmp;\n",
    "                start++;\n",
    "                end--;\n",
    "            }else{\n",
    "            \n",
    "                if(nums[start]%2==0){\n",
    "                    start++;\n",
    "                } \n",
    "                if(nums[end]%2!=0){\n",
    "                    end--;\n",
    "                }\n",
    "            }\n",
    "\n",
    "            \n",
    "        }\n",
    "        return nums;\n",
    "    }\n",
    "};\n",
    "```"
   ]
  },
  {
   "cell_type": "markdown",
   "metadata": {},
   "source": [
    "## Remove Element"
   ]
  },
  {
   "cell_type": "markdown",
   "metadata": {},
   "source": [
    "https://leetcode.com/explore/learn/card/fun-with-arrays/511/in-place-operations/3575/"
   ]
  },
  {
   "cell_type": "markdown",
   "metadata": {},
   "source": [
    "```cpp\n",
    "\n",
    "class Solution {\n",
    "public:\n",
    "    int removeElement(vector<int>& nums, int val) {\n",
    "        int p1;\n",
    "        \n",
    "        for(int i=0;i<nums.size();i++){\n",
    "            if(nums[i]==val){\n",
    "                p1=i;\n",
    "                break;\n",
    "            }\n",
    "        }\n",
    "        \n",
    "        for(int i=p1+1;i<nums.size();i++){\n",
    "            if(nums[i]!=val){\n",
    "                nums[p1] = nums[i];\n",
    "                p1++;\n",
    "            }\n",
    "        }\n",
    "        return p1;\n",
    "    \n",
    "    \n",
    "    \n",
    "    }\n",
    "};\n",
    "```"
   ]
  },
  {
   "cell_type": "markdown",
   "metadata": {},
   "source": [
    "#### Come up from different place"
   ]
  },
  {
   "cell_type": "markdown",
   "metadata": {},
   "source": [
    "```cpp\n",
    "        def quickSort(vector<int>& arr, int& size){\n",
    "            if(arr.size()<=1){\n",
    "                return arr;\n",
    "            }\n",
    "            vector<int> arr1(arr.size());\n",
    "            vector<int> arr2(arr.size());\n",
    "            sep = arr[0];\n",
    "            int m=0;\n",
    "            int n=0;\n",
    "            for(int i=1;i<arr.size();i++){\n",
    "                if(arr[i]>sep){\n",
    "                    arr2[n] = arr[i];\n",
    "                    m++;\n",
    "                }else:{\n",
    "                    arr1[m] = arr[i];\n",
    "                    n++;\n",
    "                }\n",
    "            }\n",
    "            return quickSort(arr1, m) + quickSort(arr2, n)\n",
    "        }\n",
    "```"
   ]
  },
  {
   "cell_type": "markdown",
   "metadata": {},
   "source": [
    "```cpp\n",
    "def quickSort(vector<int>& arr, int& start, int& end){\n",
    "            if(end-start<=1){\n",
    "                return arr;\n",
    "            }\n",
    "            int middle = (start + end)/2\n",
    "            sep = arr[middle];\n",
    "            \n",
    "            for(int i=start;i<=end;i++){\n",
    "                if(arr[i]>sep){\n",
    "                    arr2[n] = arr[i];\n",
    "                    m++;\n",
    "                }else:{\n",
    "                    arr1[m] = arr[i];\n",
    "                    n++;\n",
    "                }\n",
    "            }\n",
    "            return quickSort(arr1, m) + quickSort(arr2, n)\n",
    "        }\n",
    "```    "
   ]
  },
  {
   "cell_type": "markdown",
   "metadata": {},
   "source": [
    "#### 冒泡排序\n",
    "```cpp\n",
    "class Solution {\n",
    "public:\n",
    "    int heightChecker(vector<int>& heights) {\n",
    "        \n",
    "        vector<int> sorted_heights = heights;\n",
    "        \n",
    "        int tmp;\n",
    "        for(int i=0;i< sorted_heights.size();i++){\n",
    "            for(int j=i+1;j<sorted_heights.size();j++){\n",
    "                if(sorted_heights[i]>sorted_heights[j]){\n",
    "                    tmp = sorted_heights[j];\n",
    "                    sorted_heights[j] = sorted_heights[i];\n",
    "                    sorted_heights[i] = tmp;\n",
    "                }\n",
    "            }\n",
    "        }\n",
    "            \n",
    "        int num=0;\n",
    "        for(int i=0;i< heights.size();i++){\n",
    "            if(heights[i]!=sorted_heights[i]){\n",
    "                num++;\n",
    "            }\n",
    "        \n",
    "        \n",
    "        }\n",
    "     return num;   \n",
    "    }\n",
    "};\n",
    "```"
   ]
  },
  {
   "cell_type": "markdown",
   "metadata": {},
   "source": [
    "## Find All Numbers Disappeared in an Array"
   ]
  },
  {
   "cell_type": "markdown",
   "metadata": {},
   "source": [
    "##### Bad one\n",
    "```cpp\n",
    "class Solution {\n",
    "public:\n",
    "    vector<int> findDisappearedNumbers(vector<int>& nums) {\n",
    "        \n",
    "        //冒泡排序\n",
    "        int tmp;\n",
    "        for(int i=0;i< nums.size();i++){\n",
    "            for(int j=i+1;j<nums.size();j++){\n",
    "                if(nums[i]>nums[j]){\n",
    "                    tmp = nums[j];\n",
    "                    nums[j] = nums[i];\n",
    "                    nums[i] = tmp;\n",
    "                }\n",
    "            }\n",
    "        }\n",
    "        return nums;\n",
    "        \n",
    "        \n",
    "        vector<int> target(nums.size());\n",
    "        for(int i=0;i< nums.size();i++){\n",
    "            target[i] = i+1;\n",
    "        }\n",
    "        \n",
    "        \n",
    "        int n=0;\n",
    "        vector<int> disappear(nums.size()); \n",
    "        for(int i=0;i<nums.size();i++){\n",
    "            \n",
    "            \n",
    "            }\n",
    "        }\n",
    "        \n",
    "        vector<int> output(n);\n",
    "        for(int i=0;i<n;i++){\n",
    "            output[i]=disappear[i];\n",
    "        }\n",
    "     return output;    \n",
    "    }\n",
    "};\n",
    "```"
   ]
  },
  {
   "cell_type": "markdown",
   "metadata": {},
   "source": [
    "#### Good\n",
    "```cpp\n",
    "class Solution {\n",
    "public:\n",
    "    vector<int> findDisappearedNumbers(vector<int>& nums) {\n",
    "        \n",
    "\n",
    "        \n",
    "        vector<int> target(nums.size());\n",
    "        \n",
    "        for(int i=0;i<nums.size();i++){\n",
    "            target[nums[i]-1] = 1;\n",
    "        }\n",
    "\n",
    "        int n=0;\n",
    "        vector<int> disappear(nums.size()); \n",
    "        for(int i=0;i<nums.size();i++){\n",
    "            if(target[i]!=1){\n",
    "                disappear[n]=i+1;\n",
    "                n++;\n",
    "            }\n",
    "        }\n",
    "        \n",
    "        vector<int> output(n);\n",
    "        for(int i=0;i<n;i++){\n",
    "            output[i]=disappear[i];\n",
    "        }\n",
    "     return output;    \n",
    "    }\n",
    "```"
   ]
  },
  {
   "cell_type": "markdown",
   "metadata": {},
   "source": [
    "## Squares of a Sorted Array"
   ]
  },
  {
   "cell_type": "code",
   "execution_count": null,
   "metadata": {},
   "outputs": [],
   "source": [
    "\"\"\"\n",
    "用不同的颜色和触感去做tips和分隔符\n",
    "\n",
    "因为做过和体会过，所以知道哪些重要\n",
    "\n",
    "先有引路人\n",
    "\n",
    "\"\"\""
   ]
  },
  {
   "cell_type": "markdown",
   "metadata": {},
   "source": [
    "```cpp\n",
    "class Solution {\n",
    "public:\n",
    "    vector<int> sortedSquares(vector<int>& nums) {\n",
    "        \n",
    "        vector<int> output(nums.size());\n",
    "        int p0=-1;\n",
    "        for(int i=0;i<nums.size();i++){\n",
    "            if (nums[i]>=0){\n",
    "                break;\n",
    "            }\n",
    "            p0++;\n",
    "        }\n",
    "        \n",
    "        int p1=p0+1;\n",
    "        int i=0;\n",
    "        //while(p0>=0 or p1<nums.size()){\n",
    "        for(int i=0;i<nums.size();i++){\n",
    "            if(p0>=0 and p1<nums.size()){\n",
    "                if(nums[p0]*nums[p0] < nums[p1]*nums[p1]){\n",
    "                    output[i] = nums[p0]*nums[p0];\n",
    "                    p0--;\n",
    "                }else{\n",
    "                    output[i] = nums[p1]*nums[p1];\n",
    "                    p1++;\n",
    "                }\n",
    "            }else if(p0>=0){\n",
    "                    output[i] = nums[p0]*nums[p0];\n",
    "                    p0--;\n",
    "            }else{\n",
    "                    output[i] = nums[p1]*nums[p1];\n",
    "                    p1++;\n",
    "                }\n",
    "            }   \n",
    "        return output;\n",
    "        }\n",
    "    \n",
    "};\n",
    "```"
   ]
  },
  {
   "cell_type": "code",
   "execution_count": null,
   "metadata": {},
   "outputs": [],
   "source": []
  }
 ],
 "metadata": {
  "kernelspec": {
   "display_name": "Python 3",
   "language": "python",
   "name": "python3"
  },
  "language_info": {
   "codemirror_mode": {
    "name": "ipython",
    "version": 3
   },
   "file_extension": ".py",
   "mimetype": "text/x-python",
   "name": "python",
   "nbconvert_exporter": "python",
   "pygments_lexer": "ipython3",
   "version": "3.7.3"
  }
 },
 "nbformat": 4,
 "nbformat_minor": 2
}
