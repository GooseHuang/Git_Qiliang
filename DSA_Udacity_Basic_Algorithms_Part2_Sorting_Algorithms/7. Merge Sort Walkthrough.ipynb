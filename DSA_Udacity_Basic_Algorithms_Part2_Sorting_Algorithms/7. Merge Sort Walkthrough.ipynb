{
 "cells": [
  {
   "cell_type": "markdown",
   "metadata": {},
   "source": [
    "# MergeSort\n",
    "\n",
    "https://classroom.udacity.com/nanodegrees/nd256/parts/da17de0f-f834-46f8-bb48-ee2705d95dc4/modules/b849517a-9ee0-4fa8-8e22-b49fd084a350/lessons/902b8515-a2ef-485b-9543-f9a9aad9843f/concepts/50d8c2cc-7ac3-41c3-a9dd-4e407bb6e8e0\n",
    "\n",
    "MergeSort is a *divide and conquer* algorithm that divides a list into equal halves until it has two single elements and then merges the sub-lists until the entire list has been reassembled in order.\n",
    "\n",
    "### Divide\n",
    "Our MergeSort code will focus first on the divide portion of the algorithm. If the list we receive has only a single element in it, the list can be considered sorted and we can return immediately.  This is our recursion base case.  If we have more than 1 element we need to split the list into equal halves and call MergeSort again for each half.\n",
    "\n",
    "### Conquer\n",
    "Once you have split the list down to single elements, your mergesort will start merging lists, in order, until you have reassembled the entire list in order.\n",
    "\n",
    "## Design\n",
    "\n",
    "First, let's sketch this out. It's clear we want a recursive function, but how will it govern its recursion?\n",
    "\n",
    "```python\n",
    "def mergesort(items):\n",
    "    # Base case, a list of 0 or 1 items is already sorted\n",
    "    if len(items) <= 1:\n",
    "        return items\n",
    "    \n",
    "    # Otherwise, find the midpoint and split the list\n",
    "    # TODO\n",
    "    # left =\n",
    "    # right =\n",
    "    \n",
    "    # Call mergesort recursively with the left and right half\n",
    "    left = mergesort(left)\n",
    "    right = mergesort(right)\n",
    "    \n",
    "    # Merge our two halves and return\n",
    "    return merge(left, right)\n",
    "    \n",
    "def merge(left, right):\n",
    "    # Given two ordered lists, merge them together in order,\n",
    "    # returning the merged list.\n",
    "    # TODO\n",
    "```\n",
    "\n",
    "We have decomposed the problem, now we will address each piece separately.\n",
    "\n",
    "### Divide\n",
    "\n",
    "We can use python's `//` operator to find a midpoint. If `items`'s length is even, we will have the midpoint. If `items`'s length is odd, we will have one half larger by one."
   ]
  },
  {
   "cell_type": "code",
   "execution_count": 7,
   "metadata": {},
   "outputs": [],
   "source": [
    "def mergesort(items):\n",
    "    # Base case, a list of 0 or 1 items is already sorted\n",
    "    if len(items) <= 1:\n",
    "        return items\n",
    "\n",
    "    # Otherwise, find the midpoint and split the list\n",
    "    # TODO\n",
    "    mid = len(items)//2\n",
    "    left = items[:mid]\n",
    "    right = items[mid:]\n",
    "\n",
    "    # Call mergesort recursively with the left and right half\n",
    "    left = mergesort(left)\n",
    "    right = mergesort(right)\n",
    "\n",
    "    # Merge our two halves and return\n",
    "    return merge(left, right)\n",
    "\n",
    "def merge(left, right):\n",
    "    # Given two ordered lists, merge them together in order,\n",
    "    # returning the merged list.\n",
    "    # TODO\n",
    "    new_list = []\n",
    "    i=0\n",
    "    j=0\n",
    "    while(i<len(left) or j<len(right)):\n",
    "        if i==len(left):\n",
    "            while(j<len(right)):\n",
    "                new_list.append(right[j])\n",
    "                j+=1\n",
    "            break;\n",
    "        if j==len(right):\n",
    "            while(i<len(left)):\n",
    "                new_list.append(left[i])\n",
    "                i+=1\n",
    "            break\n",
    "            \n",
    "        if left[i]<right[j]:\n",
    "            new_list.append(left[i])\n",
    "            i+=1\n",
    "        else:\n",
    "            new_list.append(right[j])\n",
    "            j+=1\n",
    "    \n",
    "    \n",
    "    \n",
    "    return new_list"
   ]
  },
  {
   "cell_type": "code",
   "execution_count": 8,
   "metadata": {},
   "outputs": [
    {
     "name": "stdout",
     "output_type": "stream",
     "text": [
      "[1, 2, 3, 5, 6, 7]\n"
     ]
    }
   ],
   "source": [
    "# Test this out\n",
    "merged = merge([1,3,7], [2,5,6])\n",
    "print(merged)"
   ]
  },
  {
   "cell_type": "code",
   "execution_count": null,
   "metadata": {},
   "outputs": [],
   "source": []
  }
 ],
 "metadata": {
  "kernelspec": {
   "display_name": "Python 3",
   "language": "python",
   "name": "python3"
  },
  "language_info": {
   "codemirror_mode": {
    "name": "ipython",
    "version": 3
   },
   "file_extension": ".py",
   "mimetype": "text/x-python",
   "name": "python",
   "nbconvert_exporter": "python",
   "pygments_lexer": "ipython3",
   "version": "3.7.3"
  }
 },
 "nbformat": 4,
 "nbformat_minor": 2
}
